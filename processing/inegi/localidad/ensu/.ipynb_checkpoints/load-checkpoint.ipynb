{
 "cells": [
  {
   "cell_type": "code",
   "execution_count": 1,
   "metadata": {},
   "outputs": [],
   "source": [
    "import pandas as pd\n",
    "import numpy as np\n",
    "import missingno as msno\n",
    "import matplotlib.pyplot as plt\n",
    "%matplotlib inline"
   ]
  },
  {
   "cell_type": "markdown",
   "metadata": {},
   "source": [
    "## Tabla resumen con información a nivel hogar"
   ]
  },
  {
   "cell_type": "markdown",
   "metadata": {},
   "source": [
    "Esta tabla contiene las variables construidas, a partir de las 11 tablas de la base de datos, que permiten tener agrupada la información con la cual se obtienen los principales tabulados que el INEGI construye."
   ]
  },
  {
   "cell_type": "markdown",
   "metadata": {},
   "source": [
    "`CB`"
   ]
  },
  {
   "cell_type": "code",
   "execution_count": 2,
   "metadata": {},
   "outputs": [],
   "source": [
    "file = \"../../../../../dataframes/ensu/df_concat.csv\""
   ]
  },
  {
   "cell_type": "code",
   "execution_count": 4,
   "metadata": {},
   "outputs": [],
   "source": [
    "df = pd.read_csv(file)"
   ]
  },
  {
   "cell_type": "code",
   "execution_count": 5,
   "metadata": {},
   "outputs": [
    {
     "data": {
      "text/plain": [
       "(8718, 133)"
      ]
     },
     "execution_count": 5,
     "metadata": {},
     "output_type": "execute_result"
    }
   ],
   "source": [
    "df.shape"
   ]
  },
  {
   "cell_type": "code",
   "execution_count": 38,
   "metadata": {},
   "outputs": [],
   "source": [
    "df_copy = df.copy()"
   ]
  },
  {
   "cell_type": "code",
   "execution_count": 39,
   "metadata": {},
   "outputs": [
    {
     "data": {
      "text/html": [
       "<div>\n",
       "<style scoped>\n",
       "    .dataframe tbody tr th:only-of-type {\n",
       "        vertical-align: middle;\n",
       "    }\n",
       "\n",
       "    .dataframe tbody tr th {\n",
       "        vertical-align: top;\n",
       "    }\n",
       "\n",
       "    .dataframe thead th {\n",
       "        text-align: right;\n",
       "    }\n",
       "</style>\n",
       "<table border=\"1\" class=\"dataframe\">\n",
       "  <thead>\n",
       "    <tr style=\"text-align: right;\">\n",
       "      <th></th>\n",
       "      <th>AGEB</th>\n",
       "      <th>BP1_1</th>\n",
       "      <th>BP1_2_01</th>\n",
       "      <th>BP1_2_02</th>\n",
       "      <th>BP1_2_03</th>\n",
       "      <th>BP1_2_04</th>\n",
       "      <th>BP1_2_05</th>\n",
       "      <th>BP1_2_06</th>\n",
       "      <th>BP1_2_07</th>\n",
       "      <th>BP1_2_08</th>\n",
       "      <th>...</th>\n",
       "      <th>FCHDEFM_I</th>\n",
       "      <th>FCHDEFM_T</th>\n",
       "      <th>H_MUD</th>\n",
       "      <th>LOC</th>\n",
       "      <th>N_ENT</th>\n",
       "      <th>PER</th>\n",
       "      <th>PRO_VIV</th>\n",
       "      <th>R_DEF</th>\n",
       "      <th>R_SEL</th>\n",
       "      <th>VIV_SEL</th>\n",
       "    </tr>\n",
       "  </thead>\n",
       "  <tbody>\n",
       "    <tr>\n",
       "      <th>0</th>\n",
       "      <td>NaN</td>\n",
       "      <td>2</td>\n",
       "      <td>1</td>\n",
       "      <td>3</td>\n",
       "      <td>2</td>\n",
       "      <td>3</td>\n",
       "      <td>1</td>\n",
       "      <td>2</td>\n",
       "      <td>2</td>\n",
       "      <td>2</td>\n",
       "      <td>...</td>\n",
       "      <td>NaN</td>\n",
       "      <td>NaN</td>\n",
       "      <td>0</td>\n",
       "      <td>1</td>\n",
       "      <td>2.0</td>\n",
       "      <td>117</td>\n",
       "      <td>NaN</td>\n",
       "      <td>1</td>\n",
       "      <td>2</td>\n",
       "      <td>1</td>\n",
       "    </tr>\n",
       "    <tr>\n",
       "      <th>1</th>\n",
       "      <td>NaN</td>\n",
       "      <td>2</td>\n",
       "      <td>2</td>\n",
       "      <td>2</td>\n",
       "      <td>2</td>\n",
       "      <td>1</td>\n",
       "      <td>2</td>\n",
       "      <td>2</td>\n",
       "      <td>2</td>\n",
       "      <td>2</td>\n",
       "      <td>...</td>\n",
       "      <td>NaN</td>\n",
       "      <td>NaN</td>\n",
       "      <td>0</td>\n",
       "      <td>1</td>\n",
       "      <td>2.0</td>\n",
       "      <td>117</td>\n",
       "      <td>NaN</td>\n",
       "      <td>1</td>\n",
       "      <td>3</td>\n",
       "      <td>2</td>\n",
       "    </tr>\n",
       "    <tr>\n",
       "      <th>2</th>\n",
       "      <td>NaN</td>\n",
       "      <td>2</td>\n",
       "      <td>1</td>\n",
       "      <td>1</td>\n",
       "      <td>2</td>\n",
       "      <td>3</td>\n",
       "      <td>1</td>\n",
       "      <td>1</td>\n",
       "      <td>1</td>\n",
       "      <td>2</td>\n",
       "      <td>...</td>\n",
       "      <td>NaN</td>\n",
       "      <td>NaN</td>\n",
       "      <td>0</td>\n",
       "      <td>1</td>\n",
       "      <td>2.0</td>\n",
       "      <td>117</td>\n",
       "      <td>NaN</td>\n",
       "      <td>1</td>\n",
       "      <td>1</td>\n",
       "      <td>3</td>\n",
       "    </tr>\n",
       "    <tr>\n",
       "      <th>3</th>\n",
       "      <td>NaN</td>\n",
       "      <td>1</td>\n",
       "      <td>1</td>\n",
       "      <td>1</td>\n",
       "      <td>1</td>\n",
       "      <td>3</td>\n",
       "      <td>1</td>\n",
       "      <td>1</td>\n",
       "      <td>1</td>\n",
       "      <td>2</td>\n",
       "      <td>...</td>\n",
       "      <td>NaN</td>\n",
       "      <td>NaN</td>\n",
       "      <td>0</td>\n",
       "      <td>1</td>\n",
       "      <td>2.0</td>\n",
       "      <td>117</td>\n",
       "      <td>NaN</td>\n",
       "      <td>1</td>\n",
       "      <td>1</td>\n",
       "      <td>5</td>\n",
       "    </tr>\n",
       "    <tr>\n",
       "      <th>4</th>\n",
       "      <td>NaN</td>\n",
       "      <td>2</td>\n",
       "      <td>2</td>\n",
       "      <td>2</td>\n",
       "      <td>2</td>\n",
       "      <td>3</td>\n",
       "      <td>2</td>\n",
       "      <td>1</td>\n",
       "      <td>2</td>\n",
       "      <td>2</td>\n",
       "      <td>...</td>\n",
       "      <td>NaN</td>\n",
       "      <td>NaN</td>\n",
       "      <td>0</td>\n",
       "      <td>1</td>\n",
       "      <td>3.0</td>\n",
       "      <td>117</td>\n",
       "      <td>NaN</td>\n",
       "      <td>1</td>\n",
       "      <td>2</td>\n",
       "      <td>1</td>\n",
       "    </tr>\n",
       "  </tbody>\n",
       "</table>\n",
       "<p>5 rows × 133 columns</p>\n",
       "</div>"
      ],
      "text/plain": [
       "   AGEB  BP1_1  BP1_2_01  BP1_2_02  BP1_2_03  BP1_2_04  BP1_2_05  BP1_2_06  \\\n",
       "0   NaN      2         1         3         2         3         1         2   \n",
       "1   NaN      2         2         2         2         1         2         2   \n",
       "2   NaN      2         1         1         2         3         1         1   \n",
       "3   NaN      1         1         1         1         3         1         1   \n",
       "4   NaN      2         2         2         2         3         2         1   \n",
       "\n",
       "   BP1_2_07  BP1_2_08  ...  FCHDEFM_I  FCHDEFM_T  H_MUD  LOC  N_ENT  PER  \\\n",
       "0         2         2  ...        NaN        NaN      0    1    2.0  117   \n",
       "1         2         2  ...        NaN        NaN      0    1    2.0  117   \n",
       "2         1         2  ...        NaN        NaN      0    1    2.0  117   \n",
       "3         1         2  ...        NaN        NaN      0    1    2.0  117   \n",
       "4         2         2  ...        NaN        NaN      0    1    3.0  117   \n",
       "\n",
       "   PRO_VIV  R_DEF  R_SEL  VIV_SEL  \n",
       "0      NaN      1      2        1  \n",
       "1      NaN      1      3        2  \n",
       "2      NaN      1      1        3  \n",
       "3      NaN      1      1        5  \n",
       "4      NaN      1      2        1  \n",
       "\n",
       "[5 rows x 133 columns]"
      ]
     },
     "execution_count": 39,
     "metadata": {},
     "output_type": "execute_result"
    }
   ],
   "source": [
    "df_copy.head()"
   ]
  },
  {
   "cell_type": "code",
   "execution_count": 40,
   "metadata": {},
   "outputs": [
    {
     "data": {
      "text/plain": [
       "Index(['AGEB', 'BP1_1', 'BP1_2_01', 'BP1_2_02', 'BP1_2_03', 'BP1_2_04',\n",
       "       'BP1_2_05', 'BP1_2_06', 'BP1_2_07', 'BP1_2_08',\n",
       "       ...\n",
       "       'FCHDEFM_I', 'FCHDEFM_T', 'H_MUD', 'LOC', 'N_ENT', 'PER', 'PRO_VIV',\n",
       "       'R_DEF', 'R_SEL', 'VIV_SEL'],\n",
       "      dtype='object', length=133)"
      ]
     },
     "execution_count": 40,
     "metadata": {},
     "output_type": "execute_result"
    }
   ],
   "source": [
    "df_copy.columns"
   ]
  },
  {
   "cell_type": "code",
   "execution_count": 45,
   "metadata": {},
   "outputs": [],
   "source": [
    "df_09 = df.copy()"
   ]
  },
  {
   "cell_type": "code",
   "execution_count": 57,
   "metadata": {},
   "outputs": [],
   "source": [
    "df_09.drop(labels=l, axis=1, inplace=True)"
   ]
  },
  {
   "cell_type": "code",
   "execution_count": 58,
   "metadata": {},
   "outputs": [],
   "source": [
    "df_09.fillna(value=-1, inplace=True)"
   ]
  },
  {
   "cell_type": "code",
   "execution_count": 59,
   "metadata": {},
   "outputs": [],
   "source": [
    "df_09.replace(to_replace=-1, value=np.NaN, inplace=True)"
   ]
  },
  {
   "cell_type": "code",
   "execution_count": 60,
   "metadata": {},
   "outputs": [
    {
     "data": {
      "text/plain": [
       "Text(0, 0.5, 'Observaciones')"
      ]
     },
     "execution_count": 60,
     "metadata": {},
     "output_type": "execute_result"
    },
    {
     "data": {
      "image/png": "[encoded data removed]",
      "text/plain": [
       "<Figure size 1800x720 with 1 Axes>"
      ]
     },
     "metadata": {
      "needs_background": "light"
     },
     "output_type": "display_data"
    }
   ],
   "source": [
    "msno.matrix(df_09, fontsize=50, sparkline=False, labels=False)\n",
    "plt.xlabel('Columnas', fontsize=20)\n",
    "plt.ylabel('Observaciones', fontsize=20)\n",
    "#plt.savefig('../../../images/envipe/df_tmod_vic_envipe2016_09.png', dpi=300)"
   ]
  },
  {
   "cell_type": "code",
   "execution_count": 61,
   "metadata": {},
   "outputs": [
    {
     "data": {
      "text/plain": [
       "Text(0, 0.5, 'Observaciones')"
      ]
     },
     "execution_count": 61,
     "metadata": {},
     "output_type": "execute_result"
    },
    {
     "data": {
      "image/png": "[encoded data removed]",
      "text/plain": [
       "<Figure size 1728x720 with 2 Axes>"
      ]
     },
     "metadata": {
      "needs_background": "light"
     },
     "output_type": "display_data"
    }
   ],
   "source": [
    "msno.bar(df_09, fontsize=10, labels=False)\n",
    "plt.xlabel('Columnas', fontsize=20)\n",
    "plt.ylabel('Observaciones', fontsize=20)\n",
    "#plt.savefig('../../../images/envipe/df_tmod_vic_envipe2016_09.png', dpi=300)"
   ]
  },
  {
   "cell_type": "code",
   "execution_count": 51,
   "metadata": {},
   "outputs": [],
   "source": [
    "df_09.replace(to_replace=np.NaN, value=-1, inplace=True)"
   ]
  },
  {
   "cell_type": "code",
   "execution_count": 52,
   "metadata": {},
   "outputs": [
    {
     "data": {
      "text/plain": [
       "[]"
      ]
     },
     "execution_count": 52,
     "metadata": {},
     "output_type": "execute_result"
    }
   ],
   "source": [
    "df_09.columns[df_09.isnull().any()].tolist()"
   ]
  },
  {
   "cell_type": "code",
   "execution_count": 53,
   "metadata": {},
   "outputs": [
    {
     "data": {
      "text/plain": [
       "6974"
      ]
     },
     "execution_count": 53,
     "metadata": {},
     "output_type": "execute_result"
    }
   ],
   "source": [
    "threshold = round(df_09.shape[0]*.8)\n",
    "threshold"
   ]
  },
  {
   "cell_type": "code",
   "execution_count": 54,
   "metadata": {},
   "outputs": [
    {
     "name": "stdout",
     "output_type": "stream",
     "text": [
      "AGEB :  0  -  6974 d e l e t e d\n",
      "BP1_6_10 :  4374  -  6974 d e l e t e d\n",
      "BP1_6_11 :  4374  -  6974 d e l e t e d\n",
      "BP1_6_12 :  3253  -  6974 d e l e t e d\n",
      "BP1_6_13 :  3253  -  6974 d e l e t e d\n",
      "BP1_6_5 :  6553  -  6974 d e l e t e d\n",
      "BP1_6_6 :  6553  -  6974 d e l e t e d\n",
      "BP1_6_7 :  4374  -  6974 d e l e t e d\n",
      "BP1_6_8 :  4374  -  6974 d e l e t e d\n",
      "BP1_6_9 :  4374  -  6974 d e l e t e d\n",
      "BP1_6_98 :  1121  -  6974 d e l e t e d\n",
      "BP1_6_99 :  4374  -  6974 d e l e t e d\n",
      "BP1_7_1 :  4374  -  6974 d e l e t e d\n",
      "BP1_7_2 :  6880  -  6974 d e l e t e d\n",
      "BP1_7_4 :  5710  -  6974 d e l e t e d\n",
      "BP1_7_5 :  6329  -  6974 d e l e t e d\n",
      "BP1_7_6 :  6170  -  6974 d e l e t e d\n",
      "BP1_8_1 :  0  -  6974 d e l e t e d\n",
      "BP1_8_2 :  3964  -  6974 d e l e t e d\n",
      "BP1_8_3 :  4778  -  6974 d e l e t e d\n",
      "BP1_8_4 :  1954  -  6974 d e l e t e d\n",
      "BP1_8_5 :  5964  -  6974 d e l e t e d\n",
      "BP1_8_6 :  5498  -  6974 d e l e t e d\n",
      "BP1_9_1 :  0  -  6974 d e l e t e d\n",
      "BP1_9_2 :  2603  -  6974 d e l e t e d\n",
      "BP1_9_3 :  3196  -  6974 d e l e t e d\n",
      "BP1_9_4 :  1241  -  6974 d e l e t e d\n",
      "BP1_9_5 :  4009  -  6974 d e l e t e d\n",
      "BP1_9_6 :  3702  -  6974 d e l e t e d\n",
      "BP2_2_01 :  4307  -  6974 d e l e t e d\n",
      "BP2_2_02 :  4243  -  6974 d e l e t e d\n",
      "BP2_2_03 :  4387  -  6974 d e l e t e d\n",
      "BP2_2_04 :  4105  -  6974 d e l e t e d\n",
      "BP2_2_05 :  4252  -  6974 d e l e t e d\n",
      "BP2_2_06 :  4136  -  6974 d e l e t e d\n",
      "BP2_2_07 :  4056  -  6974 d e l e t e d\n",
      "BP2_2_08 :  4174  -  6974 d e l e t e d\n",
      "BP2_2_09 :  4377  -  6974 d e l e t e d\n",
      "BP2_2_10 :  4183  -  6974 d e l e t e d\n",
      "BP2_2_11 :  4113  -  6974 d e l e t e d\n",
      "BP2_2_12 :  4062  -  6974 d e l e t e d\n",
      "BP2_2_13 :  4114  -  6974 d e l e t e d\n",
      "BP2_2_14 :  4151  -  6974 d e l e t e d\n",
      "BP2_2_15 :  4231  -  6974 d e l e t e d\n",
      "BP2_2_16 :  4147  -  6974 d e l e t e d\n",
      "BP2_2_17 :  4025  -  6974 d e l e t e d\n",
      "BP2_2_18 :  4371  -  6974 d e l e t e d\n",
      "BP2_3_1 :  4323  -  6974 d e l e t e d\n",
      "BP2_3_2 :  3902  -  6974 d e l e t e d\n",
      "BP2_3_3 :  4238  -  6974 d e l e t e d\n",
      "BP2_3_4 :  4003  -  6974 d e l e t e d\n",
      "BP2_3_5 :  3909  -  6974 d e l e t e d\n",
      "BP2_3_6 :  3931  -  6974 d e l e t e d\n",
      "BP2_3_7 :  3884  -  6974 d e l e t e d\n",
      "BP2_4_1 :  4183  -  6974 d e l e t e d\n",
      "BP2_4_10 :  3884  -  6974 d e l e t e d\n",
      "BP2_4_11 :  3884  -  6974 d e l e t e d\n",
      "BP2_4_2 :  4141  -  6974 d e l e t e d\n",
      "BP2_4_3 :  3931  -  6974 d e l e t e d\n",
      "BP2_4_4 :  3929  -  6974 d e l e t e d\n",
      "BP2_4_5 :  3894  -  6974 d e l e t e d\n",
      "BP2_4_6 :  3887  -  6974 d e l e t e d\n",
      "BP2_4_7 :  3886  -  6974 d e l e t e d\n",
      "BP2_4_8 :  3903  -  6974 d e l e t e d\n",
      "BP2_4_9 :  4200  -  6974 d e l e t e d\n",
      "BP3_1_16 :  26  -  6974 d e l e t e d\n",
      "FCHDEFDIA :  0  -  6974 d e l e t e d\n",
      "FCHDEFH_I :  0  -  6974 d e l e t e d\n",
      "FCHDEFH_T :  0  -  6974 d e l e t e d\n",
      "FCHDEFMES :  0  -  6974 d e l e t e d\n",
      "FCHDEFM_I :  0  -  6974 d e l e t e d\n",
      "FCHDEFM_T :  0  -  6974 d e l e t e d\n",
      "PRO_VIV :  0  -  6974 d e l e t e d\n"
     ]
    }
   ],
   "source": [
    "l = []\n",
    "for column in df_09.columns:\n",
    "    na_column =  df_09[column].value_counts().get(-1)\n",
    "    if(na_column != None):\n",
    "        if (df_09.shape[0] - na_column < threshold):\n",
    "            print(column, ': ', df_09.shape[0] - na_column, ' - ', threshold, 'd e l e t e d')\n",
    "            l.append(column)"
   ]
  },
  {
   "cell_type": "code",
   "execution_count": 55,
   "metadata": {},
   "outputs": [
    {
     "data": {
      "text/plain": [
       "(8718, 133)"
      ]
     },
     "execution_count": 55,
     "metadata": {},
     "output_type": "execute_result"
    }
   ],
   "source": [
    "df_09.shape"
   ]
  },
  {
   "cell_type": "code",
   "execution_count": 57,
   "metadata": {},
   "outputs": [],
   "source": [
    "df_09.drop(labels=l, axis=1, inplace=True)"
   ]
  },
  {
   "cell_type": "code",
   "execution_count": 58,
   "metadata": {},
   "outputs": [],
   "source": [
    "df_09.fillna(value=-1, inplace=True)"
   ]
  },
  {
   "cell_type": "code",
   "execution_count": 59,
   "metadata": {},
   "outputs": [],
   "source": [
    "df_09.replace(to_replace=-1, value=np.NaN, inplace=True)"
   ]
  },
  {
   "cell_type": "code",
   "execution_count": 62,
   "metadata": {},
   "outputs": [],
   "source": [
    "list_identificadores = ['H_MUD', 'LOC', 'N_ENT', 'PER', 'R_DEF', 'R_SEL', 'VIV_SEL', 'EST_DIS', 'CD']"
   ]
  },
  {
   "cell_type": "code",
   "execution_count": 63,
   "metadata": {},
   "outputs": [],
   "source": [
    "df_09.drop(labels=list_identificadores, axis=1, inplace=True)"
   ]
  },
  {
   "cell_type": "code",
   "execution_count": 64,
   "metadata": {},
   "outputs": [
    {
     "data": {
      "text/plain": [
       "Text(0, 0.5, 'Observaciones')"
      ]
     },
     "execution_count": 64,
     "metadata": {},
     "output_type": "execute_result"
    },
    {
     "data": {
      "image/png": "[encoded data removed]",
      "text/plain": [
       "<Figure size 1800x720 with 1 Axes>"
      ]
     },
     "metadata": {
      "needs_background": "light"
     },
     "output_type": "display_data"
    }
   ],
   "source": [
    "msno.matrix(df_09, fontsize=50, sparkline=False, labels=False)\n",
    "plt.xlabel('Columnas', fontsize=20)\n",
    "plt.ylabel('Observaciones', fontsize=20)\n",
    "#plt.savefig('../../../images/envipe/df_tmod_vic_envipe2016_09.png', dpi=300)"
   ]
  },
  {
   "cell_type": "code",
   "execution_count": 66,
   "metadata": {},
   "outputs": [
    {
     "data": {
      "text/plain": [
       "Text(0, 0.5, 'Observaciones')"
      ]
     },
     "execution_count": 66,
     "metadata": {},
     "output_type": "execute_result"
    },
    {
     "data": {
      "image/png": "[encoded data removed]",
      "text/plain": [
       "<Figure size 1728x720 with 2 Axes>"
      ]
     },
     "metadata": {
      "needs_background": "light"
     },
     "output_type": "display_data"
    }
   ],
   "source": [
    "msno.bar(df_09, fontsize=10, labels=False)\n",
    "plt.xlabel('Columnas', fontsize=20)\n",
    "plt.ylabel('Observaciones', fontsize=20)\n",
    "#plt.savefig('../../../images/envipe/df_tmod_vic_envipe2016_09.png', dpi=300)"
   ]
  },
  {
   "cell_type": "code",
   "execution_count": 67,
   "metadata": {},
   "outputs": [],
   "source": [
    "file = \"../../../../../dataframes/ensu/df_09.csv\""
   ]
  },
  {
   "cell_type": "code",
   "execution_count": 68,
   "metadata": {},
   "outputs": [],
   "source": [
    "df_09.to_csv(file,index = False, header = True, sep = ',', encoding = 'utf-8')"
   ]
  },
  {
   "cell_type": "code",
   "execution_count": null,
   "metadata": {},
   "outputs": [],
   "source": []
  }
 ],
 "metadata": {
  "kernelspec": {
   "display_name": "Python 3",
   "language": "python",
   "name": "python3"
  },
  "language_info": {
   "codemirror_mode": {
    "name": "ipython",
    "version": 3
   },
   "file_extension": ".py",
   "mimetype": "text/x-python",
   "name": "python",
   "nbconvert_exporter": "python",
   "pygments_lexer": "ipython3",
   "version": "3.7.2"
  }
 },
 "nbformat": 4,
 "nbformat_minor": 2
}
