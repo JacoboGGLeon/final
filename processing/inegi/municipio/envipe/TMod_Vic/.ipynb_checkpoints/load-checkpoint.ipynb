{
 "cells": [
  {
   "cell_type": "code",
   "execution_count": 1,
   "metadata": {},
   "outputs": [],
   "source": [
    "import pandas as pd\n",
    "import numpy as np\n",
    "import missingno as msno\n",
    "import matplotlib.pyplot as plt\n",
    "%matplotlib inline"
   ]
  },
  {
   "cell_type": "markdown",
   "metadata": {},
   "source": [
    "## Tabla resumen con información a nivel hogar"
   ]
  },
  {
   "cell_type": "markdown",
   "metadata": {},
   "source": [
    "Esta tabla contiene las variables construidas, a partir de las 11 tablas de la base de datos, que permiten tener agrupada la información con la cual se obtienen los principales tabulados que el INEGI construye."
   ]
  },
  {
   "cell_type": "markdown",
   "metadata": {},
   "source": [
    "`CB`"
   ]
  },
  {
   "cell_type": "code",
   "execution_count": 2,
   "metadata": {},
   "outputs": [],
   "source": [
    "file = \"../../../../../../dataframes/envipe/TPer_Vic2/df_09_concat.csv\"\n"
   ]
  },
  {
   "cell_type": "code",
   "execution_count": 3,
   "metadata": {},
   "outputs": [],
   "source": [
    "df = pd.read_csv(file)"
   ]
  },
  {
   "cell_type": "code",
   "execution_count": 4,
   "metadata": {},
   "outputs": [
    {
     "data": {
      "text/plain": [
       "(6203, 131)"
      ]
     },
     "execution_count": 4,
     "metadata": {},
     "output_type": "execute_result"
    }
   ],
   "source": [
    "df.shape"
   ]
  },
  {
   "cell_type": "code",
   "execution_count": 5,
   "metadata": {},
   "outputs": [],
   "source": [
    "df_copy = df.copy()"
   ]
  },
  {
   "cell_type": "code",
   "execution_count": 6,
   "metadata": {},
   "outputs": [
    {
     "data": {
      "text/html": [
       "<div>\n",
       "<style scoped>\n",
       "    .dataframe tbody tr th:only-of-type {\n",
       "        vertical-align: middle;\n",
       "    }\n",
       "\n",
       "    .dataframe tbody tr th {\n",
       "        vertical-align: top;\n",
       "    }\n",
       "\n",
       "    .dataframe thead th {\n",
       "        text-align: right;\n",
       "    }\n",
       "</style>\n",
       "<table border=\"1\" class=\"dataframe\">\n",
       "  <thead>\n",
       "    <tr style=\"text-align: right;\">\n",
       "      <th></th>\n",
       "      <th>AP6_10_1</th>\n",
       "      <th>AP6_10_2</th>\n",
       "      <th>AP6_11_1</th>\n",
       "      <th>AP6_11_2</th>\n",
       "      <th>AP6_11_3</th>\n",
       "      <th>AP6_11_4</th>\n",
       "      <th>AP6_11_5</th>\n",
       "      <th>AP6_11_6</th>\n",
       "      <th>AP6_11_7</th>\n",
       "      <th>AP6_12_1</th>\n",
       "      <th>...</th>\n",
       "      <th>AP7_4_11</th>\n",
       "      <th>AP7_4_12</th>\n",
       "      <th>AP7_4_13</th>\n",
       "      <th>AP7_4_14</th>\n",
       "      <th>AP7_4_15</th>\n",
       "      <th>CVE_ENT</th>\n",
       "      <th>CVE_MUN</th>\n",
       "      <th>EDAD</th>\n",
       "      <th>ESTRATO</th>\n",
       "      <th>SEXO</th>\n",
       "    </tr>\n",
       "  </thead>\n",
       "  <tbody>\n",
       "    <tr>\n",
       "      <th>0</th>\n",
       "      <td>2</td>\n",
       "      <td>NaN</td>\n",
       "      <td>NaN</td>\n",
       "      <td>NaN</td>\n",
       "      <td>NaN</td>\n",
       "      <td>NaN</td>\n",
       "      <td>NaN</td>\n",
       "      <td>NaN</td>\n",
       "      <td>NaN</td>\n",
       "      <td>NaN</td>\n",
       "      <td>...</td>\n",
       "      <td>NaN</td>\n",
       "      <td>NaN</td>\n",
       "      <td>NaN</td>\n",
       "      <td>NaN</td>\n",
       "      <td>NaN</td>\n",
       "      <td>9</td>\n",
       "      <td>2</td>\n",
       "      <td>65</td>\n",
       "      <td>3</td>\n",
       "      <td>2</td>\n",
       "    </tr>\n",
       "    <tr>\n",
       "      <th>1</th>\n",
       "      <td>2</td>\n",
       "      <td>NaN</td>\n",
       "      <td>NaN</td>\n",
       "      <td>NaN</td>\n",
       "      <td>NaN</td>\n",
       "      <td>NaN</td>\n",
       "      <td>NaN</td>\n",
       "      <td>NaN</td>\n",
       "      <td>NaN</td>\n",
       "      <td>NaN</td>\n",
       "      <td>...</td>\n",
       "      <td>NaN</td>\n",
       "      <td>NaN</td>\n",
       "      <td>NaN</td>\n",
       "      <td>NaN</td>\n",
       "      <td>NaN</td>\n",
       "      <td>9</td>\n",
       "      <td>2</td>\n",
       "      <td>27</td>\n",
       "      <td>3</td>\n",
       "      <td>2</td>\n",
       "    </tr>\n",
       "    <tr>\n",
       "      <th>2</th>\n",
       "      <td>2</td>\n",
       "      <td>NaN</td>\n",
       "      <td>NaN</td>\n",
       "      <td>NaN</td>\n",
       "      <td>NaN</td>\n",
       "      <td>NaN</td>\n",
       "      <td>NaN</td>\n",
       "      <td>NaN</td>\n",
       "      <td>NaN</td>\n",
       "      <td>NaN</td>\n",
       "      <td>...</td>\n",
       "      <td>NaN</td>\n",
       "      <td>NaN</td>\n",
       "      <td>NaN</td>\n",
       "      <td>NaN</td>\n",
       "      <td>NaN</td>\n",
       "      <td>9</td>\n",
       "      <td>2</td>\n",
       "      <td>57</td>\n",
       "      <td>3</td>\n",
       "      <td>2</td>\n",
       "    </tr>\n",
       "    <tr>\n",
       "      <th>3</th>\n",
       "      <td>2</td>\n",
       "      <td>NaN</td>\n",
       "      <td>NaN</td>\n",
       "      <td>NaN</td>\n",
       "      <td>NaN</td>\n",
       "      <td>NaN</td>\n",
       "      <td>NaN</td>\n",
       "      <td>NaN</td>\n",
       "      <td>NaN</td>\n",
       "      <td>NaN</td>\n",
       "      <td>...</td>\n",
       "      <td>NaN</td>\n",
       "      <td>NaN</td>\n",
       "      <td>NaN</td>\n",
       "      <td>NaN</td>\n",
       "      <td>NaN</td>\n",
       "      <td>9</td>\n",
       "      <td>2</td>\n",
       "      <td>63</td>\n",
       "      <td>3</td>\n",
       "      <td>1</td>\n",
       "    </tr>\n",
       "    <tr>\n",
       "      <th>4</th>\n",
       "      <td>2</td>\n",
       "      <td>NaN</td>\n",
       "      <td>NaN</td>\n",
       "      <td>NaN</td>\n",
       "      <td>NaN</td>\n",
       "      <td>NaN</td>\n",
       "      <td>NaN</td>\n",
       "      <td>NaN</td>\n",
       "      <td>NaN</td>\n",
       "      <td>NaN</td>\n",
       "      <td>...</td>\n",
       "      <td>NaN</td>\n",
       "      <td>NaN</td>\n",
       "      <td>NaN</td>\n",
       "      <td>NaN</td>\n",
       "      <td>NaN</td>\n",
       "      <td>9</td>\n",
       "      <td>2</td>\n",
       "      <td>61</td>\n",
       "      <td>3</td>\n",
       "      <td>1</td>\n",
       "    </tr>\n",
       "  </tbody>\n",
       "</table>\n",
       "<p>5 rows × 131 columns</p>\n",
       "</div>"
      ],
      "text/plain": [
       "   AP6_10_1  AP6_10_2  AP6_11_1  AP6_11_2  AP6_11_3  AP6_11_4  AP6_11_5  \\\n",
       "0         2       NaN       NaN       NaN       NaN       NaN       NaN   \n",
       "1         2       NaN       NaN       NaN       NaN       NaN       NaN   \n",
       "2         2       NaN       NaN       NaN       NaN       NaN       NaN   \n",
       "3         2       NaN       NaN       NaN       NaN       NaN       NaN   \n",
       "4         2       NaN       NaN       NaN       NaN       NaN       NaN   \n",
       "\n",
       "   AP6_11_6  AP6_11_7  AP6_12_1  ...  AP7_4_11  AP7_4_12  AP7_4_13  AP7_4_14  \\\n",
       "0       NaN       NaN       NaN  ...       NaN       NaN       NaN       NaN   \n",
       "1       NaN       NaN       NaN  ...       NaN       NaN       NaN       NaN   \n",
       "2       NaN       NaN       NaN  ...       NaN       NaN       NaN       NaN   \n",
       "3       NaN       NaN       NaN  ...       NaN       NaN       NaN       NaN   \n",
       "4       NaN       NaN       NaN  ...       NaN       NaN       NaN       NaN   \n",
       "\n",
       "   AP7_4_15  CVE_ENT  CVE_MUN  EDAD  ESTRATO  SEXO  \n",
       "0       NaN        9        2    65        3     2  \n",
       "1       NaN        9        2    27        3     2  \n",
       "2       NaN        9        2    57        3     2  \n",
       "3       NaN        9        2    63        3     1  \n",
       "4       NaN        9        2    61        3     1  \n",
       "\n",
       "[5 rows x 131 columns]"
      ]
     },
     "execution_count": 6,
     "metadata": {},
     "output_type": "execute_result"
    }
   ],
   "source": [
    "df_copy.head()"
   ]
  },
  {
   "cell_type": "code",
   "execution_count": 7,
   "metadata": {},
   "outputs": [
    {
     "data": {
      "text/plain": [
       "Index(['AP6_10_1', 'AP6_10_2', 'AP6_11_1', 'AP6_11_2', 'AP6_11_3', 'AP6_11_4',\n",
       "       'AP6_11_5', 'AP6_11_6', 'AP6_11_7', 'AP6_12_1',\n",
       "       ...\n",
       "       'AP7_4_11', 'AP7_4_12', 'AP7_4_13', 'AP7_4_14', 'AP7_4_15', 'CVE_ENT',\n",
       "       'CVE_MUN', 'EDAD', 'ESTRATO', 'SEXO'],\n",
       "      dtype='object', length=131)"
      ]
     },
     "execution_count": 7,
     "metadata": {},
     "output_type": "execute_result"
    }
   ],
   "source": [
    "df_copy.columns"
   ]
  },
  {
   "cell_type": "code",
   "execution_count": 8,
   "metadata": {},
   "outputs": [],
   "source": [
    "df_09 = df.copy()"
   ]
  },
  {
   "cell_type": "code",
   "execution_count": 9,
   "metadata": {},
   "outputs": [],
   "source": [
    "df_09.fillna(value=-1, inplace=True)"
   ]
  },
  {
   "cell_type": "code",
   "execution_count": 10,
   "metadata": {},
   "outputs": [],
   "source": [
    "df_09.replace(to_replace=-1, value=np.NaN, inplace=True)"
   ]
  },
  {
   "cell_type": "code",
   "execution_count": 11,
   "metadata": {},
   "outputs": [
    {
     "data": {
      "text/plain": [
       "Text(0, 0.5, 'Observaciones')"
      ]
     },
     "execution_count": 11,
     "metadata": {},
     "output_type": "execute_result"
    },
    {
     "data": {
      "image/png": "[encoded data removed]",
      "text/plain": [
       "<Figure size 1800x720 with 1 Axes>"
      ]
     },
     "metadata": {
      "needs_background": "light"
     },
     "output_type": "display_data"
    }
   ],
   "source": [
    "msno.matrix(df_09, fontsize=50, sparkline=False, labels=False)\n",
    "plt.xlabel('Columnas', fontsize=20)\n",
    "plt.ylabel('Observaciones', fontsize=20)\n",
    "#plt.savefig('../../../images/envipe/df_tmod_vic_envipe2016_09.png', dpi=300)"
   ]
  },
  {
   "cell_type": "code",
   "execution_count": 12,
   "metadata": {},
   "outputs": [
    {
     "data": {
      "text/plain": [
       "Text(0, 0.5, 'Observaciones')"
      ]
     },
     "execution_count": 12,
     "metadata": {},
     "output_type": "execute_result"
    },
    {
     "data": {
      "image/png": "[encoded data removed]",
      "text/plain": [
       "<Figure size 1728x720 with 2 Axes>"
      ]
     },
     "metadata": {
      "needs_background": "light"
     },
     "output_type": "display_data"
    }
   ],
   "source": [
    "msno.bar(df_09, fontsize=10, labels=False)\n",
    "plt.xlabel('Columnas', fontsize=20)\n",
    "plt.ylabel('Observaciones', fontsize=20)\n",
    "#plt.savefig('../../../images/envipe/df_tmod_vic_envipe2016_09.png', dpi=300)"
   ]
  },
  {
   "cell_type": "code",
   "execution_count": 13,
   "metadata": {},
   "outputs": [],
   "source": [
    "df_09.replace(to_replace=np.NaN, value=-1, inplace=True)"
   ]
  },
  {
   "cell_type": "code",
   "execution_count": 14,
   "metadata": {},
   "outputs": [
    {
     "data": {
      "text/plain": [
       "[]"
      ]
     },
     "execution_count": 14,
     "metadata": {},
     "output_type": "execute_result"
    }
   ],
   "source": [
    "df_09.columns[df_09.isnull().any()].tolist()"
   ]
  },
  {
   "cell_type": "code",
   "execution_count": 15,
   "metadata": {},
   "outputs": [
    {
     "data": {
      "text/plain": [
       "4962"
      ]
     },
     "execution_count": 15,
     "metadata": {},
     "output_type": "execute_result"
    }
   ],
   "source": [
    "threshold = round(df_09.shape[0]*.8)\n",
    "threshold"
   ]
  },
  {
   "cell_type": "code",
   "execution_count": 16,
   "metadata": {},
   "outputs": [
    {
     "name": "stdout",
     "output_type": "stream",
     "text": [
      "AP6_10_2 :  8  -  4962 d e l e t e d\n",
      "AP6_11_1 :  8  -  4962 d e l e t e d\n",
      "AP6_11_2 :  1  -  4962 d e l e t e d\n",
      "AP6_11_3 :  0  -  4962 d e l e t e d\n",
      "AP6_11_4 :  0  -  4962 d e l e t e d\n",
      "AP6_11_5 :  0  -  4962 d e l e t e d\n",
      "AP6_11_6 :  0  -  4962 d e l e t e d\n",
      "AP6_11_7 :  0  -  4962 d e l e t e d\n",
      "AP6_12_1 :  6  -  4962 d e l e t e d\n",
      "AP6_12_2 :  1  -  4962 d e l e t e d\n",
      "AP6_12_3 :  0  -  4962 d e l e t e d\n",
      "AP6_12_4 :  0  -  4962 d e l e t e d\n",
      "AP6_12_5 :  0  -  4962 d e l e t e d\n",
      "AP6_12_6 :  0  -  4962 d e l e t e d\n",
      "AP6_12_7 :  0  -  4962 d e l e t e d\n",
      "AP6_13_1_1 :  6  -  4962 d e l e t e d\n",
      "AP6_13_1_2 :  0  -  4962 d e l e t e d\n",
      "AP6_13_1_3 :  0  -  4962 d e l e t e d\n",
      "AP6_13_1_4 :  0  -  4962 d e l e t e d\n",
      "AP6_13_2_1 :  1  -  4962 d e l e t e d\n",
      "AP6_13_2_2 :  0  -  4962 d e l e t e d\n",
      "AP6_13_2_3 :  0  -  4962 d e l e t e d\n",
      "AP6_13_2_4 :  0  -  4962 d e l e t e d\n",
      "AP6_13_3_1 :  0  -  4962 d e l e t e d\n",
      "AP6_13_3_2 :  0  -  4962 d e l e t e d\n",
      "AP6_13_3_3 :  0  -  4962 d e l e t e d\n",
      "AP6_13_3_4 :  0  -  4962 d e l e t e d\n",
      "AP6_13_4_1 :  0  -  4962 d e l e t e d\n",
      "AP6_13_4_2 :  0  -  4962 d e l e t e d\n",
      "AP6_13_4_3 :  0  -  4962 d e l e t e d\n",
      "AP6_13_4_4 :  0  -  4962 d e l e t e d\n",
      "AP6_13_5_1 :  0  -  4962 d e l e t e d\n",
      "AP6_13_5_2 :  0  -  4962 d e l e t e d\n",
      "AP6_13_5_3 :  0  -  4962 d e l e t e d\n",
      "AP6_13_5_4 :  0  -  4962 d e l e t e d\n",
      "AP6_13_6_1 :  0  -  4962 d e l e t e d\n",
      "AP6_13_6_2 :  0  -  4962 d e l e t e d\n",
      "AP6_13_6_3 :  0  -  4962 d e l e t e d\n",
      "AP6_13_6_4 :  0  -  4962 d e l e t e d\n",
      "AP6_13_7_1 :  0  -  4962 d e l e t e d\n",
      "AP6_13_7_2 :  0  -  4962 d e l e t e d\n",
      "AP6_13_7_3 :  0  -  4962 d e l e t e d\n",
      "AP6_13_7_4 :  0  -  4962 d e l e t e d\n",
      "AP6_15_2 :  0  -  4962 d e l e t e d\n",
      "AP6_16_1 :  0  -  4962 d e l e t e d\n",
      "AP6_16_2 :  0  -  4962 d e l e t e d\n",
      "AP6_16_3 :  0  -  4962 d e l e t e d\n",
      "AP6_16_4 :  0  -  4962 d e l e t e d\n",
      "AP6_16_5 :  0  -  4962 d e l e t e d\n",
      "AP6_16_6 :  0  -  4962 d e l e t e d\n",
      "AP6_16_7 :  0  -  4962 d e l e t e d\n",
      "AP6_17_1 :  0  -  4962 d e l e t e d\n",
      "AP6_17_2 :  0  -  4962 d e l e t e d\n",
      "AP6_17_3 :  0  -  4962 d e l e t e d\n",
      "AP6_17_4 :  0  -  4962 d e l e t e d\n",
      "AP6_17_5 :  0  -  4962 d e l e t e d\n",
      "AP6_17_6 :  0  -  4962 d e l e t e d\n",
      "AP6_17_7 :  0  -  4962 d e l e t e d\n",
      "AP6_18_1 :  0  -  4962 d e l e t e d\n",
      "AP6_18_2 :  0  -  4962 d e l e t e d\n",
      "AP6_18_3 :  0  -  4962 d e l e t e d\n",
      "AP6_18_4 :  0  -  4962 d e l e t e d\n",
      "AP6_18_5 :  0  -  4962 d e l e t e d\n",
      "AP6_18_6 :  0  -  4962 d e l e t e d\n",
      "AP6_18_7 :  0  -  4962 d e l e t e d\n",
      "AP6_1_2 :  2725  -  4962 d e l e t e d\n",
      "AP6_20_2 :  3  -  4962 d e l e t e d\n",
      "AP6_21_1 :  3  -  4962 d e l e t e d\n",
      "AP6_21_2 :  1  -  4962 d e l e t e d\n",
      "AP6_21_3 :  0  -  4962 d e l e t e d\n",
      "AP6_21_4 :  0  -  4962 d e l e t e d\n",
      "AP6_21_5 :  0  -  4962 d e l e t e d\n",
      "AP6_21_6 :  0  -  4962 d e l e t e d\n",
      "AP6_21_7 :  0  -  4962 d e l e t e d\n",
      "AP6_22_1 :  0  -  4962 d e l e t e d\n",
      "AP6_22_2 :  0  -  4962 d e l e t e d\n",
      "AP6_22_3 :  0  -  4962 d e l e t e d\n",
      "AP6_22_4 :  0  -  4962 d e l e t e d\n",
      "AP6_22_5 :  0  -  4962 d e l e t e d\n",
      "AP6_22_6 :  0  -  4962 d e l e t e d\n",
      "AP6_22_7 :  0  -  4962 d e l e t e d\n",
      "AP6_5_01 :  166  -  4962 d e l e t e d\n",
      "AP6_5_02 :  683  -  4962 d e l e t e d\n",
      "AP6_6_01 :  92  -  4962 d e l e t e d\n",
      "AP6_6_02 :  605  -  4962 d e l e t e d\n",
      "AP6_6_03 :  513  -  4962 d e l e t e d\n",
      "AP6_6_04 :  183  -  4962 d e l e t e d\n",
      "AP6_8 :  2817  -  4962 d e l e t e d\n",
      "AP7_4_05 :  957  -  4962 d e l e t e d\n",
      "AP7_4_06 :  51  -  4962 d e l e t e d\n",
      "AP7_4_07 :  194  -  4962 d e l e t e d\n",
      "AP7_4_08 :  96  -  4962 d e l e t e d\n",
      "AP7_4_09 :  400  -  4962 d e l e t e d\n",
      "AP7_4_10 :  125  -  4962 d e l e t e d\n",
      "AP7_4_11 :  64  -  4962 d e l e t e d\n",
      "AP7_4_12 :  4  -  4962 d e l e t e d\n",
      "AP7_4_13 :  43  -  4962 d e l e t e d\n",
      "AP7_4_14 :  2  -  4962 d e l e t e d\n",
      "AP7_4_15 :  7  -  4962 d e l e t e d\n"
     ]
    }
   ],
   "source": [
    "l = []\n",
    "for column in df_09.columns:\n",
    "    na_column =  df_09[column].value_counts().get(-1)\n",
    "    if(na_column != None):\n",
    "        if (df_09.shape[0] - na_column < threshold):\n",
    "            print(column, ': ', df_09.shape[0] - na_column, ' - ', threshold, 'd e l e t e d')\n",
    "            l.append(column)"
   ]
  },
  {
   "cell_type": "code",
   "execution_count": 19,
   "metadata": {},
   "outputs": [
    {
     "data": {
      "text/plain": [
       "(6203, 32)"
      ]
     },
     "execution_count": 19,
     "metadata": {},
     "output_type": "execute_result"
    }
   ],
   "source": [
    "df_09.shape"
   ]
  },
  {
   "cell_type": "code",
   "execution_count": 18,
   "metadata": {},
   "outputs": [],
   "source": [
    "df_09.drop(labels=l, axis=1, inplace=True)"
   ]
  },
  {
   "cell_type": "code",
   "execution_count": 20,
   "metadata": {},
   "outputs": [],
   "source": [
    "df_09.fillna(value=-1, inplace=True)"
   ]
  },
  {
   "cell_type": "code",
   "execution_count": 21,
   "metadata": {},
   "outputs": [],
   "source": [
    "df_09.replace(to_replace=-1, value=np.NaN, inplace=True)"
   ]
  },
  {
   "cell_type": "code",
   "execution_count": 22,
   "metadata": {},
   "outputs": [
    {
     "data": {
      "text/plain": [
       "Text(0, 0.5, 'Observaciones')"
      ]
     },
     "execution_count": 22,
     "metadata": {},
     "output_type": "execute_result"
    },
    {
     "data": {
      "image/png": "[encoded data removed]",
      "text/plain": [
       "<Figure size 1800x720 with 1 Axes>"
      ]
     },
     "metadata": {
      "needs_background": "light"
     },
     "output_type": "display_data"
    }
   ],
   "source": [
    "msno.matrix(df_09, fontsize=50, sparkline=False, labels=False)\n",
    "plt.xlabel('Columnas', fontsize=20)\n",
    "plt.ylabel('Observaciones', fontsize=20)\n",
    "#plt.savefig('../../../images/envipe/df_tmod_vic_envipe2016_09.png', dpi=300)"
   ]
  },
  {
   "cell_type": "code",
   "execution_count": 23,
   "metadata": {},
   "outputs": [
    {
     "data": {
      "text/plain": [
       "Text(0, 0.5, 'Observaciones')"
      ]
     },
     "execution_count": 23,
     "metadata": {},
     "output_type": "execute_result"
    },
    {
     "data": {
      "image/png": "[encoded data removed]",
      "text/plain": [
       "<Figure size 1728x720 with 2 Axes>"
      ]
     },
     "metadata": {
      "needs_background": "light"
     },
     "output_type": "display_data"
    }
   ],
   "source": [
    "msno.bar(df_09, fontsize=10, labels=False)\n",
    "plt.xlabel('Columnas', fontsize=20)\n",
    "plt.ylabel('Observaciones', fontsize=20)\n",
    "#plt.savefig('../../../images/envipe/df_tmod_vic_envipe2016_09.png', dpi=300)"
   ]
  },
  {
   "cell_type": "code",
   "execution_count": 25,
   "metadata": {},
   "outputs": [],
   "source": [
    "file = \"../../../../../../dataframes/envipe/TPer_Vic2/df_09.csv\"\n"
   ]
  },
  {
   "cell_type": "code",
   "execution_count": 26,
   "metadata": {},
   "outputs": [
    {
     "data": {
      "text/plain": [
       "(6203, 32)"
      ]
     },
     "execution_count": 26,
     "metadata": {},
     "output_type": "execute_result"
    }
   ],
   "source": [
    "df_09.shape"
   ]
  },
  {
   "cell_type": "code",
   "execution_count": 27,
   "metadata": {},
   "outputs": [],
   "source": [
    "df_09.to_csv(file,index = False, header = True, sep = ',', encoding = 'utf-8')"
   ]
  },
  {
   "cell_type": "code",
   "execution_count": null,
   "metadata": {},
   "outputs": [],
   "source": []
  }
 ],
 "metadata": {
  "kernelspec": {
   "display_name": "Python 3",
   "language": "python",
   "name": "python3"
  },
  "language_info": {
   "codemirror_mode": {
    "name": "ipython",
    "version": 3
   },
   "file_extension": ".py",
   "mimetype": "text/x-python",
   "name": "python",
   "nbconvert_exporter": "python",
   "pygments_lexer": "ipython3",
   "version": "3.7.2"
  }
 },
 "nbformat": 4,
 "nbformat_minor": 2
}
