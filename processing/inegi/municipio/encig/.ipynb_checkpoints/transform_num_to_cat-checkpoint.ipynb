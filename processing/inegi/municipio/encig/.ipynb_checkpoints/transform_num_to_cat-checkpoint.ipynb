{
 "cells": [
  {
   "cell_type": "code",
   "execution_count": 1,
   "metadata": {},
   "outputs": [],
   "source": [
    "import pandas as pd\n",
    "import numpy as np\n",
    "from sklearn import preprocessing"
   ]
  },
  {
   "cell_type": "code",
   "execution_count": 41,
   "metadata": {},
   "outputs": [],
   "source": [
    "file = \"../../../../../../dataframes/enh/df_09_impute.csv\""
   ]
  },
  {
   "cell_type": "code",
   "execution_count": 42,
   "metadata": {},
   "outputs": [],
   "source": [
    "df = pd.read_csv(file)"
   ]
  },
  {
   "cell_type": "code",
   "execution_count": 43,
   "metadata": {},
   "outputs": [
    {
     "data": {
      "text/plain": [
       "(3588, 61)"
      ]
     },
     "execution_count": 43,
     "metadata": {},
     "output_type": "execute_result"
    }
   ],
   "source": [
    "df.shape"
   ]
  },
  {
   "cell_type": "code",
   "execution_count": 73,
   "metadata": {},
   "outputs": [],
   "source": [
    "df_copy = df.copy()"
   ]
  },
  {
   "cell_type": "code",
   "execution_count": 74,
   "metadata": {},
   "outputs": [
    {
     "data": {
      "text/html": [
       "<div>\n",
       "<style scoped>\n",
       "    .dataframe tbody tr th:only-of-type {\n",
       "        vertical-align: middle;\n",
       "    }\n",
       "\n",
       "    .dataframe tbody tr th {\n",
       "        vertical-align: top;\n",
       "    }\n",
       "\n",
       "    .dataframe thead th {\n",
       "        text-align: right;\n",
       "    }\n",
       "</style>\n",
       "<table border=\"1\" class=\"dataframe\">\n",
       "  <thead>\n",
       "    <tr style=\"text-align: right;\">\n",
       "      <th></th>\n",
       "      <th>aire_acond</th>\n",
       "      <th>ais_otro</th>\n",
       "      <th>ais_pared</th>\n",
       "      <th>ais_techos</th>\n",
       "      <th>ais_ventan</th>\n",
       "      <th>antiguedad</th>\n",
       "      <th>auto_pick</th>\n",
       "      <th>bano_comp</th>\n",
       "      <th>bano_excus</th>\n",
       "      <th>bano_regad</th>\n",
       "      <th>...</th>\n",
       "      <th>sanit_agua</th>\n",
       "      <th>tam_loc</th>\n",
       "      <th>tanque_gas</th>\n",
       "      <th>tel_fijo</th>\n",
       "      <th>tenencia</th>\n",
       "      <th>tinaco_azo</th>\n",
       "      <th>tipo_viv</th>\n",
       "      <th>tot_hog</th>\n",
       "      <th>tv_paga</th>\n",
       "      <th>uso_compar</th>\n",
       "    </tr>\n",
       "  </thead>\n",
       "  <tbody>\n",
       "    <tr>\n",
       "      <th>0</th>\n",
       "      <td>2</td>\n",
       "      <td>2</td>\n",
       "      <td>2</td>\n",
       "      <td>2</td>\n",
       "      <td>2</td>\n",
       "      <td>35</td>\n",
       "      <td>2</td>\n",
       "      <td>1</td>\n",
       "      <td>0</td>\n",
       "      <td>0</td>\n",
       "      <td>...</td>\n",
       "      <td>1</td>\n",
       "      <td>1</td>\n",
       "      <td>2</td>\n",
       "      <td>1</td>\n",
       "      <td>1</td>\n",
       "      <td>1</td>\n",
       "      <td>1</td>\n",
       "      <td>1</td>\n",
       "      <td>1</td>\n",
       "      <td>2</td>\n",
       "    </tr>\n",
       "    <tr>\n",
       "      <th>1</th>\n",
       "      <td>2</td>\n",
       "      <td>9</td>\n",
       "      <td>9</td>\n",
       "      <td>9</td>\n",
       "      <td>9</td>\n",
       "      <td>10</td>\n",
       "      <td>1</td>\n",
       "      <td>2</td>\n",
       "      <td>0</td>\n",
       "      <td>0</td>\n",
       "      <td>...</td>\n",
       "      <td>1</td>\n",
       "      <td>1</td>\n",
       "      <td>2</td>\n",
       "      <td>1</td>\n",
       "      <td>1</td>\n",
       "      <td>1</td>\n",
       "      <td>2</td>\n",
       "      <td>1</td>\n",
       "      <td>1</td>\n",
       "      <td>2</td>\n",
       "    </tr>\n",
       "    <tr>\n",
       "      <th>2</th>\n",
       "      <td>2</td>\n",
       "      <td>2</td>\n",
       "      <td>2</td>\n",
       "      <td>2</td>\n",
       "      <td>2</td>\n",
       "      <td>24</td>\n",
       "      <td>2</td>\n",
       "      <td>2</td>\n",
       "      <td>0</td>\n",
       "      <td>0</td>\n",
       "      <td>...</td>\n",
       "      <td>1</td>\n",
       "      <td>1</td>\n",
       "      <td>2</td>\n",
       "      <td>1</td>\n",
       "      <td>1</td>\n",
       "      <td>1</td>\n",
       "      <td>2</td>\n",
       "      <td>1</td>\n",
       "      <td>1</td>\n",
       "      <td>2</td>\n",
       "    </tr>\n",
       "    <tr>\n",
       "      <th>3</th>\n",
       "      <td>2</td>\n",
       "      <td>2</td>\n",
       "      <td>2</td>\n",
       "      <td>2</td>\n",
       "      <td>2</td>\n",
       "      <td>10</td>\n",
       "      <td>1</td>\n",
       "      <td>1</td>\n",
       "      <td>0</td>\n",
       "      <td>0</td>\n",
       "      <td>...</td>\n",
       "      <td>1</td>\n",
       "      <td>1</td>\n",
       "      <td>1</td>\n",
       "      <td>1</td>\n",
       "      <td>3</td>\n",
       "      <td>1</td>\n",
       "      <td>2</td>\n",
       "      <td>1</td>\n",
       "      <td>1</td>\n",
       "      <td>2</td>\n",
       "    </tr>\n",
       "    <tr>\n",
       "      <th>4</th>\n",
       "      <td>2</td>\n",
       "      <td>2</td>\n",
       "      <td>2</td>\n",
       "      <td>2</td>\n",
       "      <td>2</td>\n",
       "      <td>38</td>\n",
       "      <td>2</td>\n",
       "      <td>1</td>\n",
       "      <td>0</td>\n",
       "      <td>0</td>\n",
       "      <td>...</td>\n",
       "      <td>1</td>\n",
       "      <td>1</td>\n",
       "      <td>2</td>\n",
       "      <td>2</td>\n",
       "      <td>1</td>\n",
       "      <td>1</td>\n",
       "      <td>1</td>\n",
       "      <td>1</td>\n",
       "      <td>2</td>\n",
       "      <td>2</td>\n",
       "    </tr>\n",
       "  </tbody>\n",
       "</table>\n",
       "<p>5 rows × 61 columns</p>\n",
       "</div>"
      ],
      "text/plain": [
       "   aire_acond  ais_otro  ais_pared  ais_techos  ais_ventan  antiguedad  \\\n",
       "0           2         2          2           2           2          35   \n",
       "1           2         9          9           9           9          10   \n",
       "2           2         2          2           2           2          24   \n",
       "3           2         2          2           2           2          10   \n",
       "4           2         2          2           2           2          38   \n",
       "\n",
       "   auto_pick  bano_comp  bano_excus  bano_regad  ...  sanit_agua  tam_loc  \\\n",
       "0          2          1           0           0  ...           1        1   \n",
       "1          1          2           0           0  ...           1        1   \n",
       "2          2          2           0           0  ...           1        1   \n",
       "3          1          1           0           0  ...           1        1   \n",
       "4          2          1           0           0  ...           1        1   \n",
       "\n",
       "   tanque_gas  tel_fijo  tenencia  tinaco_azo  tipo_viv  tot_hog  tv_paga  \\\n",
       "0           2         1         1           1         1        1        1   \n",
       "1           2         1         1           1         2        1        1   \n",
       "2           2         1         1           1         2        1        1   \n",
       "3           1         1         3           1         2        1        1   \n",
       "4           2         2         1           1         1        1        2   \n",
       "\n",
       "   uso_compar  \n",
       "0           2  \n",
       "1           2  \n",
       "2           2  \n",
       "3           2  \n",
       "4           2  \n",
       "\n",
       "[5 rows x 61 columns]"
      ]
     },
     "execution_count": 74,
     "metadata": {},
     "output_type": "execute_result"
    }
   ],
   "source": [
    "df_copy.head()"
   ]
  },
  {
   "cell_type": "code",
   "execution_count": 46,
   "metadata": {},
   "outputs": [],
   "source": [
    "#list(df_copy.columns)"
   ]
  },
  {
   "cell_type": "code",
   "execution_count": 47,
   "metadata": {},
   "outputs": [],
   "source": [
    "list_num = ['antiguedad','cuart_dorm','bano_comp','bano_excus', 'bano_regad','focos_ahor', 'focos_inca','num_cuarto']"
   ]
  },
  {
   "cell_type": "code",
   "execution_count": 48,
   "metadata": {},
   "outputs": [],
   "source": [
    "list_cat = []\n",
    "\n",
    "for row in df_copy.columns:\n",
    "    if row not in list_num:\n",
    "#            print(row)\n",
    "        list_cat.append(row)\n",
    "            \n",
    "#list_numericos"
   ]
  },
  {
   "cell_type": "code",
   "execution_count": 49,
   "metadata": {},
   "outputs": [
    {
     "data": {
      "text/html": [
       "<div>\n",
       "<style scoped>\n",
       "    .dataframe tbody tr th:only-of-type {\n",
       "        vertical-align: middle;\n",
       "    }\n",
       "\n",
       "    .dataframe tbody tr th {\n",
       "        vertical-align: top;\n",
       "    }\n",
       "\n",
       "    .dataframe thead th {\n",
       "        text-align: right;\n",
       "    }\n",
       "</style>\n",
       "<table border=\"1\" class=\"dataframe\">\n",
       "  <thead>\n",
       "    <tr style=\"text-align: right;\">\n",
       "      <th></th>\n",
       "      <th>aire_acond</th>\n",
       "      <th>ais_otro</th>\n",
       "      <th>ais_pared</th>\n",
       "      <th>ais_techos</th>\n",
       "      <th>ais_ventan</th>\n",
       "      <th>auto_pick</th>\n",
       "      <th>bomba_agua</th>\n",
       "      <th>calefacc</th>\n",
       "      <th>calent_gas</th>\n",
       "      <th>calent_sol</th>\n",
       "      <th>...</th>\n",
       "      <th>sanit_agua</th>\n",
       "      <th>tam_loc</th>\n",
       "      <th>tanque_gas</th>\n",
       "      <th>tel_fijo</th>\n",
       "      <th>tenencia</th>\n",
       "      <th>tinaco_azo</th>\n",
       "      <th>tipo_viv</th>\n",
       "      <th>tot_hog</th>\n",
       "      <th>tv_paga</th>\n",
       "      <th>uso_compar</th>\n",
       "    </tr>\n",
       "  </thead>\n",
       "  <tbody>\n",
       "    <tr>\n",
       "      <th>0</th>\n",
       "      <td>2</td>\n",
       "      <td>2</td>\n",
       "      <td>2</td>\n",
       "      <td>2</td>\n",
       "      <td>2</td>\n",
       "      <td>2</td>\n",
       "      <td>1</td>\n",
       "      <td>2</td>\n",
       "      <td>1</td>\n",
       "      <td>2</td>\n",
       "      <td>...</td>\n",
       "      <td>1</td>\n",
       "      <td>1</td>\n",
       "      <td>2</td>\n",
       "      <td>1</td>\n",
       "      <td>1</td>\n",
       "      <td>1</td>\n",
       "      <td>1</td>\n",
       "      <td>1</td>\n",
       "      <td>1</td>\n",
       "      <td>2</td>\n",
       "    </tr>\n",
       "    <tr>\n",
       "      <th>1</th>\n",
       "      <td>2</td>\n",
       "      <td>9</td>\n",
       "      <td>9</td>\n",
       "      <td>9</td>\n",
       "      <td>9</td>\n",
       "      <td>1</td>\n",
       "      <td>1</td>\n",
       "      <td>2</td>\n",
       "      <td>1</td>\n",
       "      <td>2</td>\n",
       "      <td>...</td>\n",
       "      <td>1</td>\n",
       "      <td>1</td>\n",
       "      <td>2</td>\n",
       "      <td>1</td>\n",
       "      <td>1</td>\n",
       "      <td>1</td>\n",
       "      <td>2</td>\n",
       "      <td>1</td>\n",
       "      <td>1</td>\n",
       "      <td>2</td>\n",
       "    </tr>\n",
       "    <tr>\n",
       "      <th>2</th>\n",
       "      <td>2</td>\n",
       "      <td>2</td>\n",
       "      <td>2</td>\n",
       "      <td>2</td>\n",
       "      <td>2</td>\n",
       "      <td>2</td>\n",
       "      <td>1</td>\n",
       "      <td>2</td>\n",
       "      <td>1</td>\n",
       "      <td>2</td>\n",
       "      <td>...</td>\n",
       "      <td>1</td>\n",
       "      <td>1</td>\n",
       "      <td>2</td>\n",
       "      <td>1</td>\n",
       "      <td>1</td>\n",
       "      <td>1</td>\n",
       "      <td>2</td>\n",
       "      <td>1</td>\n",
       "      <td>1</td>\n",
       "      <td>2</td>\n",
       "    </tr>\n",
       "    <tr>\n",
       "      <th>3</th>\n",
       "      <td>2</td>\n",
       "      <td>2</td>\n",
       "      <td>2</td>\n",
       "      <td>2</td>\n",
       "      <td>2</td>\n",
       "      <td>1</td>\n",
       "      <td>1</td>\n",
       "      <td>2</td>\n",
       "      <td>1</td>\n",
       "      <td>2</td>\n",
       "      <td>...</td>\n",
       "      <td>1</td>\n",
       "      <td>1</td>\n",
       "      <td>1</td>\n",
       "      <td>1</td>\n",
       "      <td>3</td>\n",
       "      <td>1</td>\n",
       "      <td>2</td>\n",
       "      <td>1</td>\n",
       "      <td>1</td>\n",
       "      <td>2</td>\n",
       "    </tr>\n",
       "    <tr>\n",
       "      <th>4</th>\n",
       "      <td>2</td>\n",
       "      <td>2</td>\n",
       "      <td>2</td>\n",
       "      <td>2</td>\n",
       "      <td>2</td>\n",
       "      <td>2</td>\n",
       "      <td>1</td>\n",
       "      <td>2</td>\n",
       "      <td>1</td>\n",
       "      <td>2</td>\n",
       "      <td>...</td>\n",
       "      <td>1</td>\n",
       "      <td>1</td>\n",
       "      <td>2</td>\n",
       "      <td>2</td>\n",
       "      <td>1</td>\n",
       "      <td>1</td>\n",
       "      <td>1</td>\n",
       "      <td>1</td>\n",
       "      <td>2</td>\n",
       "      <td>2</td>\n",
       "    </tr>\n",
       "  </tbody>\n",
       "</table>\n",
       "<p>5 rows × 53 columns</p>\n",
       "</div>"
      ],
      "text/plain": [
       "   aire_acond  ais_otro  ais_pared  ais_techos  ais_ventan  auto_pick  \\\n",
       "0           2         2          2           2           2          2   \n",
       "1           2         9          9           9           9          1   \n",
       "2           2         2          2           2           2          2   \n",
       "3           2         2          2           2           2          1   \n",
       "4           2         2          2           2           2          2   \n",
       "\n",
       "   bomba_agua  calefacc  calent_gas  calent_sol  ...  sanit_agua  tam_loc  \\\n",
       "0           1         2           1           2  ...           1        1   \n",
       "1           1         2           1           2  ...           1        1   \n",
       "2           1         2           1           2  ...           1        1   \n",
       "3           1         2           1           2  ...           1        1   \n",
       "4           1         2           1           2  ...           1        1   \n",
       "\n",
       "   tanque_gas  tel_fijo  tenencia  tinaco_azo  tipo_viv  tot_hog  tv_paga  \\\n",
       "0           2         1         1           1         1        1        1   \n",
       "1           2         1         1           1         2        1        1   \n",
       "2           2         1         1           1         2        1        1   \n",
       "3           1         1         3           1         2        1        1   \n",
       "4           2         2         1           1         1        1        2   \n",
       "\n",
       "   uso_compar  \n",
       "0           2  \n",
       "1           2  \n",
       "2           2  \n",
       "3           2  \n",
       "4           2  \n",
       "\n",
       "[5 rows x 53 columns]"
      ]
     },
     "execution_count": 49,
     "metadata": {},
     "output_type": "execute_result"
    }
   ],
   "source": [
    "df_copy[list_cat].head()"
   ]
  },
  {
   "cell_type": "code",
   "execution_count": 50,
   "metadata": {},
   "outputs": [
    {
     "data": {
      "text/html": [
       "<div>\n",
       "<style scoped>\n",
       "    .dataframe tbody tr th:only-of-type {\n",
       "        vertical-align: middle;\n",
       "    }\n",
       "\n",
       "    .dataframe tbody tr th {\n",
       "        vertical-align: top;\n",
       "    }\n",
       "\n",
       "    .dataframe thead th {\n",
       "        text-align: right;\n",
       "    }\n",
       "</style>\n",
       "<table border=\"1\" class=\"dataframe\">\n",
       "  <thead>\n",
       "    <tr style=\"text-align: right;\">\n",
       "      <th></th>\n",
       "      <th>antiguedad</th>\n",
       "      <th>cuart_dorm</th>\n",
       "      <th>bano_comp</th>\n",
       "      <th>bano_excus</th>\n",
       "      <th>bano_regad</th>\n",
       "      <th>focos_ahor</th>\n",
       "      <th>focos_inca</th>\n",
       "      <th>num_cuarto</th>\n",
       "    </tr>\n",
       "  </thead>\n",
       "  <tbody>\n",
       "    <tr>\n",
       "      <th>0</th>\n",
       "      <td>35</td>\n",
       "      <td>2</td>\n",
       "      <td>1</td>\n",
       "      <td>0</td>\n",
       "      <td>0</td>\n",
       "      <td>10</td>\n",
       "      <td>0</td>\n",
       "      <td>5</td>\n",
       "    </tr>\n",
       "    <tr>\n",
       "      <th>1</th>\n",
       "      <td>10</td>\n",
       "      <td>2</td>\n",
       "      <td>2</td>\n",
       "      <td>0</td>\n",
       "      <td>0</td>\n",
       "      <td>10</td>\n",
       "      <td>0</td>\n",
       "      <td>4</td>\n",
       "    </tr>\n",
       "    <tr>\n",
       "      <th>2</th>\n",
       "      <td>24</td>\n",
       "      <td>2</td>\n",
       "      <td>2</td>\n",
       "      <td>0</td>\n",
       "      <td>0</td>\n",
       "      <td>0</td>\n",
       "      <td>15</td>\n",
       "      <td>4</td>\n",
       "    </tr>\n",
       "    <tr>\n",
       "      <th>3</th>\n",
       "      <td>10</td>\n",
       "      <td>2</td>\n",
       "      <td>1</td>\n",
       "      <td>0</td>\n",
       "      <td>0</td>\n",
       "      <td>17</td>\n",
       "      <td>0</td>\n",
       "      <td>5</td>\n",
       "    </tr>\n",
       "    <tr>\n",
       "      <th>4</th>\n",
       "      <td>38</td>\n",
       "      <td>1</td>\n",
       "      <td>1</td>\n",
       "      <td>0</td>\n",
       "      <td>0</td>\n",
       "      <td>2</td>\n",
       "      <td>0</td>\n",
       "      <td>2</td>\n",
       "    </tr>\n",
       "  </tbody>\n",
       "</table>\n",
       "</div>"
      ],
      "text/plain": [
       "   antiguedad  cuart_dorm  bano_comp  bano_excus  bano_regad  focos_ahor  \\\n",
       "0          35           2          1           0           0          10   \n",
       "1          10           2          2           0           0          10   \n",
       "2          24           2          2           0           0           0   \n",
       "3          10           2          1           0           0          17   \n",
       "4          38           1          1           0           0           2   \n",
       "\n",
       "   focos_inca  num_cuarto  \n",
       "0           0           5  \n",
       "1           0           4  \n",
       "2          15           4  \n",
       "3           0           5  \n",
       "4           0           2  "
      ]
     },
     "execution_count": 50,
     "metadata": {},
     "output_type": "execute_result"
    }
   ],
   "source": [
    "df_copy[list_num].head()"
   ]
  },
  {
   "cell_type": "markdown",
   "metadata": {},
   "source": [
    "# transform num->cat"
   ]
  },
  {
   "cell_type": "code",
   "execution_count": 51,
   "metadata": {},
   "outputs": [
    {
     "name": "stdout",
     "output_type": "stream",
     "text": [
      "antiguedad\n",
      "[35 10 24 38 15 50 23 16 20 36 25 32 14  8 40 45 30 48 39 29 54 80 46 52\n",
      " 70 60 43 55 90 34 44 22 28  6  2 37 26 75 99 41 42 33  3  4 12 13 19 21\n",
      "  1 27 17 18  5 31 11 49  7 47 85 62 57  9 56  0 51 63 53 64 69 67 61 65\n",
      " 76 68 77 58 95 59 87]\n",
      "cuart_dorm\n",
      "[2 1 3 4 5 6 9 7 8]\n",
      "bano_comp\n",
      "[1 2 0 3 6 4 5 7 9]\n",
      "bano_excus\n",
      "[0 1 2 3 6 4]\n",
      "bano_regad\n",
      "[0 1 2]\n",
      "focos_ahor\n",
      "[10  0 17  2  6 11  4  7  9 13  3 40  8 12 23  5  1 14 18 20 16 36 25 15\n",
      " 30 50 22 60 31 28 26 70 35 19 21 90 32 99 29 46 24 37 45 33 27 65 47]\n",
      "focos_inca\n",
      "[ 0 15  2 10  6  5  1  7  3  8  4 28 16  9 13 25 11 12 35 17 30 70 20 14\n",
      " 90]\n",
      "num_cuarto\n",
      "[ 5  4  2  1  3  7  6 10  8 11  9 12 16 15]\n"
     ]
    }
   ],
   "source": [
    "for column in df_copy[list_num].columns:\n",
    "    print(column)\n",
    "    print(df[column].unique())"
   ]
  },
  {
   "cell_type": "code",
   "execution_count": 75,
   "metadata": {},
   "outputs": [],
   "source": [
    "list_candidates = [\"antiguedad\", \"focos_ahor\", \"focos_inca\"]"
   ]
  },
  {
   "cell_type": "code",
   "execution_count": 76,
   "metadata": {},
   "outputs": [
    {
     "data": {
      "text/plain": [
       "0    (30, 35]\n",
       "1     (5, 10]\n",
       "2    (20, 25]\n",
       "3     (5, 10]\n",
       "4    (35, 40]\n",
       "Name: antiguedad, dtype: object"
      ]
     },
     "execution_count": 76,
     "metadata": {},
     "output_type": "execute_result"
    }
   ],
   "source": [
    "#set up bins\n",
    "bins = [-1,0,5,10,15,20,25,30,35,40,45,50,55,60,65,70,75,80,85,90,95,100]\n",
    "\n",
    "#use pd.cut function can attribute the values into its specific bins\n",
    "df_copy.antiguedad = pd.cut(df_copy.antiguedad,bins).to_frame()\n",
    "df_copy.antiguedad.head()"
   ]
  },
  {
   "cell_type": "code",
   "execution_count": 77,
   "metadata": {},
   "outputs": [
    {
     "data": {
      "text/plain": [
       "0    (9, 100]\n",
       "1    (9, 100]\n",
       "2     (-1, 0]\n",
       "3    (9, 100]\n",
       "4      (0, 3]\n",
       "Name: focos_ahor, dtype: object"
      ]
     },
     "execution_count": 77,
     "metadata": {},
     "output_type": "execute_result"
    }
   ],
   "source": [
    "#set up bins\n",
    "bins = [-1,0,3,6,9,100]\n",
    "\n",
    "#use pd.cut function can attribute the values into its specific bins\n",
    "df_copy.focos_ahor = pd.cut(df_copy.focos_ahor,bins).to_frame()\n",
    "df_copy.focos_ahor.head()"
   ]
  },
  {
   "cell_type": "code",
   "execution_count": 78,
   "metadata": {},
   "outputs": [
    {
     "data": {
      "text/plain": [
       "0     (-1, 0]\n",
       "1     (-1, 0]\n",
       "2    (9, 100]\n",
       "3     (-1, 0]\n",
       "4     (-1, 0]\n",
       "Name: focos_inca, dtype: object"
      ]
     },
     "execution_count": 78,
     "metadata": {},
     "output_type": "execute_result"
    }
   ],
   "source": [
    "#set up bins\n",
    "bin = [-1,0,3,6,9,100]\n",
    "\n",
    "#use pd.cut function can attribute the values into its specific bins\n",
    "df_copy.focos_inca = pd.cut(df_copy.focos_inca,bin).to_frame()\n",
    "df_copy.focos_inca.head()"
   ]
  },
  {
   "cell_type": "code",
   "execution_count": 80,
   "metadata": {},
   "outputs": [
    {
     "name": "stdout",
     "output_type": "stream",
     "text": [
      "antiguedad\n",
      "(25, 30]     496\n",
      "(35, 40]     414\n",
      "(20, 25]     414\n",
      "(15, 20]     386\n",
      "(30, 35]     352\n",
      "(5, 10]      308\n",
      "(10, 15]     274\n",
      "(45, 50]     273\n",
      "(0, 5]       193\n",
      "(40, 45]     174\n",
      "(55, 60]     114\n",
      "(50, 55]      69\n",
      "(65, 70]      35\n",
      "(75, 80]      26\n",
      "(60, 65]      20\n",
      "(95, 100]     16\n",
      "(85, 90]      11\n",
      "(-1, 0]        7\n",
      "(70, 75]       3\n",
      "(80, 85]       2\n",
      "(90, 95]       1\n",
      "Name: antiguedad, dtype: int64\n",
      "focos_ahor\n",
      "(3, 6]      1204\n",
      "(9, 100]     799\n",
      "(6, 9]       717\n",
      "(0, 3]       608\n",
      "(-1, 0]      260\n",
      "Name: focos_ahor, dtype: int64\n",
      "focos_inca\n",
      "(-1, 0]     2745\n",
      "(0, 3]       477\n",
      "(3, 6]       230\n",
      "(6, 9]        76\n",
      "(9, 100]      60\n",
      "Name: focos_inca, dtype: int64\n"
     ]
    }
   ],
   "source": [
    "for column in df_copy[list_candidates].columns:\n",
    "    print(column)\n",
    "    print(df_copy[column].value_counts())"
   ]
  },
  {
   "cell_type": "code",
   "execution_count": 81,
   "metadata": {},
   "outputs": [
    {
     "data": {
      "text/plain": [
       "[]"
      ]
     },
     "execution_count": 81,
     "metadata": {},
     "output_type": "execute_result"
    }
   ],
   "source": [
    "list_regejos = df_copy.columns[df_copy.isnull().any()].tolist()\n",
    "list_regejos"
   ]
  },
  {
   "cell_type": "code",
   "execution_count": 82,
   "metadata": {},
   "outputs": [],
   "source": [
    "df_copy.drop(labels=list_regejos, axis=1, inplace=True)"
   ]
  },
  {
   "cell_type": "code",
   "execution_count": 83,
   "metadata": {},
   "outputs": [],
   "source": [
    "file = \"../../../../../../dataframes/enh/df_09_transform_categorical.csv\""
   ]
  },
  {
   "cell_type": "code",
   "execution_count": 84,
   "metadata": {},
   "outputs": [],
   "source": [
    "df_copy.to_csv(file,index = False, header = True, sep = ',', encoding = 'utf-8')"
   ]
  },
  {
   "cell_type": "code",
   "execution_count": null,
   "metadata": {},
   "outputs": [],
   "source": []
  }
 ],
 "metadata": {
  "kernelspec": {
   "display_name": "Python 3",
   "language": "python",
   "name": "python3"
  },
  "language_info": {
   "codemirror_mode": {
    "name": "ipython",
    "version": 3
   },
   "file_extension": ".py",
   "mimetype": "text/x-python",
   "name": "python",
   "nbconvert_exporter": "python",
   "pygments_lexer": "ipython3",
   "version": "3.7.2"
  }
 },
 "nbformat": 4,
 "nbformat_minor": 2
}
