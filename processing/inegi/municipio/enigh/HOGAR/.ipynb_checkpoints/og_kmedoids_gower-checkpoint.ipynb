{
 "cells": [
  {
   "cell_type": "code",
   "execution_count": 59,
   "metadata": {},
   "outputs": [],
   "source": [
    "library(SpatEntropy)\n",
    "library(ggplot2)\n",
    "library(stats)\n",
    "library(factoextra)\n",
    "library(clusterCrit)\n",
    "library(scatterplot3d)\n",
    "library(kmed)\n",
    "library(plotly)"
   ]
  },
  {
   "cell_type": "code",
   "execution_count": 67,
   "metadata": {},
   "outputs": [],
   "source": [
    "file = '../../../../../../dataframes/enigh/HOGARES/df_09_impute.csv'\n"
   ]
  },
  {
   "cell_type": "code",
   "execution_count": 68,
   "metadata": {},
   "outputs": [
    {
     "data": {
      "text/html": [
       "<table>\n",
       "<thead><tr><th scope=col>num_trab_d</th><th scope=col>acc_alim1</th><th scope=col>acc_alim2</th><th scope=col>acc_alim3</th><th scope=col>acc_alim4</th><th scope=col>acc_alim5</th><th scope=col>acc_alim6</th><th scope=col>alim17_1</th><th scope=col>alim17_2</th><th scope=col>alim17_3</th><th scope=col>⋯</th><th scope=col>regalos</th><th scope=col>remunera</th><th scope=col>transferen</th><th scope=col>parto_g</th><th scope=col>embarazo_g</th><th scope=col>negcua</th><th scope=col>est_alim</th><th scope=col>est_trans</th><th scope=col>bene_licon</th><th scope=col>diconsa</th></tr></thead>\n",
       "<tbody>\n",
       "\t<tr><td>0   </td><td>2   </td><td>2   </td><td>2   </td><td>2   </td><td>2   </td><td>2   </td><td>7   </td><td>1   </td><td>3   </td><td>⋯   </td><td>1   </td><td>2   </td><td>2   </td><td>2   </td><td>2   </td><td>2   </td><td>2100</td><td> 700</td><td>2   </td><td>1   </td></tr>\n",
       "\t<tr><td>0   </td><td>2   </td><td>2   </td><td>2   </td><td>2   </td><td>2   </td><td>2   </td><td>7   </td><td>3   </td><td>3   </td><td>⋯   </td><td>1   </td><td>2   </td><td>1   </td><td>2   </td><td>2   </td><td>2   </td><td> 900</td><td>  20</td><td>2   </td><td>1   </td></tr>\n",
       "\t<tr><td>0   </td><td>2   </td><td>2   </td><td>2   </td><td>2   </td><td>2   </td><td>2   </td><td>4   </td><td>2   </td><td>7   </td><td>⋯   </td><td>1   </td><td>2   </td><td>2   </td><td>2   </td><td>2   </td><td>2   </td><td>1700</td><td> 350</td><td>2   </td><td>1   </td></tr>\n",
       "\t<tr><td>0   </td><td>2   </td><td>2   </td><td>2   </td><td>2   </td><td>2   </td><td>2   </td><td>3   </td><td>1   </td><td>4   </td><td>⋯   </td><td>2   </td><td>1   </td><td>2   </td><td>2   </td><td>2   </td><td>2   </td><td>1200</td><td> 300</td><td>2   </td><td>9   </td></tr>\n",
       "\t<tr><td>0   </td><td>2   </td><td>2   </td><td>2   </td><td>2   </td><td>2   </td><td>2   </td><td>7   </td><td>7   </td><td>7   </td><td>⋯   </td><td>1   </td><td>2   </td><td>1   </td><td>2   </td><td>2   </td><td>2   </td><td>3100</td><td> 300</td><td>2   </td><td>2   </td></tr>\n",
       "\t<tr><td>0   </td><td>2   </td><td>2   </td><td>2   </td><td>2   </td><td>2   </td><td>2   </td><td>7   </td><td>1   </td><td>7   </td><td>⋯   </td><td>2   </td><td>2   </td><td>2   </td><td>2   </td><td>2   </td><td>1   </td><td>3300</td><td>2400</td><td>2   </td><td>1   </td></tr>\n",
       "</tbody>\n",
       "</table>\n"
      ],
      "text/latex": [
       "\\begin{tabular}{r|lllllllllllllllllllllllllllllllllllllllllllllllllllllllllllllllllllllllllll}\n",
       " num\\_trab\\_d & acc\\_alim1 & acc\\_alim2 & acc\\_alim3 & acc\\_alim4 & acc\\_alim5 & acc\\_alim6 & alim17\\_1 & alim17\\_2 & alim17\\_3 & ⋯ & regalos & remunera & transferen & parto\\_g & embarazo\\_g & negcua & est\\_alim & est\\_trans & bene\\_licon & diconsa\\\\\n",
       "\\hline\n",
       "\t 0    & 2    & 2    & 2    & 2    & 2    & 2    & 7    & 1    & 3    & ⋯    & 1    & 2    & 2    & 2    & 2    & 2    & 2100 &  700 & 2    & 1   \\\\\n",
       "\t 0    & 2    & 2    & 2    & 2    & 2    & 2    & 7    & 3    & 3    & ⋯    & 1    & 2    & 1    & 2    & 2    & 2    &  900 &   20 & 2    & 1   \\\\\n",
       "\t 0    & 2    & 2    & 2    & 2    & 2    & 2    & 4    & 2    & 7    & ⋯    & 1    & 2    & 2    & 2    & 2    & 2    & 1700 &  350 & 2    & 1   \\\\\n",
       "\t 0    & 2    & 2    & 2    & 2    & 2    & 2    & 3    & 1    & 4    & ⋯    & 2    & 1    & 2    & 2    & 2    & 2    & 1200 &  300 & 2    & 9   \\\\\n",
       "\t 0    & 2    & 2    & 2    & 2    & 2    & 2    & 7    & 7    & 7    & ⋯    & 1    & 2    & 1    & 2    & 2    & 2    & 3100 &  300 & 2    & 2   \\\\\n",
       "\t 0    & 2    & 2    & 2    & 2    & 2    & 2    & 7    & 1    & 7    & ⋯    & 2    & 2    & 2    & 2    & 2    & 1    & 3300 & 2400 & 2    & 1   \\\\\n",
       "\\end{tabular}\n"
      ],
      "text/markdown": [
       "\n",
       "| num_trab_d | acc_alim1 | acc_alim2 | acc_alim3 | acc_alim4 | acc_alim5 | acc_alim6 | alim17_1 | alim17_2 | alim17_3 | ⋯ | regalos | remunera | transferen | parto_g | embarazo_g | negcua | est_alim | est_trans | bene_licon | diconsa |\n",
       "|---|---|---|---|---|---|---|---|---|---|---|---|---|---|---|---|---|---|---|---|---|\n",
       "| 0    | 2    | 2    | 2    | 2    | 2    | 2    | 7    | 1    | 3    | ⋯    | 1    | 2    | 2    | 2    | 2    | 2    | 2100 |  700 | 2    | 1    |\n",
       "| 0    | 2    | 2    | 2    | 2    | 2    | 2    | 7    | 3    | 3    | ⋯    | 1    | 2    | 1    | 2    | 2    | 2    |  900 |   20 | 2    | 1    |\n",
       "| 0    | 2    | 2    | 2    | 2    | 2    | 2    | 4    | 2    | 7    | ⋯    | 1    | 2    | 2    | 2    | 2    | 2    | 1700 |  350 | 2    | 1    |\n",
       "| 0    | 2    | 2    | 2    | 2    | 2    | 2    | 3    | 1    | 4    | ⋯    | 2    | 1    | 2    | 2    | 2    | 2    | 1200 |  300 | 2    | 9    |\n",
       "| 0    | 2    | 2    | 2    | 2    | 2    | 2    | 7    | 7    | 7    | ⋯    | 1    | 2    | 1    | 2    | 2    | 2    | 3100 |  300 | 2    | 2    |\n",
       "| 0    | 2    | 2    | 2    | 2    | 2    | 2    | 7    | 1    | 7    | ⋯    | 2    | 2    | 2    | 2    | 2    | 1    | 3300 | 2400 | 2    | 1    |\n",
       "\n"
      ],
      "text/plain": [
       "  num_trab_d acc_alim1 acc_alim2 acc_alim3 acc_alim4 acc_alim5 acc_alim6\n",
       "1 0          2         2         2         2         2         2        \n",
       "2 0          2         2         2         2         2         2        \n",
       "3 0          2         2         2         2         2         2        \n",
       "4 0          2         2         2         2         2         2        \n",
       "5 0          2         2         2         2         2         2        \n",
       "6 0          2         2         2         2         2         2        \n",
       "  alim17_1 alim17_2 alim17_3 ⋯ regalos remunera transferen parto_g embarazo_g\n",
       "1 7        1        3        ⋯ 1       2        2          2       2         \n",
       "2 7        3        3        ⋯ 1       2        1          2       2         \n",
       "3 4        2        7        ⋯ 1       2        2          2       2         \n",
       "4 3        1        4        ⋯ 2       1        2          2       2         \n",
       "5 7        7        7        ⋯ 1       2        1          2       2         \n",
       "6 7        1        7        ⋯ 2       2        2          2       2         \n",
       "  negcua est_alim est_trans bene_licon diconsa\n",
       "1 2      2100      700      2          1      \n",
       "2 2       900       20      2          1      \n",
       "3 2      1700      350      2          1      \n",
       "4 2      1200      300      2          9      \n",
       "5 2      3100      300      2          2      \n",
       "6 1      3300     2400      2          1      "
      ]
     },
     "metadata": {},
     "output_type": "display_data"
    }
   ],
   "source": [
    "#cargar\n",
    "df <- read.csv(file = file)\n",
    "data <- df\n",
    "head(data)"
   ]
  },
  {
   "cell_type": "code",
   "execution_count": 69,
   "metadata": {},
   "outputs": [
    {
     "data": {
      "text/html": [
       "75"
      ],
      "text/latex": [
       "75"
      ],
      "text/markdown": [
       "75"
      ],
      "text/plain": [
       "[1] 75"
      ]
     },
     "metadata": {},
     "output_type": "display_data"
    }
   ],
   "source": [
    "ncol(data)"
   ]
  },
  {
   "cell_type": "code",
   "execution_count": 70,
   "metadata": {},
   "outputs": [],
   "source": [
    "list_bin = c('telefono', 'celular', 'tv_paga', 'conex_inte', 'esc_radio', 'tarjeta', 'pagotarjet', 'regalotar', 'regalodado',\n",
    " 'autocons', 'regalos', 'remunera', 'transferen', 'parto_g', 'embarazo_g', 'negcua', 'bene_licon', 'acc_alim1',\n",
    " 'acc_alim2', 'acc_alim3', 'acc_alim4', 'acc_alim5', 'acc_alim6', 'num_pickup', 'num_trici', 'num_otro')"
   ]
  },
  {
   "cell_type": "code",
   "execution_count": 71,
   "metadata": {},
   "outputs": [],
   "source": [
    "list_cat = c('diconsa', 'num_trab_d', 'num_auto', 'num_van', 'num_moto',\n",
    " 'num_bici', 'num_ester', 'num_grab', 'num_radio', 'num_tva', 'num_tvd', 'num_dvd', 'num_video', 'num_licua',\n",
    " 'num_tosta', 'num_micro', 'num_refri', 'num_estuf', 'num_lavad', 'num_planc', 'num_maqui', 'num_venti', 'num_aspir', 'num_compu', 'num_impre', 'num_juego')\n"
   ]
  },
  {
   "cell_type": "code",
   "execution_count": 72,
   "metadata": {},
   "outputs": [],
   "source": [
    "list_num = c('alim17_1', 'alim17_2', 'alim17_3', 'alim17_4', 'alim17_5',\n",
    " 'alim17_6', 'alim17_7', 'alim17_8', 'alim17_9', 'alim17_10', 'alim17_11', 'alim17_12', 'acc_alim18', 'anio_tvd',\n",
    " 'anio_licua', 'anio_refri', 'anio_estuf', 'anio_lavad', 'anio_planc', 'tsalud1_h', 'tsalud1_m', 'est_alim', 'est_trans')"
   ]
  },
  {
   "cell_type": "code",
   "execution_count": 73,
   "metadata": {},
   "outputs": [
    {
     "data": {
      "text/html": [
       "75"
      ],
      "text/latex": [
       "75"
      ],
      "text/markdown": [
       "75"
      ],
      "text/plain": [
       "[1] 75"
      ]
     },
     "metadata": {},
     "output_type": "display_data"
    }
   ],
   "source": [
    "length(list_num) + length(list_cat) + length(list_bin)"
   ]
  },
  {
   "cell_type": "code",
   "execution_count": null,
   "metadata": {},
   "outputs": [],
   "source": [
    "dist_data <- kmed::distmix(data = data,\n",
    "                           method = \"gower\", \n",
    "                           idnum = list_num, \n",
    "                           idbin = list_bin, \n",
    "                           idcat = list_cat)  "
   ]
  },
  {
   "cell_type": "code",
   "execution_count": null,
   "metadata": {},
   "outputs": [],
   "source": [
    "data <- as.matrix(data)\n",
    "\n",
    "range_k = 2:10\n",
    "dunn_kmeans <- c()\n",
    "set.seed(123)\n",
    "\n",
    "for (k in range_k) {\n",
    "  set.seed(123)\n",
    "  \n",
    "  kmeans <- kmed::fastkmed(distdata = dist_data, ncluster = k, iterate = 50)\n",
    "  \n",
    "  index_internal_kmeans <- clusterCrit::intCriteria(traj = dist_data,\n",
    "                                                    part = as.integer(kmeans$cluster), \n",
    "                                                    crit = \"dunn\")\n",
    "  dunn_kmeans[k-1] <- index_internal_kmeans$dunn\n",
    "}"
   ]
  },
  {
   "cell_type": "code",
   "execution_count": null,
   "metadata": {},
   "outputs": [],
   "source": [
    "max(dunn_kmeans)"
   ]
  },
  {
   "cell_type": "code",
   "execution_count": null,
   "metadata": {},
   "outputs": [],
   "source": [
    "plot_dunn_kmeans <- ggplot2::qplot(x = range_k, \n",
    "                                   y = dunn_kmeans, \n",
    "                                   geom = 'line', \n",
    "                                   main = 'Algoritmo: k-medoids | Distancia: Gower', \n",
    "                                   xlab = 'k centroides', \n",
    "                                   ylab = 'Índice Dunn')\n",
    "\n",
    "\n",
    "plot_dunn_kmeans  + \n",
    "theme_bw() + #ylim(0,0.3) + \n",
    "geom_vline(xintercept = range_k[which.max(dunn_kmeans)], linetype = 2, color='red') +\n",
    "theme(plot.title = element_text(hjust = 0.5)) +\n",
    "ggsave(filename = \"../../../../../../images/enigh/HOGARES/dunn_gower_og.png\", dpi = 300)\n",
    "    "
   ]
  },
  {
   "cell_type": "code",
   "execution_count": null,
   "metadata": {},
   "outputs": [],
   "source": [
    "kmeans <- kmeans <- kmed::fastkmed(distdata = dist_data, \n",
    "                                   ncluster = range_k[which.max(dunn_kmeans)], \n",
    "                                   iterate = 50)"
   ]
  },
  {
   "cell_type": "code",
   "execution_count": null,
   "metadata": {},
   "outputs": [],
   "source": [
    "plot_kmeans <- factoextra::fviz_cluster(object = list(data = data, \n",
    "                                                      cluster = kmeans$cluster),\n",
    "                                        data = data,\n",
    "                                        stand = F, \n",
    "                                        geom =  'point', \n",
    "                                        ellipse.type = 'convex',\n",
    "                                        ellipse = T,\n",
    "                                        main = paste('Algoritmo: k-medoids | Distancia: Gower | k centroides: ', range_k[which.max(dunn_kmeans)]),\n",
    "                                        outlier.color = 'black',\n",
    "                                        show.clust.cent = T)  \n",
    "\n",
    "\n",
    "plot_kmeans + \n",
    "theme_bw() +\n",
    "theme(legend.position = 'bottom') + \n",
    "theme(plot.title = element_text(hjust = 0.5)) +\n",
    "ggsave(filename = \"../../../../../../images/enigh/HOGARES/kmedoids_gower_og.png\", \n",
    "       dpi = 300)"
   ]
  },
  {
   "cell_type": "code",
   "execution_count": null,
   "metadata": {},
   "outputs": [],
   "source": []
  }
 ],
 "metadata": {
  "kernelspec": {
   "display_name": "R",
   "language": "R",
   "name": "ir"
  },
  "language_info": {
   "codemirror_mode": "r",
   "file_extension": ".r",
   "mimetype": "text/x-r-source",
   "name": "R",
   "pygments_lexer": "r",
   "version": "3.5.1"
  }
 },
 "nbformat": 4,
 "nbformat_minor": 2
}
