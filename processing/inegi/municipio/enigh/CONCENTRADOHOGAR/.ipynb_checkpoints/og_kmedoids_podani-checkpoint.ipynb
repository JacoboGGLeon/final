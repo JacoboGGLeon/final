{
 "cells": [
  {
   "cell_type": "code",
   "execution_count": 1,
   "metadata": {},
   "outputs": [
    {
     "name": "stderr",
     "output_type": "stream",
     "text": [
      "Loading required package: spatstat\n",
      "Loading required package: spatstat.data\n",
      "Loading required package: nlme\n",
      "Loading required package: rpart\n",
      "\n",
      "spatstat 1.58-2       (nickname: ‘Not Even Wrong’) \n",
      "For an introduction to spatstat, type ‘beginner’ \n",
      "\n",
      "Welcome! Related Books: `Practical Guide To Cluster Analysis in R` at https://goo.gl/13EFCZ\n",
      "\n",
      "Attaching package: ‘plotly’\n",
      "\n",
      "The following object is masked from ‘package:ggplot2’:\n",
      "\n",
      "    last_plot\n",
      "\n",
      "The following object is masked from ‘package:stats’:\n",
      "\n",
      "    filter\n",
      "\n",
      "The following object is masked from ‘package:graphics’:\n",
      "\n",
      "    layout\n",
      "\n"
     ]
    }
   ],
   "source": [
    "library(SpatEntropy)\n",
    "library(ggplot2)\n",
    "library(stats)\n",
    "library(factoextra)\n",
    "library(clusterCrit)\n",
    "library(scatterplot3d)\n",
    "library(kmed)\n",
    "library(plotly)"
   ]
  },
  {
   "cell_type": "code",
   "execution_count": 2,
   "metadata": {},
   "outputs": [],
   "source": [
    "file = '../../../../../../dataframes/enigh/CONCENTRADOHOGAR/mixed/df_09_clean.csv'\n"
   ]
  },
  {
   "cell_type": "code",
   "execution_count": 3,
   "metadata": {},
   "outputs": [
    {
     "data": {
      "text/html": [
       "<table>\n",
       "<thead><tr><th scope=col>tam_loc</th><th scope=col>est_socio</th><th scope=col>clase_hog</th><th scope=col>sexo_jefe</th><th scope=col>edad_jefe</th><th scope=col>educa_jefe</th><th scope=col>tot_integ</th><th scope=col>hombres</th><th scope=col>mujeres</th><th scope=col>mayores</th><th scope=col>⋯</th><th scope=col>cuota_viv</th><th scope=col>mater_serv</th><th scope=col>material</th><th scope=col>servicio</th><th scope=col>deposito</th><th scope=col>prest_terc</th><th scope=col>pago_tarje</th><th scope=col>deudas</th><th scope=col>balance</th><th scope=col>otras_erog</th></tr></thead>\n",
       "<tbody>\n",
       "\t<tr><td>1    </td><td>2    </td><td>3    </td><td>1    </td><td>40   </td><td> 8   </td><td>4    </td><td>1    </td><td>3    </td><td>3    </td><td>⋯    </td><td>0    </td><td>  0  </td><td>  0  </td><td>0    </td><td>0    </td><td>0    </td><td>0    </td><td>    0</td><td>   0 </td><td>0    </td></tr>\n",
       "\t<tr><td>1    </td><td>2    </td><td>1    </td><td>1    </td><td>83   </td><td> 8   </td><td>1    </td><td>1    </td><td>0    </td><td>1    </td><td>⋯    </td><td>0    </td><td>  0  </td><td>  0  </td><td>0    </td><td>0    </td><td>0    </td><td>0    </td><td>    0</td><td>   0 </td><td>0    </td></tr>\n",
       "\t<tr><td>1    </td><td>2    </td><td>2    </td><td>2    </td><td>44   </td><td> 8   </td><td>3    </td><td>2    </td><td>1    </td><td>2    </td><td>⋯    </td><td>0    </td><td>  0  </td><td>  0  </td><td>0    </td><td>0    </td><td>0    </td><td>0    </td><td>    0</td><td>   0 </td><td>0    </td></tr>\n",
       "\t<tr><td>1    </td><td>2    </td><td>1    </td><td>1    </td><td>48   </td><td>10   </td><td>1    </td><td>1    </td><td>0    </td><td>1    </td><td>⋯    </td><td>0    </td><td>  0  </td><td>  0  </td><td>0    </td><td>0    </td><td>0    </td><td>0    </td><td>    0</td><td>   0 </td><td>0    </td></tr>\n",
       "\t<tr><td>1    </td><td>2    </td><td>1    </td><td>1    </td><td>75   </td><td>10   </td><td>1    </td><td>1    </td><td>0    </td><td>1    </td><td>⋯    </td><td>0    </td><td>  0  </td><td>  0  </td><td>0    </td><td>0    </td><td>0    </td><td>0    </td><td>10327</td><td>   0 </td><td>0    </td></tr>\n",
       "\t<tr><td>1    </td><td>2    </td><td>3    </td><td>1    </td><td>60   </td><td> 4   </td><td>8    </td><td>2    </td><td>6    </td><td>7    </td><td>⋯    </td><td>0    </td><td>929  </td><td>929  </td><td>0    </td><td>0    </td><td>0    </td><td>0    </td><td>    0</td><td>1076 </td><td>0    </td></tr>\n",
       "</tbody>\n",
       "</table>\n"
      ],
      "text/latex": [
       "\\begin{tabular}{r|lllllllllllllllllllllllllllllllllllllllllllllllllllllllllllllllllllllllllllllllllllllllllllllllllllllllllllllllllllll}\n",
       " tam\\_loc & est\\_socio & clase\\_hog & sexo\\_jefe & edad\\_jefe & educa\\_jefe & tot\\_integ & hombres & mujeres & mayores & ⋯ & cuota\\_viv & mater\\_serv & material & servicio & deposito & prest\\_terc & pago\\_tarje & deudas & balance & otras\\_erog\\\\\n",
       "\\hline\n",
       "\t 1     & 2     & 3     & 1     & 40    &  8    & 4     & 1     & 3     & 3     & ⋯     & 0     &   0   &   0   & 0     & 0     & 0     & 0     &     0 &    0  & 0    \\\\\n",
       "\t 1     & 2     & 1     & 1     & 83    &  8    & 1     & 1     & 0     & 1     & ⋯     & 0     &   0   &   0   & 0     & 0     & 0     & 0     &     0 &    0  & 0    \\\\\n",
       "\t 1     & 2     & 2     & 2     & 44    &  8    & 3     & 2     & 1     & 2     & ⋯     & 0     &   0   &   0   & 0     & 0     & 0     & 0     &     0 &    0  & 0    \\\\\n",
       "\t 1     & 2     & 1     & 1     & 48    & 10    & 1     & 1     & 0     & 1     & ⋯     & 0     &   0   &   0   & 0     & 0     & 0     & 0     &     0 &    0  & 0    \\\\\n",
       "\t 1     & 2     & 1     & 1     & 75    & 10    & 1     & 1     & 0     & 1     & ⋯     & 0     &   0   &   0   & 0     & 0     & 0     & 0     & 10327 &    0  & 0    \\\\\n",
       "\t 1     & 2     & 3     & 1     & 60    &  4    & 8     & 2     & 6     & 7     & ⋯     & 0     & 929   & 929   & 0     & 0     & 0     & 0     &     0 & 1076  & 0    \\\\\n",
       "\\end{tabular}\n"
      ],
      "text/markdown": [
       "\n",
       "| tam_loc | est_socio | clase_hog | sexo_jefe | edad_jefe | educa_jefe | tot_integ | hombres | mujeres | mayores | ⋯ | cuota_viv | mater_serv | material | servicio | deposito | prest_terc | pago_tarje | deudas | balance | otras_erog |\n",
       "|---|---|---|---|---|---|---|---|---|---|---|---|---|---|---|---|---|---|---|---|---|\n",
       "| 1     | 2     | 3     | 1     | 40    |  8    | 4     | 1     | 3     | 3     | ⋯     | 0     |   0   |   0   | 0     | 0     | 0     | 0     |     0 |    0  | 0     |\n",
       "| 1     | 2     | 1     | 1     | 83    |  8    | 1     | 1     | 0     | 1     | ⋯     | 0     |   0   |   0   | 0     | 0     | 0     | 0     |     0 |    0  | 0     |\n",
       "| 1     | 2     | 2     | 2     | 44    |  8    | 3     | 2     | 1     | 2     | ⋯     | 0     |   0   |   0   | 0     | 0     | 0     | 0     |     0 |    0  | 0     |\n",
       "| 1     | 2     | 1     | 1     | 48    | 10    | 1     | 1     | 0     | 1     | ⋯     | 0     |   0   |   0   | 0     | 0     | 0     | 0     |     0 |    0  | 0     |\n",
       "| 1     | 2     | 1     | 1     | 75    | 10    | 1     | 1     | 0     | 1     | ⋯     | 0     |   0   |   0   | 0     | 0     | 0     | 0     | 10327 |    0  | 0     |\n",
       "| 1     | 2     | 3     | 1     | 60    |  4    | 8     | 2     | 6     | 7     | ⋯     | 0     | 929   | 929   | 0     | 0     | 0     | 0     |     0 | 1076  | 0     |\n",
       "\n"
      ],
      "text/plain": [
       "  tam_loc est_socio clase_hog sexo_jefe edad_jefe educa_jefe tot_integ hombres\n",
       "1 1       2         3         1         40         8         4         1      \n",
       "2 1       2         1         1         83         8         1         1      \n",
       "3 1       2         2         2         44         8         3         2      \n",
       "4 1       2         1         1         48        10         1         1      \n",
       "5 1       2         1         1         75        10         1         1      \n",
       "6 1       2         3         1         60         4         8         2      \n",
       "  mujeres mayores ⋯ cuota_viv mater_serv material servicio deposito prest_terc\n",
       "1 3       3       ⋯ 0           0          0      0        0        0         \n",
       "2 0       1       ⋯ 0           0          0      0        0        0         \n",
       "3 1       2       ⋯ 0           0          0      0        0        0         \n",
       "4 0       1       ⋯ 0           0          0      0        0        0         \n",
       "5 0       1       ⋯ 0           0          0      0        0        0         \n",
       "6 6       7       ⋯ 0         929        929      0        0        0         \n",
       "  pago_tarje deudas balance otras_erog\n",
       "1 0              0     0    0         \n",
       "2 0              0     0    0         \n",
       "3 0              0     0    0         \n",
       "4 0              0     0    0         \n",
       "5 0          10327     0    0         \n",
       "6 0              0  1076    0         "
      ]
     },
     "metadata": {},
     "output_type": "display_data"
    }
   ],
   "source": [
    "#cargar\n",
    "df <- read.csv(file = file)\n",
    "data <- df\n",
    "head(data)"
   ]
  },
  {
   "cell_type": "code",
   "execution_count": 4,
   "metadata": {},
   "outputs": [
    {
     "data": {
      "text/html": [
       "117"
      ],
      "text/latex": [
       "117"
      ],
      "text/markdown": [
       "117"
      ],
      "text/plain": [
       "[1] 117"
      ]
     },
     "metadata": {},
     "output_type": "display_data"
    }
   ],
   "source": [
    "ncol(data)"
   ]
  },
  {
   "cell_type": "code",
   "execution_count": 5,
   "metadata": {},
   "outputs": [],
   "source": [
    "list_bin = 'sexo_jefe'"
   ]
  },
  {
   "cell_type": "code",
   "execution_count": 6,
   "metadata": {},
   "outputs": [],
   "source": [
    "list_cat = c('tam_loc', 'est_socio', 'clase_hog', 'educa_jefe')"
   ]
  },
  {
   "cell_type": "code",
   "execution_count": 7,
   "metadata": {},
   "outputs": [],
   "source": [
    "list_num = c('edad_jefe','tot_integ', 'hombres', 'mujeres', 'mayores', 'menores', 'p12_64',\n",
    " 'p65mas', 'ocupados', 'percep_ing', 'perc_ocupa', 'ing_cor', 'ingtrab', 'trabajo', 'sueldos',\n",
    " 'horas_extr', 'comisiones', 'aguinaldo', 'indemtrab', 'otra_rem', 'remu_espec', 'negocio',\n",
    " 'noagrop', 'industria', 'comercio', 'servicios', 'agrope', 'agricolas', 'pecuarios', 'otros_trab', 'rentas', 'utilidad', 'arrenda', 'transfer', 'jubilacion', 'becas', 'donativos', 'remesas',\n",
    " 'bene_gob', 'transf_hog', 'trans_inst', 'estim_alqu', 'otros_ing', 'gasto_mon', 'alimentos', 'ali_dentro',\n",
    " 'cereales', 'carnes', 'pescado', 'leche', 'huevo', 'aceites', 'tuberculo', 'verduras', 'frutas', 'azucar', 'cafe', 'especias', 'otros_alim', 'bebidas', 'ali_fuera', 'tabaco',\n",
    " 'vesti_calz', 'vestido', 'calzado', 'vivienda', 'alquiler', 'pred_cons', 'agua', 'energia',\n",
    " 'limpieza', 'cuidados', 'utensilios', 'enseres', 'salud', 'atenc_ambu', 'hospital', 'medicinas', 'transporte',\n",
    " 'publico', 'foraneo', 'adqui_vehi', 'mantenim', 'refaccion', 'combus', 'comunica', 'educa_espa', 'educacion',\n",
    " 'esparci', 'paq_turist', 'personales', 'cuida_pers', 'acces_pers', 'otros_gas', 'transf_gas', 'percep_tot',\n",
    " 'retiro_inv', 'prestamos', 'otras_perc', 'ero_nm_viv', 'ero_nm_hog', 'erogac_tot', 'cuota_viv', 'mater_serv',\n",
    " 'material', 'servicio', 'deposito', 'prest_terc', 'pago_tarje', 'deudas', 'balance', 'otras_erog')"
   ]
  },
  {
   "cell_type": "code",
   "execution_count": null,
   "metadata": {},
   "outputs": [],
   "source": [
    "dist_data <- kmed::distmix(data = data,\n",
    "                           method = \"podani\", \n",
    "                           idnum = list_num, \n",
    "                           idbin = list_bin, \n",
    "                           idcat = list_cat)  "
   ]
  },
  {
   "cell_type": "code",
   "execution_count": null,
   "metadata": {},
   "outputs": [],
   "source": [
    "data <- as.matrix(data)\n",
    "\n",
    "range_k = 2:10\n",
    "dunn_kmeans <- c()\n",
    "set.seed(123)\n",
    "\n",
    "for (k in range_k) {\n",
    "  set.seed(123)\n",
    "  \n",
    "  kmeans <- kmed::fastkmed(distdata = dist_data, ncluster = k, iterate = 50)\n",
    "  \n",
    "  index_internal_kmeans <- clusterCrit::intCriteria(traj = dist_data,\n",
    "                                                    part = as.integer(kmeans$cluster), \n",
    "                                                    crit = \"dunn\")\n",
    "  dunn_kmeans[k-1] <- index_internal_kmeans$dunn\n",
    "}"
   ]
  },
  {
   "cell_type": "code",
   "execution_count": null,
   "metadata": {},
   "outputs": [],
   "source": [
    "max(dunn_kmeans)"
   ]
  },
  {
   "cell_type": "code",
   "execution_count": null,
   "metadata": {},
   "outputs": [],
   "source": [
    "plot_dunn_kmeans <- ggplot2::qplot(x = range_k, \n",
    "                                   y = dunn_kmeans, \n",
    "                                   geom = 'line', \n",
    "                                   main = 'k-means', \n",
    "                                   xlab = 'k', \n",
    "                                   ylab = 'Dunn')\n",
    "\n",
    "ggplotly(\n",
    "    plot_dunn_kmeans  + \n",
    "    theme_bw() + #ylim(0,0.3) + \n",
    "    geom_vline(xintercept = range_k[which.max(dunn_kmeans)],\n",
    "               linetype = 2, color='red')   \n",
    "    )"
   ]
  },
  {
   "cell_type": "code",
   "execution_count": null,
   "metadata": {},
   "outputs": [],
   "source": [
    "kmeans <- kmeans <- kmed::fastkmed(distdata = dist_data, \n",
    "                                   ncluster = range_k[which.max(dunn_kmeans)], \n",
    "                                   iterate = 50)"
   ]
  },
  {
   "cell_type": "code",
   "execution_count": null,
   "metadata": {},
   "outputs": [],
   "source": [
    "plot_kmeans <- factoextra::fviz_cluster(object = list(data = data, \n",
    "                                                      cluster = kmeans$cluster),\n",
    "                                        data = data,\n",
    "                                        stand = F, \n",
    "                                        geom =  'point', \n",
    "                                        ellipse.type = 'convex',\n",
    "                                        ellipse = T,\n",
    "                                        main = paste('k-medoids \"mrw\" k:', range_k[which.max(dunn_kmeans)]),\n",
    "                                        outlier.color = 'black',\n",
    "                                        show.clust.cent = T)\n",
    "\n",
    "ggplotly(\n",
    "    plot_kmeans + \n",
    "    theme_bw() +\n",
    "    theme(legend.position = 'bottom')  \n",
    "    )"
   ]
  }
 ],
 "metadata": {
  "kernelspec": {
   "display_name": "R",
   "language": "R",
   "name": "ir"
  },
  "language_info": {
   "codemirror_mode": "r",
   "file_extension": ".r",
   "mimetype": "text/x-r-source",
   "name": "R",
   "pygments_lexer": "r",
   "version": "3.5.1"
  }
 },
 "nbformat": 4,
 "nbformat_minor": 2
}
