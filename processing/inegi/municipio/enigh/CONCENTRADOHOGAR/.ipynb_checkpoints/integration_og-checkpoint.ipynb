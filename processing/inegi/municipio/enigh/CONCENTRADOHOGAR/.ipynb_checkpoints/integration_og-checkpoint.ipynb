{
 "cells": [
  {
   "cell_type": "code",
   "execution_count": 1,
   "metadata": {},
   "outputs": [],
   "source": [
    "import pandas as pd"
   ]
  },
  {
   "cell_type": "code",
   "execution_count": 2,
   "metadata": {},
   "outputs": [],
   "source": [
    "file = '../../../../../../dataframes/inegi/df_sec_deleg.csv'"
   ]
  },
  {
   "cell_type": "code",
   "execution_count": 3,
   "metadata": {},
   "outputs": [
    {
     "data": {
      "text/html": [
       "<div>\n",
       "<style scoped>\n",
       "    .dataframe tbody tr th:only-of-type {\n",
       "        vertical-align: middle;\n",
       "    }\n",
       "\n",
       "    .dataframe tbody tr th {\n",
       "        vertical-align: top;\n",
       "    }\n",
       "\n",
       "    .dataframe thead th {\n",
       "        text-align: right;\n",
       "    }\n",
       "</style>\n",
       "<table border=\"1\" class=\"dataframe\">\n",
       "  <thead>\n",
       "    <tr style=\"text-align: right;\">\n",
       "      <th></th>\n",
       "      <th>ID</th>\n",
       "      <th>Año</th>\n",
       "      <th>Mes</th>\n",
       "      <th>NOM_MUN</th>\n",
       "      <th>Latitud</th>\n",
       "      <th>Longitud</th>\n",
       "      <th>Geopoint</th>\n",
       "      <th>CVE_MUN</th>\n",
       "    </tr>\n",
       "  </thead>\n",
       "  <tbody>\n",
       "    <tr>\n",
       "      <th>0</th>\n",
       "      <td>5297</td>\n",
       "      <td>2017</td>\n",
       "      <td>Mayo</td>\n",
       "      <td>GUSTAVO A MADERO</td>\n",
       "      <td>19.491553</td>\n",
       "      <td>-99.135001</td>\n",
       "      <td>19.4915532042, -99.1350011476</td>\n",
       "      <td>5</td>\n",
       "    </tr>\n",
       "    <tr>\n",
       "      <th>1</th>\n",
       "      <td>87961</td>\n",
       "      <td>2016</td>\n",
       "      <td>Agosto</td>\n",
       "      <td>GUSTAVO A MADERO</td>\n",
       "      <td>19.497711</td>\n",
       "      <td>-99.113795</td>\n",
       "      <td>19.4977111806, -99.1137954007</td>\n",
       "      <td>5</td>\n",
       "    </tr>\n",
       "    <tr>\n",
       "      <th>2</th>\n",
       "      <td>454115</td>\n",
       "      <td>2016</td>\n",
       "      <td>Abril</td>\n",
       "      <td>GUSTAVO A MADERO</td>\n",
       "      <td>19.465953</td>\n",
       "      <td>-99.119078</td>\n",
       "      <td>19.4659529998, -99.119078</td>\n",
       "      <td>5</td>\n",
       "    </tr>\n",
       "    <tr>\n",
       "      <th>3</th>\n",
       "      <td>541197</td>\n",
       "      <td>2016</td>\n",
       "      <td>Marzo</td>\n",
       "      <td>GUSTAVO A MADERO</td>\n",
       "      <td>19.501905</td>\n",
       "      <td>-99.131572</td>\n",
       "      <td>19.5019049998, -99.131572</td>\n",
       "      <td>5</td>\n",
       "    </tr>\n",
       "    <tr>\n",
       "      <th>4</th>\n",
       "      <td>5435</td>\n",
       "      <td>2016</td>\n",
       "      <td>Julio</td>\n",
       "      <td>CUAUHTEMOC</td>\n",
       "      <td>19.459304</td>\n",
       "      <td>-99.139653</td>\n",
       "      <td>19.4593044259, -99.1396525907</td>\n",
       "      <td>15</td>\n",
       "    </tr>\n",
       "  </tbody>\n",
       "</table>\n",
       "</div>"
      ],
      "text/plain": [
       "       ID   Año     Mes           NOM_MUN    Latitud   Longitud  \\\n",
       "0    5297  2017    Mayo  GUSTAVO A MADERO  19.491553 -99.135001   \n",
       "1   87961  2016  Agosto  GUSTAVO A MADERO  19.497711 -99.113795   \n",
       "2  454115  2016   Abril  GUSTAVO A MADERO  19.465953 -99.119078   \n",
       "3  541197  2016   Marzo  GUSTAVO A MADERO  19.501905 -99.131572   \n",
       "4    5435  2016   Julio        CUAUHTEMOC  19.459304 -99.139653   \n",
       "\n",
       "                        Geopoint  CVE_MUN  \n",
       "0  19.4915532042, -99.1350011476        5  \n",
       "1  19.4977111806, -99.1137954007        5  \n",
       "2      19.4659529998, -99.119078        5  \n",
       "3      19.5019049998, -99.131572        5  \n",
       "4  19.4593044259, -99.1396525907       15  "
      ]
     },
     "execution_count": 3,
     "metadata": {},
     "output_type": "execute_result"
    }
   ],
   "source": [
    "df_sec_deleg = pd.read_csv(file)\n",
    "df_sec_deleg.head()"
   ]
  },
  {
   "cell_type": "markdown",
   "metadata": {},
   "source": [
    "## SECUESTROS"
   ]
  },
  {
   "cell_type": "markdown",
   "metadata": {},
   "source": [
    "aquí lo importantes es el `CVE_MUN`"
   ]
  },
  {
   "cell_type": "code",
   "execution_count": 4,
   "metadata": {},
   "outputs": [],
   "source": [
    "file = '../../../../../../dataframes/inegi/df_sec_deleg.csv'"
   ]
  },
  {
   "cell_type": "code",
   "execution_count": 5,
   "metadata": {},
   "outputs": [
    {
     "data": {
      "text/html": [
       "<div>\n",
       "<style scoped>\n",
       "    .dataframe tbody tr th:only-of-type {\n",
       "        vertical-align: middle;\n",
       "    }\n",
       "\n",
       "    .dataframe tbody tr th {\n",
       "        vertical-align: top;\n",
       "    }\n",
       "\n",
       "    .dataframe thead th {\n",
       "        text-align: right;\n",
       "    }\n",
       "</style>\n",
       "<table border=\"1\" class=\"dataframe\">\n",
       "  <thead>\n",
       "    <tr style=\"text-align: right;\">\n",
       "      <th></th>\n",
       "      <th>ID</th>\n",
       "      <th>Año</th>\n",
       "      <th>Mes</th>\n",
       "      <th>NOM_MUN</th>\n",
       "      <th>Latitud</th>\n",
       "      <th>Longitud</th>\n",
       "      <th>Geopoint</th>\n",
       "      <th>CVE_MUN</th>\n",
       "    </tr>\n",
       "  </thead>\n",
       "  <tbody>\n",
       "    <tr>\n",
       "      <th>0</th>\n",
       "      <td>5297</td>\n",
       "      <td>2017</td>\n",
       "      <td>Mayo</td>\n",
       "      <td>GUSTAVO A MADERO</td>\n",
       "      <td>19.491553</td>\n",
       "      <td>-99.135001</td>\n",
       "      <td>19.4915532042, -99.1350011476</td>\n",
       "      <td>5</td>\n",
       "    </tr>\n",
       "    <tr>\n",
       "      <th>1</th>\n",
       "      <td>87961</td>\n",
       "      <td>2016</td>\n",
       "      <td>Agosto</td>\n",
       "      <td>GUSTAVO A MADERO</td>\n",
       "      <td>19.497711</td>\n",
       "      <td>-99.113795</td>\n",
       "      <td>19.4977111806, -99.1137954007</td>\n",
       "      <td>5</td>\n",
       "    </tr>\n",
       "  </tbody>\n",
       "</table>\n",
       "</div>"
      ],
      "text/plain": [
       "      ID   Año     Mes           NOM_MUN    Latitud   Longitud  \\\n",
       "0   5297  2017    Mayo  GUSTAVO A MADERO  19.491553 -99.135001   \n",
       "1  87961  2016  Agosto  GUSTAVO A MADERO  19.497711 -99.113795   \n",
       "\n",
       "                        Geopoint  CVE_MUN  \n",
       "0  19.4915532042, -99.1350011476        5  \n",
       "1  19.4977111806, -99.1137954007        5  "
      ]
     },
     "execution_count": 5,
     "metadata": {},
     "output_type": "execute_result"
    }
   ],
   "source": [
    "df_sec_deleg = pd.read_csv(file)\n",
    "df_sec_deleg.head(2)"
   ]
  },
  {
   "cell_type": "code",
   "execution_count": 6,
   "metadata": {},
   "outputs": [],
   "source": [
    "df_sec_deleg_copy = df_sec_deleg.copy()"
   ]
  },
  {
   "cell_type": "code",
   "execution_count": 7,
   "metadata": {},
   "outputs": [
    {
     "data": {
      "text/plain": [
       "array([ 5, 15, 13,  7, 16,  4, 14, 12, 10, 17,  3,  6,  9, 11])"
      ]
     },
     "execution_count": 7,
     "metadata": {},
     "output_type": "execute_result"
    }
   ],
   "source": [
    "df_sec_deleg.CVE_MUN.unique()"
   ]
  },
  {
   "cell_type": "code",
   "execution_count": 8,
   "metadata": {},
   "outputs": [],
   "source": [
    "list_delegaciones = list(df_sec_deleg.CVE_MUN.unique())"
   ]
  },
  {
   "cell_type": "markdown",
   "metadata": {},
   "source": [
    "## DATAFRAME WITH `CVE_MUN`"
   ]
  },
  {
   "cell_type": "markdown",
   "metadata": {},
   "source": [
    "aquí lo importantes es el `CVE_MUN`"
   ]
  },
  {
   "cell_type": "code",
   "execution_count": 9,
   "metadata": {},
   "outputs": [],
   "source": [
    "file = '../../../../../../dataframes/enigh/CONCENTRADOHOGAR/mixed/df_09.csv'"
   ]
  },
  {
   "cell_type": "code",
   "execution_count": 10,
   "metadata": {},
   "outputs": [
    {
     "data": {
      "text/html": [
       "<div>\n",
       "<style scoped>\n",
       "    .dataframe tbody tr th:only-of-type {\n",
       "        vertical-align: middle;\n",
       "    }\n",
       "\n",
       "    .dataframe tbody tr th {\n",
       "        vertical-align: top;\n",
       "    }\n",
       "\n",
       "    .dataframe thead th {\n",
       "        text-align: right;\n",
       "    }\n",
       "</style>\n",
       "<table border=\"1\" class=\"dataframe\">\n",
       "  <thead>\n",
       "    <tr style=\"text-align: right;\">\n",
       "      <th></th>\n",
       "      <th>tam_loc</th>\n",
       "      <th>est_socio</th>\n",
       "      <th>clase_hog</th>\n",
       "      <th>sexo_jefe</th>\n",
       "      <th>edad_jefe</th>\n",
       "      <th>educa_jefe</th>\n",
       "      <th>tot_integ</th>\n",
       "      <th>hombres</th>\n",
       "      <th>mujeres</th>\n",
       "      <th>mayores</th>\n",
       "      <th>...</th>\n",
       "      <th>mater_serv</th>\n",
       "      <th>material</th>\n",
       "      <th>servicio</th>\n",
       "      <th>deposito</th>\n",
       "      <th>prest_terc</th>\n",
       "      <th>pago_tarje</th>\n",
       "      <th>deudas</th>\n",
       "      <th>balance</th>\n",
       "      <th>otras_erog</th>\n",
       "      <th>CVE_MUN</th>\n",
       "    </tr>\n",
       "  </thead>\n",
       "  <tbody>\n",
       "    <tr>\n",
       "      <th>0</th>\n",
       "      <td>1</td>\n",
       "      <td>2</td>\n",
       "      <td>3</td>\n",
       "      <td>1</td>\n",
       "      <td>40</td>\n",
       "      <td>8</td>\n",
       "      <td>4</td>\n",
       "      <td>1</td>\n",
       "      <td>3</td>\n",
       "      <td>3</td>\n",
       "      <td>...</td>\n",
       "      <td>0.0</td>\n",
       "      <td>0.0</td>\n",
       "      <td>0.0</td>\n",
       "      <td>0.0</td>\n",
       "      <td>0.0</td>\n",
       "      <td>0.0</td>\n",
       "      <td>0.0</td>\n",
       "      <td>0.0</td>\n",
       "      <td>0.0</td>\n",
       "      <td>2</td>\n",
       "    </tr>\n",
       "    <tr>\n",
       "      <th>1</th>\n",
       "      <td>1</td>\n",
       "      <td>2</td>\n",
       "      <td>1</td>\n",
       "      <td>1</td>\n",
       "      <td>83</td>\n",
       "      <td>8</td>\n",
       "      <td>1</td>\n",
       "      <td>1</td>\n",
       "      <td>0</td>\n",
       "      <td>1</td>\n",
       "      <td>...</td>\n",
       "      <td>0.0</td>\n",
       "      <td>0.0</td>\n",
       "      <td>0.0</td>\n",
       "      <td>0.0</td>\n",
       "      <td>0.0</td>\n",
       "      <td>0.0</td>\n",
       "      <td>0.0</td>\n",
       "      <td>0.0</td>\n",
       "      <td>0.0</td>\n",
       "      <td>2</td>\n",
       "    </tr>\n",
       "  </tbody>\n",
       "</table>\n",
       "<p>2 rows × 120 columns</p>\n",
       "</div>"
      ],
      "text/plain": [
       "   tam_loc  est_socio  clase_hog  sexo_jefe  edad_jefe  educa_jefe  tot_integ  \\\n",
       "0        1          2          3          1         40           8          4   \n",
       "1        1          2          1          1         83           8          1   \n",
       "\n",
       "   hombres  mujeres  mayores  ...  mater_serv  material  servicio  deposito  \\\n",
       "0        1        3        3  ...         0.0       0.0       0.0       0.0   \n",
       "1        1        0        1  ...         0.0       0.0       0.0       0.0   \n",
       "\n",
       "   prest_terc  pago_tarje  deudas  balance  otras_erog  CVE_MUN  \n",
       "0         0.0         0.0     0.0      0.0         0.0        2  \n",
       "1         0.0         0.0     0.0      0.0         0.0        2  \n",
       "\n",
       "[2 rows x 120 columns]"
      ]
     },
     "execution_count": 10,
     "metadata": {},
     "output_type": "execute_result"
    }
   ],
   "source": [
    "df_09 = pd.read_csv(file)\n",
    "df_09.head(2)"
   ]
  },
  {
   "cell_type": "code",
   "execution_count": 11,
   "metadata": {},
   "outputs": [],
   "source": [
    "df_09_copy = df_09.copy()"
   ]
  },
  {
   "cell_type": "code",
   "execution_count": 12,
   "metadata": {},
   "outputs": [
    {
     "data": {
      "text/plain": [
       "(1733, 120)"
      ]
     },
     "execution_count": 12,
     "metadata": {},
     "output_type": "execute_result"
    }
   ],
   "source": [
    "df_09_copy.shape"
   ]
  },
  {
   "cell_type": "markdown",
   "metadata": {},
   "source": [
    "## DATAFRAME OG"
   ]
  },
  {
   "cell_type": "markdown",
   "metadata": {},
   "source": [
    "aquí lo importantes es el `CVE_MUN`"
   ]
  },
  {
   "cell_type": "code",
   "execution_count": 13,
   "metadata": {},
   "outputs": [],
   "source": [
    "file = '../../../../../../dataframes/enigh/CONCENTRADOHOGAR/mixed/df_09_clean.csv'"
   ]
  },
  {
   "cell_type": "code",
   "execution_count": 14,
   "metadata": {},
   "outputs": [
    {
     "data": {
      "text/html": [
       "<div>\n",
       "<style scoped>\n",
       "    .dataframe tbody tr th:only-of-type {\n",
       "        vertical-align: middle;\n",
       "    }\n",
       "\n",
       "    .dataframe tbody tr th {\n",
       "        vertical-align: top;\n",
       "    }\n",
       "\n",
       "    .dataframe thead th {\n",
       "        text-align: right;\n",
       "    }\n",
       "</style>\n",
       "<table border=\"1\" class=\"dataframe\">\n",
       "  <thead>\n",
       "    <tr style=\"text-align: right;\">\n",
       "      <th></th>\n",
       "      <th>tam_loc</th>\n",
       "      <th>est_socio</th>\n",
       "      <th>clase_hog</th>\n",
       "      <th>sexo_jefe</th>\n",
       "      <th>edad_jefe</th>\n",
       "      <th>educa_jefe</th>\n",
       "      <th>tot_integ</th>\n",
       "      <th>hombres</th>\n",
       "      <th>mujeres</th>\n",
       "      <th>mayores</th>\n",
       "      <th>...</th>\n",
       "      <th>cuota_viv</th>\n",
       "      <th>mater_serv</th>\n",
       "      <th>material</th>\n",
       "      <th>servicio</th>\n",
       "      <th>deposito</th>\n",
       "      <th>prest_terc</th>\n",
       "      <th>pago_tarje</th>\n",
       "      <th>deudas</th>\n",
       "      <th>balance</th>\n",
       "      <th>otras_erog</th>\n",
       "    </tr>\n",
       "  </thead>\n",
       "  <tbody>\n",
       "    <tr>\n",
       "      <th>0</th>\n",
       "      <td>1</td>\n",
       "      <td>2</td>\n",
       "      <td>3</td>\n",
       "      <td>1</td>\n",
       "      <td>40</td>\n",
       "      <td>8</td>\n",
       "      <td>4</td>\n",
       "      <td>1</td>\n",
       "      <td>3</td>\n",
       "      <td>3</td>\n",
       "      <td>...</td>\n",
       "      <td>0</td>\n",
       "      <td>0</td>\n",
       "      <td>0</td>\n",
       "      <td>0</td>\n",
       "      <td>0</td>\n",
       "      <td>0</td>\n",
       "      <td>0</td>\n",
       "      <td>0</td>\n",
       "      <td>0</td>\n",
       "      <td>0</td>\n",
       "    </tr>\n",
       "    <tr>\n",
       "      <th>1</th>\n",
       "      <td>1</td>\n",
       "      <td>2</td>\n",
       "      <td>1</td>\n",
       "      <td>1</td>\n",
       "      <td>83</td>\n",
       "      <td>8</td>\n",
       "      <td>1</td>\n",
       "      <td>1</td>\n",
       "      <td>0</td>\n",
       "      <td>1</td>\n",
       "      <td>...</td>\n",
       "      <td>0</td>\n",
       "      <td>0</td>\n",
       "      <td>0</td>\n",
       "      <td>0</td>\n",
       "      <td>0</td>\n",
       "      <td>0</td>\n",
       "      <td>0</td>\n",
       "      <td>0</td>\n",
       "      <td>0</td>\n",
       "      <td>0</td>\n",
       "    </tr>\n",
       "  </tbody>\n",
       "</table>\n",
       "<p>2 rows × 117 columns</p>\n",
       "</div>"
      ],
      "text/plain": [
       "   tam_loc  est_socio  clase_hog  sexo_jefe  edad_jefe  educa_jefe  tot_integ  \\\n",
       "0        1          2          3          1         40           8          4   \n",
       "1        1          2          1          1         83           8          1   \n",
       "\n",
       "   hombres  mujeres  mayores  ...  cuota_viv  mater_serv  material  servicio  \\\n",
       "0        1        3        3  ...          0           0         0         0   \n",
       "1        1        0        1  ...          0           0         0         0   \n",
       "\n",
       "   deposito  prest_terc  pago_tarje  deudas  balance  otras_erog  \n",
       "0         0           0           0       0        0           0  \n",
       "1         0           0           0       0        0           0  \n",
       "\n",
       "[2 rows x 117 columns]"
      ]
     },
     "execution_count": 14,
     "metadata": {},
     "output_type": "execute_result"
    }
   ],
   "source": [
    "df_vect_best_entropy = pd.read_csv(file)\n",
    "df_vect_best_entropy.head(2)"
   ]
  },
  {
   "cell_type": "code",
   "execution_count": 15,
   "metadata": {},
   "outputs": [],
   "source": [
    "df_vect_best_entropy_copy = df_vect_best_entropy.copy()"
   ]
  },
  {
   "cell_type": "code",
   "execution_count": 16,
   "metadata": {},
   "outputs": [
    {
     "data": {
      "text/plain": [
       "(1733, 117)"
      ]
     },
     "execution_count": 16,
     "metadata": {},
     "output_type": "execute_result"
    }
   ],
   "source": [
    "df_vect_best_entropy_copy.shape"
   ]
  },
  {
   "cell_type": "markdown",
   "metadata": {},
   "source": [
    "Extraemos el `CVE_MUN` del data frame `df_09_copy`"
   ]
  },
  {
   "cell_type": "code",
   "execution_count": 17,
   "metadata": {},
   "outputs": [
    {
     "data": {
      "text/html": [
       "<div>\n",
       "<style scoped>\n",
       "    .dataframe tbody tr th:only-of-type {\n",
       "        vertical-align: middle;\n",
       "    }\n",
       "\n",
       "    .dataframe tbody tr th {\n",
       "        vertical-align: top;\n",
       "    }\n",
       "\n",
       "    .dataframe thead th {\n",
       "        text-align: right;\n",
       "    }\n",
       "</style>\n",
       "<table border=\"1\" class=\"dataframe\">\n",
       "  <thead>\n",
       "    <tr style=\"text-align: right;\">\n",
       "      <th></th>\n",
       "      <th>CVE_MUN</th>\n",
       "    </tr>\n",
       "  </thead>\n",
       "  <tbody>\n",
       "    <tr>\n",
       "      <th>0</th>\n",
       "      <td>2</td>\n",
       "    </tr>\n",
       "    <tr>\n",
       "      <th>1</th>\n",
       "      <td>2</td>\n",
       "    </tr>\n",
       "  </tbody>\n",
       "</table>\n",
       "</div>"
      ],
      "text/plain": [
       "   CVE_MUN\n",
       "0        2\n",
       "1        2"
      ]
     },
     "execution_count": 17,
     "metadata": {},
     "output_type": "execute_result"
    }
   ],
   "source": [
    "df_09_copy[['CVE_MUN']].head(2)"
   ]
  },
  {
   "cell_type": "markdown",
   "metadata": {},
   "source": [
    "Se lo ponemos al data frame `df_vect_best_entropy_copy`"
   ]
  },
  {
   "cell_type": "code",
   "execution_count": 18,
   "metadata": {},
   "outputs": [],
   "source": [
    "df_vect_best_entropy_copy['CVE_MUN'] = df_09_copy['CVE_MUN']"
   ]
  },
  {
   "cell_type": "code",
   "execution_count": 19,
   "metadata": {},
   "outputs": [
    {
     "data": {
      "text/html": [
       "<div>\n",
       "<style scoped>\n",
       "    .dataframe tbody tr th:only-of-type {\n",
       "        vertical-align: middle;\n",
       "    }\n",
       "\n",
       "    .dataframe tbody tr th {\n",
       "        vertical-align: top;\n",
       "    }\n",
       "\n",
       "    .dataframe thead th {\n",
       "        text-align: right;\n",
       "    }\n",
       "</style>\n",
       "<table border=\"1\" class=\"dataframe\">\n",
       "  <thead>\n",
       "    <tr style=\"text-align: right;\">\n",
       "      <th></th>\n",
       "      <th>tam_loc</th>\n",
       "      <th>est_socio</th>\n",
       "      <th>clase_hog</th>\n",
       "      <th>sexo_jefe</th>\n",
       "      <th>edad_jefe</th>\n",
       "      <th>educa_jefe</th>\n",
       "      <th>tot_integ</th>\n",
       "      <th>hombres</th>\n",
       "      <th>mujeres</th>\n",
       "      <th>mayores</th>\n",
       "      <th>...</th>\n",
       "      <th>mater_serv</th>\n",
       "      <th>material</th>\n",
       "      <th>servicio</th>\n",
       "      <th>deposito</th>\n",
       "      <th>prest_terc</th>\n",
       "      <th>pago_tarje</th>\n",
       "      <th>deudas</th>\n",
       "      <th>balance</th>\n",
       "      <th>otras_erog</th>\n",
       "      <th>CVE_MUN</th>\n",
       "    </tr>\n",
       "  </thead>\n",
       "  <tbody>\n",
       "    <tr>\n",
       "      <th>0</th>\n",
       "      <td>1</td>\n",
       "      <td>2</td>\n",
       "      <td>3</td>\n",
       "      <td>1</td>\n",
       "      <td>40</td>\n",
       "      <td>8</td>\n",
       "      <td>4</td>\n",
       "      <td>1</td>\n",
       "      <td>3</td>\n",
       "      <td>3</td>\n",
       "      <td>...</td>\n",
       "      <td>0</td>\n",
       "      <td>0</td>\n",
       "      <td>0</td>\n",
       "      <td>0</td>\n",
       "      <td>0</td>\n",
       "      <td>0</td>\n",
       "      <td>0</td>\n",
       "      <td>0</td>\n",
       "      <td>0</td>\n",
       "      <td>2</td>\n",
       "    </tr>\n",
       "    <tr>\n",
       "      <th>1</th>\n",
       "      <td>1</td>\n",
       "      <td>2</td>\n",
       "      <td>1</td>\n",
       "      <td>1</td>\n",
       "      <td>83</td>\n",
       "      <td>8</td>\n",
       "      <td>1</td>\n",
       "      <td>1</td>\n",
       "      <td>0</td>\n",
       "      <td>1</td>\n",
       "      <td>...</td>\n",
       "      <td>0</td>\n",
       "      <td>0</td>\n",
       "      <td>0</td>\n",
       "      <td>0</td>\n",
       "      <td>0</td>\n",
       "      <td>0</td>\n",
       "      <td>0</td>\n",
       "      <td>0</td>\n",
       "      <td>0</td>\n",
       "      <td>2</td>\n",
       "    </tr>\n",
       "  </tbody>\n",
       "</table>\n",
       "<p>2 rows × 118 columns</p>\n",
       "</div>"
      ],
      "text/plain": [
       "   tam_loc  est_socio  clase_hog  sexo_jefe  edad_jefe  educa_jefe  tot_integ  \\\n",
       "0        1          2          3          1         40           8          4   \n",
       "1        1          2          1          1         83           8          1   \n",
       "\n",
       "   hombres  mujeres  mayores  ...  mater_serv  material  servicio  deposito  \\\n",
       "0        1        3        3  ...           0         0         0         0   \n",
       "1        1        0        1  ...           0         0         0         0   \n",
       "\n",
       "   prest_terc  pago_tarje  deudas  balance  otras_erog  CVE_MUN  \n",
       "0           0           0       0        0           0        2  \n",
       "1           0           0       0        0           0        2  \n",
       "\n",
       "[2 rows x 118 columns]"
      ]
     },
     "execution_count": 19,
     "metadata": {},
     "output_type": "execute_result"
    }
   ],
   "source": [
    "df_vect_best_entropy_copy.head(2)"
   ]
  },
  {
   "cell_type": "code",
   "execution_count": 20,
   "metadata": {},
   "outputs": [],
   "source": [
    "list_target = []\n",
    "\n",
    "for key, value in df_vect_best_entropy_copy.CVE_MUN.items():\n",
    "    if df_vect_best_entropy_copy.CVE_MUN.iloc[key] in list_delegaciones:\n",
    "        list_target.append('1')\n",
    "    else:\n",
    "        list_target.append('0')"
   ]
  },
  {
   "cell_type": "code",
   "execution_count": 21,
   "metadata": {},
   "outputs": [],
   "source": [
    "#list_target"
   ]
  },
  {
   "cell_type": "code",
   "execution_count": 22,
   "metadata": {},
   "outputs": [],
   "source": [
    "df_vect_best_entropy_copy['secuestro'] = list_target"
   ]
  },
  {
   "cell_type": "code",
   "execution_count": 23,
   "metadata": {},
   "outputs": [
    {
     "data": {
      "text/html": [
       "<div>\n",
       "<style scoped>\n",
       "    .dataframe tbody tr th:only-of-type {\n",
       "        vertical-align: middle;\n",
       "    }\n",
       "\n",
       "    .dataframe tbody tr th {\n",
       "        vertical-align: top;\n",
       "    }\n",
       "\n",
       "    .dataframe thead th {\n",
       "        text-align: right;\n",
       "    }\n",
       "</style>\n",
       "<table border=\"1\" class=\"dataframe\">\n",
       "  <thead>\n",
       "    <tr style=\"text-align: right;\">\n",
       "      <th></th>\n",
       "      <th>tam_loc</th>\n",
       "      <th>est_socio</th>\n",
       "      <th>clase_hog</th>\n",
       "      <th>sexo_jefe</th>\n",
       "      <th>edad_jefe</th>\n",
       "      <th>educa_jefe</th>\n",
       "      <th>tot_integ</th>\n",
       "      <th>hombres</th>\n",
       "      <th>mujeres</th>\n",
       "      <th>mayores</th>\n",
       "      <th>...</th>\n",
       "      <th>material</th>\n",
       "      <th>servicio</th>\n",
       "      <th>deposito</th>\n",
       "      <th>prest_terc</th>\n",
       "      <th>pago_tarje</th>\n",
       "      <th>deudas</th>\n",
       "      <th>balance</th>\n",
       "      <th>otras_erog</th>\n",
       "      <th>CVE_MUN</th>\n",
       "      <th>secuestro</th>\n",
       "    </tr>\n",
       "  </thead>\n",
       "  <tbody>\n",
       "    <tr>\n",
       "      <th>0</th>\n",
       "      <td>1</td>\n",
       "      <td>2</td>\n",
       "      <td>3</td>\n",
       "      <td>1</td>\n",
       "      <td>40</td>\n",
       "      <td>8</td>\n",
       "      <td>4</td>\n",
       "      <td>1</td>\n",
       "      <td>3</td>\n",
       "      <td>3</td>\n",
       "      <td>...</td>\n",
       "      <td>0</td>\n",
       "      <td>0</td>\n",
       "      <td>0</td>\n",
       "      <td>0</td>\n",
       "      <td>0</td>\n",
       "      <td>0</td>\n",
       "      <td>0</td>\n",
       "      <td>0</td>\n",
       "      <td>2</td>\n",
       "      <td>0</td>\n",
       "    </tr>\n",
       "    <tr>\n",
       "      <th>1</th>\n",
       "      <td>1</td>\n",
       "      <td>2</td>\n",
       "      <td>1</td>\n",
       "      <td>1</td>\n",
       "      <td>83</td>\n",
       "      <td>8</td>\n",
       "      <td>1</td>\n",
       "      <td>1</td>\n",
       "      <td>0</td>\n",
       "      <td>1</td>\n",
       "      <td>...</td>\n",
       "      <td>0</td>\n",
       "      <td>0</td>\n",
       "      <td>0</td>\n",
       "      <td>0</td>\n",
       "      <td>0</td>\n",
       "      <td>0</td>\n",
       "      <td>0</td>\n",
       "      <td>0</td>\n",
       "      <td>2</td>\n",
       "      <td>0</td>\n",
       "    </tr>\n",
       "  </tbody>\n",
       "</table>\n",
       "<p>2 rows × 119 columns</p>\n",
       "</div>"
      ],
      "text/plain": [
       "   tam_loc  est_socio  clase_hog  sexo_jefe  edad_jefe  educa_jefe  tot_integ  \\\n",
       "0        1          2          3          1         40           8          4   \n",
       "1        1          2          1          1         83           8          1   \n",
       "\n",
       "   hombres  mujeres  mayores  ...  material  servicio  deposito  prest_terc  \\\n",
       "0        1        3        3  ...         0         0         0           0   \n",
       "1        1        0        1  ...         0         0         0           0   \n",
       "\n",
       "   pago_tarje  deudas  balance  otras_erog  CVE_MUN  secuestro  \n",
       "0           0       0        0           0        2          0  \n",
       "1           0       0        0           0        2          0  \n",
       "\n",
       "[2 rows x 119 columns]"
      ]
     },
     "execution_count": 23,
     "metadata": {},
     "output_type": "execute_result"
    }
   ],
   "source": [
    "df_vect_best_entropy_copy.head(2)"
   ]
  },
  {
   "cell_type": "code",
   "execution_count": 24,
   "metadata": {},
   "outputs": [],
   "source": [
    "file = '../../../../../../dataframes/enigh/CONCENTRADOHOGAR/mixed/df_integration_og.csv'"
   ]
  },
  {
   "cell_type": "code",
   "execution_count": 25,
   "metadata": {},
   "outputs": [],
   "source": [
    "df_vect_best_entropy_copy.to_csv(path_or_buf=file, index=False)"
   ]
  },
  {
   "cell_type": "code",
   "execution_count": null,
   "metadata": {},
   "outputs": [],
   "source": []
  }
 ],
 "metadata": {
  "kernelspec": {
   "display_name": "Python 3",
   "language": "python",
   "name": "python3"
  },
  "language_info": {
   "codemirror_mode": {
    "name": "ipython",
    "version": 3
   },
   "file_extension": ".py",
   "mimetype": "text/x-python",
   "name": "python",
   "nbconvert_exporter": "python",
   "pygments_lexer": "ipython3",
   "version": "3.7.2"
  }
 },
 "nbformat": 4,
 "nbformat_minor": 2
}
