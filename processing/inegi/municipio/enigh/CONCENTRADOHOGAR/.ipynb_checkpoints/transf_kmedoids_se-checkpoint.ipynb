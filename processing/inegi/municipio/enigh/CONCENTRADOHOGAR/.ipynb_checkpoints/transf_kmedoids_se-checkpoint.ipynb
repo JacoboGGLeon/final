{
 "cells": [
  {
   "cell_type": "code",
   "execution_count": 1,
   "metadata": {},
   "outputs": [
    {
     "name": "stderr",
     "output_type": "stream",
     "text": [
      "Loading required package: spatstat\n",
      "Loading required package: spatstat.data\n",
      "Loading required package: nlme\n",
      "Loading required package: rpart\n",
      "\n",
      "spatstat 1.58-2       (nickname: ‘Not Even Wrong’) \n",
      "For an introduction to spatstat, type ‘beginner’ \n",
      "\n",
      "Welcome! Related Books: `Practical Guide To Cluster Analysis in R` at https://goo.gl/13EFCZ\n",
      "\n",
      "Attaching package: ‘plotly’\n",
      "\n",
      "The following object is masked from ‘package:ggplot2’:\n",
      "\n",
      "    last_plot\n",
      "\n",
      "The following object is masked from ‘package:stats’:\n",
      "\n",
      "    filter\n",
      "\n",
      "The following object is masked from ‘package:graphics’:\n",
      "\n",
      "    layout\n",
      "\n"
     ]
    }
   ],
   "source": [
    "library(SpatEntropy)\n",
    "library(ggplot2)\n",
    "library(stats)\n",
    "library(factoextra)\n",
    "library(clusterCrit)\n",
    "library(scatterplot3d)\n",
    "library(kmed)\n",
    "library(plotly)\n"
   ]
  },
  {
   "cell_type": "code",
   "execution_count": 2,
   "metadata": {},
   "outputs": [],
   "source": [
    "file = '../../../../../../dataframes/enigh/CONCENTRADOHOGAR/mixed/df_transform_cat_to_num.csv'\n"
   ]
  },
  {
   "cell_type": "code",
   "execution_count": 3,
   "metadata": {},
   "outputs": [
    {
     "data": {
      "text/html": [
       "<table>\n",
       "<thead><tr><th scope=col>tam_loc</th><th scope=col>est_socio</th><th scope=col>clase_hog</th><th scope=col>sexo_jefe</th><th scope=col>edad_jefe</th><th scope=col>educa_jefe</th><th scope=col>tot_integ</th><th scope=col>hombres</th><th scope=col>mujeres</th><th scope=col>mayores</th><th scope=col>⋯</th><th scope=col>cuota_viv</th><th scope=col>mater_serv</th><th scope=col>material</th><th scope=col>servicio</th><th scope=col>deposito</th><th scope=col>prest_terc</th><th scope=col>pago_tarje</th><th scope=col>deudas</th><th scope=col>balance</th><th scope=col>otras_erog</th></tr></thead>\n",
       "<tbody>\n",
       "\t<tr><td>0.9607617  </td><td>0.4148875  </td><td>0.9873053  </td><td>0.6560877  </td><td>0.2820513  </td><td>0.7184074  </td><td>0.2000000  </td><td>0.09090909 </td><td>0.4285714  </td><td>0.2        </td><td>⋯          </td><td>0          </td><td>0.000000000</td><td>0.00000000 </td><td>0          </td><td>0          </td><td>0          </td><td>0          </td><td>0.0000000  </td><td>0.000000000</td><td>0          </td></tr>\n",
       "\t<tr><td>0.9607617  </td><td>0.4148875  </td><td>0.1598384  </td><td>0.6560877  </td><td>0.8333333  </td><td>0.7184074  </td><td>0.0000000  </td><td>0.09090909 </td><td>0.0000000  </td><td>0.0        </td><td>⋯          </td><td>0          </td><td>0.000000000</td><td>0.00000000 </td><td>0          </td><td>0          </td><td>0          </td><td>0          </td><td>0.0000000  </td><td>0.000000000</td><td>0          </td></tr>\n",
       "\t<tr><td>0.9607617  </td><td>0.4148875  </td><td>0.7362954  </td><td>1.0000000  </td><td>0.3333333  </td><td>0.7184074  </td><td>0.1333333  </td><td>0.18181818 </td><td>0.1428571  </td><td>0.1        </td><td>⋯          </td><td>0          </td><td>0.000000000</td><td>0.00000000 </td><td>0          </td><td>0          </td><td>0          </td><td>0          </td><td>0.0000000  </td><td>0.000000000</td><td>0          </td></tr>\n",
       "\t<tr><td>0.9607617  </td><td>0.4148875  </td><td>0.1598384  </td><td>0.6560877  </td><td>0.3846154  </td><td>0.9434507  </td><td>0.0000000  </td><td>0.09090909 </td><td>0.0000000  </td><td>0.0        </td><td>⋯          </td><td>0          </td><td>0.000000000</td><td>0.00000000 </td><td>0          </td><td>0          </td><td>0          </td><td>0          </td><td>0.0000000  </td><td>0.000000000</td><td>0          </td></tr>\n",
       "\t<tr><td>0.9607617  </td><td>0.4148875  </td><td>0.1598384  </td><td>0.6560877  </td><td>0.7307692  </td><td>0.9434507  </td><td>0.0000000  </td><td>0.09090909 </td><td>0.0000000  </td><td>0.0        </td><td>⋯          </td><td>0          </td><td>0.000000000</td><td>0.00000000 </td><td>0          </td><td>0          </td><td>0          </td><td>0          </td><td>0.2199293  </td><td>0.000000000</td><td>0          </td></tr>\n",
       "\t<tr><td>0.9607617  </td><td>0.4148875  </td><td>0.9873053  </td><td>0.6560877  </td><td>0.5384615  </td><td>0.2371610  </td><td>0.4666667  </td><td>0.18181818 </td><td>0.8571429  </td><td>0.6        </td><td>⋯          </td><td>0          </td><td>0.009047614</td><td>0.02041893 </td><td>0          </td><td>0          </td><td>0          </td><td>0          </td><td>0.0000000  </td><td>0.008660727</td><td>0          </td></tr>\n",
       "</tbody>\n",
       "</table>\n"
      ],
      "text/latex": [
       "\\begin{tabular}{r|lllllllllllllllllllllllllllllllllllllllllllllllllllllllllllllllllllllllllllllllllllllllllllllllllllllllllllllllllllll}\n",
       " tam\\_loc & est\\_socio & clase\\_hog & sexo\\_jefe & edad\\_jefe & educa\\_jefe & tot\\_integ & hombres & mujeres & mayores & ⋯ & cuota\\_viv & mater\\_serv & material & servicio & deposito & prest\\_terc & pago\\_tarje & deudas & balance & otras\\_erog\\\\\n",
       "\\hline\n",
       "\t 0.9607617   & 0.4148875   & 0.9873053   & 0.6560877   & 0.2820513   & 0.7184074   & 0.2000000   & 0.09090909  & 0.4285714   & 0.2         & ⋯           & 0           & 0.000000000 & 0.00000000  & 0           & 0           & 0           & 0           & 0.0000000   & 0.000000000 & 0          \\\\\n",
       "\t 0.9607617   & 0.4148875   & 0.1598384   & 0.6560877   & 0.8333333   & 0.7184074   & 0.0000000   & 0.09090909  & 0.0000000   & 0.0         & ⋯           & 0           & 0.000000000 & 0.00000000  & 0           & 0           & 0           & 0           & 0.0000000   & 0.000000000 & 0          \\\\\n",
       "\t 0.9607617   & 0.4148875   & 0.7362954   & 1.0000000   & 0.3333333   & 0.7184074   & 0.1333333   & 0.18181818  & 0.1428571   & 0.1         & ⋯           & 0           & 0.000000000 & 0.00000000  & 0           & 0           & 0           & 0           & 0.0000000   & 0.000000000 & 0          \\\\\n",
       "\t 0.9607617   & 0.4148875   & 0.1598384   & 0.6560877   & 0.3846154   & 0.9434507   & 0.0000000   & 0.09090909  & 0.0000000   & 0.0         & ⋯           & 0           & 0.000000000 & 0.00000000  & 0           & 0           & 0           & 0           & 0.0000000   & 0.000000000 & 0          \\\\\n",
       "\t 0.9607617   & 0.4148875   & 0.1598384   & 0.6560877   & 0.7307692   & 0.9434507   & 0.0000000   & 0.09090909  & 0.0000000   & 0.0         & ⋯           & 0           & 0.000000000 & 0.00000000  & 0           & 0           & 0           & 0           & 0.2199293   & 0.000000000 & 0          \\\\\n",
       "\t 0.9607617   & 0.4148875   & 0.9873053   & 0.6560877   & 0.5384615   & 0.2371610   & 0.4666667   & 0.18181818  & 0.8571429   & 0.6         & ⋯           & 0           & 0.009047614 & 0.02041893  & 0           & 0           & 0           & 0           & 0.0000000   & 0.008660727 & 0          \\\\\n",
       "\\end{tabular}\n"
      ],
      "text/markdown": [
       "\n",
       "| tam_loc | est_socio | clase_hog | sexo_jefe | edad_jefe | educa_jefe | tot_integ | hombres | mujeres | mayores | ⋯ | cuota_viv | mater_serv | material | servicio | deposito | prest_terc | pago_tarje | deudas | balance | otras_erog |\n",
       "|---|---|---|---|---|---|---|---|---|---|---|---|---|---|---|---|---|---|---|---|---|\n",
       "| 0.9607617   | 0.4148875   | 0.9873053   | 0.6560877   | 0.2820513   | 0.7184074   | 0.2000000   | 0.09090909  | 0.4285714   | 0.2         | ⋯           | 0           | 0.000000000 | 0.00000000  | 0           | 0           | 0           | 0           | 0.0000000   | 0.000000000 | 0           |\n",
       "| 0.9607617   | 0.4148875   | 0.1598384   | 0.6560877   | 0.8333333   | 0.7184074   | 0.0000000   | 0.09090909  | 0.0000000   | 0.0         | ⋯           | 0           | 0.000000000 | 0.00000000  | 0           | 0           | 0           | 0           | 0.0000000   | 0.000000000 | 0           |\n",
       "| 0.9607617   | 0.4148875   | 0.7362954   | 1.0000000   | 0.3333333   | 0.7184074   | 0.1333333   | 0.18181818  | 0.1428571   | 0.1         | ⋯           | 0           | 0.000000000 | 0.00000000  | 0           | 0           | 0           | 0           | 0.0000000   | 0.000000000 | 0           |\n",
       "| 0.9607617   | 0.4148875   | 0.1598384   | 0.6560877   | 0.3846154   | 0.9434507   | 0.0000000   | 0.09090909  | 0.0000000   | 0.0         | ⋯           | 0           | 0.000000000 | 0.00000000  | 0           | 0           | 0           | 0           | 0.0000000   | 0.000000000 | 0           |\n",
       "| 0.9607617   | 0.4148875   | 0.1598384   | 0.6560877   | 0.7307692   | 0.9434507   | 0.0000000   | 0.09090909  | 0.0000000   | 0.0         | ⋯           | 0           | 0.000000000 | 0.00000000  | 0           | 0           | 0           | 0           | 0.2199293   | 0.000000000 | 0           |\n",
       "| 0.9607617   | 0.4148875   | 0.9873053   | 0.6560877   | 0.5384615   | 0.2371610   | 0.4666667   | 0.18181818  | 0.8571429   | 0.6         | ⋯           | 0           | 0.009047614 | 0.02041893  | 0           | 0           | 0           | 0           | 0.0000000   | 0.008660727 | 0           |\n",
       "\n"
      ],
      "text/plain": [
       "  tam_loc   est_socio clase_hog sexo_jefe edad_jefe educa_jefe tot_integ\n",
       "1 0.9607617 0.4148875 0.9873053 0.6560877 0.2820513 0.7184074  0.2000000\n",
       "2 0.9607617 0.4148875 0.1598384 0.6560877 0.8333333 0.7184074  0.0000000\n",
       "3 0.9607617 0.4148875 0.7362954 1.0000000 0.3333333 0.7184074  0.1333333\n",
       "4 0.9607617 0.4148875 0.1598384 0.6560877 0.3846154 0.9434507  0.0000000\n",
       "5 0.9607617 0.4148875 0.1598384 0.6560877 0.7307692 0.9434507  0.0000000\n",
       "6 0.9607617 0.4148875 0.9873053 0.6560877 0.5384615 0.2371610  0.4666667\n",
       "  hombres    mujeres   mayores ⋯ cuota_viv mater_serv  material   servicio\n",
       "1 0.09090909 0.4285714 0.2     ⋯ 0         0.000000000 0.00000000 0       \n",
       "2 0.09090909 0.0000000 0.0     ⋯ 0         0.000000000 0.00000000 0       \n",
       "3 0.18181818 0.1428571 0.1     ⋯ 0         0.000000000 0.00000000 0       \n",
       "4 0.09090909 0.0000000 0.0     ⋯ 0         0.000000000 0.00000000 0       \n",
       "5 0.09090909 0.0000000 0.0     ⋯ 0         0.000000000 0.00000000 0       \n",
       "6 0.18181818 0.8571429 0.6     ⋯ 0         0.009047614 0.02041893 0       \n",
       "  deposito prest_terc pago_tarje deudas    balance     otras_erog\n",
       "1 0        0          0          0.0000000 0.000000000 0         \n",
       "2 0        0          0          0.0000000 0.000000000 0         \n",
       "3 0        0          0          0.0000000 0.000000000 0         \n",
       "4 0        0          0          0.0000000 0.000000000 0         \n",
       "5 0        0          0          0.2199293 0.000000000 0         \n",
       "6 0        0          0          0.0000000 0.008660727 0         "
      ]
     },
     "metadata": {},
     "output_type": "display_data"
    }
   ],
   "source": [
    "#cargar\n",
    "df <- read.csv(file = file)\n",
    "data <- df\n",
    "head(data)"
   ]
  },
  {
   "cell_type": "code",
   "execution_count": 4,
   "metadata": {},
   "outputs": [
    {
     "data": {
      "text/html": [
       "117"
      ],
      "text/latex": [
       "117"
      ],
      "text/markdown": [
       "117"
      ],
      "text/plain": [
       "[1] 117"
      ]
     },
     "metadata": {},
     "output_type": "display_data"
    }
   ],
   "source": [
    "ncol(data)"
   ]
  },
  {
   "cell_type": "code",
   "execution_count": 5,
   "metadata": {},
   "outputs": [],
   "source": [
    "dist_data <- kmed::distNumeric(x = as.matrix(data), \n",
    "                               y = as.matrix(data),\n",
    "                               method = \"se\")                   "
   ]
  },
  {
   "cell_type": "code",
   "execution_count": null,
   "metadata": {},
   "outputs": [],
   "source": [
    "data <- as.matrix(data)\n",
    "\n",
    "range_k = 2:10\n",
    "dunn_kmeans <- c()\n",
    "set.seed(123)\n",
    "\n",
    "for (k in range_k) {\n",
    "  set.seed(123)\n",
    "  \n",
    "  kmeans <- kmed::fastkmed(distdata = dist_data, ncluster = k, iterate = 50)\n",
    "  \n",
    "  index_internal_kmeans <- clusterCrit::intCriteria(traj = dist_data,\n",
    "                                                    part = as.integer(kmeans$cluster), \n",
    "                                                    crit = \"dunn\")\n",
    "  dunn_kmeans[k-1] <- index_internal_kmeans$dunn\n",
    "}"
   ]
  },
  {
   "cell_type": "code",
   "execution_count": null,
   "metadata": {},
   "outputs": [],
   "source": [
    "max(dunn_kmeans)"
   ]
  },
  {
   "cell_type": "code",
   "execution_count": null,
   "metadata": {},
   "outputs": [],
   "source": [
    "plot_dunn_kmeans <- ggplot2::qplot(x = range_k, \n",
    "                                   y = dunn_kmeans, \n",
    "                                   geom = 'line', \n",
    "                                   main = 'k-medoids', \n",
    "                                   xlab = 'k', \n",
    "                                   ylab = 'Dunn')\n",
    "\n",
    "ggplotly(\n",
    "    plot_dunn_kmeans  + \n",
    "    theme_bw() + #ylim(0,0.3) + \n",
    "    geom_vline(xintercept = range_k[which.max(dunn_kmeans)],\n",
    "               linetype = 2, color='red')   \n",
    "    )"
   ]
  },
  {
   "cell_type": "code",
   "execution_count": null,
   "metadata": {},
   "outputs": [],
   "source": [
    "kmeans <- kmeans <- kmed::fastkmed(distdata = dist_data, \n",
    "                                   ncluster = range_k[which.max(dunn_kmeans)], \n",
    "                                   iterate = 50)"
   ]
  },
  {
   "cell_type": "code",
   "execution_count": null,
   "metadata": {},
   "outputs": [],
   "source": [
    "plot_kmeans <- factoextra::fviz_cluster(object = list(data = data, \n",
    "                                                      cluster = kmeans$cluster),\n",
    "                                        data = data,\n",
    "                                        stand = F, \n",
    "                                        geom =  'point', \n",
    "                                        ellipse.type = 'convex',\n",
    "                                        ellipse = T,\n",
    "                                        main = paste('k-medoids \"sev\" k:', range_k[which.max(dunn_kmeans)]),\n",
    "                                        outlier.color = 'black',\n",
    "                                        show.clust.cent = T)\n",
    "\n",
    "ggplotly(\n",
    "    plot_kmeans + \n",
    "    theme_bw() +\n",
    "    theme(legend.position = 'bottom')  \n",
    "    )"
   ]
  },
  {
   "cell_type": "code",
   "execution_count": null,
   "metadata": {},
   "outputs": [],
   "source": []
  }
 ],
 "metadata": {
  "kernelspec": {
   "display_name": "R",
   "language": "R",
   "name": "ir"
  },
  "language_info": {
   "codemirror_mode": "r",
   "file_extension": ".r",
   "mimetype": "text/x-r-source",
   "name": "R",
   "pygments_lexer": "r",
   "version": "3.5.1"
  }
 },
 "nbformat": 4,
 "nbformat_minor": 2
}
