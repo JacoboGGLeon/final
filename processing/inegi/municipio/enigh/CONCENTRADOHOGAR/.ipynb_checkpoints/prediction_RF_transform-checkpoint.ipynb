{
 "cells": [
  {
   "cell_type": "code",
   "execution_count": 1,
   "metadata": {},
   "outputs": [],
   "source": [
    "import pandas as pd"
   ]
  },
  {
   "cell_type": "code",
   "execution_count": 85,
   "metadata": {},
   "outputs": [],
   "source": [
    "from sklearn.model_selection import train_test_split\n",
    "from sklearn.preprocessing import MinMaxScaler\n",
    "from sklearn.metrics import classification_report\n",
    "from sklearn.metrics import confusion_matrix"
   ]
  },
  {
   "cell_type": "code",
   "execution_count": 45,
   "metadata": {},
   "outputs": [],
   "source": [
    "file = '../../../../../../dataframes/enigh/CONCENTRADOHOGAR/mixed/df_integration_transform.csv'"
   ]
  },
  {
   "cell_type": "code",
   "execution_count": 46,
   "metadata": {},
   "outputs": [
    {
     "data": {
      "text/html": [
       "<div>\n",
       "<style scoped>\n",
       "    .dataframe tbody tr th:only-of-type {\n",
       "        vertical-align: middle;\n",
       "    }\n",
       "\n",
       "    .dataframe tbody tr th {\n",
       "        vertical-align: top;\n",
       "    }\n",
       "\n",
       "    .dataframe thead th {\n",
       "        text-align: right;\n",
       "    }\n",
       "</style>\n",
       "<table border=\"1\" class=\"dataframe\">\n",
       "  <thead>\n",
       "    <tr style=\"text-align: right;\">\n",
       "      <th></th>\n",
       "      <th>ing_cor</th>\n",
       "      <th>gasto_mon</th>\n",
       "      <th>transporte</th>\n",
       "      <th>vivienda</th>\n",
       "      <th>alimentos</th>\n",
       "      <th>personales</th>\n",
       "      <th>ali_dentro</th>\n",
       "      <th>cuida_pers</th>\n",
       "      <th>limpieza</th>\n",
       "      <th>ingtrab</th>\n",
       "      <th>...</th>\n",
       "      <th>atenc_ambu</th>\n",
       "      <th>tuberculo</th>\n",
       "      <th>otros_gas</th>\n",
       "      <th>ero_nm_hog</th>\n",
       "      <th>transf_hog</th>\n",
       "      <th>trans_inst</th>\n",
       "      <th>combus</th>\n",
       "      <th>bene_gob</th>\n",
       "      <th>CVE_MUN</th>\n",
       "      <th>secuestro</th>\n",
       "    </tr>\n",
       "  </thead>\n",
       "  <tbody>\n",
       "    <tr>\n",
       "      <th>0</th>\n",
       "      <td>0.057666</td>\n",
       "      <td>0.020397</td>\n",
       "      <td>0.011968</td>\n",
       "      <td>0.017172</td>\n",
       "      <td>0.023574</td>\n",
       "      <td>0.032725</td>\n",
       "      <td>0.130576</td>\n",
       "      <td>0.115601</td>\n",
       "      <td>0.015928</td>\n",
       "      <td>0.056004</td>\n",
       "      <td>...</td>\n",
       "      <td>0.0</td>\n",
       "      <td>0.000000</td>\n",
       "      <td>0.0</td>\n",
       "      <td>0.125519</td>\n",
       "      <td>0.0</td>\n",
       "      <td>0.000000</td>\n",
       "      <td>0.0</td>\n",
       "      <td>0.000000</td>\n",
       "      <td>2</td>\n",
       "      <td>0</td>\n",
       "    </tr>\n",
       "    <tr>\n",
       "      <th>1</th>\n",
       "      <td>0.036192</td>\n",
       "      <td>0.014779</td>\n",
       "      <td>0.008422</td>\n",
       "      <td>0.019894</td>\n",
       "      <td>0.026646</td>\n",
       "      <td>0.017274</td>\n",
       "      <td>0.139914</td>\n",
       "      <td>0.061021</td>\n",
       "      <td>0.019411</td>\n",
       "      <td>0.000000</td>\n",
       "      <td>...</td>\n",
       "      <td>0.0</td>\n",
       "      <td>0.206057</td>\n",
       "      <td>0.0</td>\n",
       "      <td>0.007835</td>\n",
       "      <td>0.0</td>\n",
       "      <td>0.010949</td>\n",
       "      <td>0.0</td>\n",
       "      <td>0.245438</td>\n",
       "      <td>2</td>\n",
       "      <td>0</td>\n",
       "    </tr>\n",
       "  </tbody>\n",
       "</table>\n",
       "<p>2 rows × 52 columns</p>\n",
       "</div>"
      ],
      "text/plain": [
       "    ing_cor  gasto_mon  transporte  vivienda  alimentos  personales  \\\n",
       "0  0.057666   0.020397    0.011968  0.017172   0.023574    0.032725   \n",
       "1  0.036192   0.014779    0.008422  0.019894   0.026646    0.017274   \n",
       "\n",
       "   ali_dentro  cuida_pers  limpieza   ingtrab  ...  atenc_ambu  tuberculo  \\\n",
       "0    0.130576    0.115601  0.015928  0.056004  ...         0.0   0.000000   \n",
       "1    0.139914    0.061021  0.019411  0.000000  ...         0.0   0.206057   \n",
       "\n",
       "   otros_gas  ero_nm_hog  transf_hog  trans_inst  combus  bene_gob  CVE_MUN  \\\n",
       "0        0.0    0.125519         0.0    0.000000     0.0  0.000000        2   \n",
       "1        0.0    0.007835         0.0    0.010949     0.0  0.245438        2   \n",
       "\n",
       "   secuestro  \n",
       "0          0  \n",
       "1          0  \n",
       "\n",
       "[2 rows x 52 columns]"
      ]
     },
     "execution_count": 46,
     "metadata": {},
     "output_type": "execute_result"
    }
   ],
   "source": [
    "df_09 = pd.read_csv(file)\n",
    "df_09.head(2)"
   ]
  },
  {
   "cell_type": "code",
   "execution_count": 4,
   "metadata": {},
   "outputs": [],
   "source": [
    "df_09_copy = df_09.copy()"
   ]
  },
  {
   "cell_type": "code",
   "execution_count": 5,
   "metadata": {},
   "outputs": [],
   "source": [
    "df_09_copy.drop(labels=['CVE_MUN'], axis=1, inplace=True)"
   ]
  },
  {
   "cell_type": "markdown",
   "metadata": {},
   "source": [
    "## RANDOM FOREST"
   ]
  },
  {
   "cell_type": "code",
   "execution_count": 8,
   "metadata": {},
   "outputs": [],
   "source": [
    "from sklearn.ensemble import RandomForestClassifier\n",
    "from sklearn.model_selection import train_test_split"
   ]
  },
  {
   "cell_type": "code",
   "execution_count": 29,
   "metadata": {},
   "outputs": [
    {
     "data": {
      "text/html": [
       "<div>\n",
       "<style scoped>\n",
       "    .dataframe tbody tr th:only-of-type {\n",
       "        vertical-align: middle;\n",
       "    }\n",
       "\n",
       "    .dataframe tbody tr th {\n",
       "        vertical-align: top;\n",
       "    }\n",
       "\n",
       "    .dataframe thead th {\n",
       "        text-align: right;\n",
       "    }\n",
       "</style>\n",
       "<table border=\"1\" class=\"dataframe\">\n",
       "  <thead>\n",
       "    <tr style=\"text-align: right;\">\n",
       "      <th></th>\n",
       "      <th>ing_cor</th>\n",
       "      <th>gasto_mon</th>\n",
       "      <th>transporte</th>\n",
       "      <th>vivienda</th>\n",
       "      <th>alimentos</th>\n",
       "      <th>personales</th>\n",
       "      <th>ali_dentro</th>\n",
       "      <th>cuida_pers</th>\n",
       "      <th>limpieza</th>\n",
       "      <th>ingtrab</th>\n",
       "      <th>...</th>\n",
       "      <th>percep_tot</th>\n",
       "      <th>mantenim</th>\n",
       "      <th>atenc_ambu</th>\n",
       "      <th>tuberculo</th>\n",
       "      <th>otros_gas</th>\n",
       "      <th>ero_nm_hog</th>\n",
       "      <th>transf_hog</th>\n",
       "      <th>trans_inst</th>\n",
       "      <th>combus</th>\n",
       "      <th>bene_gob</th>\n",
       "    </tr>\n",
       "  </thead>\n",
       "  <tbody>\n",
       "    <tr>\n",
       "      <th>0</th>\n",
       "      <td>0.057666</td>\n",
       "      <td>0.020397</td>\n",
       "      <td>0.011968</td>\n",
       "      <td>0.017172</td>\n",
       "      <td>0.023574</td>\n",
       "      <td>0.032725</td>\n",
       "      <td>0.130576</td>\n",
       "      <td>0.115601</td>\n",
       "      <td>0.015928</td>\n",
       "      <td>0.056004</td>\n",
       "      <td>...</td>\n",
       "      <td>0.062676</td>\n",
       "      <td>0.0</td>\n",
       "      <td>0.0</td>\n",
       "      <td>0.000000</td>\n",
       "      <td>0.0</td>\n",
       "      <td>0.125519</td>\n",
       "      <td>0.0</td>\n",
       "      <td>0.000000</td>\n",
       "      <td>0.0</td>\n",
       "      <td>0.000000</td>\n",
       "    </tr>\n",
       "    <tr>\n",
       "      <th>1</th>\n",
       "      <td>0.036192</td>\n",
       "      <td>0.014779</td>\n",
       "      <td>0.008422</td>\n",
       "      <td>0.019894</td>\n",
       "      <td>0.026646</td>\n",
       "      <td>0.017274</td>\n",
       "      <td>0.139914</td>\n",
       "      <td>0.061021</td>\n",
       "      <td>0.019411</td>\n",
       "      <td>0.000000</td>\n",
       "      <td>...</td>\n",
       "      <td>0.003912</td>\n",
       "      <td>0.0</td>\n",
       "      <td>0.0</td>\n",
       "      <td>0.206057</td>\n",
       "      <td>0.0</td>\n",
       "      <td>0.007835</td>\n",
       "      <td>0.0</td>\n",
       "      <td>0.010949</td>\n",
       "      <td>0.0</td>\n",
       "      <td>0.245438</td>\n",
       "    </tr>\n",
       "  </tbody>\n",
       "</table>\n",
       "<p>2 rows × 50 columns</p>\n",
       "</div>"
      ],
      "text/plain": [
       "    ing_cor  gasto_mon  transporte  vivienda  alimentos  personales  \\\n",
       "0  0.057666   0.020397    0.011968  0.017172   0.023574    0.032725   \n",
       "1  0.036192   0.014779    0.008422  0.019894   0.026646    0.017274   \n",
       "\n",
       "   ali_dentro  cuida_pers  limpieza   ingtrab  ...  percep_tot  mantenim  \\\n",
       "0    0.130576    0.115601  0.015928  0.056004  ...    0.062676       0.0   \n",
       "1    0.139914    0.061021  0.019411  0.000000  ...    0.003912       0.0   \n",
       "\n",
       "   atenc_ambu  tuberculo  otros_gas  ero_nm_hog  transf_hog  trans_inst  \\\n",
       "0         0.0   0.000000        0.0    0.125519         0.0    0.000000   \n",
       "1         0.0   0.206057        0.0    0.007835         0.0    0.010949   \n",
       "\n",
       "   combus  bene_gob  \n",
       "0     0.0  0.000000  \n",
       "1     0.0  0.245438  \n",
       "\n",
       "[2 rows x 50 columns]"
      ]
     },
     "execution_count": 29,
     "metadata": {},
     "output_type": "execute_result"
    }
   ],
   "source": [
    "X = df_09_copy.iloc[:,:-1]\n",
    "X.head(2)"
   ]
  },
  {
   "cell_type": "code",
   "execution_count": 30,
   "metadata": {},
   "outputs": [
    {
     "data": {
      "text/html": [
       "<div>\n",
       "<style scoped>\n",
       "    .dataframe tbody tr th:only-of-type {\n",
       "        vertical-align: middle;\n",
       "    }\n",
       "\n",
       "    .dataframe tbody tr th {\n",
       "        vertical-align: top;\n",
       "    }\n",
       "\n",
       "    .dataframe thead th {\n",
       "        text-align: right;\n",
       "    }\n",
       "</style>\n",
       "<table border=\"1\" class=\"dataframe\">\n",
       "  <thead>\n",
       "    <tr style=\"text-align: right;\">\n",
       "      <th></th>\n",
       "      <th>secuestro</th>\n",
       "    </tr>\n",
       "  </thead>\n",
       "  <tbody>\n",
       "    <tr>\n",
       "      <th>0</th>\n",
       "      <td>0</td>\n",
       "    </tr>\n",
       "    <tr>\n",
       "      <th>1</th>\n",
       "      <td>0</td>\n",
       "    </tr>\n",
       "  </tbody>\n",
       "</table>\n",
       "</div>"
      ],
      "text/plain": [
       "   secuestro\n",
       "0          0\n",
       "1          0"
      ]
     },
     "execution_count": 30,
     "metadata": {},
     "output_type": "execute_result"
    }
   ],
   "source": [
    "y = df_09_copy.iloc[:,-1:]\n",
    "y.head(2)"
   ]
  },
  {
   "cell_type": "code",
   "execution_count": 71,
   "metadata": {},
   "outputs": [],
   "source": [
    "X_train, X_test, y_train, y_test = train_test_split(X, y, \n",
    "                                                    train_size=0.8,\n",
    "                                                    test_size=0.2, \n",
    "                                                    random_state=100)"
   ]
  },
  {
   "cell_type": "code",
   "execution_count": 72,
   "metadata": {},
   "outputs": [
    {
     "name": "stdout",
     "output_type": "stream",
     "text": [
      "(1733, 51) (1386, 50) (1386, 1) (347, 50) (347, 1)\n"
     ]
    }
   ],
   "source": [
    "print(df_09_copy.shape, X_train.shape, y_train.shape, X_test.shape, y_test.shape)"
   ]
  },
  {
   "cell_type": "code",
   "execution_count": 73,
   "metadata": {},
   "outputs": [],
   "source": [
    "clf = RandomForestClassifier(n_estimators=100, max_depth=None, random_state=100)"
   ]
  },
  {
   "cell_type": "code",
   "execution_count": 74,
   "metadata": {},
   "outputs": [
    {
     "name": "stderr",
     "output_type": "stream",
     "text": [
      "/Users/jacoboleon/anaconda3/lib/python3.7/site-packages/ipykernel_launcher.py:1: DataConversionWarning: A column-vector y was passed when a 1d array was expected. Please change the shape of y to (n_samples,), for example using ravel().\n",
      "  \"\"\"Entry point for launching an IPython kernel.\n"
     ]
    }
   ],
   "source": [
    "clf_fit = clf.fit(X_train, y_train)"
   ]
  },
  {
   "cell_type": "code",
   "execution_count": 75,
   "metadata": {},
   "outputs": [
    {
     "data": {
      "text/plain": [
       "RandomForestClassifier(bootstrap=True, class_weight=None, criterion='gini',\n",
       "            max_depth=None, max_features='auto', max_leaf_nodes=None,\n",
       "            min_impurity_decrease=0.0, min_impurity_split=None,\n",
       "            min_samples_leaf=1, min_samples_split=2,\n",
       "            min_weight_fraction_leaf=0.0, n_estimators=100, n_jobs=None,\n",
       "            oob_score=False, random_state=100, verbose=0, warm_start=False)"
      ]
     },
     "execution_count": 75,
     "metadata": {},
     "output_type": "execute_result"
    }
   ],
   "source": [
    "clf_fit"
   ]
  },
  {
   "cell_type": "code",
   "execution_count": 76,
   "metadata": {},
   "outputs": [],
   "source": [
    "clf_predict = clf_fit.predict(X_test)"
   ]
  },
  {
   "cell_type": "code",
   "execution_count": 77,
   "metadata": {},
   "outputs": [
    {
     "data": {
      "text/plain": [
       "array([1, 1, 1, 1, 1, 1, 1, 1, 1, 1, 1, 1, 1, 1, 1, 1, 1, 1, 1, 1, 1, 1,\n",
       "       1, 1, 1, 1, 1, 1, 1, 1, 1, 1, 1, 1, 1, 1, 1, 1, 1, 1, 1, 1, 1, 1,\n",
       "       1, 1, 1, 1, 1, 1, 1, 1, 1, 1, 1, 1, 1, 1, 1, 1, 1, 1, 1, 1, 1, 1,\n",
       "       1, 1, 1, 1, 1, 1, 1, 1, 1, 1, 1, 1, 1, 1, 1, 1, 1, 1, 1, 1, 1, 1,\n",
       "       1, 1, 1, 1, 1, 1, 1, 1, 1, 1, 1, 1, 1, 1, 1, 1, 1, 1, 1, 1, 1, 1,\n",
       "       1, 1, 1, 1, 1, 1, 1, 1, 1, 1, 1, 1, 1, 1, 1, 1, 1, 1, 1, 1, 1, 1,\n",
       "       1, 1, 1, 1, 1, 1, 1, 1, 1, 1, 1, 1, 1, 1, 1, 1, 1, 1, 1, 1, 1, 1,\n",
       "       1, 1, 1, 1, 1, 1, 1, 1, 1, 1, 1, 1, 1, 1, 1, 1, 1, 1, 1, 1, 1, 1,\n",
       "       1, 1, 1, 1, 1, 1, 1, 1, 1, 1, 1, 1, 1, 1, 1, 1, 1, 1, 1, 1, 1, 1,\n",
       "       1, 1, 1, 1, 1, 1, 1, 1, 1, 1, 1, 1, 1, 1, 1, 1, 1, 1, 1, 1, 1, 1,\n",
       "       1, 1, 1, 1, 1, 1, 1, 1, 1, 1, 1, 1, 1, 1, 1, 1, 1, 1, 1, 1, 1, 1,\n",
       "       1, 1, 1, 1, 1, 1, 1, 1, 1, 1, 1, 1, 1, 1, 1, 1, 1, 1, 1, 1, 1, 1,\n",
       "       1, 1, 1, 1, 1, 1, 1, 1, 1, 1, 1, 1, 1, 1, 1, 1, 1, 1, 1, 1, 1, 1,\n",
       "       1, 1, 1, 1, 1, 1, 1, 1, 1, 1, 1, 1, 1, 1, 1, 1, 1, 1, 1, 1, 1, 1,\n",
       "       1, 1, 1, 1, 1, 1, 1, 1, 1, 1, 1, 1, 1, 1, 1, 1, 1, 1, 1, 1, 1, 1,\n",
       "       1, 1, 1, 1, 1, 1, 1, 1, 1, 1, 1, 1, 1, 1, 1, 1, 1])"
      ]
     },
     "execution_count": 77,
     "metadata": {},
     "output_type": "execute_result"
    }
   ],
   "source": [
    "clf_predict"
   ]
  },
  {
   "cell_type": "code",
   "execution_count": 84,
   "metadata": {},
   "outputs": [
    {
     "name": "stderr",
     "output_type": "stream",
     "text": [
      "/Users/jacoboleon/anaconda3/lib/python3.7/site-packages/ipykernel_launcher.py:1: DataConversionWarning: A column-vector y was passed when a 1d array was expected. Please change the shape of y to (n_samples,), for example using ravel().\n",
      "  \"\"\"Entry point for launching an IPython kernel.\n"
     ]
    },
    {
     "name": "stdout",
     "output_type": "stream",
     "text": [
      "Accuracy of RF classifier on training set: 1.00000\n",
      "Accuracy of RF classifier on test set: 0.95101\n"
     ]
    }
   ],
   "source": [
    "clf.fit(X_train, y_train)\n",
    "print('Accuracy of RF classifier on training set: {:.5f}'\n",
    "     .format(clf.score(X_train, y_train)))\n",
    "print('Accuracy of RF classifier on test set: {:.5f}'\n",
    "     .format(clf.score(X_test, y_test)))"
   ]
  },
  {
   "cell_type": "code",
   "execution_count": 86,
   "metadata": {},
   "outputs": [
    {
     "name": "stdout",
     "output_type": "stream",
     "text": [
      "[[  0  17]\n",
      " [  0 330]]\n",
      "              precision    recall  f1-score   support\n",
      "\n",
      "           0       0.00      0.00      0.00        17\n",
      "           1       0.95      1.00      0.97       330\n",
      "\n",
      "   micro avg       0.95      0.95      0.95       347\n",
      "   macro avg       0.48      0.50      0.49       347\n",
      "weighted avg       0.90      0.95      0.93       347\n",
      "\n"
     ]
    },
    {
     "name": "stderr",
     "output_type": "stream",
     "text": [
      "/Users/jacoboleon/anaconda3/lib/python3.7/site-packages/sklearn/metrics/classification.py:1143: UndefinedMetricWarning: Precision and F-score are ill-defined and being set to 0.0 in labels with no predicted samples.\n",
      "  'precision', 'predicted', average, warn_for)\n"
     ]
    }
   ],
   "source": [
    "pred = clf.predict(X_test)\n",
    "print(confusion_matrix(y_test, pred))\n",
    "print(classification_report(y_test, pred))"
   ]
  },
  {
   "cell_type": "code",
   "execution_count": 82,
   "metadata": {},
   "outputs": [
    {
     "data": {
      "text/html": [
       "<div>\n",
       "<style scoped>\n",
       "    .dataframe tbody tr th:only-of-type {\n",
       "        vertical-align: middle;\n",
       "    }\n",
       "\n",
       "    .dataframe tbody tr th {\n",
       "        vertical-align: top;\n",
       "    }\n",
       "\n",
       "    .dataframe thead th {\n",
       "        text-align: right;\n",
       "    }\n",
       "</style>\n",
       "<table border=\"1\" class=\"dataframe\">\n",
       "  <thead>\n",
       "    <tr style=\"text-align: right;\">\n",
       "      <th></th>\n",
       "      <th>ing_cor</th>\n",
       "      <th>gasto_mon</th>\n",
       "      <th>transporte</th>\n",
       "      <th>vivienda</th>\n",
       "      <th>alimentos</th>\n",
       "      <th>personales</th>\n",
       "      <th>ali_dentro</th>\n",
       "      <th>cuida_pers</th>\n",
       "      <th>limpieza</th>\n",
       "      <th>ingtrab</th>\n",
       "      <th>...</th>\n",
       "      <th>percep_tot</th>\n",
       "      <th>mantenim</th>\n",
       "      <th>atenc_ambu</th>\n",
       "      <th>tuberculo</th>\n",
       "      <th>otros_gas</th>\n",
       "      <th>ero_nm_hog</th>\n",
       "      <th>transf_hog</th>\n",
       "      <th>trans_inst</th>\n",
       "      <th>combus</th>\n",
       "      <th>bene_gob</th>\n",
       "    </tr>\n",
       "  </thead>\n",
       "  <tbody>\n",
       "    <tr>\n",
       "      <th>1667</th>\n",
       "      <td>0.047158</td>\n",
       "      <td>0.013932</td>\n",
       "      <td>0.008133</td>\n",
       "      <td>0.003024</td>\n",
       "      <td>0.029635</td>\n",
       "      <td>0.005545</td>\n",
       "      <td>0.164144</td>\n",
       "      <td>0.019589</td>\n",
       "      <td>0.007289</td>\n",
       "      <td>0.055955</td>\n",
       "      <td>...</td>\n",
       "      <td>0.020366</td>\n",
       "      <td>0.0</td>\n",
       "      <td>0.005972</td>\n",
       "      <td>0.000000</td>\n",
       "      <td>0.0</td>\n",
       "      <td>0.040786</td>\n",
       "      <td>0.0</td>\n",
       "      <td>0.013414</td>\n",
       "      <td>0.0</td>\n",
       "      <td>0.014257</td>\n",
       "    </tr>\n",
       "    <tr>\n",
       "      <th>1250</th>\n",
       "      <td>0.161509</td>\n",
       "      <td>0.076666</td>\n",
       "      <td>0.048832</td>\n",
       "      <td>0.026679</td>\n",
       "      <td>0.071086</td>\n",
       "      <td>0.047887</td>\n",
       "      <td>0.223026</td>\n",
       "      <td>0.169162</td>\n",
       "      <td>0.021923</td>\n",
       "      <td>0.220545</td>\n",
       "      <td>...</td>\n",
       "      <td>0.000000</td>\n",
       "      <td>0.0</td>\n",
       "      <td>0.000000</td>\n",
       "      <td>0.099169</td>\n",
       "      <td>0.0</td>\n",
       "      <td>0.000000</td>\n",
       "      <td>0.0</td>\n",
       "      <td>0.000000</td>\n",
       "      <td>0.0</td>\n",
       "      <td>0.000000</td>\n",
       "    </tr>\n",
       "  </tbody>\n",
       "</table>\n",
       "<p>2 rows × 50 columns</p>\n",
       "</div>"
      ],
      "text/plain": [
       "       ing_cor  gasto_mon  transporte  vivienda  alimentos  personales  \\\n",
       "1667  0.047158   0.013932    0.008133  0.003024   0.029635    0.005545   \n",
       "1250  0.161509   0.076666    0.048832  0.026679   0.071086    0.047887   \n",
       "\n",
       "      ali_dentro  cuida_pers  limpieza   ingtrab  ...  percep_tot  mantenim  \\\n",
       "1667    0.164144    0.019589  0.007289  0.055955  ...    0.020366       0.0   \n",
       "1250    0.223026    0.169162  0.021923  0.220545  ...    0.000000       0.0   \n",
       "\n",
       "      atenc_ambu  tuberculo  otros_gas  ero_nm_hog  transf_hog  trans_inst  \\\n",
       "1667    0.005972   0.000000        0.0    0.040786         0.0    0.013414   \n",
       "1250    0.000000   0.099169        0.0    0.000000         0.0    0.000000   \n",
       "\n",
       "      combus  bene_gob  \n",
       "1667     0.0  0.014257  \n",
       "1250     0.0  0.000000  \n",
       "\n",
       "[2 rows x 50 columns]"
      ]
     },
     "execution_count": 82,
     "metadata": {},
     "output_type": "execute_result"
    }
   ],
   "source": [
    "X_train.head(2)"
   ]
  },
  {
   "cell_type": "code",
   "execution_count": 83,
   "metadata": {},
   "outputs": [
    {
     "data": {
      "text/plain": [
       "(1386, 50)"
      ]
     },
     "execution_count": 83,
     "metadata": {},
     "output_type": "execute_result"
    }
   ],
   "source": [
    "X_train.shape"
   ]
  },
  {
   "cell_type": "code",
   "execution_count": null,
   "metadata": {},
   "outputs": [],
   "source": []
  }
 ],
 "metadata": {
  "kernelspec": {
   "display_name": "Python 3",
   "language": "python",
   "name": "python3"
  },
  "language_info": {
   "codemirror_mode": {
    "name": "ipython",
    "version": 3
   },
   "file_extension": ".py",
   "mimetype": "text/x-python",
   "name": "python",
   "nbconvert_exporter": "python",
   "pygments_lexer": "ipython3",
   "version": "3.7.2"
  }
 },
 "nbformat": 4,
 "nbformat_minor": 2
}
