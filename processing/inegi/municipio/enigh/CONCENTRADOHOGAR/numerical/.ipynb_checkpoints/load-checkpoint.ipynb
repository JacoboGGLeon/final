{
 "cells": [
  {
   "cell_type": "code",
   "execution_count": 42,
   "metadata": {},
   "outputs": [],
   "source": [
    "import pandas as pd\n",
    "import numpy as np\n",
    "import missingno as msno\n",
    "import matplotlib.pyplot as plt\n",
    "%matplotlib inline"
   ]
  },
  {
   "cell_type": "markdown",
   "metadata": {},
   "source": [
    "## Tabla resumen con información a nivel hogar"
   ]
  },
  {
   "cell_type": "markdown",
   "metadata": {},
   "source": [
    "Esta tabla contiene las variables construidas, a partir de las 11 tablas de la base de datos, que permiten tener agrupada la información con la cual se obtienen los principales tabulados que el INEGI construye."
   ]
  },
  {
   "cell_type": "markdown",
   "metadata": {},
   "source": [
    "`CONCENTRADOHOGAR`"
   ]
  },
  {
   "cell_type": "code",
   "execution_count": 2,
   "metadata": {},
   "outputs": [],
   "source": [
    "file = '../../../../../../../data/inegi-encuestas/localidad/ENIGH/concentradohogar.csv'"
   ]
  },
  {
   "cell_type": "code",
   "execution_count": 3,
   "metadata": {},
   "outputs": [],
   "source": [
    "df = pd.read_csv(file, encoding='latin')"
   ]
  },
  {
   "cell_type": "code",
   "execution_count": 4,
   "metadata": {},
   "outputs": [
    {
     "data": {
      "text/plain": [
       "(70311, 127)"
      ]
     },
     "execution_count": 4,
     "metadata": {},
     "output_type": "execute_result"
    }
   ],
   "source": [
    "df.shape"
   ]
  },
  {
   "cell_type": "code",
   "execution_count": 20,
   "metadata": {},
   "outputs": [],
   "source": [
    "df_copy = df.copy()"
   ]
  },
  {
   "cell_type": "code",
   "execution_count": 21,
   "metadata": {},
   "outputs": [
    {
     "data": {
      "text/html": [
       "<div>\n",
       "<style scoped>\n",
       "    .dataframe tbody tr th:only-of-type {\n",
       "        vertical-align: middle;\n",
       "    }\n",
       "\n",
       "    .dataframe tbody tr th {\n",
       "        vertical-align: top;\n",
       "    }\n",
       "\n",
       "    .dataframe thead th {\n",
       "        text-align: right;\n",
       "    }\n",
       "</style>\n",
       "<table border=\"1\" class=\"dataframe\">\n",
       "  <thead>\n",
       "    <tr style=\"text-align: right;\">\n",
       "      <th></th>\n",
       "      <th>folioviv</th>\n",
       "      <th>foliohog</th>\n",
       "      <th>ubica_geo</th>\n",
       "      <th>ageb</th>\n",
       "      <th>tam_loc</th>\n",
       "      <th>est_socio</th>\n",
       "      <th>est_dis</th>\n",
       "      <th>upm</th>\n",
       "      <th>factor</th>\n",
       "      <th>clase_hog</th>\n",
       "      <th>...</th>\n",
       "      <th>mater_serv</th>\n",
       "      <th>material</th>\n",
       "      <th>servicio</th>\n",
       "      <th>deposito</th>\n",
       "      <th>prest_terc</th>\n",
       "      <th>pago_tarje</th>\n",
       "      <th>deudas</th>\n",
       "      <th>balance</th>\n",
       "      <th>otras_erog</th>\n",
       "      <th>smg</th>\n",
       "    </tr>\n",
       "  </thead>\n",
       "  <tbody>\n",
       "    <tr>\n",
       "      <th>0</th>\n",
       "      <td>100003801</td>\n",
       "      <td>1</td>\n",
       "      <td>10010000</td>\n",
       "      <td>000-0</td>\n",
       "      <td>1</td>\n",
       "      <td>4</td>\n",
       "      <td>3</td>\n",
       "      <td>10</td>\n",
       "      <td>247</td>\n",
       "      <td>2</td>\n",
       "      <td>...</td>\n",
       "      <td>98.36</td>\n",
       "      <td>98.36</td>\n",
       "      <td>0.00</td>\n",
       "      <td>0.0</td>\n",
       "      <td>0.0</td>\n",
       "      <td>17409.83</td>\n",
       "      <td>0.0</td>\n",
       "      <td>0.0</td>\n",
       "      <td>0.0</td>\n",
       "      <td>6573.6</td>\n",
       "    </tr>\n",
       "    <tr>\n",
       "      <th>1</th>\n",
       "      <td>100003802</td>\n",
       "      <td>1</td>\n",
       "      <td>10010000</td>\n",
       "      <td>000-0</td>\n",
       "      <td>1</td>\n",
       "      <td>4</td>\n",
       "      <td>3</td>\n",
       "      <td>10</td>\n",
       "      <td>247</td>\n",
       "      <td>2</td>\n",
       "      <td>...</td>\n",
       "      <td>0.00</td>\n",
       "      <td>0.00</td>\n",
       "      <td>0.00</td>\n",
       "      <td>0.0</td>\n",
       "      <td>0.0</td>\n",
       "      <td>5360.65</td>\n",
       "      <td>0.0</td>\n",
       "      <td>0.0</td>\n",
       "      <td>0.0</td>\n",
       "      <td>6573.6</td>\n",
       "    </tr>\n",
       "    <tr>\n",
       "      <th>2</th>\n",
       "      <td>100003803</td>\n",
       "      <td>1</td>\n",
       "      <td>10010000</td>\n",
       "      <td>000-0</td>\n",
       "      <td>1</td>\n",
       "      <td>4</td>\n",
       "      <td>3</td>\n",
       "      <td>10</td>\n",
       "      <td>247</td>\n",
       "      <td>2</td>\n",
       "      <td>...</td>\n",
       "      <td>172.13</td>\n",
       "      <td>0.00</td>\n",
       "      <td>172.13</td>\n",
       "      <td>0.0</td>\n",
       "      <td>0.0</td>\n",
       "      <td>23606.55</td>\n",
       "      <td>0.0</td>\n",
       "      <td>0.0</td>\n",
       "      <td>0.0</td>\n",
       "      <td>6573.6</td>\n",
       "    </tr>\n",
       "    <tr>\n",
       "      <th>3</th>\n",
       "      <td>100003804</td>\n",
       "      <td>1</td>\n",
       "      <td>10010000</td>\n",
       "      <td>000-0</td>\n",
       "      <td>1</td>\n",
       "      <td>4</td>\n",
       "      <td>3</td>\n",
       "      <td>10</td>\n",
       "      <td>247</td>\n",
       "      <td>3</td>\n",
       "      <td>...</td>\n",
       "      <td>0.00</td>\n",
       "      <td>0.00</td>\n",
       "      <td>0.00</td>\n",
       "      <td>0.0</td>\n",
       "      <td>0.0</td>\n",
       "      <td>8852.45</td>\n",
       "      <td>0.0</td>\n",
       "      <td>0.0</td>\n",
       "      <td>0.0</td>\n",
       "      <td>6573.6</td>\n",
       "    </tr>\n",
       "    <tr>\n",
       "      <th>4</th>\n",
       "      <td>100003805</td>\n",
       "      <td>1</td>\n",
       "      <td>10010000</td>\n",
       "      <td>000-0</td>\n",
       "      <td>1</td>\n",
       "      <td>4</td>\n",
       "      <td>3</td>\n",
       "      <td>10</td>\n",
       "      <td>247</td>\n",
       "      <td>2</td>\n",
       "      <td>...</td>\n",
       "      <td>0.00</td>\n",
       "      <td>0.00</td>\n",
       "      <td>0.00</td>\n",
       "      <td>0.0</td>\n",
       "      <td>0.0</td>\n",
       "      <td>0.00</td>\n",
       "      <td>0.0</td>\n",
       "      <td>0.0</td>\n",
       "      <td>0.0</td>\n",
       "      <td>6573.6</td>\n",
       "    </tr>\n",
       "  </tbody>\n",
       "</table>\n",
       "<p>5 rows × 127 columns</p>\n",
       "</div>"
      ],
      "text/plain": [
       "    folioviv  foliohog  ubica_geo   ageb  tam_loc  est_socio  est_dis  upm  \\\n",
       "0  100003801         1   10010000  000-0        1          4        3   10   \n",
       "1  100003802         1   10010000  000-0        1          4        3   10   \n",
       "2  100003803         1   10010000  000-0        1          4        3   10   \n",
       "3  100003804         1   10010000  000-0        1          4        3   10   \n",
       "4  100003805         1   10010000  000-0        1          4        3   10   \n",
       "\n",
       "   factor  clase_hog  ...  mater_serv  material  servicio  deposito  \\\n",
       "0     247          2  ...       98.36     98.36      0.00       0.0   \n",
       "1     247          2  ...        0.00      0.00      0.00       0.0   \n",
       "2     247          2  ...      172.13      0.00    172.13       0.0   \n",
       "3     247          3  ...        0.00      0.00      0.00       0.0   \n",
       "4     247          2  ...        0.00      0.00      0.00       0.0   \n",
       "\n",
       "   prest_terc  pago_tarje  deudas  balance  otras_erog     smg  \n",
       "0         0.0    17409.83     0.0      0.0         0.0  6573.6  \n",
       "1         0.0     5360.65     0.0      0.0         0.0  6573.6  \n",
       "2         0.0    23606.55     0.0      0.0         0.0  6573.6  \n",
       "3         0.0     8852.45     0.0      0.0         0.0  6573.6  \n",
       "4         0.0        0.00     0.0      0.0         0.0  6573.6  \n",
       "\n",
       "[5 rows x 127 columns]"
      ]
     },
     "execution_count": 21,
     "metadata": {},
     "output_type": "execute_result"
    }
   ],
   "source": [
    "df_copy.head()"
   ]
  },
  {
   "cell_type": "code",
   "execution_count": 22,
   "metadata": {},
   "outputs": [
    {
     "data": {
      "text/plain": [
       "Index(['folioviv', 'foliohog', 'ubica_geo', 'ageb', 'tam_loc', 'est_socio',\n",
       "       'est_dis', 'upm', 'factor', 'clase_hog',\n",
       "       ...\n",
       "       'mater_serv', 'material', 'servicio', 'deposito', 'prest_terc',\n",
       "       'pago_tarje', 'deudas', 'balance', 'otras_erog', 'smg'],\n",
       "      dtype='object', length=127)"
      ]
     },
     "execution_count": 22,
     "metadata": {},
     "output_type": "execute_result"
    }
   ],
   "source": [
    "df_copy.columns"
   ]
  },
  {
   "cell_type": "markdown",
   "metadata": {},
   "source": [
    "### Subset Ciudad de México"
   ]
  },
  {
   "cell_type": "markdown",
   "metadata": {},
   "source": [
    "`ubica_geo`: Ubicación geográfica.\n",
    "\n",
    "Los dos primeros dígitos representan la clave de la entidad, los siguientes tres la clave del municipio y los últimos cuatro la clave de la localidad."
   ]
  },
  {
   "cell_type": "code",
   "execution_count": 23,
   "metadata": {},
   "outputs": [
    {
     "data": {
      "text/html": [
       "<div>\n",
       "<style scoped>\n",
       "    .dataframe tbody tr th:only-of-type {\n",
       "        vertical-align: middle;\n",
       "    }\n",
       "\n",
       "    .dataframe tbody tr th {\n",
       "        vertical-align: top;\n",
       "    }\n",
       "\n",
       "    .dataframe thead th {\n",
       "        text-align: right;\n",
       "    }\n",
       "</style>\n",
       "<table border=\"1\" class=\"dataframe\">\n",
       "  <thead>\n",
       "    <tr style=\"text-align: right;\">\n",
       "      <th></th>\n",
       "      <th>folioviv</th>\n",
       "      <th>foliohog</th>\n",
       "      <th>ubica_geo</th>\n",
       "      <th>ageb</th>\n",
       "      <th>tam_loc</th>\n",
       "      <th>est_socio</th>\n",
       "      <th>est_dis</th>\n",
       "      <th>upm</th>\n",
       "      <th>factor</th>\n",
       "      <th>clase_hog</th>\n",
       "      <th>...</th>\n",
       "      <th>mater_serv</th>\n",
       "      <th>material</th>\n",
       "      <th>servicio</th>\n",
       "      <th>deposito</th>\n",
       "      <th>prest_terc</th>\n",
       "      <th>pago_tarje</th>\n",
       "      <th>deudas</th>\n",
       "      <th>balance</th>\n",
       "      <th>otras_erog</th>\n",
       "      <th>smg</th>\n",
       "    </tr>\n",
       "  </thead>\n",
       "  <tbody>\n",
       "    <tr>\n",
       "      <th>0</th>\n",
       "      <td>900168801</td>\n",
       "      <td>1</td>\n",
       "      <td>90020000</td>\n",
       "      <td>000-0</td>\n",
       "      <td>1</td>\n",
       "      <td>2</td>\n",
       "      <td>133</td>\n",
       "      <td>24120</td>\n",
       "      <td>1265</td>\n",
       "      <td>3</td>\n",
       "      <td>...</td>\n",
       "      <td>0.0</td>\n",
       "      <td>0.0</td>\n",
       "      <td>0.0</td>\n",
       "      <td>0.0</td>\n",
       "      <td>0.0</td>\n",
       "      <td>0.0</td>\n",
       "      <td>0.00</td>\n",
       "      <td>0.0</td>\n",
       "      <td>0.0</td>\n",
       "      <td>6573.6</td>\n",
       "    </tr>\n",
       "    <tr>\n",
       "      <th>1</th>\n",
       "      <td>900168802</td>\n",
       "      <td>1</td>\n",
       "      <td>90020000</td>\n",
       "      <td>000-0</td>\n",
       "      <td>1</td>\n",
       "      <td>2</td>\n",
       "      <td>133</td>\n",
       "      <td>24120</td>\n",
       "      <td>1265</td>\n",
       "      <td>1</td>\n",
       "      <td>...</td>\n",
       "      <td>0.0</td>\n",
       "      <td>0.0</td>\n",
       "      <td>0.0</td>\n",
       "      <td>0.0</td>\n",
       "      <td>0.0</td>\n",
       "      <td>0.0</td>\n",
       "      <td>0.00</td>\n",
       "      <td>0.0</td>\n",
       "      <td>0.0</td>\n",
       "      <td>6573.6</td>\n",
       "    </tr>\n",
       "    <tr>\n",
       "      <th>2</th>\n",
       "      <td>900168804</td>\n",
       "      <td>1</td>\n",
       "      <td>90020000</td>\n",
       "      <td>000-0</td>\n",
       "      <td>1</td>\n",
       "      <td>2</td>\n",
       "      <td>133</td>\n",
       "      <td>24120</td>\n",
       "      <td>1265</td>\n",
       "      <td>2</td>\n",
       "      <td>...</td>\n",
       "      <td>0.0</td>\n",
       "      <td>0.0</td>\n",
       "      <td>0.0</td>\n",
       "      <td>0.0</td>\n",
       "      <td>0.0</td>\n",
       "      <td>0.0</td>\n",
       "      <td>0.00</td>\n",
       "      <td>0.0</td>\n",
       "      <td>0.0</td>\n",
       "      <td>6573.6</td>\n",
       "    </tr>\n",
       "    <tr>\n",
       "      <th>3</th>\n",
       "      <td>900168805</td>\n",
       "      <td>1</td>\n",
       "      <td>90020000</td>\n",
       "      <td>000-0</td>\n",
       "      <td>1</td>\n",
       "      <td>2</td>\n",
       "      <td>133</td>\n",
       "      <td>24120</td>\n",
       "      <td>1265</td>\n",
       "      <td>1</td>\n",
       "      <td>...</td>\n",
       "      <td>0.0</td>\n",
       "      <td>0.0</td>\n",
       "      <td>0.0</td>\n",
       "      <td>0.0</td>\n",
       "      <td>0.0</td>\n",
       "      <td>0.0</td>\n",
       "      <td>0.00</td>\n",
       "      <td>0.0</td>\n",
       "      <td>0.0</td>\n",
       "      <td>6573.6</td>\n",
       "    </tr>\n",
       "    <tr>\n",
       "      <th>4</th>\n",
       "      <td>900168806</td>\n",
       "      <td>1</td>\n",
       "      <td>90020000</td>\n",
       "      <td>000-0</td>\n",
       "      <td>1</td>\n",
       "      <td>2</td>\n",
       "      <td>133</td>\n",
       "      <td>24120</td>\n",
       "      <td>1265</td>\n",
       "      <td>1</td>\n",
       "      <td>...</td>\n",
       "      <td>0.0</td>\n",
       "      <td>0.0</td>\n",
       "      <td>0.0</td>\n",
       "      <td>0.0</td>\n",
       "      <td>0.0</td>\n",
       "      <td>0.0</td>\n",
       "      <td>10327.86</td>\n",
       "      <td>0.0</td>\n",
       "      <td>0.0</td>\n",
       "      <td>6573.6</td>\n",
       "    </tr>\n",
       "  </tbody>\n",
       "</table>\n",
       "<p>5 rows × 127 columns</p>\n",
       "</div>"
      ],
      "text/plain": [
       "    folioviv  foliohog  ubica_geo   ageb  tam_loc  est_socio  est_dis    upm  \\\n",
       "0  900168801         1   90020000  000-0        1          2      133  24120   \n",
       "1  900168802         1   90020000  000-0        1          2      133  24120   \n",
       "2  900168804         1   90020000  000-0        1          2      133  24120   \n",
       "3  900168805         1   90020000  000-0        1          2      133  24120   \n",
       "4  900168806         1   90020000  000-0        1          2      133  24120   \n",
       "\n",
       "   factor  clase_hog  ...  mater_serv  material  servicio  deposito  \\\n",
       "0    1265          3  ...         0.0       0.0       0.0       0.0   \n",
       "1    1265          1  ...         0.0       0.0       0.0       0.0   \n",
       "2    1265          2  ...         0.0       0.0       0.0       0.0   \n",
       "3    1265          1  ...         0.0       0.0       0.0       0.0   \n",
       "4    1265          1  ...         0.0       0.0       0.0       0.0   \n",
       "\n",
       "   prest_terc  pago_tarje    deudas  balance  otras_erog     smg  \n",
       "0         0.0         0.0      0.00      0.0         0.0  6573.6  \n",
       "1         0.0         0.0      0.00      0.0         0.0  6573.6  \n",
       "2         0.0         0.0      0.00      0.0         0.0  6573.6  \n",
       "3         0.0         0.0      0.00      0.0         0.0  6573.6  \n",
       "4         0.0         0.0  10327.86      0.0         0.0  6573.6  \n",
       "\n",
       "[5 rows x 127 columns]"
      ]
     },
     "execution_count": 23,
     "metadata": {},
     "output_type": "execute_result"
    }
   ],
   "source": [
    "df_copy = df_copy[(df_copy.ubica_geo > 90000000) & (df_copy.ubica_geo < 100000000)].copy()\n",
    "df_copy.reset_index(inplace=True)\n",
    "df_copy.drop(labels=['index'], axis=1, inplace=True)\n",
    "df_copy.head()"
   ]
  },
  {
   "cell_type": "code",
   "execution_count": 24,
   "metadata": {},
   "outputs": [
    {
     "data": {
      "text/plain": [
       "0    90020000\n",
       "1    90020000\n",
       "2    90020000\n",
       "3    90020000\n",
       "4    90020000\n",
       "Name: ubica_geo, dtype: int64"
      ]
     },
     "execution_count": 24,
     "metadata": {},
     "output_type": "execute_result"
    }
   ],
   "source": [
    "df_copy.ubica_geo.head()"
   ]
  },
  {
   "cell_type": "code",
   "execution_count": 25,
   "metadata": {},
   "outputs": [],
   "source": [
    "df_copy.ubica_geo = df_copy.ubica_geo.astype(str)"
   ]
  },
  {
   "cell_type": "code",
   "execution_count": 26,
   "metadata": {},
   "outputs": [
    {
     "data": {
      "text/plain": [
       "8"
      ]
     },
     "execution_count": 26,
     "metadata": {},
     "output_type": "execute_result"
    }
   ],
   "source": [
    "len(df_copy.ubica_geo[0])"
   ]
  },
  {
   "cell_type": "code",
   "execution_count": 27,
   "metadata": {},
   "outputs": [
    {
     "name": "stderr",
     "output_type": "stream",
     "text": [
      "/Users/jacoboleon/anaconda3/lib/python3.7/site-packages/ipykernel_launcher.py:3: SettingWithCopyWarning: \n",
      "A value is trying to be set on a copy of a slice from a DataFrame\n",
      "\n",
      "See the caveats in the documentation: http://pandas.pydata.org/pandas-docs/stable/indexing.html#indexing-view-versus-copy\n",
      "  This is separate from the ipykernel package so we can avoid doing imports until\n"
     ]
    }
   ],
   "source": [
    "for line in range(0, df_copy.shape[0]):\n",
    "    if(len(df_copy.ubica_geo[line]) == 8):\n",
    "        df_copy.ubica_geo[line] = '0' + df_copy.ubica_geo[line]"
   ]
  },
  {
   "cell_type": "code",
   "execution_count": 28,
   "metadata": {},
   "outputs": [
    {
     "data": {
      "text/plain": [
       "'090020000'"
      ]
     },
     "execution_count": 28,
     "metadata": {},
     "output_type": "execute_result"
    }
   ],
   "source": [
    "df_copy.ubica_geo[0]"
   ]
  },
  {
   "cell_type": "code",
   "execution_count": 29,
   "metadata": {},
   "outputs": [
    {
     "data": {
      "text/plain": [
       "'09'"
      ]
     },
     "execution_count": 29,
     "metadata": {},
     "output_type": "execute_result"
    }
   ],
   "source": [
    "df_copy.ubica_geo[0][:2]"
   ]
  },
  {
   "cell_type": "code",
   "execution_count": 30,
   "metadata": {},
   "outputs": [],
   "source": [
    "l_ent = []\n",
    "l_mun = []\n",
    "l_loc = []"
   ]
  },
  {
   "cell_type": "code",
   "execution_count": 31,
   "metadata": {},
   "outputs": [],
   "source": [
    "for line in range(0, df_copy.shape[0]):\n",
    "    l_ent.append(df_copy.ubica_geo[line][:2])\n",
    "    l_mun.append(df_copy.ubica_geo[line][2:5])\n",
    "    l_loc.append(df_copy.ubica_geo[line][5:])"
   ]
  },
  {
   "cell_type": "code",
   "execution_count": 32,
   "metadata": {},
   "outputs": [
    {
     "data": {
      "text/plain": [
       "True"
      ]
     },
     "execution_count": 32,
     "metadata": {},
     "output_type": "execute_result"
    }
   ],
   "source": [
    "len(l_ent) == len(l_mun) == len(l_loc)"
   ]
  },
  {
   "cell_type": "code",
   "execution_count": 41,
   "metadata": {},
   "outputs": [],
   "source": [
    "df_copy['CVE_ENT'] = l_ent\n",
    "df_copy['CVE_MUN'] = l_mun\n",
    "df_copy['CVE_LOC'] = l_loc"
   ]
  },
  {
   "cell_type": "code",
   "execution_count": 35,
   "metadata": {},
   "outputs": [
    {
     "data": {
      "text/plain": [
       "1"
      ]
     },
     "execution_count": 35,
     "metadata": {},
     "output_type": "execute_result"
    }
   ],
   "source": [
    "df_copy.CVE_ENT.nunique()"
   ]
  },
  {
   "cell_type": "code",
   "execution_count": 44,
   "metadata": {},
   "outputs": [],
   "source": [
    "df_09 = df_copy[df_copy.CVE_ENT == '09']"
   ]
  },
  {
   "cell_type": "code",
   "execution_count": 45,
   "metadata": {},
   "outputs": [],
   "source": [
    "df_09 = df_09.copy()"
   ]
  },
  {
   "cell_type": "code",
   "execution_count": 46,
   "metadata": {},
   "outputs": [
    {
     "data": {
      "text/html": [
       "<div>\n",
       "<style scoped>\n",
       "    .dataframe tbody tr th:only-of-type {\n",
       "        vertical-align: middle;\n",
       "    }\n",
       "\n",
       "    .dataframe tbody tr th {\n",
       "        vertical-align: top;\n",
       "    }\n",
       "\n",
       "    .dataframe thead th {\n",
       "        text-align: right;\n",
       "    }\n",
       "</style>\n",
       "<table border=\"1\" class=\"dataframe\">\n",
       "  <thead>\n",
       "    <tr style=\"text-align: right;\">\n",
       "      <th></th>\n",
       "      <th>folioviv</th>\n",
       "      <th>foliohog</th>\n",
       "      <th>ubica_geo</th>\n",
       "      <th>ageb</th>\n",
       "      <th>tam_loc</th>\n",
       "      <th>est_socio</th>\n",
       "      <th>est_dis</th>\n",
       "      <th>upm</th>\n",
       "      <th>factor</th>\n",
       "      <th>clase_hog</th>\n",
       "      <th>...</th>\n",
       "      <th>deposito</th>\n",
       "      <th>prest_terc</th>\n",
       "      <th>pago_tarje</th>\n",
       "      <th>deudas</th>\n",
       "      <th>balance</th>\n",
       "      <th>otras_erog</th>\n",
       "      <th>smg</th>\n",
       "      <th>CVE_ENT</th>\n",
       "      <th>CVE_MUN</th>\n",
       "      <th>CVE_LOC</th>\n",
       "    </tr>\n",
       "  </thead>\n",
       "  <tbody>\n",
       "    <tr>\n",
       "      <th>0</th>\n",
       "      <td>900168801</td>\n",
       "      <td>1</td>\n",
       "      <td>090020000</td>\n",
       "      <td>000-0</td>\n",
       "      <td>1</td>\n",
       "      <td>2</td>\n",
       "      <td>133</td>\n",
       "      <td>24120</td>\n",
       "      <td>1265</td>\n",
       "      <td>3</td>\n",
       "      <td>...</td>\n",
       "      <td>0.0</td>\n",
       "      <td>0.0</td>\n",
       "      <td>0.0</td>\n",
       "      <td>0.00</td>\n",
       "      <td>0.0</td>\n",
       "      <td>0.0</td>\n",
       "      <td>6573.6</td>\n",
       "      <td>09</td>\n",
       "      <td>002</td>\n",
       "      <td>0000</td>\n",
       "    </tr>\n",
       "    <tr>\n",
       "      <th>1</th>\n",
       "      <td>900168802</td>\n",
       "      <td>1</td>\n",
       "      <td>090020000</td>\n",
       "      <td>000-0</td>\n",
       "      <td>1</td>\n",
       "      <td>2</td>\n",
       "      <td>133</td>\n",
       "      <td>24120</td>\n",
       "      <td>1265</td>\n",
       "      <td>1</td>\n",
       "      <td>...</td>\n",
       "      <td>0.0</td>\n",
       "      <td>0.0</td>\n",
       "      <td>0.0</td>\n",
       "      <td>0.00</td>\n",
       "      <td>0.0</td>\n",
       "      <td>0.0</td>\n",
       "      <td>6573.6</td>\n",
       "      <td>09</td>\n",
       "      <td>002</td>\n",
       "      <td>0000</td>\n",
       "    </tr>\n",
       "    <tr>\n",
       "      <th>2</th>\n",
       "      <td>900168804</td>\n",
       "      <td>1</td>\n",
       "      <td>090020000</td>\n",
       "      <td>000-0</td>\n",
       "      <td>1</td>\n",
       "      <td>2</td>\n",
       "      <td>133</td>\n",
       "      <td>24120</td>\n",
       "      <td>1265</td>\n",
       "      <td>2</td>\n",
       "      <td>...</td>\n",
       "      <td>0.0</td>\n",
       "      <td>0.0</td>\n",
       "      <td>0.0</td>\n",
       "      <td>0.00</td>\n",
       "      <td>0.0</td>\n",
       "      <td>0.0</td>\n",
       "      <td>6573.6</td>\n",
       "      <td>09</td>\n",
       "      <td>002</td>\n",
       "      <td>0000</td>\n",
       "    </tr>\n",
       "    <tr>\n",
       "      <th>3</th>\n",
       "      <td>900168805</td>\n",
       "      <td>1</td>\n",
       "      <td>090020000</td>\n",
       "      <td>000-0</td>\n",
       "      <td>1</td>\n",
       "      <td>2</td>\n",
       "      <td>133</td>\n",
       "      <td>24120</td>\n",
       "      <td>1265</td>\n",
       "      <td>1</td>\n",
       "      <td>...</td>\n",
       "      <td>0.0</td>\n",
       "      <td>0.0</td>\n",
       "      <td>0.0</td>\n",
       "      <td>0.00</td>\n",
       "      <td>0.0</td>\n",
       "      <td>0.0</td>\n",
       "      <td>6573.6</td>\n",
       "      <td>09</td>\n",
       "      <td>002</td>\n",
       "      <td>0000</td>\n",
       "    </tr>\n",
       "    <tr>\n",
       "      <th>4</th>\n",
       "      <td>900168806</td>\n",
       "      <td>1</td>\n",
       "      <td>090020000</td>\n",
       "      <td>000-0</td>\n",
       "      <td>1</td>\n",
       "      <td>2</td>\n",
       "      <td>133</td>\n",
       "      <td>24120</td>\n",
       "      <td>1265</td>\n",
       "      <td>1</td>\n",
       "      <td>...</td>\n",
       "      <td>0.0</td>\n",
       "      <td>0.0</td>\n",
       "      <td>0.0</td>\n",
       "      <td>10327.86</td>\n",
       "      <td>0.0</td>\n",
       "      <td>0.0</td>\n",
       "      <td>6573.6</td>\n",
       "      <td>09</td>\n",
       "      <td>002</td>\n",
       "      <td>0000</td>\n",
       "    </tr>\n",
       "  </tbody>\n",
       "</table>\n",
       "<p>5 rows × 130 columns</p>\n",
       "</div>"
      ],
      "text/plain": [
       "    folioviv  foliohog  ubica_geo   ageb  tam_loc  est_socio  est_dis    upm  \\\n",
       "0  900168801         1  090020000  000-0        1          2      133  24120   \n",
       "1  900168802         1  090020000  000-0        1          2      133  24120   \n",
       "2  900168804         1  090020000  000-0        1          2      133  24120   \n",
       "3  900168805         1  090020000  000-0        1          2      133  24120   \n",
       "4  900168806         1  090020000  000-0        1          2      133  24120   \n",
       "\n",
       "   factor  clase_hog  ...  deposito  prest_terc  pago_tarje    deudas  \\\n",
       "0    1265          3  ...       0.0         0.0         0.0      0.00   \n",
       "1    1265          1  ...       0.0         0.0         0.0      0.00   \n",
       "2    1265          2  ...       0.0         0.0         0.0      0.00   \n",
       "3    1265          1  ...       0.0         0.0         0.0      0.00   \n",
       "4    1265          1  ...       0.0         0.0         0.0  10327.86   \n",
       "\n",
       "   balance  otras_erog     smg  CVE_ENT  CVE_MUN  CVE_LOC  \n",
       "0      0.0         0.0  6573.6       09      002     0000  \n",
       "1      0.0         0.0  6573.6       09      002     0000  \n",
       "2      0.0         0.0  6573.6       09      002     0000  \n",
       "3      0.0         0.0  6573.6       09      002     0000  \n",
       "4      0.0         0.0  6573.6       09      002     0000  \n",
       "\n",
       "[5 rows x 130 columns]"
      ]
     },
     "execution_count": 46,
     "metadata": {},
     "output_type": "execute_result"
    }
   ],
   "source": [
    "df_09.head()"
   ]
  },
  {
   "cell_type": "code",
   "execution_count": 47,
   "metadata": {},
   "outputs": [],
   "source": [
    "#list(df_09.columns)"
   ]
  },
  {
   "cell_type": "code",
   "execution_count": 49,
   "metadata": {},
   "outputs": [
    {
     "data": {
      "text/plain": [
       "array(['0000'], dtype=object)"
      ]
     },
     "execution_count": 49,
     "metadata": {},
     "output_type": "execute_result"
    }
   ],
   "source": [
    "df_09['CVE_LOC'].unique()"
   ]
  },
  {
   "cell_type": "code",
   "execution_count": 50,
   "metadata": {},
   "outputs": [],
   "source": [
    "list_folios = ['folioviv', 'foliohog', 'ubica_geo', 'ageb', 'est_dis', 'upm', 'factor', 'smg', 'CVE_LOC', 'CVE_ENT']"
   ]
  },
  {
   "cell_type": "code",
   "execution_count": 51,
   "metadata": {},
   "outputs": [],
   "source": [
    "df_09.drop(labels=list_folios, axis=1, inplace=True)"
   ]
  },
  {
   "cell_type": "code",
   "execution_count": 52,
   "metadata": {},
   "outputs": [],
   "source": [
    "df_09.fillna(value=-1, inplace=True)"
   ]
  },
  {
   "cell_type": "code",
   "execution_count": 53,
   "metadata": {},
   "outputs": [],
   "source": [
    "df_09.replace(to_replace=-1, value=np.NaN, inplace=True)"
   ]
  },
  {
   "cell_type": "code",
   "execution_count": 54,
   "metadata": {},
   "outputs": [
    {
     "data": {
      "text/plain": [
       "Text(0, 0.5, 'Observaciones')"
      ]
     },
     "execution_count": 54,
     "metadata": {},
     "output_type": "execute_result"
    },
    {
     "data": {
      "image/png": "[encoded data removed]",
      "text/plain": [
       "<Figure size 1800x720 with 1 Axes>"
      ]
     },
     "metadata": {
      "needs_background": "light"
     },
     "output_type": "display_data"
    }
   ],
   "source": [
    "msno.matrix(df_09, fontsize=50, sparkline=False, labels=False)\n",
    "plt.xlabel('Columnas', fontsize=20)\n",
    "plt.ylabel('Observaciones', fontsize=20)\n",
    "#plt.savefig('../../../images/envipe/df_tmod_vic_envipe2016_09.png', dpi=300)"
   ]
  },
  {
   "cell_type": "code",
   "execution_count": 55,
   "metadata": {},
   "outputs": [
    {
     "data": {
      "text/plain": [
       "Text(0, 0.5, 'Observaciones')"
      ]
     },
     "execution_count": 55,
     "metadata": {},
     "output_type": "execute_result"
    },
    {
     "data": {
      "image/png": "[encoded data removed]",
      "text/plain": [
       "<Figure size 1728x720 with 2 Axes>"
      ]
     },
     "metadata": {
      "needs_background": "light"
     },
     "output_type": "display_data"
    }
   ],
   "source": [
    "msno.bar(df_09, fontsize=10, labels=False)\n",
    "plt.xlabel('Columnas', fontsize=20)\n",
    "plt.ylabel('Observaciones', fontsize=20)\n",
    "#plt.savefig('../../../images/envipe/df_tmod_vic_envipe2016_09.png', dpi=300)"
   ]
  },
  {
   "cell_type": "code",
   "execution_count": 56,
   "metadata": {},
   "outputs": [],
   "source": [
    "df_09.replace(to_replace=np.NaN, value=-1, inplace=True)"
   ]
  },
  {
   "cell_type": "code",
   "execution_count": 57,
   "metadata": {},
   "outputs": [
    {
     "data": {
      "text/plain": [
       "[]"
      ]
     },
     "execution_count": 57,
     "metadata": {},
     "output_type": "execute_result"
    }
   ],
   "source": [
    "df_09.columns[df_09.isnull().any()].tolist()"
   ]
  },
  {
   "cell_type": "code",
   "execution_count": 58,
   "metadata": {},
   "outputs": [
    {
     "data": {
      "text/plain": [
       "1386"
      ]
     },
     "execution_count": 58,
     "metadata": {},
     "output_type": "execute_result"
    }
   ],
   "source": [
    "threshold = round(df_09.shape[0]*.8)\n",
    "threshold"
   ]
  },
  {
   "cell_type": "code",
   "execution_count": 59,
   "metadata": {},
   "outputs": [],
   "source": [
    "l = []\n",
    "for column in df_09.columns:\n",
    "    na_column =  df_09[column].value_counts().get(-1)\n",
    "    if(na_column != None):\n",
    "        if (df_09.shape[0] - na_column < threshold):\n",
    "            print(column, ': ', df_09.shape[0] - na_column, ' - ', threshold)\n",
    "            print(column, 'd e l e t e d')\n",
    "            l.append(column)"
   ]
  },
  {
   "cell_type": "code",
   "execution_count": 60,
   "metadata": {},
   "outputs": [
    {
     "data": {
      "text/plain": [
       "(1733, 120)"
      ]
     },
     "execution_count": 60,
     "metadata": {},
     "output_type": "execute_result"
    }
   ],
   "source": [
    "df_09.shape"
   ]
  },
  {
   "cell_type": "code",
   "execution_count": 63,
   "metadata": {},
   "outputs": [],
   "source": [
    "file_df_09 = '../../../../../../../dataframes/enigh/CONCENTRADOHOGAR/mixed/df_09.csv'"
   ]
  },
  {
   "cell_type": "code",
   "execution_count": 64,
   "metadata": {},
   "outputs": [],
   "source": [
    "df_09.to_csv(file_df_09,index = False, header = True, sep = ',', encoding = 'utf-8')"
   ]
  },
  {
   "cell_type": "code",
   "execution_count": null,
   "metadata": {},
   "outputs": [],
   "source": []
  }
 ],
 "metadata": {
  "kernelspec": {
   "display_name": "Python 3",
   "language": "python",
   "name": "python3"
  },
  "language_info": {
   "codemirror_mode": {
    "name": "ipython",
    "version": 3
   },
   "file_extension": ".py",
   "mimetype": "text/x-python",
   "name": "python",
   "nbconvert_exporter": "python",
   "pygments_lexer": "ipython3",
   "version": "3.7.2"
  }
 },
 "nbformat": 4,
 "nbformat_minor": 2
}
