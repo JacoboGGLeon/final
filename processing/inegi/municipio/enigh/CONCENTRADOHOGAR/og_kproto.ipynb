{
 "cells": [
  {
   "cell_type": "code",
   "execution_count": 23,
   "metadata": {},
   "outputs": [],
   "source": [
    "library(SpatEntropy)\n",
    "library(ggplot2)\n",
    "library(stats)\n",
    "library(factoextra)\n",
    "library(clusterCrit)\n",
    "library(scatterplot3d)\n",
    "library(kmed)\n",
    "library(plotly)\n",
    "library(clustMixType)\n",
    "library(kimisc)\n"
   ]
  },
  {
   "cell_type": "code",
   "execution_count": 24,
   "metadata": {},
   "outputs": [],
   "source": [
    "file = '../../../../../../dataframes/enigh/CONCENTRADOHOGAR/mixed/df_09_clean.csv'\n"
   ]
  },
  {
   "cell_type": "code",
   "execution_count": 25,
   "metadata": {},
   "outputs": [
    {
     "data": {
      "text/html": [
       "<table>\n",
       "<thead><tr><th scope=col>tam_loc</th><th scope=col>est_socio</th><th scope=col>clase_hog</th><th scope=col>sexo_jefe</th><th scope=col>edad_jefe</th><th scope=col>educa_jefe</th><th scope=col>tot_integ</th><th scope=col>hombres</th><th scope=col>mujeres</th><th scope=col>mayores</th><th scope=col>⋯</th><th scope=col>cuota_viv</th><th scope=col>mater_serv</th><th scope=col>material</th><th scope=col>servicio</th><th scope=col>deposito</th><th scope=col>prest_terc</th><th scope=col>pago_tarje</th><th scope=col>deudas</th><th scope=col>balance</th><th scope=col>otras_erog</th></tr></thead>\n",
       "<tbody>\n",
       "\t<tr><td>1    </td><td>2    </td><td>3    </td><td>1    </td><td>40   </td><td> 8   </td><td>4    </td><td>1    </td><td>3    </td><td>3    </td><td>⋯    </td><td>0    </td><td>  0  </td><td>  0  </td><td>0    </td><td>0    </td><td>0    </td><td>0    </td><td>    0</td><td>   0 </td><td>0    </td></tr>\n",
       "\t<tr><td>1    </td><td>2    </td><td>1    </td><td>1    </td><td>83   </td><td> 8   </td><td>1    </td><td>1    </td><td>0    </td><td>1    </td><td>⋯    </td><td>0    </td><td>  0  </td><td>  0  </td><td>0    </td><td>0    </td><td>0    </td><td>0    </td><td>    0</td><td>   0 </td><td>0    </td></tr>\n",
       "\t<tr><td>1    </td><td>2    </td><td>2    </td><td>2    </td><td>44   </td><td> 8   </td><td>3    </td><td>2    </td><td>1    </td><td>2    </td><td>⋯    </td><td>0    </td><td>  0  </td><td>  0  </td><td>0    </td><td>0    </td><td>0    </td><td>0    </td><td>    0</td><td>   0 </td><td>0    </td></tr>\n",
       "\t<tr><td>1    </td><td>2    </td><td>1    </td><td>1    </td><td>48   </td><td>10   </td><td>1    </td><td>1    </td><td>0    </td><td>1    </td><td>⋯    </td><td>0    </td><td>  0  </td><td>  0  </td><td>0    </td><td>0    </td><td>0    </td><td>0    </td><td>    0</td><td>   0 </td><td>0    </td></tr>\n",
       "\t<tr><td>1    </td><td>2    </td><td>1    </td><td>1    </td><td>75   </td><td>10   </td><td>1    </td><td>1    </td><td>0    </td><td>1    </td><td>⋯    </td><td>0    </td><td>  0  </td><td>  0  </td><td>0    </td><td>0    </td><td>0    </td><td>0    </td><td>10327</td><td>   0 </td><td>0    </td></tr>\n",
       "\t<tr><td>1    </td><td>2    </td><td>3    </td><td>1    </td><td>60   </td><td> 4   </td><td>8    </td><td>2    </td><td>6    </td><td>7    </td><td>⋯    </td><td>0    </td><td>929  </td><td>929  </td><td>0    </td><td>0    </td><td>0    </td><td>0    </td><td>    0</td><td>1076 </td><td>0    </td></tr>\n",
       "</tbody>\n",
       "</table>\n"
      ],
      "text/latex": [
       "\\begin{tabular}{r|lllllllllllllllllllllllllllllllllllllllllllllllllllllllllllllllllllllllllllllllllllllllllllllllllllllllllllllllllllll}\n",
       " tam\\_loc & est\\_socio & clase\\_hog & sexo\\_jefe & edad\\_jefe & educa\\_jefe & tot\\_integ & hombres & mujeres & mayores & ⋯ & cuota\\_viv & mater\\_serv & material & servicio & deposito & prest\\_terc & pago\\_tarje & deudas & balance & otras\\_erog\\\\\n",
       "\\hline\n",
       "\t 1     & 2     & 3     & 1     & 40    &  8    & 4     & 1     & 3     & 3     & ⋯     & 0     &   0   &   0   & 0     & 0     & 0     & 0     &     0 &    0  & 0    \\\\\n",
       "\t 1     & 2     & 1     & 1     & 83    &  8    & 1     & 1     & 0     & 1     & ⋯     & 0     &   0   &   0   & 0     & 0     & 0     & 0     &     0 &    0  & 0    \\\\\n",
       "\t 1     & 2     & 2     & 2     & 44    &  8    & 3     & 2     & 1     & 2     & ⋯     & 0     &   0   &   0   & 0     & 0     & 0     & 0     &     0 &    0  & 0    \\\\\n",
       "\t 1     & 2     & 1     & 1     & 48    & 10    & 1     & 1     & 0     & 1     & ⋯     & 0     &   0   &   0   & 0     & 0     & 0     & 0     &     0 &    0  & 0    \\\\\n",
       "\t 1     & 2     & 1     & 1     & 75    & 10    & 1     & 1     & 0     & 1     & ⋯     & 0     &   0   &   0   & 0     & 0     & 0     & 0     & 10327 &    0  & 0    \\\\\n",
       "\t 1     & 2     & 3     & 1     & 60    &  4    & 8     & 2     & 6     & 7     & ⋯     & 0     & 929   & 929   & 0     & 0     & 0     & 0     &     0 & 1076  & 0    \\\\\n",
       "\\end{tabular}\n"
      ],
      "text/markdown": [
       "\n",
       "| tam_loc | est_socio | clase_hog | sexo_jefe | edad_jefe | educa_jefe | tot_integ | hombres | mujeres | mayores | ⋯ | cuota_viv | mater_serv | material | servicio | deposito | prest_terc | pago_tarje | deudas | balance | otras_erog |\n",
       "|---|---|---|---|---|---|---|---|---|---|---|---|---|---|---|---|---|---|---|---|---|\n",
       "| 1     | 2     | 3     | 1     | 40    |  8    | 4     | 1     | 3     | 3     | ⋯     | 0     |   0   |   0   | 0     | 0     | 0     | 0     |     0 |    0  | 0     |\n",
       "| 1     | 2     | 1     | 1     | 83    |  8    | 1     | 1     | 0     | 1     | ⋯     | 0     |   0   |   0   | 0     | 0     | 0     | 0     |     0 |    0  | 0     |\n",
       "| 1     | 2     | 2     | 2     | 44    |  8    | 3     | 2     | 1     | 2     | ⋯     | 0     |   0   |   0   | 0     | 0     | 0     | 0     |     0 |    0  | 0     |\n",
       "| 1     | 2     | 1     | 1     | 48    | 10    | 1     | 1     | 0     | 1     | ⋯     | 0     |   0   |   0   | 0     | 0     | 0     | 0     |     0 |    0  | 0     |\n",
       "| 1     | 2     | 1     | 1     | 75    | 10    | 1     | 1     | 0     | 1     | ⋯     | 0     |   0   |   0   | 0     | 0     | 0     | 0     | 10327 |    0  | 0     |\n",
       "| 1     | 2     | 3     | 1     | 60    |  4    | 8     | 2     | 6     | 7     | ⋯     | 0     | 929   | 929   | 0     | 0     | 0     | 0     |     0 | 1076  | 0     |\n",
       "\n"
      ],
      "text/plain": [
       "  tam_loc est_socio clase_hog sexo_jefe edad_jefe educa_jefe tot_integ hombres\n",
       "1 1       2         3         1         40         8         4         1      \n",
       "2 1       2         1         1         83         8         1         1      \n",
       "3 1       2         2         2         44         8         3         2      \n",
       "4 1       2         1         1         48        10         1         1      \n",
       "5 1       2         1         1         75        10         1         1      \n",
       "6 1       2         3         1         60         4         8         2      \n",
       "  mujeres mayores ⋯ cuota_viv mater_serv material servicio deposito prest_terc\n",
       "1 3       3       ⋯ 0           0          0      0        0        0         \n",
       "2 0       1       ⋯ 0           0          0      0        0        0         \n",
       "3 1       2       ⋯ 0           0          0      0        0        0         \n",
       "4 0       1       ⋯ 0           0          0      0        0        0         \n",
       "5 0       1       ⋯ 0           0          0      0        0        0         \n",
       "6 6       7       ⋯ 0         929        929      0        0        0         \n",
       "  pago_tarje deudas balance otras_erog\n",
       "1 0              0     0    0         \n",
       "2 0              0     0    0         \n",
       "3 0              0     0    0         \n",
       "4 0              0     0    0         \n",
       "5 0          10327     0    0         \n",
       "6 0              0  1076    0         "
      ]
     },
     "metadata": {},
     "output_type": "display_data"
    }
   ],
   "source": [
    "#cargar\n",
    "df <- read.csv(file = file)\n",
    "data <- df\n",
    "head(data)"
   ]
  },
  {
   "cell_type": "code",
   "execution_count": 26,
   "metadata": {},
   "outputs": [],
   "source": [
    "file = '../../../../../../dataframes/enigh/CONCENTRADOHOGAR/mixed/df_09_clean.csv'\n"
   ]
  },
  {
   "cell_type": "code",
   "execution_count": 27,
   "metadata": {},
   "outputs": [
    {
     "data": {
      "text/html": [
       "<table>\n",
       "<thead><tr><th scope=col>tam_loc</th><th scope=col>est_socio</th><th scope=col>clase_hog</th><th scope=col>sexo_jefe</th><th scope=col>edad_jefe</th><th scope=col>educa_jefe</th><th scope=col>tot_integ</th><th scope=col>hombres</th><th scope=col>mujeres</th><th scope=col>mayores</th><th scope=col>⋯</th><th scope=col>cuota_viv</th><th scope=col>mater_serv</th><th scope=col>material</th><th scope=col>servicio</th><th scope=col>deposito</th><th scope=col>prest_terc</th><th scope=col>pago_tarje</th><th scope=col>deudas</th><th scope=col>balance</th><th scope=col>otras_erog</th></tr></thead>\n",
       "<tbody>\n",
       "\t<tr><td>1    </td><td>2    </td><td>3    </td><td>1    </td><td>40   </td><td> 8   </td><td>4    </td><td>1    </td><td>3    </td><td>3    </td><td>⋯    </td><td>0    </td><td>  0  </td><td>  0  </td><td>0    </td><td>0    </td><td>0    </td><td>0    </td><td>    0</td><td>   0 </td><td>0    </td></tr>\n",
       "\t<tr><td>1    </td><td>2    </td><td>1    </td><td>1    </td><td>83   </td><td> 8   </td><td>1    </td><td>1    </td><td>0    </td><td>1    </td><td>⋯    </td><td>0    </td><td>  0  </td><td>  0  </td><td>0    </td><td>0    </td><td>0    </td><td>0    </td><td>    0</td><td>   0 </td><td>0    </td></tr>\n",
       "\t<tr><td>1    </td><td>2    </td><td>2    </td><td>2    </td><td>44   </td><td> 8   </td><td>3    </td><td>2    </td><td>1    </td><td>2    </td><td>⋯    </td><td>0    </td><td>  0  </td><td>  0  </td><td>0    </td><td>0    </td><td>0    </td><td>0    </td><td>    0</td><td>   0 </td><td>0    </td></tr>\n",
       "\t<tr><td>1    </td><td>2    </td><td>1    </td><td>1    </td><td>48   </td><td>10   </td><td>1    </td><td>1    </td><td>0    </td><td>1    </td><td>⋯    </td><td>0    </td><td>  0  </td><td>  0  </td><td>0    </td><td>0    </td><td>0    </td><td>0    </td><td>    0</td><td>   0 </td><td>0    </td></tr>\n",
       "\t<tr><td>1    </td><td>2    </td><td>1    </td><td>1    </td><td>75   </td><td>10   </td><td>1    </td><td>1    </td><td>0    </td><td>1    </td><td>⋯    </td><td>0    </td><td>  0  </td><td>  0  </td><td>0    </td><td>0    </td><td>0    </td><td>0    </td><td>10327</td><td>   0 </td><td>0    </td></tr>\n",
       "\t<tr><td>1    </td><td>2    </td><td>3    </td><td>1    </td><td>60   </td><td> 4   </td><td>8    </td><td>2    </td><td>6    </td><td>7    </td><td>⋯    </td><td>0    </td><td>929  </td><td>929  </td><td>0    </td><td>0    </td><td>0    </td><td>0    </td><td>    0</td><td>1076 </td><td>0    </td></tr>\n",
       "</tbody>\n",
       "</table>\n"
      ],
      "text/latex": [
       "\\begin{tabular}{r|lllllllllllllllllllllllllllllllllllllllllllllllllllllllllllllllllllllllllllllllllllllllllllllllllllllllllllllllllllll}\n",
       " tam\\_loc & est\\_socio & clase\\_hog & sexo\\_jefe & edad\\_jefe & educa\\_jefe & tot\\_integ & hombres & mujeres & mayores & ⋯ & cuota\\_viv & mater\\_serv & material & servicio & deposito & prest\\_terc & pago\\_tarje & deudas & balance & otras\\_erog\\\\\n",
       "\\hline\n",
       "\t 1     & 2     & 3     & 1     & 40    &  8    & 4     & 1     & 3     & 3     & ⋯     & 0     &   0   &   0   & 0     & 0     & 0     & 0     &     0 &    0  & 0    \\\\\n",
       "\t 1     & 2     & 1     & 1     & 83    &  8    & 1     & 1     & 0     & 1     & ⋯     & 0     &   0   &   0   & 0     & 0     & 0     & 0     &     0 &    0  & 0    \\\\\n",
       "\t 1     & 2     & 2     & 2     & 44    &  8    & 3     & 2     & 1     & 2     & ⋯     & 0     &   0   &   0   & 0     & 0     & 0     & 0     &     0 &    0  & 0    \\\\\n",
       "\t 1     & 2     & 1     & 1     & 48    & 10    & 1     & 1     & 0     & 1     & ⋯     & 0     &   0   &   0   & 0     & 0     & 0     & 0     &     0 &    0  & 0    \\\\\n",
       "\t 1     & 2     & 1     & 1     & 75    & 10    & 1     & 1     & 0     & 1     & ⋯     & 0     &   0   &   0   & 0     & 0     & 0     & 0     & 10327 &    0  & 0    \\\\\n",
       "\t 1     & 2     & 3     & 1     & 60    &  4    & 8     & 2     & 6     & 7     & ⋯     & 0     & 929   & 929   & 0     & 0     & 0     & 0     &     0 & 1076  & 0    \\\\\n",
       "\\end{tabular}\n"
      ],
      "text/markdown": [
       "\n",
       "| tam_loc | est_socio | clase_hog | sexo_jefe | edad_jefe | educa_jefe | tot_integ | hombres | mujeres | mayores | ⋯ | cuota_viv | mater_serv | material | servicio | deposito | prest_terc | pago_tarje | deudas | balance | otras_erog |\n",
       "|---|---|---|---|---|---|---|---|---|---|---|---|---|---|---|---|---|---|---|---|---|\n",
       "| 1     | 2     | 3     | 1     | 40    |  8    | 4     | 1     | 3     | 3     | ⋯     | 0     |   0   |   0   | 0     | 0     | 0     | 0     |     0 |    0  | 0     |\n",
       "| 1     | 2     | 1     | 1     | 83    |  8    | 1     | 1     | 0     | 1     | ⋯     | 0     |   0   |   0   | 0     | 0     | 0     | 0     |     0 |    0  | 0     |\n",
       "| 1     | 2     | 2     | 2     | 44    |  8    | 3     | 2     | 1     | 2     | ⋯     | 0     |   0   |   0   | 0     | 0     | 0     | 0     |     0 |    0  | 0     |\n",
       "| 1     | 2     | 1     | 1     | 48    | 10    | 1     | 1     | 0     | 1     | ⋯     | 0     |   0   |   0   | 0     | 0     | 0     | 0     |     0 |    0  | 0     |\n",
       "| 1     | 2     | 1     | 1     | 75    | 10    | 1     | 1     | 0     | 1     | ⋯     | 0     |   0   |   0   | 0     | 0     | 0     | 0     | 10327 |    0  | 0     |\n",
       "| 1     | 2     | 3     | 1     | 60    |  4    | 8     | 2     | 6     | 7     | ⋯     | 0     | 929   | 929   | 0     | 0     | 0     | 0     |     0 | 1076  | 0     |\n",
       "\n"
      ],
      "text/plain": [
       "  tam_loc est_socio clase_hog sexo_jefe edad_jefe educa_jefe tot_integ hombres\n",
       "1 1       2         3         1         40         8         4         1      \n",
       "2 1       2         1         1         83         8         1         1      \n",
       "3 1       2         2         2         44         8         3         2      \n",
       "4 1       2         1         1         48        10         1         1      \n",
       "5 1       2         1         1         75        10         1         1      \n",
       "6 1       2         3         1         60         4         8         2      \n",
       "  mujeres mayores ⋯ cuota_viv mater_serv material servicio deposito prest_terc\n",
       "1 3       3       ⋯ 0           0          0      0        0        0         \n",
       "2 0       1       ⋯ 0           0          0      0        0        0         \n",
       "3 1       2       ⋯ 0           0          0      0        0        0         \n",
       "4 0       1       ⋯ 0           0          0      0        0        0         \n",
       "5 0       1       ⋯ 0           0          0      0        0        0         \n",
       "6 6       7       ⋯ 0         929        929      0        0        0         \n",
       "  pago_tarje deudas balance otras_erog\n",
       "1 0              0     0    0         \n",
       "2 0              0     0    0         \n",
       "3 0              0     0    0         \n",
       "4 0              0     0    0         \n",
       "5 0          10327     0    0         \n",
       "6 0              0  1076    0         "
      ]
     },
     "metadata": {},
     "output_type": "display_data"
    }
   ],
   "source": [
    "#cargar\n",
    "df <- read.csv(file = file)\n",
    "data_tra <- df\n",
    "head(data_tra)"
   ]
  },
  {
   "cell_type": "code",
   "execution_count": 28,
   "metadata": {},
   "outputs": [
    {
     "data": {
      "text/html": [
       "117"
      ],
      "text/latex": [
       "117"
      ],
      "text/markdown": [
       "117"
      ],
      "text/plain": [
       "[1] 117"
      ]
     },
     "metadata": {},
     "output_type": "display_data"
    }
   ],
   "source": [
    "ncol(data)"
   ]
  },
  {
   "cell_type": "code",
   "execution_count": 29,
   "metadata": {},
   "outputs": [],
   "source": [
    "list_cat = c('tam_loc', 'est_socio', 'clase_hog', 'sexo_jefe', 'educa_jefe')"
   ]
  },
  {
   "cell_type": "code",
   "execution_count": 30,
   "metadata": {},
   "outputs": [],
   "source": [
    "list_num = c('edad_jefe','tot_integ', 'hombres', 'mujeres', 'mayores', 'menores', 'p12_64',\n",
    " 'p65mas', 'ocupados', 'percep_ing', 'perc_ocupa', 'ing_cor', 'ingtrab', 'trabajo', 'sueldos',\n",
    " 'horas_extr', 'comisiones', 'aguinaldo', 'indemtrab', 'otra_rem', 'remu_espec', 'negocio',\n",
    " 'noagrop', 'industria', 'comercio', 'servicios', 'agrope', 'agricolas', 'pecuarios', 'otros_trab', 'rentas', 'utilidad', 'arrenda', 'transfer', 'jubilacion', 'becas', 'donativos', 'remesas',\n",
    " 'bene_gob', 'transf_hog', 'trans_inst', 'estim_alqu', 'otros_ing', 'gasto_mon', 'alimentos', 'ali_dentro',\n",
    " 'cereales', 'carnes', 'pescado', 'leche', 'huevo', 'aceites', 'tuberculo', 'verduras', 'frutas', 'azucar', 'cafe', 'especias', 'otros_alim', 'bebidas', 'ali_fuera', 'tabaco',\n",
    " 'vesti_calz', 'vestido', 'calzado', 'vivienda', 'alquiler', 'pred_cons', 'agua', 'energia',\n",
    " 'limpieza', 'cuidados', 'utensilios', 'enseres', 'salud', 'atenc_ambu', 'hospital', 'medicinas', 'transporte',\n",
    " 'publico', 'foraneo', 'adqui_vehi', 'mantenim', 'refaccion', 'combus', 'comunica', 'educa_espa', 'educacion',\n",
    " 'esparci', 'paq_turist', 'personales', 'cuida_pers', 'acces_pers', 'otros_gas', 'transf_gas', 'percep_tot',\n",
    " 'retiro_inv', 'prestamos', 'otras_perc', 'ero_nm_viv', 'ero_nm_hog', 'erogac_tot', 'cuota_viv', 'mater_serv',\n",
    " 'material', 'servicio', 'deposito', 'prest_terc', 'pago_tarje', 'deudas', 'balance', 'otras_erog')"
   ]
  },
  {
   "cell_type": "code",
   "execution_count": 31,
   "metadata": {},
   "outputs": [
    {
     "data": {
      "text/html": [
       "<table>\n",
       "<thead><tr><th scope=col>tam_loc</th><th scope=col>est_socio</th><th scope=col>clase_hog</th><th scope=col>sexo_jefe</th><th scope=col>educa_jefe</th></tr></thead>\n",
       "<tbody>\n",
       "\t<tr><td>1 </td><td>2 </td><td>3 </td><td>1 </td><td>8 </td></tr>\n",
       "\t<tr><td>1 </td><td>2 </td><td>1 </td><td>1 </td><td>8 </td></tr>\n",
       "\t<tr><td>1 </td><td>2 </td><td>2 </td><td>2 </td><td>8 </td></tr>\n",
       "\t<tr><td>1 </td><td>2 </td><td>1 </td><td>1 </td><td>10</td></tr>\n",
       "\t<tr><td>1 </td><td>2 </td><td>1 </td><td>1 </td><td>10</td></tr>\n",
       "\t<tr><td>1 </td><td>2 </td><td>3 </td><td>1 </td><td>4 </td></tr>\n",
       "</tbody>\n",
       "</table>\n"
      ],
      "text/latex": [
       "\\begin{tabular}{r|lllll}\n",
       " tam\\_loc & est\\_socio & clase\\_hog & sexo\\_jefe & educa\\_jefe\\\\\n",
       "\\hline\n",
       "\t 1  & 2  & 3  & 1  & 8 \\\\\n",
       "\t 1  & 2  & 1  & 1  & 8 \\\\\n",
       "\t 1  & 2  & 2  & 2  & 8 \\\\\n",
       "\t 1  & 2  & 1  & 1  & 10\\\\\n",
       "\t 1  & 2  & 1  & 1  & 10\\\\\n",
       "\t 1  & 2  & 3  & 1  & 4 \\\\\n",
       "\\end{tabular}\n"
      ],
      "text/markdown": [
       "\n",
       "| tam_loc | est_socio | clase_hog | sexo_jefe | educa_jefe |\n",
       "|---|---|---|---|---|\n",
       "| 1  | 2  | 3  | 1  | 8  |\n",
       "| 1  | 2  | 1  | 1  | 8  |\n",
       "| 1  | 2  | 2  | 2  | 8  |\n",
       "| 1  | 2  | 1  | 1  | 10 |\n",
       "| 1  | 2  | 1  | 1  | 10 |\n",
       "| 1  | 2  | 3  | 1  | 4  |\n",
       "\n"
      ],
      "text/plain": [
       "  tam_loc est_socio clase_hog sexo_jefe educa_jefe\n",
       "1 1       2         3         1         8         \n",
       "2 1       2         1         1         8         \n",
       "3 1       2         2         2         8         \n",
       "4 1       2         1         1         10        \n",
       "5 1       2         1         1         10        \n",
       "6 1       2         3         1         4         "
      ]
     },
     "metadata": {},
     "output_type": "display_data"
    }
   ],
   "source": [
    "data[,list_cat] <- lapply(data[,list_cat],as.factor)\n",
    "head(data[,list_cat])"
   ]
  },
  {
   "cell_type": "code",
   "execution_count": 32,
   "metadata": {},
   "outputs": [
    {
     "data": {
      "text/html": [
       "<table>\n",
       "<thead><tr><th scope=col>edad_jefe</th><th scope=col>tot_integ</th><th scope=col>hombres</th><th scope=col>mujeres</th><th scope=col>mayores</th><th scope=col>menores</th><th scope=col>p12_64</th><th scope=col>p65mas</th><th scope=col>ocupados</th><th scope=col>percep_ing</th><th scope=col>⋯</th><th scope=col>cuota_viv</th><th scope=col>mater_serv</th><th scope=col>material</th><th scope=col>servicio</th><th scope=col>deposito</th><th scope=col>prest_terc</th><th scope=col>pago_tarje</th><th scope=col>deudas</th><th scope=col>balance</th><th scope=col>otras_erog</th></tr></thead>\n",
       "<tbody>\n",
       "\t<tr><td>40   </td><td>4    </td><td>1    </td><td>3    </td><td>3    </td><td>1    </td><td>3    </td><td>0    </td><td>2    </td><td>2    </td><td>⋯    </td><td>0    </td><td>  0  </td><td>  0  </td><td>0    </td><td>0    </td><td>0    </td><td>0    </td><td>    0</td><td>   0 </td><td>0    </td></tr>\n",
       "\t<tr><td>83   </td><td>1    </td><td>1    </td><td>0    </td><td>1    </td><td>0    </td><td>0    </td><td>1    </td><td>0    </td><td>1    </td><td>⋯    </td><td>0    </td><td>  0  </td><td>  0  </td><td>0    </td><td>0    </td><td>0    </td><td>0    </td><td>    0</td><td>   0 </td><td>0    </td></tr>\n",
       "\t<tr><td>44   </td><td>3    </td><td>2    </td><td>1    </td><td>2    </td><td>1    </td><td>2    </td><td>0    </td><td>1    </td><td>1    </td><td>⋯    </td><td>0    </td><td>  0  </td><td>  0  </td><td>0    </td><td>0    </td><td>0    </td><td>0    </td><td>    0</td><td>   0 </td><td>0    </td></tr>\n",
       "\t<tr><td>48   </td><td>1    </td><td>1    </td><td>0    </td><td>1    </td><td>0    </td><td>1    </td><td>0    </td><td>1    </td><td>1    </td><td>⋯    </td><td>0    </td><td>  0  </td><td>  0  </td><td>0    </td><td>0    </td><td>0    </td><td>0    </td><td>    0</td><td>   0 </td><td>0    </td></tr>\n",
       "\t<tr><td>75   </td><td>1    </td><td>1    </td><td>0    </td><td>1    </td><td>0    </td><td>0    </td><td>1    </td><td>0    </td><td>1    </td><td>⋯    </td><td>0    </td><td>  0  </td><td>  0  </td><td>0    </td><td>0    </td><td>0    </td><td>0    </td><td>10327</td><td>   0 </td><td>0    </td></tr>\n",
       "\t<tr><td>60   </td><td>8    </td><td>2    </td><td>6    </td><td>7    </td><td>1    </td><td>7    </td><td>0    </td><td>3    </td><td>6    </td><td>⋯    </td><td>0    </td><td>929  </td><td>929  </td><td>0    </td><td>0    </td><td>0    </td><td>0    </td><td>    0</td><td>1076 </td><td>0    </td></tr>\n",
       "</tbody>\n",
       "</table>\n"
      ],
      "text/latex": [
       "\\begin{tabular}{r|llllllllllllllllllllllllllllllllllllllllllllllllllllllllllllllllllllllllllllllllllllllllllllllllllllllllllllllll}\n",
       " edad\\_jefe & tot\\_integ & hombres & mujeres & mayores & menores & p12\\_64 & p65mas & ocupados & percep\\_ing & ⋯ & cuota\\_viv & mater\\_serv & material & servicio & deposito & prest\\_terc & pago\\_tarje & deudas & balance & otras\\_erog\\\\\n",
       "\\hline\n",
       "\t 40    & 4     & 1     & 3     & 3     & 1     & 3     & 0     & 2     & 2     & ⋯     & 0     &   0   &   0   & 0     & 0     & 0     & 0     &     0 &    0  & 0    \\\\\n",
       "\t 83    & 1     & 1     & 0     & 1     & 0     & 0     & 1     & 0     & 1     & ⋯     & 0     &   0   &   0   & 0     & 0     & 0     & 0     &     0 &    0  & 0    \\\\\n",
       "\t 44    & 3     & 2     & 1     & 2     & 1     & 2     & 0     & 1     & 1     & ⋯     & 0     &   0   &   0   & 0     & 0     & 0     & 0     &     0 &    0  & 0    \\\\\n",
       "\t 48    & 1     & 1     & 0     & 1     & 0     & 1     & 0     & 1     & 1     & ⋯     & 0     &   0   &   0   & 0     & 0     & 0     & 0     &     0 &    0  & 0    \\\\\n",
       "\t 75    & 1     & 1     & 0     & 1     & 0     & 0     & 1     & 0     & 1     & ⋯     & 0     &   0   &   0   & 0     & 0     & 0     & 0     & 10327 &    0  & 0    \\\\\n",
       "\t 60    & 8     & 2     & 6     & 7     & 1     & 7     & 0     & 3     & 6     & ⋯     & 0     & 929   & 929   & 0     & 0     & 0     & 0     &     0 & 1076  & 0    \\\\\n",
       "\\end{tabular}\n"
      ],
      "text/markdown": [
       "\n",
       "| edad_jefe | tot_integ | hombres | mujeres | mayores | menores | p12_64 | p65mas | ocupados | percep_ing | ⋯ | cuota_viv | mater_serv | material | servicio | deposito | prest_terc | pago_tarje | deudas | balance | otras_erog |\n",
       "|---|---|---|---|---|---|---|---|---|---|---|---|---|---|---|---|---|---|---|---|---|\n",
       "| 40    | 4     | 1     | 3     | 3     | 1     | 3     | 0     | 2     | 2     | ⋯     | 0     |   0   |   0   | 0     | 0     | 0     | 0     |     0 |    0  | 0     |\n",
       "| 83    | 1     | 1     | 0     | 1     | 0     | 0     | 1     | 0     | 1     | ⋯     | 0     |   0   |   0   | 0     | 0     | 0     | 0     |     0 |    0  | 0     |\n",
       "| 44    | 3     | 2     | 1     | 2     | 1     | 2     | 0     | 1     | 1     | ⋯     | 0     |   0   |   0   | 0     | 0     | 0     | 0     |     0 |    0  | 0     |\n",
       "| 48    | 1     | 1     | 0     | 1     | 0     | 1     | 0     | 1     | 1     | ⋯     | 0     |   0   |   0   | 0     | 0     | 0     | 0     |     0 |    0  | 0     |\n",
       "| 75    | 1     | 1     | 0     | 1     | 0     | 0     | 1     | 0     | 1     | ⋯     | 0     |   0   |   0   | 0     | 0     | 0     | 0     | 10327 |    0  | 0     |\n",
       "| 60    | 8     | 2     | 6     | 7     | 1     | 7     | 0     | 3     | 6     | ⋯     | 0     | 929   | 929   | 0     | 0     | 0     | 0     |     0 | 1076  | 0     |\n",
       "\n"
      ],
      "text/plain": [
       "  edad_jefe tot_integ hombres mujeres mayores menores p12_64 p65mas ocupados\n",
       "1 40        4         1       3       3       1       3      0      2       \n",
       "2 83        1         1       0       1       0       0      1      0       \n",
       "3 44        3         2       1       2       1       2      0      1       \n",
       "4 48        1         1       0       1       0       1      0      1       \n",
       "5 75        1         1       0       1       0       0      1      0       \n",
       "6 60        8         2       6       7       1       7      0      3       \n",
       "  percep_ing ⋯ cuota_viv mater_serv material servicio deposito prest_terc\n",
       "1 2          ⋯ 0           0          0      0        0        0         \n",
       "2 1          ⋯ 0           0          0      0        0        0         \n",
       "3 1          ⋯ 0           0          0      0        0        0         \n",
       "4 1          ⋯ 0           0          0      0        0        0         \n",
       "5 1          ⋯ 0           0          0      0        0        0         \n",
       "6 6          ⋯ 0         929        929      0        0        0         \n",
       "  pago_tarje deudas balance otras_erog\n",
       "1 0              0     0    0         \n",
       "2 0              0     0    0         \n",
       "3 0              0     0    0         \n",
       "4 0              0     0    0         \n",
       "5 0          10327     0    0         \n",
       "6 0              0  1076    0         "
      ]
     },
     "metadata": {},
     "output_type": "display_data"
    }
   ],
   "source": [
    "data[,list_num] <- lapply(data[,list_num],as.numeric)\n",
    "head(data[,list_num])"
   ]
  },
  {
   "cell_type": "code",
   "execution_count": 33,
   "metadata": {},
   "outputs": [],
   "source": [
    "#sample <- kimisc::sample.rows(x = data, size = 10)"
   ]
  },
  {
   "cell_type": "code",
   "execution_count": 34,
   "metadata": {},
   "outputs": [
    {
     "name": "stdout",
     "output_type": "stream",
     "text": [
      "# NAs in variables:\n",
      "   tam_loc  est_socio  clase_hog  sexo_jefe  edad_jefe educa_jefe  tot_integ \n",
      "         0          0          0          0          0          0          0 \n",
      "   hombres    mujeres    mayores    menores     p12_64     p65mas   ocupados \n",
      "         0          0          0          0          0          0          0 \n",
      "percep_ing perc_ocupa    ing_cor    ingtrab    trabajo    sueldos horas_extr \n",
      "         0          0          0          0          0          0          0 \n",
      "comisiones  aguinaldo  indemtrab   otra_rem remu_espec    negocio    noagrop \n",
      "         0          0          0          0          0          0          0 \n",
      " industria   comercio  servicios     agrope  agricolas  pecuarios otros_trab \n",
      "         0          0          0          0          0          0          0 \n",
      "    rentas   utilidad    arrenda   transfer jubilacion      becas  donativos \n",
      "         0          0          0          0          0          0          0 \n",
      "   remesas   bene_gob transf_hog trans_inst estim_alqu  otros_ing  gasto_mon \n",
      "         0          0          0          0          0          0          0 \n",
      " alimentos ali_dentro   cereales     carnes    pescado      leche      huevo \n",
      "         0          0          0          0          0          0          0 \n",
      "   aceites  tuberculo   verduras     frutas     azucar       cafe   especias \n",
      "         0          0          0          0          0          0          0 \n",
      "otros_alim    bebidas  ali_fuera     tabaco vesti_calz    vestido    calzado \n",
      "         0          0          0          0          0          0          0 \n",
      "  vivienda   alquiler  pred_cons       agua    energia   limpieza   cuidados \n",
      "         0          0          0          0          0          0          0 \n",
      "utensilios    enseres      salud atenc_ambu   hospital  medicinas transporte \n",
      "         0          0          0          0          0          0          0 \n",
      "   publico    foraneo adqui_vehi   mantenim  refaccion     combus   comunica \n",
      "         0          0          0          0          0          0          0 \n",
      "educa_espa  educacion    esparci paq_turist personales cuida_pers acces_pers \n",
      "         0          0          0          0          0          0          0 \n",
      " otros_gas transf_gas percep_tot retiro_inv  prestamos otras_perc ero_nm_viv \n",
      "         0          0          0          0          0          0          0 \n",
      "ero_nm_hog erogac_tot  cuota_viv mater_serv   material   servicio   deposito \n",
      "         0          0          0          0          0          0          0 \n",
      "prest_terc pago_tarje     deudas    balance otras_erog \n",
      "         0          0          0          0          0 \n",
      "0 observation(s) with NAs.\n",
      "\n",
      "Estimated lambda: 327928974 \n",
      "\n"
     ]
    }
   ],
   "source": [
    "kmeans <- clustMixType::kproto(x = data, k = 2)"
   ]
  },
  {
   "cell_type": "code",
   "execution_count": 37,
   "metadata": {},
   "outputs": [
    {
     "ename": "ERROR",
     "evalue": "Error in as.matrix(as.integer(data_tra)): (list) object cannot be coerced to type 'integer'\n",
     "output_type": "error",
     "traceback": [
      "Error in as.matrix(as.integer(data_tra)): (list) object cannot be coerced to type 'integer'\nTraceback:\n",
      "1. as.matrix(as.integer(data_tra))"
     ]
    }
   ],
   "source": [
    "sample <- as.matrix(as.integer(data_tra))"
   ]
  },
  {
   "cell_type": "code",
   "execution_count": 36,
   "metadata": {},
   "outputs": [
    {
     "ename": "ERROR",
     "evalue": "Error in clusterCrit::intCriteria(traj = sample, part = as.integer(kmeans$cluster), : REAL() can only be applied to a 'numeric', not a 'integer'\n",
     "output_type": "error",
     "traceback": [
      "Error in clusterCrit::intCriteria(traj = sample, part = as.integer(kmeans$cluster), : REAL() can only be applied to a 'numeric', not a 'integer'\nTraceback:\n",
      "1. clusterCrit::intCriteria(traj = sample, part = as.integer(kmeans$cluster), \n .     crit = \"dunn\")"
     ]
    }
   ],
   "source": [
    "#sample <- as.matrix(as.integer(data_tra))\n",
    "\n",
    "#kmeans <- stats::kmeans(x = sample, centers = 2, nstart = 25)\n",
    "  \n",
    "index_internal_kmeans <- clusterCrit::intCriteria(traj = sample,\n",
    "                                                  part = as.integer(kmeans$cluster), \n",
    "                                                  crit = \"dunn\")\n",
    "\n",
    "index_internal_kmeans"
   ]
  },
  {
   "cell_type": "code",
   "execution_count": null,
   "metadata": {},
   "outputs": [],
   "source": [
    "#data <- as.matrix(data)\n",
    "\n",
    "range_k = 2:10\n",
    "dunn_kmeans <- c()\n",
    "set.seed(123)\n",
    "\n",
    "for (k in range_k) {\n",
    "  set.seed(123)\n",
    "  \n",
    "  kmeans <- clustMixType::kproto(x = data, k = k, iter.max = 50, nstart = 25)\n",
    "  \n",
    "  index_internal_kmeans <- clusterCrit::intCriteria(traj = as.matrix(sample),\n",
    "                                                    part = as.integer(kmeans$cluster), \n",
    "                                                    crit = \"dunn\")\n",
    "  dunn_kmeans[k-1] <- index_internal_kmeans$dunn\n",
    "}"
   ]
  },
  {
   "cell_type": "code",
   "execution_count": null,
   "metadata": {},
   "outputs": [],
   "source": [
    "max(dunn_kmeans)"
   ]
  },
  {
   "cell_type": "code",
   "execution_count": null,
   "metadata": {},
   "outputs": [],
   "source": [
    "plot_dunn_kmeans <- ggplot2::qplot(x = range_k, \n",
    "                                   y = dunn_kmeans, \n",
    "                                   geom = 'line', \n",
    "                                   main = 'k-means', \n",
    "                                   xlab = 'k', \n",
    "                                   ylab = 'Dunn')\n",
    "\n",
    "ggplotly(\n",
    "    plot_dunn_kmeans  + \n",
    "    theme_bw() + #ylim(0,0.3) + \n",
    "    geom_vline(xintercept = range_k[which.max(dunn_kmeans)],\n",
    "               linetype = 2, color='red')   \n",
    "    )"
   ]
  },
  {
   "cell_type": "code",
   "execution_count": null,
   "metadata": {},
   "outputs": [],
   "source": [
    "kmeans <- kmeans <- kmed::fastkmed(distdata = dist_data, \n",
    "                                   ncluster = range_k[which.max(dunn_kmeans)], \n",
    "                                   iterate = 50)"
   ]
  },
  {
   "cell_type": "code",
   "execution_count": null,
   "metadata": {},
   "outputs": [],
   "source": [
    "plot_kmeans <- factoextra::fviz_cluster(object = list(data = data, \n",
    "                                                      cluster = kmeans$cluster),\n",
    "                                        data = data,\n",
    "                                        stand = F, \n",
    "                                        geom =  'point', \n",
    "                                        ellipse.type = 'convex',\n",
    "                                        ellipse = T,\n",
    "                                        main = paste('k-medoids \"mrw\" k:', range_k[which.max(dunn_kmeans)]),\n",
    "                                        outlier.color = 'black',\n",
    "                                        show.clust.cent = T)\n",
    "\n",
    "ggplotly(\n",
    "    plot_kmeans + \n",
    "    theme_bw() +\n",
    "    theme(legend.position = 'bottom')  \n",
    "    )"
   ]
  },
  {
   "cell_type": "code",
   "execution_count": null,
   "metadata": {},
   "outputs": [],
   "source": [
    "file = '../../../../../../dataframes/enigh/CONCENTRADOHOGAR/mixed/df_entropy_og_mixed.csv'\n"
   ]
  },
  {
   "cell_type": "code",
   "execution_count": null,
   "metadata": {},
   "outputs": [],
   "source": [
    "#cargar\n",
    "df <- read.csv(file = file)\n",
    "data_entropy <- df\n",
    "head(data_entropy)"
   ]
  },
  {
   "cell_type": "code",
   "execution_count": null,
   "metadata": {},
   "outputs": [],
   "source": [
    "plot_kmeans <- factoextra::fviz_cluster(object = list(data = data[c(\"ing_cor\", \"gasto_mon\")], \n",
    "                                                      cluster = kmeans$cluster),\n",
    "                                        data = data,\n",
    "                                        stand = F, \n",
    "                                        geom =  'point', \n",
    "                                        ellipse.type = 'convex',\n",
    "                                        ellipse = T,\n",
    "                                        main = paste('k-medoids \"gower\" k:', range_k[which.max(dunn_kmeans)]),\n",
    "                                        outlier.color = 'black',\n",
    "                                        show.clust.cent = T)\n",
    "\n",
    "ggplotly(\n",
    "    plot_kmeans + \n",
    "    theme_bw() +\n",
    "    theme(legend.position = 'bottom')  \n",
    "    )"
   ]
  },
  {
   "cell_type": "code",
   "execution_count": 2,
   "metadata": {},
   "outputs": [
    {
     "data": {
      "text/html": [
       "<ol class=list-inline>\n",
       "\t<li>0.0186</li>\n",
       "\t<li>0.0011</li>\n",
       "\t<li>0.0045</li>\n",
       "\t<li>0.0014</li>\n",
       "\t<li>0.003</li>\n",
       "\t<li>0.0857</li>\n",
       "\t<li>0.0155</li>\n",
       "\t<li>0.0068</li>\n",
       "\t<li>0.0012</li>\n",
       "\t<li>0.0068</li>\n",
       "</ol>\n"
      ],
      "text/latex": [
       "\\begin{enumerate*}\n",
       "\\item 0.0186\n",
       "\\item 0.0011\n",
       "\\item 0.0045\n",
       "\\item 0.0014\n",
       "\\item 0.003\n",
       "\\item 0.0857\n",
       "\\item 0.0155\n",
       "\\item 0.0068\n",
       "\\item 0.0012\n",
       "\\item 0.0068\n",
       "\\end{enumerate*}\n"
      ],
      "text/markdown": [
       "1. 0.0186\n",
       "2. 0.0011\n",
       "3. 0.0045\n",
       "4. 0.0014\n",
       "5. 0.003\n",
       "6. 0.0857\n",
       "7. 0.0155\n",
       "8. 0.0068\n",
       "9. 0.0012\n",
       "10. 0.0068\n",
       "\n",
       "\n"
      ],
      "text/plain": [
       " [1] 0.0186 0.0011 0.0045 0.0014 0.0030 0.0857 0.0155 0.0068 0.0012 0.0068"
      ]
     },
     "metadata": {},
     "output_type": "display_data"
    }
   ],
   "source": [
    "c(0.0186,0.0011,0.0045,0.0014,0.0030,0.0857,0.0155,0.0068,0.0012, 0.0068)"
   ]
  },
  {
   "cell_type": "code",
   "execution_count": null,
   "metadata": {},
   "outputs": [],
   "source": []
  }
 ],
 "metadata": {
  "kernelspec": {
   "display_name": "R",
   "language": "R",
   "name": "ir"
  },
  "language_info": {
   "codemirror_mode": "r",
   "file_extension": ".r",
   "mimetype": "text/x-r-source",
   "name": "R",
   "pygments_lexer": "r",
   "version": "3.5.1"
  }
 },
 "nbformat": 4,
 "nbformat_minor": 2
}
