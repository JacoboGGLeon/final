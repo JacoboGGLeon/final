{
 "cells": [
  {
   "cell_type": "code",
   "execution_count": 2,
   "metadata": {},
   "outputs": [],
   "source": [
    "import pandas as pd"
   ]
  },
  {
   "cell_type": "code",
   "execution_count": 38,
   "metadata": {},
   "outputs": [],
   "source": [
    "file = '../data/pgj-cdmx/PLAGIO_O_SECUESTRO.csv'"
   ]
  },
  {
   "cell_type": "code",
   "execution_count": 39,
   "metadata": {},
   "outputs": [],
   "source": [
    "df = pd.read_csv(file)"
   ]
  },
  {
   "cell_type": "code",
   "execution_count": 40,
   "metadata": {},
   "outputs": [],
   "source": [
    "df_copy = df.copy()"
   ]
  },
  {
   "cell_type": "code",
   "execution_count": 41,
   "metadata": {},
   "outputs": [
    {
     "data": {
      "text/html": [
       "<div>\n",
       "<style scoped>\n",
       "    .dataframe tbody tr th:only-of-type {\n",
       "        vertical-align: middle;\n",
       "    }\n",
       "\n",
       "    .dataframe tbody tr th {\n",
       "        vertical-align: top;\n",
       "    }\n",
       "\n",
       "    .dataframe thead th {\n",
       "        text-align: right;\n",
       "    }\n",
       "</style>\n",
       "<table border=\"1\" class=\"dataframe\">\n",
       "  <thead>\n",
       "    <tr style=\"text-align: right;\">\n",
       "      <th></th>\n",
       "      <th>ID</th>\n",
       "      <th>Año</th>\n",
       "      <th>Mes</th>\n",
       "      <th>Alcaldía</th>\n",
       "      <th>Categoría de delito</th>\n",
       "      <th>Delito</th>\n",
       "      <th>Agencia</th>\n",
       "      <th>Unidad de investigación</th>\n",
       "      <th>Fecha inicio</th>\n",
       "      <th>Fiscalía</th>\n",
       "      <th>Calle1</th>\n",
       "      <th>Calle2</th>\n",
       "      <th>Colonia</th>\n",
       "      <th>Latitud</th>\n",
       "      <th>Longitud</th>\n",
       "      <th>Mes y año</th>\n",
       "      <th>Geopoint</th>\n",
       "    </tr>\n",
       "  </thead>\n",
       "  <tbody>\n",
       "    <tr>\n",
       "      <th>0</th>\n",
       "      <td>5297</td>\n",
       "      <td>2017</td>\n",
       "      <td>Mayo</td>\n",
       "      <td>GUSTAVO A MADERO</td>\n",
       "      <td>SECUESTRO</td>\n",
       "      <td>PLAGIO O SECUESTRO</td>\n",
       "      <td>E</td>\n",
       "      <td>UI-1CD</td>\n",
       "      <td>2017-05-11T05:36:27-05:00</td>\n",
       "      <td>INVESTIGACIÓN PARA LA ATENCIÓN DEL DELITO DE S...</td>\n",
       "      <td>MANTA</td>\n",
       "      <td>NaN</td>\n",
       "      <td>LINDAVISTA</td>\n",
       "      <td>19.491553</td>\n",
       "      <td>-99.135001</td>\n",
       "      <td>2017-05</td>\n",
       "      <td>19.4915532042, -99.1350011476</td>\n",
       "    </tr>\n",
       "    <tr>\n",
       "      <th>1</th>\n",
       "      <td>5435</td>\n",
       "      <td>2016</td>\n",
       "      <td>Julio</td>\n",
       "      <td>CUAUHTEMOC</td>\n",
       "      <td>SECUESTRO</td>\n",
       "      <td>PLAGIO O SECUESTRO</td>\n",
       "      <td>E</td>\n",
       "      <td>UI-3CD</td>\n",
       "      <td>2016-07-05T06:54:22-05:00</td>\n",
       "      <td>INVESTIGACIÓN PARA LA ATENCIÓN DEL DELITO DE S...</td>\n",
       "      <td>PROLONGACION VALLEGO</td>\n",
       "      <td>NaN</td>\n",
       "      <td>SAN SIMÓN TOLNAHUAC</td>\n",
       "      <td>19.459304</td>\n",
       "      <td>-99.139653</td>\n",
       "      <td>2016-07</td>\n",
       "      <td>19.4593044259, -99.1396525907</td>\n",
       "    </tr>\n",
       "    <tr>\n",
       "      <th>2</th>\n",
       "      <td>11497</td>\n",
       "      <td>2016</td>\n",
       "      <td>Agosto</td>\n",
       "      <td>AZCAPOTZALCO</td>\n",
       "      <td>SECUESTRO</td>\n",
       "      <td>PLAGIO O SECUESTRO</td>\n",
       "      <td>E</td>\n",
       "      <td>UI-1CD</td>\n",
       "      <td>2016-08-23T17:53:13-05:00</td>\n",
       "      <td>INVESTIGACIÓN PARA LA ATENCIÓN DEL DELITO DE S...</td>\n",
       "      <td>CONFIDENCIAL A/010/2002</td>\n",
       "      <td>CONFIDENCIAL A/010/2002</td>\n",
       "      <td>NaN</td>\n",
       "      <td>NaN</td>\n",
       "      <td>NaN</td>\n",
       "      <td>2016-08</td>\n",
       "      <td>NaN</td>\n",
       "    </tr>\n",
       "    <tr>\n",
       "      <th>3</th>\n",
       "      <td>16087</td>\n",
       "      <td>2016</td>\n",
       "      <td>Marzo</td>\n",
       "      <td>XOCHIMILCO</td>\n",
       "      <td>SECUESTRO</td>\n",
       "      <td>PLAGIO O SECUESTRO</td>\n",
       "      <td>XO-1</td>\n",
       "      <td>T3</td>\n",
       "      <td>2016-03-07T08:12:19-06:00</td>\n",
       "      <td>INVESTIGACIÓN EN XOCHIMILCO</td>\n",
       "      <td>MOCTEZUMA</td>\n",
       "      <td>VICENTE GUERRERO</td>\n",
       "      <td>SAN LORENZO ATEMOAYA</td>\n",
       "      <td>19.226944</td>\n",
       "      <td>-99.106343</td>\n",
       "      <td>2016-03</td>\n",
       "      <td>19.2269439998, -99.106343</td>\n",
       "    </tr>\n",
       "    <tr>\n",
       "      <th>4</th>\n",
       "      <td>47083</td>\n",
       "      <td>2017</td>\n",
       "      <td>Abril</td>\n",
       "      <td>IZTAPALAPA</td>\n",
       "      <td>SECUESTRO</td>\n",
       "      <td>PLAGIO O SECUESTRO</td>\n",
       "      <td>E</td>\n",
       "      <td>UI-1CD</td>\n",
       "      <td>2017-04-05T07:42:29-05:00</td>\n",
       "      <td>INVESTIGACIÓN PARA LA ATENCIÓN DEL DELITO DE S...</td>\n",
       "      <td>AVENIDA CIRCUNVALACIÓN</td>\n",
       "      <td>NaN</td>\n",
       "      <td>EJERCITO DE AGUA PRIETA</td>\n",
       "      <td>19.364236</td>\n",
       "      <td>-99.033860</td>\n",
       "      <td>2017-04</td>\n",
       "      <td>19.3642356314, -99.0338595791</td>\n",
       "    </tr>\n",
       "  </tbody>\n",
       "</table>\n",
       "</div>"
      ],
      "text/plain": [
       "      ID   Año     Mes          Alcaldía Categoría de delito  \\\n",
       "0   5297  2017    Mayo  GUSTAVO A MADERO           SECUESTRO   \n",
       "1   5435  2016   Julio        CUAUHTEMOC           SECUESTRO   \n",
       "2  11497  2016  Agosto      AZCAPOTZALCO           SECUESTRO   \n",
       "3  16087  2016   Marzo        XOCHIMILCO           SECUESTRO   \n",
       "4  47083  2017   Abril        IZTAPALAPA           SECUESTRO   \n",
       "\n",
       "               Delito Agencia Unidad de investigación  \\\n",
       "0  PLAGIO O SECUESTRO       E                  UI-1CD   \n",
       "1  PLAGIO O SECUESTRO       E                  UI-3CD   \n",
       "2  PLAGIO O SECUESTRO       E                  UI-1CD   \n",
       "3  PLAGIO O SECUESTRO    XO-1                      T3   \n",
       "4  PLAGIO O SECUESTRO       E                  UI-1CD   \n",
       "\n",
       "                Fecha inicio  \\\n",
       "0  2017-05-11T05:36:27-05:00   \n",
       "1  2016-07-05T06:54:22-05:00   \n",
       "2  2016-08-23T17:53:13-05:00   \n",
       "3  2016-03-07T08:12:19-06:00   \n",
       "4  2017-04-05T07:42:29-05:00   \n",
       "\n",
       "                                            Fiscalía                   Calle1  \\\n",
       "0  INVESTIGACIÓN PARA LA ATENCIÓN DEL DELITO DE S...                    MANTA   \n",
       "1  INVESTIGACIÓN PARA LA ATENCIÓN DEL DELITO DE S...     PROLONGACION VALLEGO   \n",
       "2  INVESTIGACIÓN PARA LA ATENCIÓN DEL DELITO DE S...  CONFIDENCIAL A/010/2002   \n",
       "3                        INVESTIGACIÓN EN XOCHIMILCO                MOCTEZUMA   \n",
       "4  INVESTIGACIÓN PARA LA ATENCIÓN DEL DELITO DE S...   AVENIDA CIRCUNVALACIÓN   \n",
       "\n",
       "                    Calle2                  Colonia    Latitud   Longitud  \\\n",
       "0                      NaN               LINDAVISTA  19.491553 -99.135001   \n",
       "1                      NaN      SAN SIMÓN TOLNAHUAC  19.459304 -99.139653   \n",
       "2  CONFIDENCIAL A/010/2002                      NaN        NaN        NaN   \n",
       "3         VICENTE GUERRERO     SAN LORENZO ATEMOAYA  19.226944 -99.106343   \n",
       "4                      NaN  EJERCITO DE AGUA PRIETA  19.364236 -99.033860   \n",
       "\n",
       "  Mes y año                       Geopoint  \n",
       "0   2017-05  19.4915532042, -99.1350011476  \n",
       "1   2016-07  19.4593044259, -99.1396525907  \n",
       "2   2016-08                            NaN  \n",
       "3   2016-03      19.2269439998, -99.106343  \n",
       "4   2017-04  19.3642356314, -99.0338595791  "
      ]
     },
     "execution_count": 41,
     "metadata": {},
     "output_type": "execute_result"
    }
   ],
   "source": [
    "df_copy.head()"
   ]
  },
  {
   "cell_type": "code",
   "execution_count": 42,
   "metadata": {},
   "outputs": [],
   "source": [
    "df_copy.drop(labels=['Geopoint', 'Fiscalía', 'Calle1', 'Calle2', 'Mes y año', 'Categoría de delito', 'Delito',\n",
    "                     'Agencia', 'Unidad de investigación', 'Fecha inicio', 'Fiscalía'],\n",
    "            axis=1, inplace=True)"
   ]
  },
  {
   "cell_type": "code",
   "execution_count": 43,
   "metadata": {},
   "outputs": [
    {
     "data": {
      "text/html": [
       "<div>\n",
       "<style scoped>\n",
       "    .dataframe tbody tr th:only-of-type {\n",
       "        vertical-align: middle;\n",
       "    }\n",
       "\n",
       "    .dataframe tbody tr th {\n",
       "        vertical-align: top;\n",
       "    }\n",
       "\n",
       "    .dataframe thead th {\n",
       "        text-align: right;\n",
       "    }\n",
       "</style>\n",
       "<table border=\"1\" class=\"dataframe\">\n",
       "  <thead>\n",
       "    <tr style=\"text-align: right;\">\n",
       "      <th></th>\n",
       "      <th>ID</th>\n",
       "      <th>Año</th>\n",
       "      <th>Mes</th>\n",
       "      <th>Alcaldía</th>\n",
       "      <th>Colonia</th>\n",
       "      <th>Latitud</th>\n",
       "      <th>Longitud</th>\n",
       "    </tr>\n",
       "  </thead>\n",
       "  <tbody>\n",
       "    <tr>\n",
       "      <th>0</th>\n",
       "      <td>5297</td>\n",
       "      <td>2017</td>\n",
       "      <td>Mayo</td>\n",
       "      <td>GUSTAVO A MADERO</td>\n",
       "      <td>LINDAVISTA</td>\n",
       "      <td>19.491553</td>\n",
       "      <td>-99.135001</td>\n",
       "    </tr>\n",
       "    <tr>\n",
       "      <th>1</th>\n",
       "      <td>5435</td>\n",
       "      <td>2016</td>\n",
       "      <td>Julio</td>\n",
       "      <td>CUAUHTEMOC</td>\n",
       "      <td>SAN SIMÓN TOLNAHUAC</td>\n",
       "      <td>19.459304</td>\n",
       "      <td>-99.139653</td>\n",
       "    </tr>\n",
       "    <tr>\n",
       "      <th>2</th>\n",
       "      <td>11497</td>\n",
       "      <td>2016</td>\n",
       "      <td>Agosto</td>\n",
       "      <td>AZCAPOTZALCO</td>\n",
       "      <td>NaN</td>\n",
       "      <td>NaN</td>\n",
       "      <td>NaN</td>\n",
       "    </tr>\n",
       "    <tr>\n",
       "      <th>3</th>\n",
       "      <td>16087</td>\n",
       "      <td>2016</td>\n",
       "      <td>Marzo</td>\n",
       "      <td>XOCHIMILCO</td>\n",
       "      <td>SAN LORENZO ATEMOAYA</td>\n",
       "      <td>19.226944</td>\n",
       "      <td>-99.106343</td>\n",
       "    </tr>\n",
       "    <tr>\n",
       "      <th>4</th>\n",
       "      <td>47083</td>\n",
       "      <td>2017</td>\n",
       "      <td>Abril</td>\n",
       "      <td>IZTAPALAPA</td>\n",
       "      <td>EJERCITO DE AGUA PRIETA</td>\n",
       "      <td>19.364236</td>\n",
       "      <td>-99.033860</td>\n",
       "    </tr>\n",
       "  </tbody>\n",
       "</table>\n",
       "</div>"
      ],
      "text/plain": [
       "      ID   Año     Mes          Alcaldía                  Colonia    Latitud  \\\n",
       "0   5297  2017    Mayo  GUSTAVO A MADERO               LINDAVISTA  19.491553   \n",
       "1   5435  2016   Julio        CUAUHTEMOC      SAN SIMÓN TOLNAHUAC  19.459304   \n",
       "2  11497  2016  Agosto      AZCAPOTZALCO                      NaN        NaN   \n",
       "3  16087  2016   Marzo        XOCHIMILCO     SAN LORENZO ATEMOAYA  19.226944   \n",
       "4  47083  2017   Abril        IZTAPALAPA  EJERCITO DE AGUA PRIETA  19.364236   \n",
       "\n",
       "    Longitud  \n",
       "0 -99.135001  \n",
       "1 -99.139653  \n",
       "2        NaN  \n",
       "3 -99.106343  \n",
       "4 -99.033860  "
      ]
     },
     "execution_count": 43,
     "metadata": {},
     "output_type": "execute_result"
    }
   ],
   "source": [
    "df_copy.head()"
   ]
  },
  {
   "cell_type": "markdown",
   "metadata": {},
   "source": [
    "Checar si existen observaciones y/o columnas nulas"
   ]
  },
  {
   "cell_type": "code",
   "execution_count": 24,
   "metadata": {},
   "outputs": [
    {
     "data": {
      "text/plain": [
       "True"
      ]
     },
     "execution_count": 24,
     "metadata": {},
     "output_type": "execute_result"
    }
   ],
   "source": [
    "df_copy.isnull().any().any()"
   ]
  },
  {
   "cell_type": "markdown",
   "metadata": {},
   "source": [
    "Checar cuáles columnas tienen nulos"
   ]
  },
  {
   "cell_type": "code",
   "execution_count": 25,
   "metadata": {},
   "outputs": [
    {
     "data": {
      "text/plain": [
       "['Colonia', 'Latitud', 'Longitud']"
      ]
     },
     "execution_count": 25,
     "metadata": {},
     "output_type": "execute_result"
    }
   ],
   "source": [
    "df_copy.columns[df_copy.isnull().any()].tolist()"
   ]
  },
  {
   "cell_type": "markdown",
   "metadata": {},
   "source": [
    "Checar el número de observaciones vacías"
   ]
  },
  {
   "cell_type": "code",
   "execution_count": 27,
   "metadata": {},
   "outputs": [
    {
     "data": {
      "text/plain": [
       "1"
      ]
     },
     "execution_count": 27,
     "metadata": {},
     "output_type": "execute_result"
    }
   ],
   "source": [
    "len(pd.isnull(df_copy).any(1).to_numpy().nonzero()[0].tolist())"
   ]
  },
  {
   "cell_type": "markdown",
   "metadata": {},
   "source": [
    "Checar cuáles observaciones están vacías"
   ]
  },
  {
   "cell_type": "code",
   "execution_count": 28,
   "metadata": {},
   "outputs": [
    {
     "data": {
      "text/plain": [
       "[2]"
      ]
     },
     "execution_count": 28,
     "metadata": {},
     "output_type": "execute_result"
    }
   ],
   "source": [
    "pd.isnull(df_copy).any(1).to_numpy().nonzero()[0].tolist()"
   ]
  },
  {
   "cell_type": "markdown",
   "metadata": {},
   "source": [
    "Eliminar las observaciones vacías"
   ]
  },
  {
   "cell_type": "code",
   "execution_count": 29,
   "metadata": {},
   "outputs": [],
   "source": [
    "df_copy.dropna(axis=0, inplace=True)"
   ]
  },
  {
   "cell_type": "markdown",
   "metadata": {},
   "source": [
    "Confirmar si existen observaciones y/o columnas nulas"
   ]
  },
  {
   "cell_type": "code",
   "execution_count": 31,
   "metadata": {},
   "outputs": [
    {
     "data": {
      "text/plain": [
       "False"
      ]
     },
     "execution_count": 31,
     "metadata": {},
     "output_type": "execute_result"
    }
   ],
   "source": [
    "df_copy.isnull().any().any()"
   ]
  },
  {
   "cell_type": "code",
   "execution_count": 32,
   "metadata": {},
   "outputs": [
    {
     "data": {
      "text/html": [
       "<div>\n",
       "<style scoped>\n",
       "    .dataframe tbody tr th:only-of-type {\n",
       "        vertical-align: middle;\n",
       "    }\n",
       "\n",
       "    .dataframe tbody tr th {\n",
       "        vertical-align: top;\n",
       "    }\n",
       "\n",
       "    .dataframe thead th {\n",
       "        text-align: right;\n",
       "    }\n",
       "</style>\n",
       "<table border=\"1\" class=\"dataframe\">\n",
       "  <thead>\n",
       "    <tr style=\"text-align: right;\">\n",
       "      <th></th>\n",
       "      <th>ID</th>\n",
       "      <th>Año</th>\n",
       "      <th>Mes</th>\n",
       "      <th>Alcaldía</th>\n",
       "      <th>Colonia</th>\n",
       "      <th>Latitud</th>\n",
       "      <th>Longitud</th>\n",
       "    </tr>\n",
       "  </thead>\n",
       "  <tbody>\n",
       "    <tr>\n",
       "      <th>0</th>\n",
       "      <td>5297</td>\n",
       "      <td>2017</td>\n",
       "      <td>Mayo</td>\n",
       "      <td>GUSTAVO A MADERO</td>\n",
       "      <td>LINDAVISTA</td>\n",
       "      <td>19.491553</td>\n",
       "      <td>-99.135001</td>\n",
       "    </tr>\n",
       "    <tr>\n",
       "      <th>1</th>\n",
       "      <td>5435</td>\n",
       "      <td>2016</td>\n",
       "      <td>Julio</td>\n",
       "      <td>CUAUHTEMOC</td>\n",
       "      <td>SAN SIMÓN TOLNAHUAC</td>\n",
       "      <td>19.459304</td>\n",
       "      <td>-99.139653</td>\n",
       "    </tr>\n",
       "    <tr>\n",
       "      <th>3</th>\n",
       "      <td>16087</td>\n",
       "      <td>2016</td>\n",
       "      <td>Marzo</td>\n",
       "      <td>XOCHIMILCO</td>\n",
       "      <td>SAN LORENZO ATEMOAYA</td>\n",
       "      <td>19.226944</td>\n",
       "      <td>-99.106343</td>\n",
       "    </tr>\n",
       "    <tr>\n",
       "      <th>4</th>\n",
       "      <td>47083</td>\n",
       "      <td>2017</td>\n",
       "      <td>Abril</td>\n",
       "      <td>IZTAPALAPA</td>\n",
       "      <td>EJERCITO DE AGUA PRIETA</td>\n",
       "      <td>19.364236</td>\n",
       "      <td>-99.033860</td>\n",
       "    </tr>\n",
       "    <tr>\n",
       "      <th>5</th>\n",
       "      <td>57282</td>\n",
       "      <td>2017</td>\n",
       "      <td>Junio</td>\n",
       "      <td>IZTAPALAPA</td>\n",
       "      <td>SANTA MARTHA ACATITLA NORTE</td>\n",
       "      <td>19.382102</td>\n",
       "      <td>-99.022806</td>\n",
       "    </tr>\n",
       "  </tbody>\n",
       "</table>\n",
       "</div>"
      ],
      "text/plain": [
       "      ID   Año    Mes          Alcaldía                      Colonia  \\\n",
       "0   5297  2017   Mayo  GUSTAVO A MADERO                   LINDAVISTA   \n",
       "1   5435  2016  Julio        CUAUHTEMOC          SAN SIMÓN TOLNAHUAC   \n",
       "3  16087  2016  Marzo        XOCHIMILCO         SAN LORENZO ATEMOAYA   \n",
       "4  47083  2017  Abril        IZTAPALAPA      EJERCITO DE AGUA PRIETA   \n",
       "5  57282  2017  Junio        IZTAPALAPA  SANTA MARTHA ACATITLA NORTE   \n",
       "\n",
       "     Latitud   Longitud  \n",
       "0  19.491553 -99.135001  \n",
       "1  19.459304 -99.139653  \n",
       "3  19.226944 -99.106343  \n",
       "4  19.364236 -99.033860  \n",
       "5  19.382102 -99.022806  "
      ]
     },
     "execution_count": 32,
     "metadata": {},
     "output_type": "execute_result"
    }
   ],
   "source": [
    "df_copy.head()"
   ]
  },
  {
   "cell_type": "code",
   "execution_count": 34,
   "metadata": {},
   "outputs": [
    {
     "data": {
      "text/plain": [
       "2016    33\n",
       "2017    17\n",
       "Name: Año, dtype: int64"
      ]
     },
     "execution_count": 34,
     "metadata": {},
     "output_type": "execute_result"
    }
   ],
   "source": [
    "df_copy.Año.value_counts()"
   ]
  },
  {
   "cell_type": "code",
   "execution_count": 44,
   "metadata": {},
   "outputs": [
    {
     "data": {
      "text/plain": [
       "51"
      ]
     },
     "execution_count": 44,
     "metadata": {},
     "output_type": "execute_result"
    }
   ],
   "source": [
    "len(df_copy[(df_copy.Año == 2016) | (df_copy.Año == 2017)])"
   ]
  },
  {
   "cell_type": "code",
   "execution_count": 36,
   "metadata": {},
   "outputs": [
    {
     "data": {
      "text/plain": [
       "IZTAPALAPA          15\n",
       "BENITO JUAREZ        4\n",
       "CUAUHTEMOC           3\n",
       "ALVARO OBREGON       3\n",
       "GUSTAVO A MADERO     3\n",
       "TLALPAN              2\n",
       "XOCHIMILCO           1\n",
       "MIGUEL HIDALGO       1\n",
       "COYOACAN             1\n",
       "Name: Alcaldía, dtype: int64"
      ]
     },
     "execution_count": 36,
     "metadata": {},
     "output_type": "execute_result"
    }
   ],
   "source": [
    "df_copy[(df_copy.Año == 2016)].Alcaldía.value_counts()"
   ]
  },
  {
   "cell_type": "code",
   "execution_count": 37,
   "metadata": {},
   "outputs": [
    {
     "data": {
      "text/plain": [
       "IZTAPALAPA               6\n",
       "MILPA ALTA               2\n",
       "ALVARO OBREGON           2\n",
       "CUAUHTEMOC               1\n",
       "CUAJIMALPA DE MORELOS    1\n",
       "VENUSTIANO CARRANZA      1\n",
       "IZTACALCO                1\n",
       "GUSTAVO A MADERO         1\n",
       "COYOACAN                 1\n",
       "TLAHUAC                  1\n",
       "Name: Alcaldía, dtype: int64"
      ]
     },
     "execution_count": 37,
     "metadata": {},
     "output_type": "execute_result"
    }
   ],
   "source": [
    "df_copy[(df_copy.Año == 2017)].Alcaldía.value_counts()"
   ]
  },
  {
   "cell_type": "code",
   "execution_count": null,
   "metadata": {},
   "outputs": [],
   "source": []
  }
 ],
 "metadata": {
  "kernelspec": {
   "display_name": "Python 3",
   "language": "python",
   "name": "python3"
  },
  "language_info": {
   "codemirror_mode": {
    "name": "ipython",
    "version": 3
   },
   "file_extension": ".py",
   "mimetype": "text/x-python",
   "name": "python",
   "nbconvert_exporter": "python",
   "pygments_lexer": "ipython3",
   "version": "3.7.2"
  }
 },
 "nbformat": 4,
 "nbformat_minor": 2
}
