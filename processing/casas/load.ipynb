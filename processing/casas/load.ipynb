{
 "cells": [
  {
   "cell_type": "code",
   "execution_count": 1,
   "metadata": {},
   "outputs": [],
   "source": [
    "import pandas as pd"
   ]
  },
  {
   "cell_type": "code",
   "execution_count": 5,
   "metadata": {},
   "outputs": [],
   "source": [
    "file = '../../../data/casas/casas_de_seguridad_01_geo.csv'"
   ]
  },
  {
   "cell_type": "code",
   "execution_count": 6,
   "metadata": {},
   "outputs": [],
   "source": [
    "df = pd.read_csv(file)"
   ]
  },
  {
   "cell_type": "code",
   "execution_count": 17,
   "metadata": {},
   "outputs": [],
   "source": [
    "df_copy = df.copy()"
   ]
  },
  {
   "cell_type": "code",
   "execution_count": 18,
   "metadata": {},
   "outputs": [
    {
     "data": {
      "text/html": [
       "<div>\n",
       "<style scoped>\n",
       "    .dataframe tbody tr th:only-of-type {\n",
       "        vertical-align: middle;\n",
       "    }\n",
       "\n",
       "    .dataframe tbody tr th {\n",
       "        vertical-align: top;\n",
       "    }\n",
       "\n",
       "    .dataframe thead th {\n",
       "        text-align: right;\n",
       "    }\n",
       "</style>\n",
       "<table border=\"1\" class=\"dataframe\">\n",
       "  <thead>\n",
       "    <tr style=\"text-align: right;\">\n",
       "      <th></th>\n",
       "      <th>Unnamed: 0</th>\n",
       "      <th>Sitio</th>\n",
       "      <th>Link</th>\n",
       "      <th>Año</th>\n",
       "      <th>Calle</th>\n",
       "      <th>Colonia</th>\n",
       "      <th>Municipio</th>\n",
       "      <th>Estado</th>\n",
       "      <th>Location</th>\n",
       "      <th>Lat</th>\n",
       "      <th>Lng</th>\n",
       "    </tr>\n",
       "  </thead>\n",
       "  <tbody>\n",
       "    <tr>\n",
       "      <th>0</th>\n",
       "      <td>9</td>\n",
       "      <td>La Prensa</td>\n",
       "      <td>https://www.la-prensa.com.mx/policia/83376-la-...</td>\n",
       "      <td>2016</td>\n",
       "      <td>NaN</td>\n",
       "      <td>Desarrollo Urbano Quetzalcóatl</td>\n",
       "      <td>Iztapalapa</td>\n",
       "      <td>Ciudad de México</td>\n",
       "      <td>19.3263221,-99.0507008</td>\n",
       "      <td>19.326322</td>\n",
       "      <td>-99.050701</td>\n",
       "    </tr>\n",
       "    <tr>\n",
       "      <th>1</th>\n",
       "      <td>10</td>\n",
       "      <td>La Prensa</td>\n",
       "      <td>https://www.la-prensa.com.mx/policia/207635-ca...</td>\n",
       "      <td>2017</td>\n",
       "      <td>esquina de Simón Álvarez y Adolfo Uga</td>\n",
       "      <td>La Conchita Zapotitla</td>\n",
       "      <td>Tláhuac</td>\n",
       "      <td>Ciudad de México</td>\n",
       "      <td>19.3068385,-99.0434248</td>\n",
       "      <td>19.306839</td>\n",
       "      <td>-99.043425</td>\n",
       "    </tr>\n",
       "    <tr>\n",
       "      <th>2</th>\n",
       "      <td>11</td>\n",
       "      <td>La Prensa</td>\n",
       "      <td>https://www.la-prensa.com.mx/policia/214291-24...</td>\n",
       "      <td>2017</td>\n",
       "      <td>NaN</td>\n",
       "      <td>Casas Alemán</td>\n",
       "      <td>Gustavo A. Madero</td>\n",
       "      <td>Ciudad de México</td>\n",
       "      <td>19.4783912,-99.0891945</td>\n",
       "      <td>19.478391</td>\n",
       "      <td>-99.089194</td>\n",
       "    </tr>\n",
       "    <tr>\n",
       "      <th>3</th>\n",
       "      <td>12</td>\n",
       "      <td>La Prensa</td>\n",
       "      <td>https://www.la-prensa.com.mx/policia/337261-el...</td>\n",
       "      <td>2018</td>\n",
       "      <td>NaN</td>\n",
       "      <td>El Mar</td>\n",
       "      <td>Tláhuac</td>\n",
       "      <td>Ciudad de México</td>\n",
       "      <td>19.4783912,-99.0891945</td>\n",
       "      <td>19.478391</td>\n",
       "      <td>-99.089194</td>\n",
       "    </tr>\n",
       "    <tr>\n",
       "      <th>4</th>\n",
       "      <td>13</td>\n",
       "      <td>La Prensa</td>\n",
       "      <td>https://www.la-prensa.com.mx/policia/81318-for...</td>\n",
       "      <td>2016</td>\n",
       "      <td>NaN</td>\n",
       "      <td>Manzanatitlán</td>\n",
       "      <td>Cuajimalpa</td>\n",
       "      <td>Ciudad de México</td>\n",
       "      <td>19.367977,-99.2995817</td>\n",
       "      <td>19.367977</td>\n",
       "      <td>-99.299582</td>\n",
       "    </tr>\n",
       "  </tbody>\n",
       "</table>\n",
       "</div>"
      ],
      "text/plain": [
       "   Unnamed: 0      Sitio                                               Link  \\\n",
       "0           9  La Prensa  https://www.la-prensa.com.mx/policia/83376-la-...   \n",
       "1          10  La Prensa  https://www.la-prensa.com.mx/policia/207635-ca...   \n",
       "2          11  La Prensa  https://www.la-prensa.com.mx/policia/214291-24...   \n",
       "3          12  La Prensa  https://www.la-prensa.com.mx/policia/337261-el...   \n",
       "4          13  La Prensa  https://www.la-prensa.com.mx/policia/81318-for...   \n",
       "\n",
       "    Año                                  Calle  \\\n",
       "0  2016                                    NaN   \n",
       "1  2017  esquina de Simón Álvarez y Adolfo Uga   \n",
       "2  2017                                    NaN   \n",
       "3  2018                                    NaN   \n",
       "4  2016                                    NaN   \n",
       "\n",
       "                          Colonia          Municipio            Estado  \\\n",
       "0  Desarrollo Urbano Quetzalcóatl         Iztapalapa  Ciudad de México   \n",
       "1           La Conchita Zapotitla            Tláhuac  Ciudad de México   \n",
       "2                    Casas Alemán  Gustavo A. Madero  Ciudad de México   \n",
       "3                          El Mar            Tláhuac  Ciudad de México   \n",
       "4                   Manzanatitlán         Cuajimalpa  Ciudad de México   \n",
       "\n",
       "                 Location        Lat        Lng  \n",
       "0  19.3263221,-99.0507008  19.326322 -99.050701  \n",
       "1  19.3068385,-99.0434248  19.306839 -99.043425  \n",
       "2  19.4783912,-99.0891945  19.478391 -99.089194  \n",
       "3  19.4783912,-99.0891945  19.478391 -99.089194  \n",
       "4   19.367977,-99.2995817  19.367977 -99.299582  "
      ]
     },
     "execution_count": 18,
     "metadata": {},
     "output_type": "execute_result"
    }
   ],
   "source": [
    "df_copy.head()"
   ]
  },
  {
   "cell_type": "code",
   "execution_count": 19,
   "metadata": {},
   "outputs": [],
   "source": [
    "df_copy.drop(labels=['Link', 'Calle', 'Location'], axis=1, inplace=True)"
   ]
  },
  {
   "cell_type": "code",
   "execution_count": 20,
   "metadata": {},
   "outputs": [],
   "source": [
    "df_copy.rename(columns={'Unnamed: 0': 'ID'}, inplace=True)"
   ]
  },
  {
   "cell_type": "code",
   "execution_count": 21,
   "metadata": {},
   "outputs": [
    {
     "data": {
      "text/html": [
       "<div>\n",
       "<style scoped>\n",
       "    .dataframe tbody tr th:only-of-type {\n",
       "        vertical-align: middle;\n",
       "    }\n",
       "\n",
       "    .dataframe tbody tr th {\n",
       "        vertical-align: top;\n",
       "    }\n",
       "\n",
       "    .dataframe thead th {\n",
       "        text-align: right;\n",
       "    }\n",
       "</style>\n",
       "<table border=\"1\" class=\"dataframe\">\n",
       "  <thead>\n",
       "    <tr style=\"text-align: right;\">\n",
       "      <th></th>\n",
       "      <th>ID</th>\n",
       "      <th>Sitio</th>\n",
       "      <th>Año</th>\n",
       "      <th>Colonia</th>\n",
       "      <th>Municipio</th>\n",
       "      <th>Estado</th>\n",
       "      <th>Lat</th>\n",
       "      <th>Lng</th>\n",
       "    </tr>\n",
       "  </thead>\n",
       "  <tbody>\n",
       "    <tr>\n",
       "      <th>0</th>\n",
       "      <td>9</td>\n",
       "      <td>La Prensa</td>\n",
       "      <td>2016</td>\n",
       "      <td>Desarrollo Urbano Quetzalcóatl</td>\n",
       "      <td>Iztapalapa</td>\n",
       "      <td>Ciudad de México</td>\n",
       "      <td>19.326322</td>\n",
       "      <td>-99.050701</td>\n",
       "    </tr>\n",
       "    <tr>\n",
       "      <th>1</th>\n",
       "      <td>10</td>\n",
       "      <td>La Prensa</td>\n",
       "      <td>2017</td>\n",
       "      <td>La Conchita Zapotitla</td>\n",
       "      <td>Tláhuac</td>\n",
       "      <td>Ciudad de México</td>\n",
       "      <td>19.306839</td>\n",
       "      <td>-99.043425</td>\n",
       "    </tr>\n",
       "    <tr>\n",
       "      <th>2</th>\n",
       "      <td>11</td>\n",
       "      <td>La Prensa</td>\n",
       "      <td>2017</td>\n",
       "      <td>Casas Alemán</td>\n",
       "      <td>Gustavo A. Madero</td>\n",
       "      <td>Ciudad de México</td>\n",
       "      <td>19.478391</td>\n",
       "      <td>-99.089194</td>\n",
       "    </tr>\n",
       "    <tr>\n",
       "      <th>3</th>\n",
       "      <td>12</td>\n",
       "      <td>La Prensa</td>\n",
       "      <td>2018</td>\n",
       "      <td>El Mar</td>\n",
       "      <td>Tláhuac</td>\n",
       "      <td>Ciudad de México</td>\n",
       "      <td>19.478391</td>\n",
       "      <td>-99.089194</td>\n",
       "    </tr>\n",
       "    <tr>\n",
       "      <th>4</th>\n",
       "      <td>13</td>\n",
       "      <td>La Prensa</td>\n",
       "      <td>2016</td>\n",
       "      <td>Manzanatitlán</td>\n",
       "      <td>Cuajimalpa</td>\n",
       "      <td>Ciudad de México</td>\n",
       "      <td>19.367977</td>\n",
       "      <td>-99.299582</td>\n",
       "    </tr>\n",
       "  </tbody>\n",
       "</table>\n",
       "</div>"
      ],
      "text/plain": [
       "   ID      Sitio   Año                         Colonia          Municipio  \\\n",
       "0   9  La Prensa  2016  Desarrollo Urbano Quetzalcóatl         Iztapalapa   \n",
       "1  10  La Prensa  2017           La Conchita Zapotitla            Tláhuac   \n",
       "2  11  La Prensa  2017                    Casas Alemán  Gustavo A. Madero   \n",
       "3  12  La Prensa  2018                          El Mar            Tláhuac   \n",
       "4  13  La Prensa  2016                   Manzanatitlán         Cuajimalpa   \n",
       "\n",
       "             Estado        Lat        Lng  \n",
       "0  Ciudad de México  19.326322 -99.050701  \n",
       "1  Ciudad de México  19.306839 -99.043425  \n",
       "2  Ciudad de México  19.478391 -99.089194  \n",
       "3  Ciudad de México  19.478391 -99.089194  \n",
       "4  Ciudad de México  19.367977 -99.299582  "
      ]
     },
     "execution_count": 21,
     "metadata": {},
     "output_type": "execute_result"
    }
   ],
   "source": [
    "df_copy.head()"
   ]
  },
  {
   "cell_type": "code",
   "execution_count": 32,
   "metadata": {},
   "outputs": [],
   "source": [
    "for column in df_copy.columns:\n",
    "    #print(column)\n",
    "    try:\n",
    "        df_copy[column] = df_copy[column].str.upper()\n",
    "    except:\n",
    "        pass"
   ]
  },
  {
   "cell_type": "code",
   "execution_count": 33,
   "metadata": {},
   "outputs": [
    {
     "data": {
      "text/html": [
       "<div>\n",
       "<style scoped>\n",
       "    .dataframe tbody tr th:only-of-type {\n",
       "        vertical-align: middle;\n",
       "    }\n",
       "\n",
       "    .dataframe tbody tr th {\n",
       "        vertical-align: top;\n",
       "    }\n",
       "\n",
       "    .dataframe thead th {\n",
       "        text-align: right;\n",
       "    }\n",
       "</style>\n",
       "<table border=\"1\" class=\"dataframe\">\n",
       "  <thead>\n",
       "    <tr style=\"text-align: right;\">\n",
       "      <th></th>\n",
       "      <th>ID</th>\n",
       "      <th>Sitio</th>\n",
       "      <th>Año</th>\n",
       "      <th>Colonia</th>\n",
       "      <th>Municipio</th>\n",
       "      <th>Estado</th>\n",
       "      <th>Lat</th>\n",
       "      <th>Lng</th>\n",
       "    </tr>\n",
       "  </thead>\n",
       "  <tbody>\n",
       "    <tr>\n",
       "      <th>0</th>\n",
       "      <td>9</td>\n",
       "      <td>LA PRENSA</td>\n",
       "      <td>2016</td>\n",
       "      <td>DESARROLLO URBANO QUETZALCÓATL</td>\n",
       "      <td>IZTAPALAPA</td>\n",
       "      <td>CIUDAD DE MÉXICO</td>\n",
       "      <td>19.326322</td>\n",
       "      <td>-99.050701</td>\n",
       "    </tr>\n",
       "    <tr>\n",
       "      <th>1</th>\n",
       "      <td>10</td>\n",
       "      <td>LA PRENSA</td>\n",
       "      <td>2017</td>\n",
       "      <td>LA CONCHITA ZAPOTITLA</td>\n",
       "      <td>TLÁHUAC</td>\n",
       "      <td>CIUDAD DE MÉXICO</td>\n",
       "      <td>19.306839</td>\n",
       "      <td>-99.043425</td>\n",
       "    </tr>\n",
       "    <tr>\n",
       "      <th>2</th>\n",
       "      <td>11</td>\n",
       "      <td>LA PRENSA</td>\n",
       "      <td>2017</td>\n",
       "      <td>CASAS ALEMÁN</td>\n",
       "      <td>GUSTAVO A. MADERO</td>\n",
       "      <td>CIUDAD DE MÉXICO</td>\n",
       "      <td>19.478391</td>\n",
       "      <td>-99.089194</td>\n",
       "    </tr>\n",
       "    <tr>\n",
       "      <th>3</th>\n",
       "      <td>12</td>\n",
       "      <td>LA PRENSA</td>\n",
       "      <td>2018</td>\n",
       "      <td>EL MAR</td>\n",
       "      <td>TLÁHUAC</td>\n",
       "      <td>CIUDAD DE MÉXICO</td>\n",
       "      <td>19.478391</td>\n",
       "      <td>-99.089194</td>\n",
       "    </tr>\n",
       "    <tr>\n",
       "      <th>4</th>\n",
       "      <td>13</td>\n",
       "      <td>LA PRENSA</td>\n",
       "      <td>2016</td>\n",
       "      <td>MANZANATITLÁN</td>\n",
       "      <td>CUAJIMALPA</td>\n",
       "      <td>CIUDAD DE MÉXICO</td>\n",
       "      <td>19.367977</td>\n",
       "      <td>-99.299582</td>\n",
       "    </tr>\n",
       "  </tbody>\n",
       "</table>\n",
       "</div>"
      ],
      "text/plain": [
       "   ID      Sitio   Año                         Colonia          Municipio  \\\n",
       "0   9  LA PRENSA  2016  DESARROLLO URBANO QUETZALCÓATL         IZTAPALAPA   \n",
       "1  10  LA PRENSA  2017           LA CONCHITA ZAPOTITLA            TLÁHUAC   \n",
       "2  11  LA PRENSA  2017                    CASAS ALEMÁN  GUSTAVO A. MADERO   \n",
       "3  12  LA PRENSA  2018                          EL MAR            TLÁHUAC   \n",
       "4  13  LA PRENSA  2016                   MANZANATITLÁN         CUAJIMALPA   \n",
       "\n",
       "             Estado        Lat        Lng  \n",
       "0  CIUDAD DE MÉXICO  19.326322 -99.050701  \n",
       "1  CIUDAD DE MÉXICO  19.306839 -99.043425  \n",
       "2  CIUDAD DE MÉXICO  19.478391 -99.089194  \n",
       "3  CIUDAD DE MÉXICO  19.478391 -99.089194  \n",
       "4  CIUDAD DE MÉXICO  19.367977 -99.299582  "
      ]
     },
     "execution_count": 33,
     "metadata": {},
     "output_type": "execute_result"
    }
   ],
   "source": [
    "df_copy.head()"
   ]
  },
  {
   "cell_type": "code",
   "execution_count": 48,
   "metadata": {},
   "outputs": [
    {
     "data": {
      "text/plain": [
       "35"
      ]
     },
     "execution_count": 48,
     "metadata": {},
     "output_type": "execute_result"
    }
   ],
   "source": [
    "df_copy[df_copy.Estado == 'CIUDAD DE MÉXICO'].Colonia.nunique()"
   ]
  },
  {
   "cell_type": "code",
   "execution_count": 47,
   "metadata": {},
   "outputs": [
    {
     "data": {
      "text/plain": [
       "array(['DESARROLLO URBANO QUETZALCÓATL', 'LA CONCHITA ZAPOTITLA',\n",
       "       'CASAS ALEMÁN', 'EL MAR', 'MANZANATITLÁN', 'AGRÍCOLA ORIENTAL',\n",
       "       'VICENTE GUERRERO', 'GRAN CANAL', 'CONSTITUCIÓN DE 1917',\n",
       "       'TABLAS DE SAN AGUSTÍN', 'BOSQUES DEL PEDREGAL', 'LA ESTACIÓN',\n",
       "       'SAN RAFAEL', 'EMILIANO ZAPATA', 'LOS ALPES', 'MERCED GÓMEZ',\n",
       "       'TORRES DE PADIERNA', 'EL MIRADOR', 'SAN PEDRO MÁRTIR',\n",
       "       'SAN JUAN JOYA', 'BUENAVISTA', 'SAN MIGUEL XICALCO',\n",
       "       'SAN LORENZO TEZONCO', 'SANTA MARÍA LA RIBERA', 'JARDINES DEL SUR',\n",
       "       'NARVARTE', 'CENTRO', 'CIUDAD CUAUHTÉMOC', 'EL TRIUNFO',\n",
       "       'SANTO DOMINGO', 'SANTA MARÍA AZTAHUACÁN', 'MORELOS',\n",
       "       'SANTA ANA PONIENTE', 'PUEBLO DE SANTA ROSA XOCHIAC', 'LINDAVISTA'],\n",
       "      dtype=object)"
      ]
     },
     "execution_count": 47,
     "metadata": {},
     "output_type": "execute_result"
    }
   ],
   "source": [
    "df_copy[df_copy.Estado == 'CIUDAD DE MÉXICO'].Colonia.unique()"
   ]
  },
  {
   "cell_type": "code",
   "execution_count": 34,
   "metadata": {},
   "outputs": [
    {
     "data": {
      "text/plain": [
       "2017    23\n",
       "2016    18\n",
       "2015    10\n",
       "2018     7\n",
       "2008     6\n",
       "2013     5\n",
       "2014     4\n",
       "2006     1\n",
       "Name: Año, dtype: int64"
      ]
     },
     "execution_count": 34,
     "metadata": {},
     "output_type": "execute_result"
    }
   ],
   "source": [
    "df_copy.Año.value_counts()"
   ]
  },
  {
   "cell_type": "code",
   "execution_count": 45,
   "metadata": {},
   "outputs": [
    {
     "data": {
      "text/plain": [
       "43"
      ]
     },
     "execution_count": 45,
     "metadata": {},
     "output_type": "execute_result"
    }
   ],
   "source": [
    "len(df_copy[(df_copy.Año == 2015) | (df_copy.Año == 2016) | (df_copy.Año == 2017) & (df_copy.Estado == 'CIUDAD DE MÉXICO')])"
   ]
  },
  {
   "cell_type": "code",
   "execution_count": 52,
   "metadata": {},
   "outputs": [
    {
     "data": {
      "text/plain": [
       "23"
      ]
     },
     "execution_count": 52,
     "metadata": {},
     "output_type": "execute_result"
    }
   ],
   "source": [
    "df_copy[(df_copy.Año == 2015) | (df_copy.Año == 2016) | (df_copy.Año == 2017) & (df_copy.Estado == 'CIUDAD DE MÉXICO')].Municipio.nunique()\n"
   ]
  },
  {
   "cell_type": "code",
   "execution_count": 53,
   "metadata": {},
   "outputs": [
    {
     "data": {
      "text/plain": [
       "IZTAPALAPA             6\n",
       "GUSTAVO A. MADERO      4\n",
       "TLÁHUAC                4\n",
       "CHALCO                 4\n",
       "ECATEPEC DE MORELOS    4\n",
       "CUAUHTÉMOC             2\n",
       "CUAJIMALPA             2\n",
       "TLALNEPANTLA           2\n",
       "ÁLVARO OBREGÓN         1\n",
       "REYES LA PAZ           1\n",
       "CUAUTITLÁN IZCALLI     1\n",
       "XOCHIMILCO             1\n",
       "NAUCALPAN DE JUÁREZ    1\n",
       "OTUMBA                 1\n",
       "TOLUCA                 1\n",
       "AXAPUSCO               1\n",
       "TEXCOCO                1\n",
       "SAN ISIDRO             1\n",
       "COYOACAN               1\n",
       "VENUSTIANO CARRANZA    1\n",
       "IXTAPALUCA             1\n",
       "ZINACANTEPEC           1\n",
       "TLALPAN                1\n",
       "Name: Municipio, dtype: int64"
      ]
     },
     "execution_count": 53,
     "metadata": {},
     "output_type": "execute_result"
    }
   ],
   "source": [
    "df_copy[(df_copy.Año == 2015) | (df_copy.Año == 2016) | (df_copy.Año == 2017) & (df_copy.Estado == 'CIUDAD DE MÉXICO')].Municipio.value_counts()\n"
   ]
  },
  {
   "cell_type": "code",
   "execution_count": 54,
   "metadata": {},
   "outputs": [
    {
     "data": {
      "text/plain": [
       "GUSTAVO A. MADERO    1\n",
       "Name: Municipio, dtype: int64"
      ]
     },
     "execution_count": 54,
     "metadata": {},
     "output_type": "execute_result"
    }
   ],
   "source": [
    "df_copy[(df_copy.Año == 2015) & (df_copy.Estado == 'CIUDAD DE MÉXICO')].Municipio.value_counts()"
   ]
  },
  {
   "cell_type": "code",
   "execution_count": 55,
   "metadata": {},
   "outputs": [
    {
     "data": {
      "text/plain": [
       "TLÁHUAC              2\n",
       "IZTAPALAPA           2\n",
       "CUAJIMALPA           2\n",
       "GUSTAVO A. MADERO    1\n",
       "ÁLVARO OBREGÓN       1\n",
       "Name: Municipio, dtype: int64"
      ]
     },
     "execution_count": 55,
     "metadata": {},
     "output_type": "execute_result"
    }
   ],
   "source": [
    "df_copy[(df_copy.Año == 2016) & (df_copy.Estado == 'CIUDAD DE MÉXICO')].Municipio.value_counts()"
   ]
  },
  {
   "cell_type": "code",
   "execution_count": 56,
   "metadata": {},
   "outputs": [
    {
     "data": {
      "text/plain": [
       "IZTAPALAPA             4\n",
       "CUAUHTÉMOC             2\n",
       "GUSTAVO A. MADERO      2\n",
       "TLÁHUAC                2\n",
       "ECATEPEC DE MORELOS    1\n",
       "COYOACAN               1\n",
       "XOCHIMILCO             1\n",
       "VENUSTIANO CARRANZA    1\n",
       "TLALPAN                1\n",
       "Name: Municipio, dtype: int64"
      ]
     },
     "execution_count": 56,
     "metadata": {},
     "output_type": "execute_result"
    }
   ],
   "source": [
    "df_copy[(df_copy.Año == 2017) & (df_copy.Estado == 'CIUDAD DE MÉXICO')].Municipio.value_counts()"
   ]
  },
  {
   "cell_type": "code",
   "execution_count": null,
   "metadata": {},
   "outputs": [],
   "source": []
  }
 ],
 "metadata": {
  "kernelspec": {
   "display_name": "Python 3",
   "language": "python",
   "name": "python3"
  },
  "language_info": {
   "codemirror_mode": {
    "name": "ipython",
    "version": 3
   },
   "file_extension": ".py",
   "mimetype": "text/x-python",
   "name": "python",
   "nbconvert_exporter": "python",
   "pygments_lexer": "ipython3",
   "version": "3.7.2"
  }
 },
 "nbformat": 4,
 "nbformat_minor": 2
}
