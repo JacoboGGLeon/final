{
 "cells": [
  {
   "cell_type": "code",
   "execution_count": 1,
   "metadata": {},
   "outputs": [],
   "source": [
    "import pandas as pd"
   ]
  },
  {
   "cell_type": "code",
   "execution_count": 5,
   "metadata": {},
   "outputs": [],
   "source": [
    "file = \"../../../../dataframes/faostat/production_indices/production_indices_entropy_transform_numerical_kmeans.csv\"\n"
   ]
  },
  {
   "cell_type": "code",
   "execution_count": 6,
   "metadata": {},
   "outputs": [],
   "source": [
    "df_k = pd.read_csv(filepath_or_buffer=file)"
   ]
  },
  {
   "cell_type": "code",
   "execution_count": 7,
   "metadata": {},
   "outputs": [
    {
     "data": {
      "text/html": [
       "<div>\n",
       "<style scoped>\n",
       "    .dataframe tbody tr th:only-of-type {\n",
       "        vertical-align: middle;\n",
       "    }\n",
       "\n",
       "    .dataframe tbody tr th {\n",
       "        vertical-align: top;\n",
       "    }\n",
       "\n",
       "    .dataframe thead th {\n",
       "        text-align: right;\n",
       "    }\n",
       "</style>\n",
       "<table border=\"1\" class=\"dataframe\">\n",
       "  <thead>\n",
       "    <tr style=\"text-align: right;\">\n",
       "      <th></th>\n",
       "      <th>kmeans$cluster</th>\n",
       "    </tr>\n",
       "  </thead>\n",
       "  <tbody>\n",
       "    <tr>\n",
       "      <th>0</th>\n",
       "      <td>2</td>\n",
       "    </tr>\n",
       "    <tr>\n",
       "      <th>1</th>\n",
       "      <td>2</td>\n",
       "    </tr>\n",
       "    <tr>\n",
       "      <th>2</th>\n",
       "      <td>2</td>\n",
       "    </tr>\n",
       "    <tr>\n",
       "      <th>3</th>\n",
       "      <td>2</td>\n",
       "    </tr>\n",
       "    <tr>\n",
       "      <th>4</th>\n",
       "      <td>2</td>\n",
       "    </tr>\n",
       "  </tbody>\n",
       "</table>\n",
       "</div>"
      ],
      "text/plain": [
       "   kmeans$cluster\n",
       "0               2\n",
       "1               2\n",
       "2               2\n",
       "3               2\n",
       "4               2"
      ]
     },
     "execution_count": 7,
     "metadata": {},
     "output_type": "execute_result"
    }
   ],
   "source": [
    "df_k.head()"
   ]
  },
  {
   "cell_type": "code",
   "execution_count": 10,
   "metadata": {},
   "outputs": [],
   "source": [
    "file = \"../../../../data/faostat/FAOSTAT_data_3-8-2019.csv\""
   ]
  },
  {
   "cell_type": "code",
   "execution_count": 11,
   "metadata": {},
   "outputs": [],
   "source": [
    "df = pd.read_csv(filepath_or_buffer=file)"
   ]
  },
  {
   "cell_type": "code",
   "execution_count": 12,
   "metadata": {},
   "outputs": [
    {
     "data": {
      "text/html": [
       "<div>\n",
       "<style scoped>\n",
       "    .dataframe tbody tr th:only-of-type {\n",
       "        vertical-align: middle;\n",
       "    }\n",
       "\n",
       "    .dataframe tbody tr th {\n",
       "        vertical-align: top;\n",
       "    }\n",
       "\n",
       "    .dataframe thead th {\n",
       "        text-align: right;\n",
       "    }\n",
       "</style>\n",
       "<table border=\"1\" class=\"dataframe\">\n",
       "  <thead>\n",
       "    <tr style=\"text-align: right;\">\n",
       "      <th></th>\n",
       "      <th>Domain Code</th>\n",
       "      <th>Domain</th>\n",
       "      <th>Area Code</th>\n",
       "      <th>Area</th>\n",
       "      <th>Element Code</th>\n",
       "      <th>Element</th>\n",
       "      <th>Item Code</th>\n",
       "      <th>Item</th>\n",
       "      <th>Year Code</th>\n",
       "      <th>Year</th>\n",
       "      <th>Unit</th>\n",
       "      <th>Value</th>\n",
       "      <th>Flag</th>\n",
       "      <th>Flag Description</th>\n",
       "    </tr>\n",
       "  </thead>\n",
       "  <tbody>\n",
       "    <tr>\n",
       "      <th>0</th>\n",
       "      <td>QI</td>\n",
       "      <td>Production Indices</td>\n",
       "      <td>2</td>\n",
       "      <td>Afghanistan</td>\n",
       "      <td>432</td>\n",
       "      <td>Gross Production Index Number (2004-2006 = 100)</td>\n",
       "      <td>2051</td>\n",
       "      <td>Agriculture (PIN)</td>\n",
       "      <td>2010</td>\n",
       "      <td>2010</td>\n",
       "      <td>Int. $</td>\n",
       "      <td>116.22</td>\n",
       "      <td>Fc</td>\n",
       "      <td>Calculated data</td>\n",
       "    </tr>\n",
       "    <tr>\n",
       "      <th>1</th>\n",
       "      <td>QI</td>\n",
       "      <td>Production Indices</td>\n",
       "      <td>2</td>\n",
       "      <td>Afghanistan</td>\n",
       "      <td>432</td>\n",
       "      <td>Gross Production Index Number (2004-2006 = 100)</td>\n",
       "      <td>2051</td>\n",
       "      <td>Agriculture (PIN)</td>\n",
       "      <td>2011</td>\n",
       "      <td>2011</td>\n",
       "      <td>Int. $</td>\n",
       "      <td>111.08</td>\n",
       "      <td>Fc</td>\n",
       "      <td>Calculated data</td>\n",
       "    </tr>\n",
       "    <tr>\n",
       "      <th>2</th>\n",
       "      <td>QI</td>\n",
       "      <td>Production Indices</td>\n",
       "      <td>2</td>\n",
       "      <td>Afghanistan</td>\n",
       "      <td>432</td>\n",
       "      <td>Gross Production Index Number (2004-2006 = 100)</td>\n",
       "      <td>2051</td>\n",
       "      <td>Agriculture (PIN)</td>\n",
       "      <td>2012</td>\n",
       "      <td>2012</td>\n",
       "      <td>Int. $</td>\n",
       "      <td>122.45</td>\n",
       "      <td>Fc</td>\n",
       "      <td>Calculated data</td>\n",
       "    </tr>\n",
       "    <tr>\n",
       "      <th>3</th>\n",
       "      <td>QI</td>\n",
       "      <td>Production Indices</td>\n",
       "      <td>2</td>\n",
       "      <td>Afghanistan</td>\n",
       "      <td>432</td>\n",
       "      <td>Gross Production Index Number (2004-2006 = 100)</td>\n",
       "      <td>2051</td>\n",
       "      <td>Agriculture (PIN)</td>\n",
       "      <td>2013</td>\n",
       "      <td>2013</td>\n",
       "      <td>Int. $</td>\n",
       "      <td>119.90</td>\n",
       "      <td>Fc</td>\n",
       "      <td>Calculated data</td>\n",
       "    </tr>\n",
       "    <tr>\n",
       "      <th>4</th>\n",
       "      <td>QI</td>\n",
       "      <td>Production Indices</td>\n",
       "      <td>2</td>\n",
       "      <td>Afghanistan</td>\n",
       "      <td>432</td>\n",
       "      <td>Gross Production Index Number (2004-2006 = 100)</td>\n",
       "      <td>2051</td>\n",
       "      <td>Agriculture (PIN)</td>\n",
       "      <td>2014</td>\n",
       "      <td>2014</td>\n",
       "      <td>Int. $</td>\n",
       "      <td>124.13</td>\n",
       "      <td>Fc</td>\n",
       "      <td>Calculated data</td>\n",
       "    </tr>\n",
       "  </tbody>\n",
       "</table>\n",
       "</div>"
      ],
      "text/plain": [
       "  Domain Code              Domain  Area Code         Area  Element Code  \\\n",
       "0          QI  Production Indices          2  Afghanistan           432   \n",
       "1          QI  Production Indices          2  Afghanistan           432   \n",
       "2          QI  Production Indices          2  Afghanistan           432   \n",
       "3          QI  Production Indices          2  Afghanistan           432   \n",
       "4          QI  Production Indices          2  Afghanistan           432   \n",
       "\n",
       "                                           Element  Item Code  \\\n",
       "0  Gross Production Index Number (2004-2006 = 100)       2051   \n",
       "1  Gross Production Index Number (2004-2006 = 100)       2051   \n",
       "2  Gross Production Index Number (2004-2006 = 100)       2051   \n",
       "3  Gross Production Index Number (2004-2006 = 100)       2051   \n",
       "4  Gross Production Index Number (2004-2006 = 100)       2051   \n",
       "\n",
       "                Item  Year Code  Year    Unit   Value Flag Flag Description  \n",
       "0  Agriculture (PIN)       2010  2010  Int. $  116.22   Fc  Calculated data  \n",
       "1  Agriculture (PIN)       2011  2011  Int. $  111.08   Fc  Calculated data  \n",
       "2  Agriculture (PIN)       2012  2012  Int. $  122.45   Fc  Calculated data  \n",
       "3  Agriculture (PIN)       2013  2013  Int. $  119.90   Fc  Calculated data  \n",
       "4  Agriculture (PIN)       2014  2014  Int. $  124.13   Fc  Calculated data  "
      ]
     },
     "execution_count": 12,
     "metadata": {},
     "output_type": "execute_result"
    }
   ],
   "source": [
    "df.head()"
   ]
  },
  {
   "cell_type": "code",
   "execution_count": 13,
   "metadata": {},
   "outputs": [],
   "source": [
    "df['cluster'] = df_k['kmeans$cluster']"
   ]
  },
  {
   "cell_type": "code",
   "execution_count": 14,
   "metadata": {},
   "outputs": [],
   "source": [
    "df_copy = df.copy()"
   ]
  },
  {
   "cell_type": "code",
   "execution_count": 15,
   "metadata": {},
   "outputs": [],
   "source": [
    "numericos = [\"Value\"]"
   ]
  },
  {
   "cell_type": "code",
   "execution_count": 22,
   "metadata": {},
   "outputs": [],
   "source": [
    "categoricos = [\"Area\", \"Item\", \"Year\", \"cluster\"]"
   ]
  },
  {
   "cell_type": "code",
   "execution_count": 23,
   "metadata": {},
   "outputs": [
    {
     "data": {
      "text/plain": [
       "{'Area': <function __main__.<lambda>(x)>,\n",
       " 'Item': <function __main__.<lambda>(x)>,\n",
       " 'Year': <function __main__.<lambda>(x)>,\n",
       " 'Value': 'mean',\n",
       " 'cluster': <function __main__.<lambda>(x)>}"
      ]
     },
     "execution_count": 23,
     "metadata": {},
     "output_type": "execute_result"
    }
   ],
   "source": [
    "f = {}\n",
    "\n",
    "for column in df_copy.columns:\n",
    "#    print(column)\n",
    "    if(column in df_copy[categoricos].columns):\n",
    "#        print(column, 'categoricos')\n",
    "        f[column] = lambda x: x.value_counts().index[0]\n",
    "    elif(column in df_copy[numericos].columns):\n",
    "#        print(column, 'numericos')\n",
    "        f[column] = 'mean'\n",
    "    \n",
    "f"
   ]
  },
  {
   "cell_type": "code",
   "execution_count": null,
   "metadata": {},
   "outputs": [],
   "source": [
    "grouped = df_copy.groupby(by=[\"Value\"]).agg(f)\n",
    "grouped"
   ]
  },
  {
   "cell_type": "code",
   "execution_count": null,
   "metadata": {},
   "outputs": [],
   "source": [
    "grouped = df_copy.groupby(by=[\"Area\"]).agg(f)\n",
    "grouped"
   ]
  },
  {
   "cell_type": "code",
   "execution_count": null,
   "metadata": {},
   "outputs": [],
   "source": []
  }
 ],
 "metadata": {
  "kernelspec": {
   "display_name": "Python 3",
   "language": "python",
   "name": "python3"
  },
  "language_info": {
   "codemirror_mode": {
    "name": "ipython",
    "version": 3
   },
   "file_extension": ".py",
   "mimetype": "text/x-python",
   "name": "python",
   "nbconvert_exporter": "python",
   "pygments_lexer": "ipython3",
   "version": "3.7.2"
  }
 },
 "nbformat": 4,
 "nbformat_minor": 2
}
