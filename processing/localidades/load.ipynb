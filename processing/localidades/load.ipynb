{
 "cells": [
  {
   "cell_type": "code",
   "execution_count": 1,
   "metadata": {},
   "outputs": [],
   "source": [
    "import pandas as pd"
   ]
  },
  {
   "cell_type": "code",
   "execution_count": 5,
   "metadata": {},
   "outputs": [],
   "source": [
    "file = '../../data/inegi-localidades/AGEEML_20192182159965.csv'"
   ]
  },
  {
   "cell_type": "code",
   "execution_count": 7,
   "metadata": {},
   "outputs": [],
   "source": [
    "df = pd.read_csv(file, encoding='latin')"
   ]
  },
  {
   "cell_type": "code",
   "execution_count": 8,
   "metadata": {},
   "outputs": [],
   "source": [
    "df_copy = df.copy()"
   ]
  },
  {
   "cell_type": "code",
   "execution_count": 9,
   "metadata": {},
   "outputs": [
    {
     "data": {
      "text/html": [
       "<div>\n",
       "<style scoped>\n",
       "    .dataframe tbody tr th:only-of-type {\n",
       "        vertical-align: middle;\n",
       "    }\n",
       "\n",
       "    .dataframe tbody tr th {\n",
       "        vertical-align: top;\n",
       "    }\n",
       "\n",
       "    .dataframe thead th {\n",
       "        text-align: right;\n",
       "    }\n",
       "</style>\n",
       "<table border=\"1\" class=\"dataframe\">\n",
       "  <thead>\n",
       "    <tr style=\"text-align: right;\">\n",
       "      <th></th>\n",
       "      <th>MAPA</th>\n",
       "      <th>CVE_ENT</th>\n",
       "      <th>NOM_ENT</th>\n",
       "      <th>NOM_ABR</th>\n",
       "      <th>CVE_MUN</th>\n",
       "      <th>NOM_MUN</th>\n",
       "      <th>CVE_LOC</th>\n",
       "      <th>NOM_LOC</th>\n",
       "      <th>AMBITO</th>\n",
       "      <th>LATITUD</th>\n",
       "      <th>LONGITUD</th>\n",
       "      <th>LAT_DECIMAL</th>\n",
       "      <th>LON_DECIMAL</th>\n",
       "      <th>ALTITUD</th>\n",
       "      <th>CVE_CARTA</th>\n",
       "      <th>POB_TOTAL</th>\n",
       "      <th>POB_MASCULINA</th>\n",
       "      <th>POB_FEMENINA</th>\n",
       "      <th>TOTAL DE VIVIENDAS HABITADAS</th>\n",
       "    </tr>\n",
       "  </thead>\n",
       "  <tbody>\n",
       "    <tr>\n",
       "      <th>0</th>\n",
       "      <td>90100001</td>\n",
       "      <td>9</td>\n",
       "      <td>CIUDAD DE MEXICO</td>\n",
       "      <td>CDMX</td>\n",
       "      <td>10</td>\n",
       "      <td>ALVARO OBREGON</td>\n",
       "      <td>1</td>\n",
       "      <td>ALVARO OBREGON</td>\n",
       "      <td>U</td>\n",
       "      <td>19°23´26.902N\"</td>\n",
       "      <td>099°11´43.488W\"</td>\n",
       "      <td>19.390806</td>\n",
       "      <td>-99.195413</td>\n",
       "      <td>2309</td>\n",
       "      <td>E14A39</td>\n",
       "      <td>726664</td>\n",
       "      <td>345858</td>\n",
       "      <td>380806</td>\n",
       "      <td>197836</td>\n",
       "    </tr>\n",
       "    <tr>\n",
       "      <th>1</th>\n",
       "      <td>90100213</td>\n",
       "      <td>9</td>\n",
       "      <td>CIUDAD DE MEXICO</td>\n",
       "      <td>CDMX</td>\n",
       "      <td>10</td>\n",
       "      <td>ALVARO OBREGON</td>\n",
       "      <td>213</td>\n",
       "      <td>AMPLIACION SAN BERNABE (TENANGO)</td>\n",
       "      <td>R</td>\n",
       "      <td>19°18´06.915N\"</td>\n",
       "      <td>099°16´28.697W\"</td>\n",
       "      <td>19.301921</td>\n",
       "      <td>-99.274638</td>\n",
       "      <td>2865</td>\n",
       "      <td>E14A39</td>\n",
       "      <td>15</td>\n",
       "      <td>8</td>\n",
       "      <td>7</td>\n",
       "      <td>4</td>\n",
       "    </tr>\n",
       "    <tr>\n",
       "      <th>2</th>\n",
       "      <td>90100219</td>\n",
       "      <td>9</td>\n",
       "      <td>CIUDAD DE MEXICO</td>\n",
       "      <td>CDMX</td>\n",
       "      <td>10</td>\n",
       "      <td>ALVARO OBREGON</td>\n",
       "      <td>219</td>\n",
       "      <td>APAPAXTLA</td>\n",
       "      <td>R</td>\n",
       "      <td>19°16´58.137N\"</td>\n",
       "      <td>099°17´16.647W\"</td>\n",
       "      <td>19.282816</td>\n",
       "      <td>-99.287958</td>\n",
       "      <td>2956</td>\n",
       "      <td>E14A39</td>\n",
       "      <td>0</td>\n",
       "      <td>0</td>\n",
       "      <td>0</td>\n",
       "      <td>0</td>\n",
       "    </tr>\n",
       "    <tr>\n",
       "      <th>3</th>\n",
       "      <td>90100214</td>\n",
       "      <td>9</td>\n",
       "      <td>CIUDAD DE MEXICO</td>\n",
       "      <td>CDMX</td>\n",
       "      <td>10</td>\n",
       "      <td>ALVARO OBREGON</td>\n",
       "      <td>214</td>\n",
       "      <td>CAMINO A LA BANDERA</td>\n",
       "      <td>R</td>\n",
       "      <td>19°19´17.889N\"</td>\n",
       "      <td>099°16´23.200W\"</td>\n",
       "      <td>19.321636</td>\n",
       "      <td>-99.273111</td>\n",
       "      <td>2820</td>\n",
       "      <td>E14A39</td>\n",
       "      <td>0</td>\n",
       "      <td>0</td>\n",
       "      <td>0</td>\n",
       "      <td>0</td>\n",
       "    </tr>\n",
       "    <tr>\n",
       "      <th>4</th>\n",
       "      <td>90100002</td>\n",
       "      <td>9</td>\n",
       "      <td>CIUDAD DE MEXICO</td>\n",
       "      <td>CDMX</td>\n",
       "      <td>10</td>\n",
       "      <td>ALVARO OBREGON</td>\n",
       "      <td>2</td>\n",
       "      <td>CUAUHTLAMILA</td>\n",
       "      <td>R</td>\n",
       "      <td>19°19´30.635N\"</td>\n",
       "      <td>099°16´20.913W\"</td>\n",
       "      <td>19.325176</td>\n",
       "      <td>-99.272476</td>\n",
       "      <td>2734</td>\n",
       "      <td>E14A39</td>\n",
       "      <td>326</td>\n",
       "      <td>163</td>\n",
       "      <td>163</td>\n",
       "      <td>80</td>\n",
       "    </tr>\n",
       "  </tbody>\n",
       "</table>\n",
       "</div>"
      ],
      "text/plain": [
       "       MAPA  CVE_ENT           NOM_ENT NOM_ABR  CVE_MUN         NOM_MUN  \\\n",
       "0  90100001        9  CIUDAD DE MEXICO    CDMX       10  ALVARO OBREGON   \n",
       "1  90100213        9  CIUDAD DE MEXICO    CDMX       10  ALVARO OBREGON   \n",
       "2  90100219        9  CIUDAD DE MEXICO    CDMX       10  ALVARO OBREGON   \n",
       "3  90100214        9  CIUDAD DE MEXICO    CDMX       10  ALVARO OBREGON   \n",
       "4  90100002        9  CIUDAD DE MEXICO    CDMX       10  ALVARO OBREGON   \n",
       "\n",
       "   CVE_LOC                           NOM_LOC AMBITO         LATITUD  \\\n",
       "0        1                    ALVARO OBREGON      U  19°23´26.902N\"   \n",
       "1      213  AMPLIACION SAN BERNABE (TENANGO)      R  19°18´06.915N\"   \n",
       "2      219                         APAPAXTLA      R  19°16´58.137N\"   \n",
       "3      214               CAMINO A LA BANDERA      R  19°19´17.889N\"   \n",
       "4        2                      CUAUHTLAMILA      R  19°19´30.635N\"   \n",
       "\n",
       "          LONGITUD  LAT_DECIMAL  LON_DECIMAL  ALTITUD CVE_CARTA  POB_TOTAL  \\\n",
       "0  099°11´43.488W\"    19.390806   -99.195413     2309    E14A39     726664   \n",
       "1  099°16´28.697W\"    19.301921   -99.274638     2865    E14A39         15   \n",
       "2  099°17´16.647W\"    19.282816   -99.287958     2956    E14A39          0   \n",
       "3  099°16´23.200W\"    19.321636   -99.273111     2820    E14A39          0   \n",
       "4  099°16´20.913W\"    19.325176   -99.272476     2734    E14A39        326   \n",
       "\n",
       "   POB_MASCULINA  POB_FEMENINA  TOTAL DE VIVIENDAS HABITADAS  \n",
       "0         345858        380806                        197836  \n",
       "1              8             7                             4  \n",
       "2              0             0                             0  \n",
       "3              0             0                             0  \n",
       "4            163           163                            80  "
      ]
     },
     "execution_count": 9,
     "metadata": {},
     "output_type": "execute_result"
    }
   ],
   "source": [
    "df_copy.head()"
   ]
  },
  {
   "cell_type": "code",
   "execution_count": 12,
   "metadata": {},
   "outputs": [
    {
     "data": {
      "text/plain": [
       "662"
      ]
     },
     "execution_count": 12,
     "metadata": {},
     "output_type": "execute_result"
    }
   ],
   "source": [
    "len(df_copy)"
   ]
  },
  {
   "cell_type": "code",
   "execution_count": null,
   "metadata": {},
   "outputs": [],
   "source": []
  }
 ],
 "metadata": {
  "kernelspec": {
   "display_name": "Python 3",
   "language": "python",
   "name": "python3"
  },
  "language_info": {
   "codemirror_mode": {
    "name": "ipython",
    "version": 3
   },
   "file_extension": ".py",
   "mimetype": "text/x-python",
   "name": "python",
   "nbconvert_exporter": "python",
   "pygments_lexer": "ipython3",
   "version": "3.7.2"
  }
 },
 "nbformat": 4,
 "nbformat_minor": 2
}
