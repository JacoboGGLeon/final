{
 "cells": [
  {
   "cell_type": "code",
   "execution_count": 1,
   "metadata": {},
   "outputs": [],
   "source": [
    "import pandas as pd"
   ]
  },
  {
   "cell_type": "code",
   "execution_count": 18,
   "metadata": {},
   "outputs": [],
   "source": [
    "import re"
   ]
  },
  {
   "cell_type": "code",
   "execution_count": 39,
   "metadata": {},
   "outputs": [],
   "source": [
    "file = \"../../data/casas/casas_de_seguridad_01 - Hoja 1.csv\""
   ]
  },
  {
   "cell_type": "code",
   "execution_count": 40,
   "metadata": {},
   "outputs": [],
   "source": [
    "df = pd.read_csv(filepath_or_buffer=file)"
   ]
  },
  {
   "cell_type": "code",
   "execution_count": 41,
   "metadata": {},
   "outputs": [
    {
     "data": {
      "text/html": [
       "<div>\n",
       "<style scoped>\n",
       "    .dataframe tbody tr th:only-of-type {\n",
       "        vertical-align: middle;\n",
       "    }\n",
       "\n",
       "    .dataframe tbody tr th {\n",
       "        vertical-align: top;\n",
       "    }\n",
       "\n",
       "    .dataframe thead th {\n",
       "        text-align: right;\n",
       "    }\n",
       "</style>\n",
       "<table border=\"1\" class=\"dataframe\">\n",
       "  <thead>\n",
       "    <tr style=\"text-align: right;\">\n",
       "      <th></th>\n",
       "      <th>Sitio</th>\n",
       "      <th>Link</th>\n",
       "      <th>Año</th>\n",
       "      <th>Calle</th>\n",
       "      <th>Colonia</th>\n",
       "      <th>Municipio</th>\n",
       "      <th>Estado</th>\n",
       "      <th>Location</th>\n",
       "    </tr>\n",
       "  </thead>\n",
       "  <tbody>\n",
       "    <tr>\n",
       "      <th>0</th>\n",
       "      <td>Proceso</td>\n",
       "      <td>https://www.proceso.com.mx/365224/rescatan-a-2...</td>\n",
       "      <td>2014.0</td>\n",
       "      <td>calle Hudson</td>\n",
       "      <td>Hidalgo</td>\n",
       "      <td>Mexicalli</td>\n",
       "      <td>Baja California</td>\n",
       "      <td>NaN</td>\n",
       "    </tr>\n",
       "    <tr>\n",
       "      <th>1</th>\n",
       "      <td>Proceso</td>\n",
       "      <td>https://www.proceso.com.mx/372530/secuestrador...</td>\n",
       "      <td>2014.0</td>\n",
       "      <td>NaN</td>\n",
       "      <td>Vista Bella</td>\n",
       "      <td>Tijuana</td>\n",
       "      <td>Baja California</td>\n",
       "      <td>NaN</td>\n",
       "    </tr>\n",
       "    <tr>\n",
       "      <th>2</th>\n",
       "      <td>Proceso</td>\n",
       "      <td>https://www.proceso.com.mx/396640/banda-de-pla...</td>\n",
       "      <td>2015.0</td>\n",
       "      <td>NaN</td>\n",
       "      <td>El Lago</td>\n",
       "      <td>Tijuana</td>\n",
       "      <td>Baja California</td>\n",
       "      <td>NaN</td>\n",
       "    </tr>\n",
       "    <tr>\n",
       "      <th>3</th>\n",
       "      <td>La Prensa</td>\n",
       "      <td>https://www.la-prensa.com.mx/republica/335447-...</td>\n",
       "      <td>NaN</td>\n",
       "      <td>calle Oasis de Egipto</td>\n",
       "      <td>Oasis</td>\n",
       "      <td>Ciudad Juárez</td>\n",
       "      <td>Chihuahua</td>\n",
       "      <td>NaN</td>\n",
       "    </tr>\n",
       "    <tr>\n",
       "      <th>4</th>\n",
       "      <td>La Prensa</td>\n",
       "      <td>https://www.la-prensa.com.mx/republica/335110-...</td>\n",
       "      <td>NaN</td>\n",
       "      <td>calle Profesora Dolores de Revilla</td>\n",
       "      <td>Independencia II</td>\n",
       "      <td>Ciudad Juárez</td>\n",
       "      <td>Chihuahua</td>\n",
       "      <td>NaN</td>\n",
       "    </tr>\n",
       "  </tbody>\n",
       "</table>\n",
       "</div>"
      ],
      "text/plain": [
       "       Sitio                                               Link     Año  \\\n",
       "0    Proceso  https://www.proceso.com.mx/365224/rescatan-a-2...  2014.0   \n",
       "1    Proceso  https://www.proceso.com.mx/372530/secuestrador...  2014.0   \n",
       "2    Proceso  https://www.proceso.com.mx/396640/banda-de-pla...  2015.0   \n",
       "3  La Prensa  https://www.la-prensa.com.mx/republica/335447-...     NaN   \n",
       "4  La Prensa  https://www.la-prensa.com.mx/republica/335110-...     NaN   \n",
       "\n",
       "                                Calle           Colonia      Municipio  \\\n",
       "0                        calle Hudson           Hidalgo      Mexicalli   \n",
       "1                                 NaN       Vista Bella        Tijuana   \n",
       "2                                 NaN           El Lago        Tijuana   \n",
       "3               calle Oasis de Egipto             Oasis  Ciudad Juárez   \n",
       "4  calle Profesora Dolores de Revilla  Independencia II  Ciudad Juárez   \n",
       "\n",
       "            Estado Location  \n",
       "0  Baja California      NaN  \n",
       "1  Baja California      NaN  \n",
       "2  Baja California      NaN  \n",
       "3        Chihuahua      NaN  \n",
       "4        Chihuahua      NaN  "
      ]
     },
     "execution_count": 41,
     "metadata": {},
     "output_type": "execute_result"
    }
   ],
   "source": [
    "df.head()"
   ]
  },
  {
   "cell_type": "code",
   "execution_count": 42,
   "metadata": {},
   "outputs": [],
   "source": [
    "df_copy = df.copy()"
   ]
  },
  {
   "cell_type": "code",
   "execution_count": 43,
   "metadata": {},
   "outputs": [
    {
     "data": {
      "text/plain": [
       "(139, 8)"
      ]
     },
     "execution_count": 43,
     "metadata": {},
     "output_type": "execute_result"
    }
   ],
   "source": [
    "df_copy.shape"
   ]
  },
  {
   "cell_type": "code",
   "execution_count": 60,
   "metadata": {},
   "outputs": [],
   "source": [
    "df_copy.dropna(axis=0, subset=['Location'], inplace=True)"
   ]
  },
  {
   "cell_type": "code",
   "execution_count": 61,
   "metadata": {},
   "outputs": [
    {
     "data": {
      "text/plain": [
       "(74, 8)"
      ]
     },
     "execution_count": 61,
     "metadata": {},
     "output_type": "execute_result"
    }
   ],
   "source": [
    "df_copy.shape"
   ]
  },
  {
   "cell_type": "code",
   "execution_count": 62,
   "metadata": {},
   "outputs": [
    {
     "data": {
      "text/html": [
       "<div>\n",
       "<style scoped>\n",
       "    .dataframe tbody tr th:only-of-type {\n",
       "        vertical-align: middle;\n",
       "    }\n",
       "\n",
       "    .dataframe tbody tr th {\n",
       "        vertical-align: top;\n",
       "    }\n",
       "\n",
       "    .dataframe thead th {\n",
       "        text-align: right;\n",
       "    }\n",
       "</style>\n",
       "<table border=\"1\" class=\"dataframe\">\n",
       "  <thead>\n",
       "    <tr style=\"text-align: right;\">\n",
       "      <th></th>\n",
       "      <th>Sitio</th>\n",
       "      <th>Link</th>\n",
       "      <th>Año</th>\n",
       "      <th>Calle</th>\n",
       "      <th>Colonia</th>\n",
       "      <th>Municipio</th>\n",
       "      <th>Estado</th>\n",
       "      <th>Location</th>\n",
       "    </tr>\n",
       "  </thead>\n",
       "  <tbody>\n",
       "    <tr>\n",
       "      <th>9</th>\n",
       "      <td>La Prensa</td>\n",
       "      <td>https://www.la-prensa.com.mx/policia/83376-la-...</td>\n",
       "      <td>2016.0</td>\n",
       "      <td>NaN</td>\n",
       "      <td>Desarrollo Urbano Quetzalcóatl</td>\n",
       "      <td>Iztapalapa</td>\n",
       "      <td>Ciudad de México</td>\n",
       "      <td>19.3263221,-99.0507008</td>\n",
       "    </tr>\n",
       "    <tr>\n",
       "      <th>10</th>\n",
       "      <td>La Prensa</td>\n",
       "      <td>https://www.la-prensa.com.mx/policia/207635-ca...</td>\n",
       "      <td>2017.0</td>\n",
       "      <td>esquina de Simón Álvarez y Adolfo Uga</td>\n",
       "      <td>La Conchita Zapotitla</td>\n",
       "      <td>Tláhuac</td>\n",
       "      <td>Ciudad de México</td>\n",
       "      <td>19.3068385,-99.0434248</td>\n",
       "    </tr>\n",
       "    <tr>\n",
       "      <th>11</th>\n",
       "      <td>La Prensa</td>\n",
       "      <td>https://www.la-prensa.com.mx/policia/214291-24...</td>\n",
       "      <td>2017.0</td>\n",
       "      <td>NaN</td>\n",
       "      <td>Casas Alemán</td>\n",
       "      <td>Gustavo A. Madero</td>\n",
       "      <td>Ciudad de México</td>\n",
       "      <td>19.4783912,-99.0891945</td>\n",
       "    </tr>\n",
       "    <tr>\n",
       "      <th>12</th>\n",
       "      <td>La Prensa</td>\n",
       "      <td>https://www.la-prensa.com.mx/policia/337261-el...</td>\n",
       "      <td>2018.0</td>\n",
       "      <td>NaN</td>\n",
       "      <td>El Mar</td>\n",
       "      <td>Tláhuac</td>\n",
       "      <td>Ciudad de México</td>\n",
       "      <td>19.4783912,-99.0891945</td>\n",
       "    </tr>\n",
       "    <tr>\n",
       "      <th>13</th>\n",
       "      <td>La Prensa</td>\n",
       "      <td>https://www.la-prensa.com.mx/policia/81318-for...</td>\n",
       "      <td>2016.0</td>\n",
       "      <td>NaN</td>\n",
       "      <td>Manzanatitlán</td>\n",
       "      <td>Cuajimalpa</td>\n",
       "      <td>Ciudad de México</td>\n",
       "      <td>19.367977,-99.2995817</td>\n",
       "    </tr>\n",
       "  </tbody>\n",
       "</table>\n",
       "</div>"
      ],
      "text/plain": [
       "        Sitio                                               Link     Año  \\\n",
       "9   La Prensa  https://www.la-prensa.com.mx/policia/83376-la-...  2016.0   \n",
       "10  La Prensa  https://www.la-prensa.com.mx/policia/207635-ca...  2017.0   \n",
       "11  La Prensa  https://www.la-prensa.com.mx/policia/214291-24...  2017.0   \n",
       "12  La Prensa  https://www.la-prensa.com.mx/policia/337261-el...  2018.0   \n",
       "13  La Prensa  https://www.la-prensa.com.mx/policia/81318-for...  2016.0   \n",
       "\n",
       "                                    Calle                         Colonia  \\\n",
       "9                                     NaN  Desarrollo Urbano Quetzalcóatl   \n",
       "10  esquina de Simón Álvarez y Adolfo Uga           La Conchita Zapotitla   \n",
       "11                                    NaN                    Casas Alemán   \n",
       "12                                    NaN                          El Mar   \n",
       "13                                    NaN                   Manzanatitlán   \n",
       "\n",
       "            Municipio            Estado                Location  \n",
       "9          Iztapalapa  Ciudad de México  19.3263221,-99.0507008  \n",
       "10            Tláhuac  Ciudad de México  19.3068385,-99.0434248  \n",
       "11  Gustavo A. Madero  Ciudad de México  19.4783912,-99.0891945  \n",
       "12            Tláhuac  Ciudad de México  19.4783912,-99.0891945  \n",
       "13         Cuajimalpa  Ciudad de México   19.367977,-99.2995817  "
      ]
     },
     "execution_count": 62,
     "metadata": {},
     "output_type": "execute_result"
    }
   ],
   "source": [
    "df_copy.head()"
   ]
  },
  {
   "cell_type": "code",
   "execution_count": 63,
   "metadata": {},
   "outputs": [],
   "source": [
    "df_copy['Año'] = df_copy['Año'].astype('int64')"
   ]
  },
  {
   "cell_type": "code",
   "execution_count": 64,
   "metadata": {},
   "outputs": [
    {
     "data": {
      "text/html": [
       "<div>\n",
       "<style scoped>\n",
       "    .dataframe tbody tr th:only-of-type {\n",
       "        vertical-align: middle;\n",
       "    }\n",
       "\n",
       "    .dataframe tbody tr th {\n",
       "        vertical-align: top;\n",
       "    }\n",
       "\n",
       "    .dataframe thead th {\n",
       "        text-align: right;\n",
       "    }\n",
       "</style>\n",
       "<table border=\"1\" class=\"dataframe\">\n",
       "  <thead>\n",
       "    <tr style=\"text-align: right;\">\n",
       "      <th></th>\n",
       "      <th>Sitio</th>\n",
       "      <th>Link</th>\n",
       "      <th>Año</th>\n",
       "      <th>Calle</th>\n",
       "      <th>Colonia</th>\n",
       "      <th>Municipio</th>\n",
       "      <th>Estado</th>\n",
       "      <th>Location</th>\n",
       "    </tr>\n",
       "  </thead>\n",
       "  <tbody>\n",
       "    <tr>\n",
       "      <th>9</th>\n",
       "      <td>La Prensa</td>\n",
       "      <td>https://www.la-prensa.com.mx/policia/83376-la-...</td>\n",
       "      <td>2016</td>\n",
       "      <td>NaN</td>\n",
       "      <td>Desarrollo Urbano Quetzalcóatl</td>\n",
       "      <td>Iztapalapa</td>\n",
       "      <td>Ciudad de México</td>\n",
       "      <td>19.3263221,-99.0507008</td>\n",
       "    </tr>\n",
       "    <tr>\n",
       "      <th>10</th>\n",
       "      <td>La Prensa</td>\n",
       "      <td>https://www.la-prensa.com.mx/policia/207635-ca...</td>\n",
       "      <td>2017</td>\n",
       "      <td>esquina de Simón Álvarez y Adolfo Uga</td>\n",
       "      <td>La Conchita Zapotitla</td>\n",
       "      <td>Tláhuac</td>\n",
       "      <td>Ciudad de México</td>\n",
       "      <td>19.3068385,-99.0434248</td>\n",
       "    </tr>\n",
       "    <tr>\n",
       "      <th>11</th>\n",
       "      <td>La Prensa</td>\n",
       "      <td>https://www.la-prensa.com.mx/policia/214291-24...</td>\n",
       "      <td>2017</td>\n",
       "      <td>NaN</td>\n",
       "      <td>Casas Alemán</td>\n",
       "      <td>Gustavo A. Madero</td>\n",
       "      <td>Ciudad de México</td>\n",
       "      <td>19.4783912,-99.0891945</td>\n",
       "    </tr>\n",
       "    <tr>\n",
       "      <th>12</th>\n",
       "      <td>La Prensa</td>\n",
       "      <td>https://www.la-prensa.com.mx/policia/337261-el...</td>\n",
       "      <td>2018</td>\n",
       "      <td>NaN</td>\n",
       "      <td>El Mar</td>\n",
       "      <td>Tláhuac</td>\n",
       "      <td>Ciudad de México</td>\n",
       "      <td>19.4783912,-99.0891945</td>\n",
       "    </tr>\n",
       "    <tr>\n",
       "      <th>13</th>\n",
       "      <td>La Prensa</td>\n",
       "      <td>https://www.la-prensa.com.mx/policia/81318-for...</td>\n",
       "      <td>2016</td>\n",
       "      <td>NaN</td>\n",
       "      <td>Manzanatitlán</td>\n",
       "      <td>Cuajimalpa</td>\n",
       "      <td>Ciudad de México</td>\n",
       "      <td>19.367977,-99.2995817</td>\n",
       "    </tr>\n",
       "  </tbody>\n",
       "</table>\n",
       "</div>"
      ],
      "text/plain": [
       "        Sitio                                               Link   Año  \\\n",
       "9   La Prensa  https://www.la-prensa.com.mx/policia/83376-la-...  2016   \n",
       "10  La Prensa  https://www.la-prensa.com.mx/policia/207635-ca...  2017   \n",
       "11  La Prensa  https://www.la-prensa.com.mx/policia/214291-24...  2017   \n",
       "12  La Prensa  https://www.la-prensa.com.mx/policia/337261-el...  2018   \n",
       "13  La Prensa  https://www.la-prensa.com.mx/policia/81318-for...  2016   \n",
       "\n",
       "                                    Calle                         Colonia  \\\n",
       "9                                     NaN  Desarrollo Urbano Quetzalcóatl   \n",
       "10  esquina de Simón Álvarez y Adolfo Uga           La Conchita Zapotitla   \n",
       "11                                    NaN                    Casas Alemán   \n",
       "12                                    NaN                          El Mar   \n",
       "13                                    NaN                   Manzanatitlán   \n",
       "\n",
       "            Municipio            Estado                Location  \n",
       "9          Iztapalapa  Ciudad de México  19.3263221,-99.0507008  \n",
       "10            Tláhuac  Ciudad de México  19.3068385,-99.0434248  \n",
       "11  Gustavo A. Madero  Ciudad de México  19.4783912,-99.0891945  \n",
       "12            Tláhuac  Ciudad de México  19.4783912,-99.0891945  \n",
       "13         Cuajimalpa  Ciudad de México   19.367977,-99.2995817  "
      ]
     },
     "execution_count": 64,
     "metadata": {},
     "output_type": "execute_result"
    }
   ],
   "source": [
    "df_copy.head()"
   ]
  },
  {
   "cell_type": "code",
   "execution_count": 65,
   "metadata": {},
   "outputs": [
    {
     "data": {
      "text/plain": [
       "'19.3263221'"
      ]
     },
     "execution_count": 65,
     "metadata": {},
     "output_type": "execute_result"
    }
   ],
   "source": [
    "df_copy.Location.iloc[0][:10]"
   ]
  },
  {
   "cell_type": "code",
   "execution_count": 66,
   "metadata": {},
   "outputs": [
    {
     "data": {
      "text/plain": [
       "'-99.0507008'"
      ]
     },
     "execution_count": 66,
     "metadata": {},
     "output_type": "execute_result"
    }
   ],
   "source": [
    "df_copy.Location.iloc[0][11:]"
   ]
  },
  {
   "cell_type": "code",
   "execution_count": 67,
   "metadata": {},
   "outputs": [],
   "source": [
    "list_lat = []\n",
    "list_lng = []\n",
    "\n",
    "for row in df_copy.Location:\n",
    "    #print(row)\n",
    "    #print(\"Original: \", row, \"Lat: \", re.split(',',row)[0], \"Lng: \", re.split(',',row)[1])\n",
    "    list_lat.append(re.split(',',row)[0])\n",
    "    list_lng.append(re.split(',',row)[1])    "
   ]
  },
  {
   "cell_type": "code",
   "execution_count": 68,
   "metadata": {},
   "outputs": [],
   "source": [
    "df_copy['Lat'] = list_lat"
   ]
  },
  {
   "cell_type": "code",
   "execution_count": 69,
   "metadata": {},
   "outputs": [],
   "source": [
    "df_copy['Lng'] = list_lng"
   ]
  },
  {
   "cell_type": "code",
   "execution_count": 70,
   "metadata": {},
   "outputs": [
    {
     "data": {
      "text/html": [
       "<div>\n",
       "<style scoped>\n",
       "    .dataframe tbody tr th:only-of-type {\n",
       "        vertical-align: middle;\n",
       "    }\n",
       "\n",
       "    .dataframe tbody tr th {\n",
       "        vertical-align: top;\n",
       "    }\n",
       "\n",
       "    .dataframe thead th {\n",
       "        text-align: right;\n",
       "    }\n",
       "</style>\n",
       "<table border=\"1\" class=\"dataframe\">\n",
       "  <thead>\n",
       "    <tr style=\"text-align: right;\">\n",
       "      <th></th>\n",
       "      <th>Sitio</th>\n",
       "      <th>Link</th>\n",
       "      <th>Año</th>\n",
       "      <th>Calle</th>\n",
       "      <th>Colonia</th>\n",
       "      <th>Municipio</th>\n",
       "      <th>Estado</th>\n",
       "      <th>Location</th>\n",
       "      <th>Lat</th>\n",
       "      <th>Lng</th>\n",
       "    </tr>\n",
       "  </thead>\n",
       "  <tbody>\n",
       "    <tr>\n",
       "      <th>9</th>\n",
       "      <td>La Prensa</td>\n",
       "      <td>https://www.la-prensa.com.mx/policia/83376-la-...</td>\n",
       "      <td>2016</td>\n",
       "      <td>NaN</td>\n",
       "      <td>Desarrollo Urbano Quetzalcóatl</td>\n",
       "      <td>Iztapalapa</td>\n",
       "      <td>Ciudad de México</td>\n",
       "      <td>19.3263221,-99.0507008</td>\n",
       "      <td>19.3263221</td>\n",
       "      <td>-99.0507008</td>\n",
       "    </tr>\n",
       "    <tr>\n",
       "      <th>10</th>\n",
       "      <td>La Prensa</td>\n",
       "      <td>https://www.la-prensa.com.mx/policia/207635-ca...</td>\n",
       "      <td>2017</td>\n",
       "      <td>esquina de Simón Álvarez y Adolfo Uga</td>\n",
       "      <td>La Conchita Zapotitla</td>\n",
       "      <td>Tláhuac</td>\n",
       "      <td>Ciudad de México</td>\n",
       "      <td>19.3068385,-99.0434248</td>\n",
       "      <td>19.3068385</td>\n",
       "      <td>-99.0434248</td>\n",
       "    </tr>\n",
       "    <tr>\n",
       "      <th>11</th>\n",
       "      <td>La Prensa</td>\n",
       "      <td>https://www.la-prensa.com.mx/policia/214291-24...</td>\n",
       "      <td>2017</td>\n",
       "      <td>NaN</td>\n",
       "      <td>Casas Alemán</td>\n",
       "      <td>Gustavo A. Madero</td>\n",
       "      <td>Ciudad de México</td>\n",
       "      <td>19.4783912,-99.0891945</td>\n",
       "      <td>19.4783912</td>\n",
       "      <td>-99.0891945</td>\n",
       "    </tr>\n",
       "    <tr>\n",
       "      <th>12</th>\n",
       "      <td>La Prensa</td>\n",
       "      <td>https://www.la-prensa.com.mx/policia/337261-el...</td>\n",
       "      <td>2018</td>\n",
       "      <td>NaN</td>\n",
       "      <td>El Mar</td>\n",
       "      <td>Tláhuac</td>\n",
       "      <td>Ciudad de México</td>\n",
       "      <td>19.4783912,-99.0891945</td>\n",
       "      <td>19.4783912</td>\n",
       "      <td>-99.0891945</td>\n",
       "    </tr>\n",
       "    <tr>\n",
       "      <th>13</th>\n",
       "      <td>La Prensa</td>\n",
       "      <td>https://www.la-prensa.com.mx/policia/81318-for...</td>\n",
       "      <td>2016</td>\n",
       "      <td>NaN</td>\n",
       "      <td>Manzanatitlán</td>\n",
       "      <td>Cuajimalpa</td>\n",
       "      <td>Ciudad de México</td>\n",
       "      <td>19.367977,-99.2995817</td>\n",
       "      <td>19.367977</td>\n",
       "      <td>-99.2995817</td>\n",
       "    </tr>\n",
       "  </tbody>\n",
       "</table>\n",
       "</div>"
      ],
      "text/plain": [
       "        Sitio                                               Link   Año  \\\n",
       "9   La Prensa  https://www.la-prensa.com.mx/policia/83376-la-...  2016   \n",
       "10  La Prensa  https://www.la-prensa.com.mx/policia/207635-ca...  2017   \n",
       "11  La Prensa  https://www.la-prensa.com.mx/policia/214291-24...  2017   \n",
       "12  La Prensa  https://www.la-prensa.com.mx/policia/337261-el...  2018   \n",
       "13  La Prensa  https://www.la-prensa.com.mx/policia/81318-for...  2016   \n",
       "\n",
       "                                    Calle                         Colonia  \\\n",
       "9                                     NaN  Desarrollo Urbano Quetzalcóatl   \n",
       "10  esquina de Simón Álvarez y Adolfo Uga           La Conchita Zapotitla   \n",
       "11                                    NaN                    Casas Alemán   \n",
       "12                                    NaN                          El Mar   \n",
       "13                                    NaN                   Manzanatitlán   \n",
       "\n",
       "            Municipio            Estado                Location         Lat  \\\n",
       "9          Iztapalapa  Ciudad de México  19.3263221,-99.0507008  19.3263221   \n",
       "10            Tláhuac  Ciudad de México  19.3068385,-99.0434248  19.3068385   \n",
       "11  Gustavo A. Madero  Ciudad de México  19.4783912,-99.0891945  19.4783912   \n",
       "12            Tláhuac  Ciudad de México  19.4783912,-99.0891945  19.4783912   \n",
       "13         Cuajimalpa  Ciudad de México   19.367977,-99.2995817   19.367977   \n",
       "\n",
       "            Lng  \n",
       "9   -99.0507008  \n",
       "10  -99.0434248  \n",
       "11  -99.0891945  \n",
       "12  -99.0891945  \n",
       "13  -99.2995817  "
      ]
     },
     "execution_count": 70,
     "metadata": {},
     "output_type": "execute_result"
    }
   ],
   "source": [
    "df_copy.head()"
   ]
  },
  {
   "cell_type": "code",
   "execution_count": 74,
   "metadata": {},
   "outputs": [
    {
     "data": {
      "text/plain": [
       "(43, 10)"
      ]
     },
     "execution_count": 74,
     "metadata": {},
     "output_type": "execute_result"
    }
   ],
   "source": [
    "df_copy[df_copy.Estado == 'Ciudad de México'].shape"
   ]
  },
  {
   "cell_type": "code",
   "execution_count": 75,
   "metadata": {},
   "outputs": [
    {
     "data": {
      "text/plain": [
       "(31, 10)"
      ]
     },
     "execution_count": 75,
     "metadata": {},
     "output_type": "execute_result"
    }
   ],
   "source": [
    "df_copy[df_copy.Estado == 'Estado de México'].shape"
   ]
  },
  {
   "cell_type": "code",
   "execution_count": 76,
   "metadata": {},
   "outputs": [
    {
     "data": {
      "text/plain": [
       "(74, 10)"
      ]
     },
     "execution_count": 76,
     "metadata": {},
     "output_type": "execute_result"
    }
   ],
   "source": [
    "df_copy.shape"
   ]
  },
  {
   "cell_type": "code",
   "execution_count": 71,
   "metadata": {},
   "outputs": [],
   "source": [
    "file = \"../../data/casas/casas_de_seguridad_01_geo.csv\""
   ]
  },
  {
   "cell_type": "code",
   "execution_count": 72,
   "metadata": {},
   "outputs": [],
   "source": [
    "df_copy.to_csv(path_or_buf=file)"
   ]
  },
  {
   "cell_type": "code",
   "execution_count": null,
   "metadata": {},
   "outputs": [],
   "source": []
  }
 ],
 "metadata": {
  "kernelspec": {
   "display_name": "Python 3",
   "language": "python",
   "name": "python3"
  },
  "language_info": {
   "codemirror_mode": {
    "name": "ipython",
    "version": 3
   },
   "file_extension": ".py",
   "mimetype": "text/x-python",
   "name": "python",
   "nbconvert_exporter": "python",
   "pygments_lexer": "ipython3",
   "version": "3.7.2"
  }
 },
 "nbformat": 4,
 "nbformat_minor": 2
}
