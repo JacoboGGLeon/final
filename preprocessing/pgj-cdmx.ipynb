{
 "cells": [
  {
   "cell_type": "code",
   "execution_count": 1,
   "metadata": {},
   "outputs": [],
   "source": [
    "import pandas as pd"
   ]
  },
  {
   "cell_type": "code",
   "execution_count": 2,
   "metadata": {},
   "outputs": [],
   "source": [
    "file = \"../../data/pgj-cdmx/carpetas-de-investigacion-pgj-cdmx.csv\""
   ]
  },
  {
   "cell_type": "code",
   "execution_count": 3,
   "metadata": {},
   "outputs": [],
   "source": [
    "df = pd.read_csv(filepath_or_buffer=file, delimiter=';')"
   ]
  },
  {
   "cell_type": "code",
   "execution_count": 7,
   "metadata": {},
   "outputs": [
    {
     "data": {
      "text/plain": [
       "(681549, 16)"
      ]
     },
     "execution_count": 7,
     "metadata": {},
     "output_type": "execute_result"
    }
   ],
   "source": [
    "df.shape"
   ]
  },
  {
   "cell_type": "code",
   "execution_count": 4,
   "metadata": {},
   "outputs": [
    {
     "data": {
      "text/html": [
       "<div>\n",
       "<style scoped>\n",
       "    .dataframe tbody tr th:only-of-type {\n",
       "        vertical-align: middle;\n",
       "    }\n",
       "\n",
       "    .dataframe tbody tr th {\n",
       "        vertical-align: top;\n",
       "    }\n",
       "\n",
       "    .dataframe thead th {\n",
       "        text-align: right;\n",
       "    }\n",
       "</style>\n",
       "<table border=\"1\" class=\"dataframe\">\n",
       "  <thead>\n",
       "    <tr style=\"text-align: right;\">\n",
       "      <th></th>\n",
       "      <th>Año</th>\n",
       "      <th>Mes</th>\n",
       "      <th>Alcaldía</th>\n",
       "      <th>Categoría de delito</th>\n",
       "      <th>Delito</th>\n",
       "      <th>Agencia</th>\n",
       "      <th>Unidad de investigación</th>\n",
       "      <th>Fecha inicio</th>\n",
       "      <th>Fiscalía</th>\n",
       "      <th>Calle1</th>\n",
       "      <th>Calle2</th>\n",
       "      <th>Colonia</th>\n",
       "      <th>Latitud</th>\n",
       "      <th>Longitud</th>\n",
       "      <th>Mes y año</th>\n",
       "      <th>Geopoint</th>\n",
       "    </tr>\n",
       "  </thead>\n",
       "  <tbody>\n",
       "    <tr>\n",
       "      <th>0</th>\n",
       "      <td>2016</td>\n",
       "      <td>Enero</td>\n",
       "      <td>AZCAPOTZALCO</td>\n",
       "      <td>HECHO NO DELICTIVO</td>\n",
       "      <td>DENUNCIA DE HECHOS</td>\n",
       "      <td>FAS</td>\n",
       "      <td>T3</td>\n",
       "      <td>2016-01-22T07:52:54-06:00</td>\n",
       "      <td>INVESTIGACIÓN PARA LA ATENCIÓN DEL DELITO DE S...</td>\n",
       "      <td>JARDIN</td>\n",
       "      <td>NaN</td>\n",
       "      <td>DEL GAS</td>\n",
       "      <td>19.470000</td>\n",
       "      <td>-99.159390</td>\n",
       "      <td>2016-01</td>\n",
       "      <td>19.4699999998, -99.15939</td>\n",
       "    </tr>\n",
       "    <tr>\n",
       "      <th>1</th>\n",
       "      <td>2016</td>\n",
       "      <td>Enero</td>\n",
       "      <td>CUAUHTEMOC</td>\n",
       "      <td>HECHO NO DELICTIVO</td>\n",
       "      <td>DENUNCIA DE HECHOS</td>\n",
       "      <td>74</td>\n",
       "      <td>T3</td>\n",
       "      <td>2016-01-22T08:08:00-06:00</td>\n",
       "      <td>JUZGADOS CIVILES</td>\n",
       "      <td>AVENIDA NIÑOS HÉROES 131</td>\n",
       "      <td>NaN</td>\n",
       "      <td>DOCTORES</td>\n",
       "      <td>19.421227</td>\n",
       "      <td>-99.150121</td>\n",
       "      <td>2016-01</td>\n",
       "      <td>19.4212269998, -99.150121</td>\n",
       "    </tr>\n",
       "    <tr>\n",
       "      <th>2</th>\n",
       "      <td>2016</td>\n",
       "      <td>Enero</td>\n",
       "      <td>MIGUEL HIDALGO</td>\n",
       "      <td>DELITO DE BAJO IMPACTO</td>\n",
       "      <td>FRAUDE</td>\n",
       "      <td>URI-MH-5</td>\n",
       "      <td>UI-SD</td>\n",
       "      <td>2016-01-22T08:08:13-06:00</td>\n",
       "      <td>INVESTIGACIÓN EN MIGUEL HIDALGO</td>\n",
       "      <td>ANILLO PERIFERICO (BLVD. ADOLFO RUIZ CORTINES)</td>\n",
       "      <td>NaN</td>\n",
       "      <td>LOMAS DE CHAPULTEPEC I SECCIÓN</td>\n",
       "      <td>19.429224</td>\n",
       "      <td>-99.204931</td>\n",
       "      <td>2016-01</td>\n",
       "      <td>19.4292239998, -99.204931</td>\n",
       "    </tr>\n",
       "    <tr>\n",
       "      <th>3</th>\n",
       "      <td>2016</td>\n",
       "      <td>Enero</td>\n",
       "      <td>XOCHIMILCO</td>\n",
       "      <td>ROBO DE VEHÍCULO CON Y SIN VIOLENCIA</td>\n",
       "      <td>ROBO DE VEHICULO DE SERVICIO PARTICULAR SIN VI...</td>\n",
       "      <td>XO-1</td>\n",
       "      <td>T3</td>\n",
       "      <td>2016-01-22T08:19:31-06:00</td>\n",
       "      <td>INVESTIGACIÓN EN XOCHIMILCO</td>\n",
       "      <td>AV. DE LAS TORRES</td>\n",
       "      <td>NaN</td>\n",
       "      <td>TEPEPAN</td>\n",
       "      <td>19.266924</td>\n",
       "      <td>-99.132124</td>\n",
       "      <td>2016-01</td>\n",
       "      <td>19.2669239998, -99.132124</td>\n",
       "    </tr>\n",
       "    <tr>\n",
       "      <th>4</th>\n",
       "      <td>2016</td>\n",
       "      <td>Enero</td>\n",
       "      <td>GUSTAVO A MADERO</td>\n",
       "      <td>DELITO DE BAJO IMPACTO</td>\n",
       "      <td>ROBO DE OBJETOS</td>\n",
       "      <td>GAM-8</td>\n",
       "      <td>UI-3CD</td>\n",
       "      <td>2016-01-22T08:24:56-06:00</td>\n",
       "      <td>INVESTIGACIÓN EN GUSTAVO A. MADERO</td>\n",
       "      <td>EJE 5 NORTE</td>\n",
       "      <td>CALLE 412</td>\n",
       "      <td>SAN JUAN DE ARAGÓN</td>\n",
       "      <td>19.467296</td>\n",
       "      <td>-99.080157</td>\n",
       "      <td>2016-01</td>\n",
       "      <td>19.4672959998, -99.080157</td>\n",
       "    </tr>\n",
       "  </tbody>\n",
       "</table>\n",
       "</div>"
      ],
      "text/plain": [
       "    Año    Mes          Alcaldía                   Categoría de delito  \\\n",
       "0  2016  Enero      AZCAPOTZALCO                    HECHO NO DELICTIVO   \n",
       "1  2016  Enero        CUAUHTEMOC                    HECHO NO DELICTIVO   \n",
       "2  2016  Enero    MIGUEL HIDALGO                DELITO DE BAJO IMPACTO   \n",
       "3  2016  Enero        XOCHIMILCO  ROBO DE VEHÍCULO CON Y SIN VIOLENCIA   \n",
       "4  2016  Enero  GUSTAVO A MADERO                DELITO DE BAJO IMPACTO   \n",
       "\n",
       "                                              Delito   Agencia  \\\n",
       "0                                 DENUNCIA DE HECHOS       FAS   \n",
       "1                                 DENUNCIA DE HECHOS        74   \n",
       "2                                             FRAUDE  URI-MH-5   \n",
       "3  ROBO DE VEHICULO DE SERVICIO PARTICULAR SIN VI...      XO-1   \n",
       "4                                    ROBO DE OBJETOS     GAM-8   \n",
       "\n",
       "  Unidad de investigación               Fecha inicio  \\\n",
       "0                      T3  2016-01-22T07:52:54-06:00   \n",
       "1                      T3  2016-01-22T08:08:00-06:00   \n",
       "2                   UI-SD  2016-01-22T08:08:13-06:00   \n",
       "3                      T3  2016-01-22T08:19:31-06:00   \n",
       "4                  UI-3CD  2016-01-22T08:24:56-06:00   \n",
       "\n",
       "                                            Fiscalía  \\\n",
       "0  INVESTIGACIÓN PARA LA ATENCIÓN DEL DELITO DE S...   \n",
       "1                                   JUZGADOS CIVILES   \n",
       "2                    INVESTIGACIÓN EN MIGUEL HIDALGO   \n",
       "3                        INVESTIGACIÓN EN XOCHIMILCO   \n",
       "4                 INVESTIGACIÓN EN GUSTAVO A. MADERO   \n",
       "\n",
       "                                           Calle1     Calle2  \\\n",
       "0                                          JARDIN        NaN   \n",
       "1                        AVENIDA NIÑOS HÉROES 131        NaN   \n",
       "2  ANILLO PERIFERICO (BLVD. ADOLFO RUIZ CORTINES)        NaN   \n",
       "3                               AV. DE LAS TORRES        NaN   \n",
       "4                                     EJE 5 NORTE  CALLE 412   \n",
       "\n",
       "                          Colonia    Latitud   Longitud Mes y año  \\\n",
       "0                         DEL GAS  19.470000 -99.159390   2016-01   \n",
       "1                        DOCTORES  19.421227 -99.150121   2016-01   \n",
       "2  LOMAS DE CHAPULTEPEC I SECCIÓN  19.429224 -99.204931   2016-01   \n",
       "3                         TEPEPAN  19.266924 -99.132124   2016-01   \n",
       "4              SAN JUAN DE ARAGÓN  19.467296 -99.080157   2016-01   \n",
       "\n",
       "                    Geopoint  \n",
       "0   19.4699999998, -99.15939  \n",
       "1  19.4212269998, -99.150121  \n",
       "2  19.4292239998, -99.204931  \n",
       "3  19.2669239998, -99.132124  \n",
       "4  19.4672959998, -99.080157  "
      ]
     },
     "execution_count": 4,
     "metadata": {},
     "output_type": "execute_result"
    }
   ],
   "source": [
    "df.head()"
   ]
  },
  {
   "cell_type": "code",
   "execution_count": 6,
   "metadata": {},
   "outputs": [
    {
     "data": {
      "text/plain": [
       "16"
      ]
     },
     "execution_count": 6,
     "metadata": {},
     "output_type": "execute_result"
    }
   ],
   "source": [
    "df['Categoría de delito'].nunique()"
   ]
  },
  {
   "cell_type": "code",
   "execution_count": 8,
   "metadata": {},
   "outputs": [
    {
     "data": {
      "text/plain": [
       "array(['HECHO NO DELICTIVO', 'DELITO DE BAJO IMPACTO',\n",
       "       'ROBO DE VEHÍCULO CON Y SIN VIOLENCIA',\n",
       "       'ROBO A TRANSEUNTE EN VÍA PÚBLICA CON Y SIN VIOLENCIA',\n",
       "       'ROBO A CASA HABITACIÓN CON VIOLENCIA', 'HOMICIDIO DOLOSO',\n",
       "       'ROBO A NEGOCIO CON VIOLENCIA',\n",
       "       'LESIONES DOLOSAS POR DISPARO DE ARMA DE FUEGO',\n",
       "       'ROBO A PASAJERO A BORDO DE MICROBUS CON Y SIN VIOLENCIA',\n",
       "       'ROBO A CUENTAHABIENTE SALIENDO DEL CAJERO CON VIOLENCIA',\n",
       "       'ROBO A PASAJERO A BORDO DEL METRO CON Y SIN VIOLENCIA',\n",
       "       'ROBO A REPARTIDOR CON Y SIN VIOLENCIA', 'VIOLACIÓN',\n",
       "       'ROBO A TRANSPORTISTA CON Y SIN VIOLENCIA',\n",
       "       'ROBO A PASAJERO A BORDO DE TAXI CON VIOLENCIA', 'SECUESTRO'],\n",
       "      dtype=object)"
      ]
     },
     "execution_count": 8,
     "metadata": {},
     "output_type": "execute_result"
    }
   ],
   "source": [
    "df['Categoría de delito'].unique()"
   ]
  },
  {
   "cell_type": "code",
   "execution_count": 5,
   "metadata": {},
   "outputs": [
    {
     "data": {
      "text/plain": [
       "259"
      ]
     },
     "execution_count": 5,
     "metadata": {},
     "output_type": "execute_result"
    }
   ],
   "source": [
    "df.Delito.nunique()"
   ]
  },
  {
   "cell_type": "code",
   "execution_count": 11,
   "metadata": {},
   "outputs": [
    {
     "data": {
      "text/plain": [
       "array(['PLAGIO O SECUESTRO'], dtype=object)"
      ]
     },
     "execution_count": 11,
     "metadata": {},
     "output_type": "execute_result"
    }
   ],
   "source": [
    "df[(df[\"Categoría de delito\"] == \"SECUESTRO\")].Delito.unique()"
   ]
  },
  {
   "cell_type": "markdown",
   "metadata": {},
   "source": [
    "## PRIVACION DE LA LIBERTAD PERSONAL"
   ]
  },
  {
   "cell_type": "code",
   "execution_count": 21,
   "metadata": {},
   "outputs": [],
   "source": [
    "df_privacion_libertad_personal = df[df.Delito == 'PRIVACION DE LA LIBERTAD PERSONAL']"
   ]
  },
  {
   "cell_type": "code",
   "execution_count": 22,
   "metadata": {},
   "outputs": [
    {
     "data": {
      "text/html": [
       "<div>\n",
       "<style scoped>\n",
       "    .dataframe tbody tr th:only-of-type {\n",
       "        vertical-align: middle;\n",
       "    }\n",
       "\n",
       "    .dataframe tbody tr th {\n",
       "        vertical-align: top;\n",
       "    }\n",
       "\n",
       "    .dataframe thead th {\n",
       "        text-align: right;\n",
       "    }\n",
       "</style>\n",
       "<table border=\"1\" class=\"dataframe\">\n",
       "  <thead>\n",
       "    <tr style=\"text-align: right;\">\n",
       "      <th></th>\n",
       "      <th>Año</th>\n",
       "      <th>Mes</th>\n",
       "      <th>Alcaldía</th>\n",
       "      <th>Categoría de delito</th>\n",
       "      <th>Delito</th>\n",
       "      <th>Agencia</th>\n",
       "      <th>Unidad de investigación</th>\n",
       "      <th>Fecha inicio</th>\n",
       "      <th>Fiscalía</th>\n",
       "      <th>Calle1</th>\n",
       "      <th>Calle2</th>\n",
       "      <th>Colonia</th>\n",
       "      <th>Latitud</th>\n",
       "      <th>Longitud</th>\n",
       "      <th>Mes y año</th>\n",
       "      <th>Geopoint</th>\n",
       "    </tr>\n",
       "  </thead>\n",
       "  <tbody>\n",
       "    <tr>\n",
       "      <th>235</th>\n",
       "      <td>2017</td>\n",
       "      <td>Febrero</td>\n",
       "      <td>CUAUHTEMOC</td>\n",
       "      <td>DELITO DE BAJO IMPACTO</td>\n",
       "      <td>PRIVACION DE LA LIBERTAD PERSONAL</td>\n",
       "      <td>E</td>\n",
       "      <td>UI-2CD</td>\n",
       "      <td>2017-02-02T13:41:41-06:00</td>\n",
       "      <td>INVESTIGACIÓN PARA LA ATENCIÓN DEL DELITO DE S...</td>\n",
       "      <td>CALZADA DE LA RONDA</td>\n",
       "      <td>FRANCISCO TAMAGNO</td>\n",
       "      <td>EX-HIPÓDROMO DE PERALVILLO</td>\n",
       "      <td>19.456432</td>\n",
       "      <td>-99.135939</td>\n",
       "      <td>2017-02</td>\n",
       "      <td>19.4564320918, -99.1359392311</td>\n",
       "    </tr>\n",
       "    <tr>\n",
       "      <th>244</th>\n",
       "      <td>2017</td>\n",
       "      <td>Febrero</td>\n",
       "      <td>ALVARO OBREGON</td>\n",
       "      <td>DELITO DE BAJO IMPACTO</td>\n",
       "      <td>PRIVACION DE LA LIBERTAD PERSONAL</td>\n",
       "      <td>B</td>\n",
       "      <td>UI-2CD</td>\n",
       "      <td>2017-02-02T14:12:34-06:00</td>\n",
       "      <td>INVESTIGACIÓN DE LOS DELITOS COMETIDOS POR SER...</td>\n",
       "      <td>ANTIGUO CAMINO AL DESIERTO DE LOS LEONES</td>\n",
       "      <td>NaN</td>\n",
       "      <td>SAN ANGEL</td>\n",
       "      <td>19.349603</td>\n",
       "      <td>-99.188623</td>\n",
       "      <td>2017-02</td>\n",
       "      <td>19.3496031231, -99.1886233422</td>\n",
       "    </tr>\n",
       "    <tr>\n",
       "      <th>673</th>\n",
       "      <td>2017</td>\n",
       "      <td>Agosto</td>\n",
       "      <td>VENUSTIANO CARRANZA</td>\n",
       "      <td>DELITO DE BAJO IMPACTO</td>\n",
       "      <td>PRIVACION DE LA LIBERTAD PERSONAL</td>\n",
       "      <td>E</td>\n",
       "      <td>UI-1CD</td>\n",
       "      <td>2017-08-03T11:55:54-05:00</td>\n",
       "      <td>INVESTIGACIÓN PARA LA ATENCIÓN DEL DELITO DE S...</td>\n",
       "      <td>AV DEL TALLER</td>\n",
       "      <td>CAJEME</td>\n",
       "      <td>ÁLVARO OBREGÓN</td>\n",
       "      <td>19.413573</td>\n",
       "      <td>-99.120941</td>\n",
       "      <td>2017-08</td>\n",
       "      <td>19.413572674, -99.1209409798</td>\n",
       "    </tr>\n",
       "    <tr>\n",
       "      <th>1089</th>\n",
       "      <td>2016</td>\n",
       "      <td>Enero</td>\n",
       "      <td>IZTAPALAPA</td>\n",
       "      <td>DELITO DE BAJO IMPACTO</td>\n",
       "      <td>PRIVACION DE LA LIBERTAD PERSONAL</td>\n",
       "      <td>FAS</td>\n",
       "      <td>T1</td>\n",
       "      <td>2016-01-17T14:49:16-06:00</td>\n",
       "      <td>INVESTIGACIÓN PARA LA ATENCIÓN DEL DELITO DE S...</td>\n",
       "      <td>AVENIDA LAS TORRES</td>\n",
       "      <td>ADOLFO RUIZ CORTINES</td>\n",
       "      <td>JOSÉ LÓPEZ PORTILLO</td>\n",
       "      <td>19.304907</td>\n",
       "      <td>-99.078995</td>\n",
       "      <td>2016-01</td>\n",
       "      <td>19.3049069998, -99.078995</td>\n",
       "    </tr>\n",
       "    <tr>\n",
       "      <th>1323</th>\n",
       "      <td>2017</td>\n",
       "      <td>Octubre</td>\n",
       "      <td>ALVARO OBREGON</td>\n",
       "      <td>DELITO DE BAJO IMPACTO</td>\n",
       "      <td>PRIVACION DE LA LIBERTAD PERSONAL</td>\n",
       "      <td>AO-3</td>\n",
       "      <td>UI-2CD</td>\n",
       "      <td>2017-10-24T13:44:57-05:00</td>\n",
       "      <td>INVESTIGACIÓN EN ÁLVARO OBREGÓN</td>\n",
       "      <td>SANTA  CATARINA</td>\n",
       "      <td>LEANDRO VALLE</td>\n",
       "      <td>SAN ANGEL INN</td>\n",
       "      <td>19.348477</td>\n",
       "      <td>-99.197420</td>\n",
       "      <td>2017-10</td>\n",
       "      <td>19.3484769569, -99.1974196806</td>\n",
       "    </tr>\n",
       "  </tbody>\n",
       "</table>\n",
       "</div>"
      ],
      "text/plain": [
       "       Año      Mes             Alcaldía     Categoría de delito  \\\n",
       "235   2017  Febrero           CUAUHTEMOC  DELITO DE BAJO IMPACTO   \n",
       "244   2017  Febrero       ALVARO OBREGON  DELITO DE BAJO IMPACTO   \n",
       "673   2017   Agosto  VENUSTIANO CARRANZA  DELITO DE BAJO IMPACTO   \n",
       "1089  2016    Enero           IZTAPALAPA  DELITO DE BAJO IMPACTO   \n",
       "1323  2017  Octubre       ALVARO OBREGON  DELITO DE BAJO IMPACTO   \n",
       "\n",
       "                                 Delito Agencia Unidad de investigación  \\\n",
       "235   PRIVACION DE LA LIBERTAD PERSONAL       E                  UI-2CD   \n",
       "244   PRIVACION DE LA LIBERTAD PERSONAL       B                  UI-2CD   \n",
       "673   PRIVACION DE LA LIBERTAD PERSONAL       E                  UI-1CD   \n",
       "1089  PRIVACION DE LA LIBERTAD PERSONAL     FAS                      T1   \n",
       "1323  PRIVACION DE LA LIBERTAD PERSONAL    AO-3                  UI-2CD   \n",
       "\n",
       "                   Fecha inicio  \\\n",
       "235   2017-02-02T13:41:41-06:00   \n",
       "244   2017-02-02T14:12:34-06:00   \n",
       "673   2017-08-03T11:55:54-05:00   \n",
       "1089  2016-01-17T14:49:16-06:00   \n",
       "1323  2017-10-24T13:44:57-05:00   \n",
       "\n",
       "                                               Fiscalía  \\\n",
       "235   INVESTIGACIÓN PARA LA ATENCIÓN DEL DELITO DE S...   \n",
       "244   INVESTIGACIÓN DE LOS DELITOS COMETIDOS POR SER...   \n",
       "673   INVESTIGACIÓN PARA LA ATENCIÓN DEL DELITO DE S...   \n",
       "1089  INVESTIGACIÓN PARA LA ATENCIÓN DEL DELITO DE S...   \n",
       "1323                    INVESTIGACIÓN EN ÁLVARO OBREGÓN   \n",
       "\n",
       "                                        Calle1                Calle2  \\\n",
       "235                        CALZADA DE LA RONDA     FRANCISCO TAMAGNO   \n",
       "244   ANTIGUO CAMINO AL DESIERTO DE LOS LEONES                   NaN   \n",
       "673                              AV DEL TALLER                CAJEME   \n",
       "1089                        AVENIDA LAS TORRES  ADOLFO RUIZ CORTINES   \n",
       "1323                           SANTA  CATARINA         LEANDRO VALLE   \n",
       "\n",
       "                         Colonia    Latitud   Longitud Mes y año  \\\n",
       "235   EX-HIPÓDROMO DE PERALVILLO  19.456432 -99.135939   2017-02   \n",
       "244                    SAN ANGEL  19.349603 -99.188623   2017-02   \n",
       "673               ÁLVARO OBREGÓN  19.413573 -99.120941   2017-08   \n",
       "1089         JOSÉ LÓPEZ PORTILLO  19.304907 -99.078995   2016-01   \n",
       "1323               SAN ANGEL INN  19.348477 -99.197420   2017-10   \n",
       "\n",
       "                           Geopoint  \n",
       "235   19.4564320918, -99.1359392311  \n",
       "244   19.3496031231, -99.1886233422  \n",
       "673    19.413572674, -99.1209409798  \n",
       "1089      19.3049069998, -99.078995  \n",
       "1323  19.3484769569, -99.1974196806  "
      ]
     },
     "execution_count": 22,
     "metadata": {},
     "output_type": "execute_result"
    }
   ],
   "source": [
    "df_privacion_libertad_personal.head()"
   ]
  },
  {
   "cell_type": "code",
   "execution_count": 13,
   "metadata": {},
   "outputs": [],
   "source": [
    "file = \"../../data/pgj-cdmx/PRIVACION_DE_LA_LIBERTAD_PERSONAL.csv\""
   ]
  },
  {
   "cell_type": "code",
   "execution_count": 16,
   "metadata": {},
   "outputs": [],
   "source": [
    "df_privacion_libertad_personal.to_csv(path_or_buf=file, sep=',')"
   ]
  },
  {
   "cell_type": "code",
   "execution_count": 23,
   "metadata": {},
   "outputs": [
    {
     "data": {
      "text/plain": [
       "(1726, 16)"
      ]
     },
     "execution_count": 23,
     "metadata": {},
     "output_type": "execute_result"
    }
   ],
   "source": [
    "df_privacion_libertad_personal.shape"
   ]
  },
  {
   "cell_type": "markdown",
   "metadata": {},
   "source": [
    "## PLAGIO O SECUESTRO"
   ]
  },
  {
   "cell_type": "code",
   "execution_count": 17,
   "metadata": {},
   "outputs": [],
   "source": [
    "df_plagio_secuestro = df[df.Delito == 'PLAGIO O SECUESTRO']"
   ]
  },
  {
   "cell_type": "code",
   "execution_count": 18,
   "metadata": {},
   "outputs": [
    {
     "data": {
      "text/html": [
       "<div>\n",
       "<style scoped>\n",
       "    .dataframe tbody tr th:only-of-type {\n",
       "        vertical-align: middle;\n",
       "    }\n",
       "\n",
       "    .dataframe tbody tr th {\n",
       "        vertical-align: top;\n",
       "    }\n",
       "\n",
       "    .dataframe thead th {\n",
       "        text-align: right;\n",
       "    }\n",
       "</style>\n",
       "<table border=\"1\" class=\"dataframe\">\n",
       "  <thead>\n",
       "    <tr style=\"text-align: right;\">\n",
       "      <th></th>\n",
       "      <th>Año</th>\n",
       "      <th>Mes</th>\n",
       "      <th>Alcaldía</th>\n",
       "      <th>Categoría de delito</th>\n",
       "      <th>Delito</th>\n",
       "      <th>Agencia</th>\n",
       "      <th>Unidad de investigación</th>\n",
       "      <th>Fecha inicio</th>\n",
       "      <th>Fiscalía</th>\n",
       "      <th>Calle1</th>\n",
       "      <th>Calle2</th>\n",
       "      <th>Colonia</th>\n",
       "      <th>Latitud</th>\n",
       "      <th>Longitud</th>\n",
       "      <th>Mes y año</th>\n",
       "      <th>Geopoint</th>\n",
       "    </tr>\n",
       "  </thead>\n",
       "  <tbody>\n",
       "    <tr>\n",
       "      <th>5297</th>\n",
       "      <td>2017</td>\n",
       "      <td>Mayo</td>\n",
       "      <td>GUSTAVO A MADERO</td>\n",
       "      <td>SECUESTRO</td>\n",
       "      <td>PLAGIO O SECUESTRO</td>\n",
       "      <td>E</td>\n",
       "      <td>UI-1CD</td>\n",
       "      <td>2017-05-11T05:36:27-05:00</td>\n",
       "      <td>INVESTIGACIÓN PARA LA ATENCIÓN DEL DELITO DE S...</td>\n",
       "      <td>MANTA</td>\n",
       "      <td>NaN</td>\n",
       "      <td>LINDAVISTA</td>\n",
       "      <td>19.491553</td>\n",
       "      <td>-99.135001</td>\n",
       "      <td>2017-05</td>\n",
       "      <td>19.4915532042, -99.1350011476</td>\n",
       "    </tr>\n",
       "    <tr>\n",
       "      <th>5435</th>\n",
       "      <td>2016</td>\n",
       "      <td>Julio</td>\n",
       "      <td>CUAUHTEMOC</td>\n",
       "      <td>SECUESTRO</td>\n",
       "      <td>PLAGIO O SECUESTRO</td>\n",
       "      <td>E</td>\n",
       "      <td>UI-3CD</td>\n",
       "      <td>2016-07-05T06:54:22-05:00</td>\n",
       "      <td>INVESTIGACIÓN PARA LA ATENCIÓN DEL DELITO DE S...</td>\n",
       "      <td>PROLONGACION VALLEGO</td>\n",
       "      <td>NaN</td>\n",
       "      <td>SAN SIMÓN TOLNAHUAC</td>\n",
       "      <td>19.459304</td>\n",
       "      <td>-99.139653</td>\n",
       "      <td>2016-07</td>\n",
       "      <td>19.4593044259, -99.1396525907</td>\n",
       "    </tr>\n",
       "    <tr>\n",
       "      <th>11497</th>\n",
       "      <td>2016</td>\n",
       "      <td>Agosto</td>\n",
       "      <td>AZCAPOTZALCO</td>\n",
       "      <td>SECUESTRO</td>\n",
       "      <td>PLAGIO O SECUESTRO</td>\n",
       "      <td>E</td>\n",
       "      <td>UI-1CD</td>\n",
       "      <td>2016-08-23T17:53:13-05:00</td>\n",
       "      <td>INVESTIGACIÓN PARA LA ATENCIÓN DEL DELITO DE S...</td>\n",
       "      <td>CONFIDENCIAL A/010/2002</td>\n",
       "      <td>CONFIDENCIAL A/010/2002</td>\n",
       "      <td>NaN</td>\n",
       "      <td>NaN</td>\n",
       "      <td>NaN</td>\n",
       "      <td>2016-08</td>\n",
       "      <td>NaN</td>\n",
       "    </tr>\n",
       "    <tr>\n",
       "      <th>16087</th>\n",
       "      <td>2016</td>\n",
       "      <td>Marzo</td>\n",
       "      <td>XOCHIMILCO</td>\n",
       "      <td>SECUESTRO</td>\n",
       "      <td>PLAGIO O SECUESTRO</td>\n",
       "      <td>XO-1</td>\n",
       "      <td>T3</td>\n",
       "      <td>2016-03-07T08:12:19-06:00</td>\n",
       "      <td>INVESTIGACIÓN EN XOCHIMILCO</td>\n",
       "      <td>MOCTEZUMA</td>\n",
       "      <td>VICENTE GUERRERO</td>\n",
       "      <td>SAN LORENZO ATEMOAYA</td>\n",
       "      <td>19.226944</td>\n",
       "      <td>-99.106343</td>\n",
       "      <td>2016-03</td>\n",
       "      <td>19.2269439998, -99.106343</td>\n",
       "    </tr>\n",
       "    <tr>\n",
       "      <th>47083</th>\n",
       "      <td>2017</td>\n",
       "      <td>Abril</td>\n",
       "      <td>IZTAPALAPA</td>\n",
       "      <td>SECUESTRO</td>\n",
       "      <td>PLAGIO O SECUESTRO</td>\n",
       "      <td>E</td>\n",
       "      <td>UI-1CD</td>\n",
       "      <td>2017-04-05T07:42:29-05:00</td>\n",
       "      <td>INVESTIGACIÓN PARA LA ATENCIÓN DEL DELITO DE S...</td>\n",
       "      <td>AVENIDA CIRCUNVALACIÓN</td>\n",
       "      <td>NaN</td>\n",
       "      <td>EJERCITO DE AGUA PRIETA</td>\n",
       "      <td>19.364236</td>\n",
       "      <td>-99.033860</td>\n",
       "      <td>2017-04</td>\n",
       "      <td>19.3642356314, -99.0338595791</td>\n",
       "    </tr>\n",
       "  </tbody>\n",
       "</table>\n",
       "</div>"
      ],
      "text/plain": [
       "        Año     Mes          Alcaldía Categoría de delito              Delito  \\\n",
       "5297   2017    Mayo  GUSTAVO A MADERO           SECUESTRO  PLAGIO O SECUESTRO   \n",
       "5435   2016   Julio        CUAUHTEMOC           SECUESTRO  PLAGIO O SECUESTRO   \n",
       "11497  2016  Agosto      AZCAPOTZALCO           SECUESTRO  PLAGIO O SECUESTRO   \n",
       "16087  2016   Marzo        XOCHIMILCO           SECUESTRO  PLAGIO O SECUESTRO   \n",
       "47083  2017   Abril        IZTAPALAPA           SECUESTRO  PLAGIO O SECUESTRO   \n",
       "\n",
       "      Agencia Unidad de investigación               Fecha inicio  \\\n",
       "5297        E                  UI-1CD  2017-05-11T05:36:27-05:00   \n",
       "5435        E                  UI-3CD  2016-07-05T06:54:22-05:00   \n",
       "11497       E                  UI-1CD  2016-08-23T17:53:13-05:00   \n",
       "16087    XO-1                      T3  2016-03-07T08:12:19-06:00   \n",
       "47083       E                  UI-1CD  2017-04-05T07:42:29-05:00   \n",
       "\n",
       "                                                Fiscalía  \\\n",
       "5297   INVESTIGACIÓN PARA LA ATENCIÓN DEL DELITO DE S...   \n",
       "5435   INVESTIGACIÓN PARA LA ATENCIÓN DEL DELITO DE S...   \n",
       "11497  INVESTIGACIÓN PARA LA ATENCIÓN DEL DELITO DE S...   \n",
       "16087                        INVESTIGACIÓN EN XOCHIMILCO   \n",
       "47083  INVESTIGACIÓN PARA LA ATENCIÓN DEL DELITO DE S...   \n",
       "\n",
       "                        Calle1                   Calle2  \\\n",
       "5297                     MANTA                      NaN   \n",
       "5435      PROLONGACION VALLEGO                      NaN   \n",
       "11497  CONFIDENCIAL A/010/2002  CONFIDENCIAL A/010/2002   \n",
       "16087                MOCTEZUMA         VICENTE GUERRERO   \n",
       "47083   AVENIDA CIRCUNVALACIÓN                      NaN   \n",
       "\n",
       "                       Colonia    Latitud   Longitud Mes y año  \\\n",
       "5297                LINDAVISTA  19.491553 -99.135001   2017-05   \n",
       "5435       SAN SIMÓN TOLNAHUAC  19.459304 -99.139653   2016-07   \n",
       "11497                      NaN        NaN        NaN   2016-08   \n",
       "16087     SAN LORENZO ATEMOAYA  19.226944 -99.106343   2016-03   \n",
       "47083  EJERCITO DE AGUA PRIETA  19.364236 -99.033860   2017-04   \n",
       "\n",
       "                            Geopoint  \n",
       "5297   19.4915532042, -99.1350011476  \n",
       "5435   19.4593044259, -99.1396525907  \n",
       "11497                            NaN  \n",
       "16087      19.2269439998, -99.106343  \n",
       "47083  19.3642356314, -99.0338595791  "
      ]
     },
     "execution_count": 18,
     "metadata": {},
     "output_type": "execute_result"
    }
   ],
   "source": [
    "df_plagio_secuestro.head()"
   ]
  },
  {
   "cell_type": "code",
   "execution_count": 19,
   "metadata": {},
   "outputs": [],
   "source": [
    "file = \"../../data/pgj-cdmx/PLAGIO_O_SECUESTRO.csv\""
   ]
  },
  {
   "cell_type": "code",
   "execution_count": 20,
   "metadata": {},
   "outputs": [],
   "source": [
    "df_plagio_secuestro.to_csv(path_or_buf=file, sep=',')"
   ]
  },
  {
   "cell_type": "code",
   "execution_count": null,
   "metadata": {},
   "outputs": [],
   "source": []
  }
 ],
 "metadata": {
  "kernelspec": {
   "display_name": "Python 3",
   "language": "python",
   "name": "python3"
  },
  "language_info": {
   "codemirror_mode": {
    "name": "ipython",
    "version": 3
   },
   "file_extension": ".py",
   "mimetype": "text/x-python",
   "name": "python",
   "nbconvert_exporter": "python",
   "pygments_lexer": "ipython3",
   "version": "3.6.8"
  }
 },
 "nbformat": 4,
 "nbformat_minor": 2
}
